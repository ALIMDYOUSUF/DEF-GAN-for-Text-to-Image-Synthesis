{
 "cells": [
  {
   "cell_type": "markdown",
   "metadata": {},
   "source": [
    "# text to image synthesis"
   ]
  },
  {
   "cell_type": "markdown",
   "metadata": {
    "id": "TnczxE21oTqw"
   },
   "source": [
    "## Implementation of \"initial \" of **DpDCAE-GAN**\n",
    "\n",
    "### Initial of DpDCAE-GAN \n",
    "\n",
    "#### 1- takes input as text, \n",
    "\n",
    "#### 2- convert the text to embedding using our pre-trained character level embedding. \n",
    "\n",
    "#### 3- Then, we give this embedding to Conditional Augmentation (CA) and \n",
    "\n",
    "#### 4- then to initial Generator which gives us low-resolution 64*64 images. "
   ]
  },
  {
   "cell_type": "code",
   "execution_count": 1,
   "metadata": {
    "id": "StpwZzOYxFRo"
   },
   "outputs": [],
   "source": [
    "# ==============================================================================\n",
    "# Copyright 2019 The TensorFlow Authors. All Rights Reserved.\n",
    "#\n",
    "# Licensed under the Apache License, Version 2.0 (the \"License\");\n",
    "# you may not use this file except in compliance with the License.\n",
    "# You may obtain a copy of the License at\n",
    "#\n",
    "#     http://www.apache.org/licenses/LICENSE-2.0\n",
    "#\n",
    "# Unless required by applicable law or agreed to in writing, software\n",
    "# distributed under the License is distributed on an \"AS IS\" BASIS,\n",
    "# WITHOUT WARRANTIES OR CONDITIONS OF ANY KIND, either express or implied.\n",
    "# See the License for the specific language governing permissions and\n",
    "# limitations under the License.\n",
    "# ==============================================================================\n",
    "\"\"\"DpDCAE-GAN.\n",
    "\"\"\"\n",
    "\n",
    "from __future__ import absolute_import\n",
    "from __future__ import division\n",
    "from __future__ import print_function\n",
    "\n",
    "import os\n",
    "import pickle\n",
    "import random\n",
    "import time\n",
    "\n",
    "import numpy as np\n",
    "import pandas as pd\n",
    "import tensorflow as tf\n",
    "\n",
    "assert tf.__version__.startswith('2')\n",
    "\n",
    "import PIL\n",
    "from PIL import Image\n",
    "import matplotlib.pyplot as plt\n",
    "import tensorflow.keras.backend as K\n",
    "from tensorflow.keras import Input, Model\n",
    "from tensorflow.keras.layers import LeakyReLU, BatchNormalization, ReLU, Activation\n",
    "from tensorflow.keras.layers import UpSampling2D, Conv2D, Concatenate, Dense, concatenate\n",
    "from tensorflow.keras.layers import Flatten, Lambda, Reshape, ZeroPadding2D, add\n",
    "from tensorflow.keras.optimizers import Adam\n",
    "from tensorflow.keras.preprocessing.image import ImageDataGenerator\n"
   ]
  },
  {
   "cell_type": "markdown",
   "metadata": {
    "id": "8Rb4IqOBxN1C"
   },
   "source": [
    "\n",
    "############################################################\n",
    "# Conditioning Augmentation Network\n",
    "############################################################\n",
    "\n",
    "\n",
    "Computer doesn’t understand words, but it can represent the words in terms of something it does “understand”. That’s the “text embedding”, and it’s used as the c\n",
    "\n",
    "\n"
   ]
  },
  {
   "cell_type": "code",
   "execution_count": 2,
   "metadata": {
    "id": "SO_uUHnyxNOU"
   },
   "outputs": [],
   "source": [
    "# conditioned by the text.\n",
    "def conditioning_augmentation(x):\n",
    "\t\"\"\"The mean_logsigma passed as argument is converted into the text conditioning variable.\n",
    "\n",
    "\tArgs:\n",
    "\t\tx: The output of the text embedding passed through a FC layer with LeakyReLU non-linearity.\n",
    "\n",
    "\tReturns:\n",
    "\t \tc: The text conditioning variable after computation.\n",
    "\t\"\"\"\n",
    "\tmean = x[:, :128]\n",
    "\tlog_sigma = x[:, 128:]\n",
    "\n",
    "\tstddev = tf.math.exp(log_sigma)\n",
    "\tepsilon = K.random_normal(shape=K.constant((mean.shape[1], ), dtype='int32'))\n",
    "\tc = mean + stddev * epsilon\n",
    "\treturn c\n",
    "\n",
    "def build_ca_network():\n",
    "\t\"\"\"Builds the conditioning augmentation network.\n",
    "\t\"\"\"\n",
    "\tinput_layer1 = Input(shape=(1024,)) #size of the vocabulary in the text data\n",
    "\tmls = Dense(256)(input_layer1)\n",
    "\tmls = LeakyReLU(alpha=0.2)(mls)\n",
    "\tca = Lambda(conditioning_augmentation)(mls)\n",
    "\treturn Model(inputs=[input_layer1], outputs=[ca]) \n"
   ]
  },
  {
   "cell_type": "markdown",
   "metadata": {},
   "source": [
    "############################################################\n",
    "# Initial Generator Network \n",
    "############################################################\n",
    "\n",
    "1. The generator is fed with the text captions in the form of Embedding vectors which will be used to condition its generation of features.\n",
    "2. A vector with random noise.\n"
   ]
  },
  {
   "cell_type": "code",
   "execution_count": 3,
   "metadata": {
    "id": "8BaEBiaCxFUd"
   },
   "outputs": [],
   "source": [
    "\n",
    "\n",
    "def UpSamplingBlock(x, num_kernels):\n",
    "\t\"\"\"An Upsample block with Upsampling2D, Conv2D, BatchNormalization and a ReLU activation.\n",
    "\n",
    "\tArgs:\n",
    "\t\tx: The preceding layer as input.\n",
    "\t\tnum_kernels: Number of kernels for the Conv2D layer.\n",
    "\n",
    "\tReturns:\n",
    "\t\tx: The final activation layer after the Upsampling block.\n",
    "\t\"\"\"\n",
    "\tx = UpSampling2D(size=(2,2))(x)\n",
    "\tx = Conv2D(num_kernels, kernel_size=(3,3), padding='same', strides=1, use_bias=False,\n",
    "\t\t\t\tkernel_initializer='he_uniform')(x)\n",
    "\tx = BatchNormalization(gamma_initializer='ones', beta_initializer='zeros')(x) #prevent from mode collapse\n",
    "\tx = ReLU()(x)\n",
    "\treturn x\n",
    "\n",
    "\n",
    "def build_initial_generator():\n",
    "\n",
    "\tinput_layer1 = Input(shape=(1024,))\n",
    "\tca = Dense(256)(input_layer1)\n",
    "\tca = LeakyReLU(alpha=0.2)(ca)\n",
    "\n",
    "\t# Obtain the conditioned text\n",
    "\tc = Lambda(conditioning_augmentation)(ca)\n",
    "\n",
    "\tinput_layer2 = Input(shape=(100,))\n",
    "\tconcat = Concatenate(axis=1)([c, input_layer2]) \n",
    "\n",
    "\tx = Dense(16384, use_bias=False)(concat) \n",
    "\tx = ReLU()(x)\n",
    "\tx = Reshape((4, 4, 1024), input_shape=(16384,))(x)\n",
    "\n",
    "\tx = UpSamplingBlock(x, 512) \n",
    "\tx = UpSamplingBlock(x, 256)\n",
    "\tx = UpSamplingBlock(x, 128)\n",
    "\tx = UpSamplingBlock(x, 64)   # upsampled our image to 64*64*3 \n",
    "\n",
    "\tx = Conv2D(3, kernel_size=3, padding='same', strides=1, use_bias=False,\n",
    "\t\t\t\tkernel_initializer='he_uniform')(x)\n",
    "\tx = Activation('tanh')(x)\n",
    "\n",
    "\tinitial_gen = Model(inputs=[input_layer1, input_layer2], outputs=[x, ca]) \n",
    "\treturn initial_gen\n",
    "\n"
   ]
  },
  {
   "cell_type": "code",
   "execution_count": 4,
   "metadata": {},
   "outputs": [
    {
     "name": "stdout",
     "output_type": "stream",
     "text": [
      "Model: \"model\"\n",
      "__________________________________________________________________________________________________\n",
      " Layer (type)                   Output Shape         Param #     Connected to                     \n",
      "==================================================================================================\n",
      " input_1 (InputLayer)           [(None, 1024)]       0           []                               \n",
      "                                                                                                  \n",
      " dense (Dense)                  (None, 256)          262400      ['input_1[0][0]']                \n",
      "                                                                                                  \n",
      " leaky_re_lu (LeakyReLU)        (None, 256)          0           ['dense[0][0]']                  \n",
      "                                                                                                  \n",
      " lambda (Lambda)                (None, 128)          0           ['leaky_re_lu[0][0]']            \n",
      "                                                                                                  \n",
      " input_2 (InputLayer)           [(None, 100)]        0           []                               \n",
      "                                                                                                  \n",
      " concatenate (Concatenate)      (None, 228)          0           ['lambda[0][0]',                 \n",
      "                                                                  'input_2[0][0]']                \n",
      "                                                                                                  \n",
      " dense_1 (Dense)                (None, 16384)        3735552     ['concatenate[0][0]']            \n",
      "                                                                                                  \n",
      " re_lu (ReLU)                   (None, 16384)        0           ['dense_1[0][0]']                \n",
      "                                                                                                  \n",
      " reshape (Reshape)              (None, 4, 4, 1024)   0           ['re_lu[0][0]']                  \n",
      "                                                                                                  \n",
      " up_sampling2d (UpSampling2D)   (None, 8, 8, 1024)   0           ['reshape[0][0]']                \n",
      "                                                                                                  \n",
      " conv2d (Conv2D)                (None, 8, 8, 512)    4718592     ['up_sampling2d[0][0]']          \n",
      "                                                                                                  \n",
      " batch_normalization (BatchNorm  (None, 8, 8, 512)   2048        ['conv2d[0][0]']                 \n",
      " alization)                                                                                       \n",
      "                                                                                                  \n",
      " re_lu_1 (ReLU)                 (None, 8, 8, 512)    0           ['batch_normalization[0][0]']    \n",
      "                                                                                                  \n",
      " up_sampling2d_1 (UpSampling2D)  (None, 16, 16, 512)  0          ['re_lu_1[0][0]']                \n",
      "                                                                                                  \n",
      " conv2d_1 (Conv2D)              (None, 16, 16, 256)  1179648     ['up_sampling2d_1[0][0]']        \n",
      "                                                                                                  \n",
      " batch_normalization_1 (BatchNo  (None, 16, 16, 256)  1024       ['conv2d_1[0][0]']               \n",
      " rmalization)                                                                                     \n",
      "                                                                                                  \n",
      " re_lu_2 (ReLU)                 (None, 16, 16, 256)  0           ['batch_normalization_1[0][0]']  \n",
      "                                                                                                  \n",
      " up_sampling2d_2 (UpSampling2D)  (None, 32, 32, 256)  0          ['re_lu_2[0][0]']                \n",
      "                                                                                                  \n",
      " conv2d_2 (Conv2D)              (None, 32, 32, 128)  294912      ['up_sampling2d_2[0][0]']        \n",
      "                                                                                                  \n",
      " batch_normalization_2 (BatchNo  (None, 32, 32, 128)  512        ['conv2d_2[0][0]']               \n",
      " rmalization)                                                                                     \n",
      "                                                                                                  \n",
      " re_lu_3 (ReLU)                 (None, 32, 32, 128)  0           ['batch_normalization_2[0][0]']  \n",
      "                                                                                                  \n",
      " up_sampling2d_3 (UpSampling2D)  (None, 64, 64, 128)  0          ['re_lu_3[0][0]']                \n",
      "                                                                                                  \n",
      " conv2d_3 (Conv2D)              (None, 64, 64, 64)   73728       ['up_sampling2d_3[0][0]']        \n",
      "                                                                                                  \n",
      " batch_normalization_3 (BatchNo  (None, 64, 64, 64)  256         ['conv2d_3[0][0]']               \n",
      " rmalization)                                                                                     \n",
      "                                                                                                  \n",
      " re_lu_4 (ReLU)                 (None, 64, 64, 64)   0           ['batch_normalization_3[0][0]']  \n",
      "                                                                                                  \n",
      " conv2d_4 (Conv2D)              (None, 64, 64, 3)    1728        ['re_lu_4[0][0]']                \n",
      "                                                                                                  \n",
      " activation (Activation)        (None, 64, 64, 3)    0           ['conv2d_4[0][0]']               \n",
      "                                                                                                  \n",
      "==================================================================================================\n",
      "Total params: 10,270,400\n",
      "Trainable params: 10,268,480\n",
      "Non-trainable params: 1,920\n",
      "__________________________________________________________________________________________________\n"
     ]
    }
   ],
   "source": [
    "generator = build_stage1_generator()\n",
    "generator.summary()"
   ]
  },
  {
   "cell_type": "markdown",
   "metadata": {
    "id": "bc7hLipAxcXb"
   },
   "source": [
    "\n",
    "############################################################\n",
    "# Initial Discriminator Network\n",
    "############################################################\t\n"
   ]
  },
  {
   "cell_type": "code",
   "execution_count": 5,
   "metadata": {
    "id": "JwHBP8sCxFXg"
   },
   "outputs": [],
   "source": [
    "def ConvBlock(x, num_kernels, kernel_size=(4,4), strides=2, activation=True):\n",
    "\t\"\"\"A ConvBlock with a Conv2D, BatchNormalization and LeakyReLU activation.\n",
    "\n",
    "\tArgs:\n",
    "\t\tx: The preceding layer as input.\n",
    "\t\tnum_kernels: Number of kernels for the Conv2D layer.\n",
    "\n",
    "\tReturns:\n",
    "\t\tx: The final activation layer after the ConvBlock block.\n",
    "\t\"\"\"\n",
    "\tx = Conv2D(num_kernels, kernel_size=kernel_size, padding='same', strides=strides, use_bias=False,\n",
    "\t\t\t\tkernel_initializer='he_uniform')(x)\n",
    "\tx = BatchNormalization(gamma_initializer='ones', beta_initializer='zeros')(x)\n",
    "\t\n",
    "\tif activation:\n",
    "\t\tx = LeakyReLU(alpha=0.2)(x)\n",
    "\treturn x\n",
    "\n",
    "\n",
    "def build_embedding_compressor():\n",
    "    \"\"\"Build embedding compressor model\n",
    "    \"\"\"\n",
    "    input_layer1 = Input(shape=(1024,)) \n",
    "    x = Dense(128)(input_layer1)\n",
    "    x = ReLU()(x)\n",
    "\n",
    "    model = Model(inputs=[input_layer1], outputs=[x])\n",
    "    return model\n",
    "\n",
    "# the discriminator is fed with two inputs, the feature from Generator and the text embedding\n",
    "def build_initial_discriminator():\n",
    "\t\"\"\"Builds the initial Discriminator that uses the 64x64 resolution images from the generator\n",
    "\tand the compressed and spatially replicated embedding.\n",
    "\n",
    "\tReturns:\n",
    "\t\tInitial Discriminator Model for DCVAE-GAN.\n",
    "\t\"\"\"\n",
    "\tinput_layer1 = Input(shape=(64, 64, 3))  \n",
    "\n",
    "\tx = Conv2D(64, kernel_size=(4,4), strides=2, padding='same', use_bias=False,\n",
    "\t\t\t\tkernel_initializer='he_uniform')(input_layer1)\n",
    "\tx = LeakyReLU(alpha=0.2)(x)\n",
    "\n",
    "\tx = ConvBlock(x, 128)\n",
    "\tx = ConvBlock(x, 256)\n",
    "\tx = ConvBlock(x, 512)\n",
    "\n",
    "\t# Obtain the compressed and spatially replicated text embedding\n",
    "\tinput_layer2 = Input(shape=(4, 4, 128)) #2nd input to discriminator, text embedding\n",
    "\tconcat = concatenate([x, input_layer2])\n",
    "\n",
    "\tx1 = Conv2D(512, kernel_size=(1,1), padding='same', strides=1, use_bias=False,\n",
    "\t\t\t\tkernel_initializer='he_uniform')(concat)\n",
    "\tx1 = BatchNormalization(gamma_initializer='ones', beta_initializer='zeros')(x)\n",
    "\tx1 = LeakyReLU(alpha=0.2)(x)\n",
    "\n",
    "\t# Flatten and add a FC layer to predict.\n",
    "\tx1 = Flatten()(x1)\n",
    "\tx1 = Dense(1)(x1)\n",
    "\tx1 = Activation('sigmoid')(x1)\n",
    "\n",
    "\initial_dis = Model(inputs=[input_layer1, input_layer2], outputs=[x1])  \n",
    "\treturn initial_dis\n"
   ]
  },
  {
   "cell_type": "code",
   "execution_count": 6,
   "metadata": {},
   "outputs": [
    {
     "name": "stdout",
     "output_type": "stream",
     "text": [
      "Model: \"model_1\"\n",
      "__________________________________________________________________________________________________\n",
      " Layer (type)                   Output Shape         Param #     Connected to                     \n",
      "==================================================================================================\n",
      " input_3 (InputLayer)           [(None, 64, 64, 3)]  0           []                               \n",
      "                                                                                                  \n",
      " conv2d_5 (Conv2D)              (None, 32, 32, 64)   3072        ['input_3[0][0]']                \n",
      "                                                                                                  \n",
      " leaky_re_lu_1 (LeakyReLU)      (None, 32, 32, 64)   0           ['conv2d_5[0][0]']               \n",
      "                                                                                                  \n",
      " conv2d_6 (Conv2D)              (None, 16, 16, 128)  131072      ['leaky_re_lu_1[0][0]']          \n",
      "                                                                                                  \n",
      " batch_normalization_4 (BatchNo  (None, 16, 16, 128)  512        ['conv2d_6[0][0]']               \n",
      " rmalization)                                                                                     \n",
      "                                                                                                  \n",
      " leaky_re_lu_2 (LeakyReLU)      (None, 16, 16, 128)  0           ['batch_normalization_4[0][0]']  \n",
      "                                                                                                  \n",
      " conv2d_7 (Conv2D)              (None, 8, 8, 256)    524288      ['leaky_re_lu_2[0][0]']          \n",
      "                                                                                                  \n",
      " batch_normalization_5 (BatchNo  (None, 8, 8, 256)   1024        ['conv2d_7[0][0]']               \n",
      " rmalization)                                                                                     \n",
      "                                                                                                  \n",
      " leaky_re_lu_3 (LeakyReLU)      (None, 8, 8, 256)    0           ['batch_normalization_5[0][0]']  \n",
      "                                                                                                  \n",
      " conv2d_8 (Conv2D)              (None, 4, 4, 512)    2097152     ['leaky_re_lu_3[0][0]']          \n",
      "                                                                                                  \n",
      " batch_normalization_6 (BatchNo  (None, 4, 4, 512)   2048        ['conv2d_8[0][0]']               \n",
      " rmalization)                                                                                     \n",
      "                                                                                                  \n",
      " leaky_re_lu_4 (LeakyReLU)      (None, 4, 4, 512)    0           ['batch_normalization_6[0][0]']  \n",
      "                                                                                                  \n",
      " leaky_re_lu_5 (LeakyReLU)      (None, 4, 4, 512)    0           ['leaky_re_lu_4[0][0]']          \n",
      "                                                                                                  \n",
      " flatten (Flatten)              (None, 8192)         0           ['leaky_re_lu_5[0][0]']          \n",
      "                                                                                                  \n",
      " dense_2 (Dense)                (None, 1)            8193        ['flatten[0][0]']                \n",
      "                                                                                                  \n",
      " input_4 (InputLayer)           [(None, 4, 4, 128)]  0           []                               \n",
      "                                                                                                  \n",
      " activation_1 (Activation)      (None, 1)            0           ['dense_2[0][0]']                \n",
      "                                                                                                  \n",
      "==================================================================================================\n",
      "Total params: 2,767,361\n",
      "Trainable params: 2,765,569\n",
      "Non-trainable params: 1,792\n",
      "__________________________________________________________________________________________________\n"
     ]
    }
   ],
   "source": [
    "discriminator = build_initial_discriminator()\n",
    "discriminator.summary()"
   ]
  },
  {
   "cell_type": "markdown",
   "metadata": {
    "id": "SXNLnmkFxjI0"
   },
   "source": [
    "\n",
    "############################################################\n",
    "# Initial Adversarial Model  (Building a GAN)\n",
    "############################################################\n",
    "\n",
    "Generator and discriminator. Output of the former is the input of the latter."
   ]
  },
  {
   "cell_type": "code",
   "execution_count": 7,
   "metadata": {
    "id": "8rjVyqYhxFag"
   },
   "outputs": [],
   "source": [
    "# Building GAN with Generator and Discriminator\n",
    "\n",
    "def build_adversarial(generator_model, discriminator_model):\n",
    "\t\"\"\"Initial Adversarial model.\n",
    "\n",
    "\tArgs:\n",
    "\t\tgenerator_model: Initial Generator Model\n",
    "\t\tdiscriminator_model: Initial Discriminator Model\n",
    "\n",
    "\tReturns:\n",
    "\t\tAdversarial Model.\n",
    "\t\"\"\"\n",
    "\tinput_layer1 = Input(shape=(1024,))  \n",
    "\tinput_layer2 = Input(shape=(100,)) \n",
    "\tinput_layer3 = Input(shape=(4, 4, 128)) \n",
    "\n",
    "\tx, ca = generator_model([input_layer1, input_layer2]) #text,noise\n",
    "\n",
    "\tdiscriminator_model.trainable = False \n",
    "\n",
    "\tprobabilities = discriminator_model([x, input_layer3]) \n",
    "\tadversarial_model = Model(inputs=[input_layer1, input_layer2, input_layer3], outputs=[probabilities, ca])\n",
    "\treturn adversarial_model\n",
    "\n"
   ]
  },
  {
   "cell_type": "code",
   "execution_count": 8,
   "metadata": {},
   "outputs": [
    {
     "name": "stdout",
     "output_type": "stream",
     "text": [
      "Model: \"model_2\"\n",
      "__________________________________________________________________________________________________\n",
      " Layer (type)                   Output Shape         Param #     Connected to                     \n",
      "==================================================================================================\n",
      " input_5 (InputLayer)           [(None, 1024)]       0           []                               \n",
      "                                                                                                  \n",
      " input_6 (InputLayer)           [(None, 100)]        0           []                               \n",
      "                                                                                                  \n",
      " model (Functional)             [(None, 64, 64, 3),  10270400    ['input_5[0][0]',                \n",
      "                                 (None, 256)]                     'input_6[0][0]']                \n",
      "                                                                                                  \n",
      " input_7 (InputLayer)           [(None, 4, 4, 128)]  0           []                               \n",
      "                                                                                                  \n",
      " model_1 (Functional)           (None, 1)            2767361     ['model[0][0]',                  \n",
      "                                                                  'input_7[0][0]']                \n",
      "                                                                                                  \n",
      "==================================================================================================\n",
      "Total params: 13,037,761\n",
      "Trainable params: 10,268,480\n",
      "Non-trainable params: 2,769,281\n",
      "__________________________________________________________________________________________________\n"
     ]
    }
   ],
   "source": [
    "ganstage1 = build_adversarial(generator, discriminator)\n",
    "ganstage1.summary()"
   ]
  },
  {
   "cell_type": "markdown",
   "metadata": {
    "id": "g4Dy_RuO42Am"
   },
   "source": [
    "############################################################\n",
    "# Train Utilities\n",
    "############################################################\n"
   ]
  },
  {
   "cell_type": "code",
   "execution_count": 9,
   "metadata": {
    "id": "tuXx7HDj41XW"
   },
   "outputs": [],
   "source": [
    "\n",
    "def checkpoint_prefix():\n",
    "\tcheckpoint_dir = './training_checkpoints'\n",
    "\tcheckpoint_prefix = os.path.join(checkpoint_dir, 'ckpt')\n",
    "\n",
    "\treturn checkpoint_prefix\n",
    "\n",
    "def adversarial_loss(y_true, y_pred):\n",
    "\tmean = y_pred[:, :128]\n",
    "\tls = y_pred[:, 128:]\n",
    "\tloss = -ls + 0.5 * (-1 + tf.math.exp(2.0 * ls) + tf.math.square(mean))\n",
    "\tloss = K.mean(loss)\n",
    "\treturn loss\n",
    "\n",
    "def normalize(input_image, real_image):\n",
    "\tinput_image = (input_image / 127.5) - 1\n",
    "\treal_image = (real_image / 127.5) - 1\n",
    "\n",
    "\treturn input_image, real_image\n",
    "\n",
    "def load_class_ids_filenames(class_id_path, filename_path):\n",
    "\twith open(class_id_path, 'rb') as file:\n",
    "\t\tclass_id = pickle.load(file, encoding='latin1')\n",
    "\n",
    "\twith open(filename_path, 'rb') as file:\n",
    "\t\tfilename = pickle.load(file, encoding='latin1')\n",
    "\n",
    "\treturn class_id, filename\n",
    "\n",
    "def load_text_embeddings(text_embeddings):\n",
    "\twith open(text_embeddings, 'rb') as file:\n",
    "\t\tembeds = pickle.load(file, encoding='latin1')\n",
    "\t\tembeds = np.array(embeds)\n",
    "\n",
    "\treturn embeds\n",
    "\n",
    "def load_bbox(data_path):\n",
    "\tbbox_path = data_path + '/bounding_boxes.txt'\n",
    "\timage_path = data_path + '/images.txt'\n",
    "\tbbox_df = pd.read_csv(bbox_path, delim_whitespace=True, header=None).astype(int)\n",
    "\tfilename_df = pd.read_csv(image_path, delim_whitespace=True, header=None)\n",
    "\n",
    "\tfilenames = filename_df[1].tolist()\n",
    "\tbbox_dict = {i[:-4]:[] for i in filenames[:2]}\n",
    "\n",
    "\tfor i in range(0, len(filenames)):\n",
    "\t\tbbox = bbox_df.iloc[i][1:].tolist()\n",
    "\t\tdict_key = filenames[i][:-4]\n",
    "\t\tbbox_dict[dict_key] = bbox\n",
    "\n",
    "\treturn bbox_dict\n",
    "\n",
    "def load_images(image_path, bounding_box, size):\n",
    "\t\"\"\"Crops the image to the bounding box and then resizes it.\n",
    "\t\"\"\"\n",
    "\timage = Image.open(image_path).convert('RGB')\n",
    "\tw, h = image.size\n",
    "\tif bounding_box is not None:\n",
    "\t\tr = int(np.maximum(bounding_box[2], bounding_box[3]) * 0.75)\n",
    "\t\tc_x = int((bounding_box[0] + bounding_box[2]) / 2)\n",
    "\t\tc_y = int((bounding_box[1] + bounding_box[3]) / 2)\n",
    "\t\ty1 = np.maximum(0, c_y - r)\n",
    "\t\ty2 = np.minimum(h, c_y + r)\n",
    "\t\tx1 = np.maximum(0, c_x - r)\n",
    "\t\tx2 = np.minimum(w, c_x + r)\n",
    "\t\timage = image.crop([x1, y1, x2, y2])\n",
    "\n",
    "\timage = image.resize(size, PIL.Image.BILINEAR)\n",
    "\treturn image\n",
    "\n",
    "def load_data(filename_path, class_id_path, dataset_path, embeddings_path, size):\n",
    "\t\"\"\"Loads the Dataset.\n",
    "\t\"\"\"\n",
    "\tdata_dir = \"D:/1-pipelined_topics/GAN_texttoimage/birds_implementation/birds\"\n",
    "\ttrain_dir = data_dir + \"/train\"\n",
    "\ttest_dir = data_dir + \"/test\"\n",
    "\tembeddings_path_train = train_dir + \"/char-CNN-RNN-embeddings.pickle\"\n",
    "\tembeddings_path_test = test_dir + \"/char-CNN-RNN-embeddings.pickle\"\n",
    "\tfilename_path_train = train_dir + \"/filenames.pickle\"\n",
    "\tfilename_path_test = test_dir + \"/filenames.pickle\"\n",
    "\tclass_id_path_train = train_dir + \"/class_info.pickle\"\n",
    "\tclass_id_path_test = test_dir + \"/class_info.pickle\"\n",
    "\tdataset_path = \"D:/1-pipelined_topics/GAN_texttoimage/birds_implementation/CUB_200_2011\"\n",
    "\tclass_id, filenames = load_class_ids_filenames(class_id_path, filename_path)\n",
    "\tembeddings = load_text_embeddings(embeddings_path)\n",
    "\tbbox_dict = load_bbox(dataset_path)\n",
    "\n",
    "\tx, y, embeds = [], [], []\n",
    "\n",
    "\tfor i, filename in enumerate(filenames):\n",
    "\t\tbbox = bbox_dict[filename]\n",
    "\n",
    "\t\ttry:\t\n",
    "\t\t\timage_path = f'{dataset_path}/images/{filename}.jpg'\n",
    "\t\t\timage = load_images(image_path, bbox, size)\n",
    "\t\t\te = embeddings[i, :, :]\n",
    "\t\t\tembed_index = np.random.randint(0, e.shape[0] - 1)\n",
    "\t\t\tembed = e[embed_index, :]\n",
    "\n",
    "\t\t\tx.append(np.array(image))\n",
    "\t\t\ty.append(class_id[i])\n",
    "\t\t\tembeds.append(embed)\n",
    "\n",
    "\t\texcept Exception as e:\n",
    "\t\t\tprint(f'{e}')\n",
    "\t\n",
    "\tx = np.array(x)\n",
    "\ty = np.array(y)\n",
    "\tembeds = np.array(embeds)\n",
    "\t\n",
    "\treturn x, y, embeds\n",
    "\n",
    "def save_image(file, save_path):\n",
    "\t\"\"\"Saves the image at the specified file path.\n",
    "\t\"\"\"\n",
    "\timage = plt.figure()\n",
    "\tax = image.add_subplot(1,1,1)\n",
    "\tax.imshow(file)\n",
    "\tax.axis(\"off\")\n",
    "\tplt.savefig(save_path)\n",
    "\n",
    "\n"
   ]
  },
  {
   "cell_type": "code",
   "execution_count": 10,
   "metadata": {
    "id": "pjcH1V8ax9A1"
   },
   "outputs": [],
   "source": [
    "\n",
    "############################################################\n",
    "# DpDCAE-GAN class\n",
    "############################################################\n",
    "\n",
    "class DpAEGanInitial(object):\n",
    "  \"\"\"DpDCAEGAN Initial class.\"\"\"\n",
    "\n",
    "  data_dir = \"D:/1-pipelined_topics/GAN_texttoimage/birds_implementation/birds\"\n",
    "  train_dir = data_dir + \"/train\"\n",
    "  test_dir = data_dir + \"/test\"\n",
    "  embeddings_path_train = train_dir + \"/char-CNN-RNN-embeddings.pickle\"\n",
    "  embeddings_path_test = test_dir + \"/char-CNN-RNN-embeddings.pickle\"\n",
    "  filename_path_train = train_dir + \"/filenames.pickle\"\n",
    "  filename_path_test = test_dir + \"/filenames.pickle\"\n",
    "  class_id_path_train = train_dir + \"/class_info.pickle\"\n",
    "  class_id_path_test = test_dir + \"/class_info.pickle\"\n",
    "  dataset_path = \"D:/1-pipelined_topics/GAN_texttoimage/birds_implementation/CUB_200_2011\"\n",
    "  def __init__(self, epochs=500, z_dim=100, batch_size=64, enable_function=True, stage1_generator_lr=0.0002, stage1_discriminator_lr=0.0002):\n",
    "\t  self.epochs = epochs\n",
    "\t  self.z_dim = z_dim\n",
    "\t  self.enable_function = enable_function\n",
    "\t  self.stage1_generator_lr = initial_generator_lr\n",
    "\t  self.stage1_discriminator_lr = initial_discriminator_lr\n",
    "\t  self.image_size = 64\n",
    "\t  self.conditioning_dim = 128\n",
    "\t  self.batch_size = batch_size\n",
    "        \n",
    "\t  self.initial_generator_optimizer = Adam(lr=initial_generator_lr, beta_1=0.5, beta_2=0.999)\n",
    "\t  self.initial_discriminator_optimizer = Adam(lr=initial_discriminator_lr, beta_1=0.5, beta_2=0.999)\n",
    "        \n",
    "\t  self.initial_generator = build_initial_generator()\n",
    "\t  self.initial_generator.compile(loss='mse', optimizer=self.initial_generator_optimizer)\n",
    "\n",
    "\t  self.initial_discriminator = build_initial_discriminator()\n",
    "\t  self.initial_discriminator.compile(loss='binary_crossentropy', optimizer=self.initial_discriminator_optimizer)\n",
    "\n",
    "\t  self.ca_network = build_ca_network()\n",
    "\t  self.ca_network.compile(loss='binary_crossentropy', optimizer='Adam')\n",
    "\n",
    "\t  self.embedding_compressor = build_embedding_compressor()\n",
    "\t  self.embedding_compressor.compile(loss='binary_crossentropy', optimizer='Adam')\n",
    "\n",
    "\t  self.initial_adversarial = build_adversarial(self.initial_generator, self.stage1_discriminator)\n",
    "\t  self.initial_adversarial.compile(loss=['binary_crossentropy', adversarial_loss], loss_weights=[1, 2.0], optimizer=self.initial_generator_optimizer)\n",
    "\n",
    "\t  self.checkpoint1 = tf.train.Checkpoint(\n",
    "        \tgenerator_optimizer=self.initial_generator_optimizer,\n",
    "        \tdiscriminator_optimizer=self.initial_discriminator_optimizer,\n",
    "        \tgenerator=self.initial_generator,\n",
    "        \tdiscriminator=self.initial_discriminator)\n",
    "\n",
    "  def visualize_initial(self):\n",
    "\t  \"\"\"Running Tensorboard visualizations.\n",
    "\t\t\"\"\"\n",
    "\t  tb = TensorBoard(log_dir=\"logs/\".format(time.time()))\n",
    "\t  tb.set_model(self.initial_generator)\n",
    "\t  tb.set_model(self.initial_discriminator)\n",
    "\t  tb.set_model(self.ca_network)\n",
    "\t  tb.set_model(self.embedding_compressor)\n",
    "\n",
    "  def train_initial(self):\n",
    "\t  \"\"\"Trains the initial DCVAE-GAN.\n",
    "    \"\"\"\n",
    "\t  x_train, y_train, train_embeds = load_data(filename_path=filename_path_train, class_id_path=class_id_path_train,\n",
    "      dataset_path=dataset_path, embeddings_path=embeddings_path_train, size=(64, 64))\n",
    "\n",
    "\t  x_test, y_test, test_embeds = load_data(filename_path=filename_path_test, class_id_path=class_id_path_test, \n",
    "      dataset_path=dataset_path, embeddings_path=embeddings_path_test, size=(64, 64))\n",
    "\n",
    "\t  real = np.ones((self.batch_size, 1), dtype='float') * 0.9\n",
    "\t  fake = np.zeros((self.batch_size, 1), dtype='float') * 0.1\n",
    "\n",
    "\t  for epoch in range(self.epochs):\n",
    "\t\t  print(f'Epoch: {epoch}')\n",
    "\n",
    "\t\t  gen_loss = []\n",
    "\t\t  dis_loss = []\n",
    "\n",
    "\t\t  num_batches = int(x_train.shape[0] / self.batch_size)\n",
    "\n",
    "\t\t  for i in range(num_batches):\n",
    "\n",
    "\t\t    latent_space = np.random.normal(0, 1, size=(self.batch_size, self.z_dim))\n",
    "\t\t    embedding_text = train_embeds[i * self.batch_size:(i + 1) * self.batch_size]\n",
    "\t\t    compressed_embedding = self.embedding_compressor.predict_on_batch(embedding_text)\n",
    "\t\t    compressed_embedding = np.reshape(compressed_embedding, (-1, 1, 1, 128))\n",
    "\t\t    compressed_embedding = np.tile(compressed_embedding, (1, 4, 4, 1))\n",
    "\n",
    "\t\t    image_batch = x_train[i * self.batch_size:(i+1) * self.batch_size]\n",
    "\t\t    image_batch = (image_batch - 127.5) / 127.5\n",
    "\n",
    "\t\t    gen_images, _ = self.initial_generator.predict([embedding_text, latent_space])\n",
    "\n",
    "\t\t    discriminator_loss = self.initial_discriminator.train_on_batch([image_batch, compressed_embedding], \n",
    "\t\t\t\t\tnp.reshape(real, (self.batch_size, 1)))\n",
    "\n",
    "\t\t    discriminator_loss_gen = self.initial_discriminator.train_on_batch([gen_images, compressed_embedding],\n",
    "\t\t\t\t\tnp.reshape(fake, (self.batch_size, 1)))\n",
    "\n",
    "\t\t    discriminator_loss_wrong = self.initial_discriminator.train_on_batch([gen_images[: self.batch_size-1], compressed_embedding[1:]], \n",
    "\t\t\t\t\tnp.reshape(fake[1:], (self.batch_size-1, 1)))\n",
    "\n",
    "\t\t    # Discriminator loss\n",
    "\t\t    d_loss = 0.5 * np.add(discriminator_loss, 0.5 * np.add(discriminator_loss_gen, discriminator_loss_wrong))\n",
    "\t\t    dis_loss.append(d_loss)\n",
    "\n",
    "\t\t    print(f'Discriminator Loss: {d_loss}')\n",
    "\n",
    "\t\t    # Generator loss\n",
    "\t\t    g_loss = self.initial_adversarial.train_on_batch([embedding_text, latent_space, compressed_embedding],\n",
    "\t\t\t\t\t[K.ones((self.batch_size, 1)) * 0.9, K.ones((self.batch_size, 256)) * 0.9])\n",
    "\n",
    "\t\t    print(f'Generator Loss: {g_loss}')\n",
    "\t\t    gen_loss.append(g_loss)\n",
    "\n",
    "\t\t    if epoch % 5 == 0:\n",
    "\t\t\t\t    latent_space = np.random.normal(0, 1, size=(self.batch_size, self.z_dim))\n",
    "\t\t\t\t    embedding_batch = test_embeds[0 : self.batch_size]\n",
    "\t\t\t\t    gen_images, _ = self.stage1_generator.predict_on_batch([embedding_batch, latent_space])\n",
    "\n",
    "\t\t\t\t    for i, image in enumerate(gen_images[:10]):\n",
    "\t\t\t\t        save_image(image, f'test/gen_1_{epoch}_{i}')\n",
    "\n",
    "\t\t    if epoch % 25 == 0:\n",
    "\t\t      self.initial_generator.save_weights('weights/stage1_gen.h5')\n",
    "\t\t      self.initial_discriminator.save_weights(\"weights/stage1_disc.h5\")\n",
    "\t\t      self.ca_network.save_weights('weights/stage1_ca.h5')\n",
    "\t\t      self.embedding_compressor.save_weights('weights/stage1_embco.h5')\n",
    "\t\t      self.initial_adversarial.save_weights('weights/stage1_adv.h5')      \n",
    "\n",
    "\t  self.initial_generator.save_weights('weights/initial_gen.h5')\n",
    "\t  self.initial_discriminator.save_weights(\"weights/initial_disc.h5\")\n"
   ]
  },
  {
   "cell_type": "code",
   "execution_count": 11,
   "metadata": {
    "colab": {
     "base_uri": "https://localhost:8080/"
    },
    "id": "WUDlLFK0xFdV",
    "outputId": "3aec9e0e-cff9-4742-a2d3-ce4161be794e"
   },
   "outputs": [
    {
     "name": "stderr",
     "output_type": "stream",
     "text": [
      "C:\\Users\\PARVEZ\\anaconda3\\lib\\site-packages\\keras\\optimizer_v2\\adam.py:105: UserWarning: The `lr` argument is deprecated, use `learning_rate` instead.\n",
      "  super(Adam, self).__init__(name, **kwargs)\n"
     ]
    },
    {
     "ename": "NameError",
     "evalue": "name 'filename_path_train' is not defined",
     "output_type": "error",
     "traceback": [
      "\u001b[1;31m---------------------------------------------------------------------------\u001b[0m",
      "\u001b[1;31mNameError\u001b[0m                                 Traceback (most recent call last)",
      "\u001b[1;32m~\\AppData\\Local\\Temp/ipykernel_3860/16170072.py\u001b[0m in \u001b[0;36m<module>\u001b[1;34m\u001b[0m\n\u001b[0;32m      1\u001b[0m \u001b[0mstage1\u001b[0m \u001b[1;33m=\u001b[0m \u001b[0mStackGanStage1\u001b[0m\u001b[1;33m(\u001b[0m\u001b[1;33m)\u001b[0m\u001b[1;33m\u001b[0m\u001b[1;33m\u001b[0m\u001b[0m\n\u001b[1;32m----> 2\u001b[1;33m \u001b[0mstage1\u001b[0m\u001b[1;33m.\u001b[0m\u001b[0mtrain_stage1\u001b[0m\u001b[1;33m(\u001b[0m\u001b[1;33m)\u001b[0m\u001b[1;33m\u001b[0m\u001b[1;33m\u001b[0m\u001b[0m\n\u001b[0m",
      "\u001b[1;32m~\\AppData\\Local\\Temp/ipykernel_3860/3533542450.py\u001b[0m in \u001b[0;36mtrain_stage1\u001b[1;34m(self)\u001b[0m\n\u001b[0;32m     62\u001b[0m \t  \"\"\"Trains the stage1 StackGAN.\n\u001b[0;32m     63\u001b[0m     \"\"\"\n\u001b[1;32m---> 64\u001b[1;33m \t  x_train, y_train, train_embeds = load_data(filename_path=filename_path_train, class_id_path=class_id_path_train,\n\u001b[0m\u001b[0;32m     65\u001b[0m       dataset_path=dataset_path, embeddings_path=embeddings_path_train, size=(64, 64))\n\u001b[0;32m     66\u001b[0m \u001b[1;33m\u001b[0m\u001b[0m\n",
      "\u001b[1;31mNameError\u001b[0m: name 'filename_path_train' is not defined"
     ]
    }
   ],
   "source": [
    "initial = DCVAEGaninitial()\n",
    "initial.train_initial()"
   ]
  },
  {
   "cell_type": "markdown",
   "metadata": {
    "id": "inj5IwROxFgE"
   },
   "source": [
    "## Check test folder for gernerated images from initial Generator"
   ]
  },
  {
   "cell_type": "markdown",
   "metadata": {},
   "source": [
    "## Let's Implement final Generator"
   ]
  },
  {
   "cell_type": "code",
   "execution_count": 11,
   "metadata": {},
   "outputs": [],
   "source": [
    "############################################################\n",
    "# Final Generator Network\n",
    "############################################################\n",
    "\n",
    "def concat_along_dims(inputs):\n",
    "\t\"\"\"Joins the conditioned text with the encoded image along the dimensions.\n",
    "\n",
    "\tArgs:\n",
    "\t\tinputs: consisting of conditioned text and encoded images as [c,x].\n",
    "\n",
    "\tReturns:\n",
    "\t\tJoint block along the dimensions.\n",
    "\t\"\"\"\n",
    "\tc = inputs[0]\n",
    "\tx = inputs[1]\n",
    "\n",
    "\tc = K.expand_dims(c, axis=1)\n",
    "\tc = K.expand_dims(c, axis=1)\n",
    "\tc = K.tile(c, [1, 16, 16, 1])\n",
    "\treturn K.concatenate([c, x], axis = 3)\n",
    "\n",
    "def residual_block(input):\n",
    "\t\"\"\"Residual block with plain identity connections.\n",
    "\n",
    "\tArgs:\n",
    "\t\tinputs: input layer or an encoded layer\n",
    "\n",
    "\tReturns:\n",
    "\t\tLayer with computed identity mapping.\n",
    "\t\"\"\"\n",
    "\tx = Conv2D(512, kernel_size=(3,3), padding='same', use_bias=False,\n",
    "\t\t\t\tkernel_initializer='he_uniform')(input)\n",
    "\tx = BatchNormalization(gamma_initializer='ones', beta_initializer='zeros')(x)\n",
    "\tx = ReLU()(x)\n",
    "\t\n",
    "\tx = Conv2D(512, kernel_size=(3,3), padding='same', use_bias=False,\n",
    "\t\t\t\tkernel_initializer='he_uniform')(x)\n",
    "\tx = BatchNormalization(gamma_initializer='ones', beta_initializer='zeros')(x)\n",
    "\t\n",
    "\tx = add([x, input])\n",
    "\tx = ReLU()(x)\n",
    "\n",
    "\treturn x\n",
    "\n",
    "def build_final_generator():\n",
    "\t\"\"\"Build the final Generator Network using the conditioning text and images from initial.\n",
    "\n",
    "\tReturns:\n",
    "\t\tFinal Generator Model for DCVAE-GAN.\n",
    "\t\"\"\"\n",
    "\tinput_layer1 = Input(shape=(1024,))\n",
    "\tinput_images = Input(shape=(64, 64, 3))\n",
    "\n",
    "\t# Conditioning Augmentation\n",
    "\tca = Dense(256)(input_layer1)\n",
    "\tmls = LeakyReLU(alpha=0.2)(ca)\n",
    "\tc = Lambda(conditioning_augmentation)(mls)\n",
    "\n",
    "\t# Downsampling block\n",
    "\tx = ZeroPadding2D(padding=(1,1))(input_images)\n",
    "\tx = Conv2D(128, kernel_size=(3,3), strides=1, use_bias=False,\n",
    "\t\t\t\tkernel_initializer='he_uniform')(x)\n",
    "\tx = ReLU()(x)\n",
    "\n",
    "\tx = ZeroPadding2D(padding=(1,1))(x)\n",
    "\tx = Conv2D(256, kernel_size=(4,4), strides=2, use_bias=False,\n",
    "\t\t\t\tkernel_initializer='he_uniform')(x)\n",
    "\tx = BatchNormalization(gamma_initializer='ones', beta_initializer='zeros')(x)\n",
    "\tx = ReLU()(x)\n",
    "\n",
    "\tx = ZeroPadding2D(padding=(1,1))(x)\n",
    "\tx = Conv2D(512, kernel_size=(4,4), strides=2, use_bias=False,\n",
    "\t\t\t\tkernel_initializer='he_uniform')(x)\n",
    "\tx = BatchNormalization(gamma_initializer='ones', beta_initializer='zeros')(x)\n",
    "\tx = ReLU()(x)\n",
    "\n",
    "\t# Concatenate text conditioning block with the encoded image\n",
    "\tconcat = concat_along_dims([c, x])\n",
    "\n",
    "\t# Residual Blocks\n",
    "\tx = ZeroPadding2D(padding=(1,1))(concat)\n",
    "\tx = Conv2D(512, kernel_size=(3,3), use_bias=False, kernel_initializer='he_uniform')(x)\n",
    "\tx = BatchNormalization(gamma_initializer='ones', beta_initializer='zeros')(x)\n",
    "\tx = ReLU()(x)\n",
    "\n",
    "\tx = residual_block(x)\n",
    "\tx = residual_block(x)\n",
    "\tx = residual_block(x)\n",
    "\tx = residual_block(x)\n",
    "\n",
    "\t# Upsampling Blocks\n",
    "\tx = UpSamplingBlock(x, 512)\n",
    "\tx = UpSamplingBlock(x, 256)\n",
    "\tx = UpSamplingBlock(x, 128)\n",
    "\tx = UpSamplingBlock(x, 64)\n",
    "\n",
    "\tx = Conv2D(3, kernel_size=(3,3), padding='same', use_bias=False, kernel_initializer='he_uniform')(x)\n",
    "\tx = Activation('tanh')(x)\n",
    "\t\n",
    "\tstage2_gen = Model(inputs=[input_layer1, input_images], outputs=[x, mls])\n",
    "\treturn final_gen\n",
    "\n"
   ]
  },
  {
   "cell_type": "code",
   "execution_count": 12,
   "metadata": {},
   "outputs": [
    {
     "name": "stdout",
     "output_type": "stream",
     "text": [
      "Model: \"functional_9\"\n",
      "__________________________________________________________________________________________________\n",
      "Layer (type)                    Output Shape         Param #     Connected to                     \n",
      "==================================================================================================\n",
      "input_11 (InputLayer)           [(None, 64, 64, 3)]  0                                            \n",
      "__________________________________________________________________________________________________\n",
      "zero_padding2d (ZeroPadding2D)  (None, 66, 66, 3)    0           input_11[0][0]                   \n",
      "__________________________________________________________________________________________________\n",
      "conv2d_15 (Conv2D)              (None, 64, 64, 128)  3456        zero_padding2d[0][0]             \n",
      "__________________________________________________________________________________________________\n",
      "re_lu_10 (ReLU)                 (None, 64, 64, 128)  0           conv2d_15[0][0]                  \n",
      "__________________________________________________________________________________________________\n",
      "zero_padding2d_1 (ZeroPadding2D (None, 66, 66, 128)  0           re_lu_10[0][0]                   \n",
      "__________________________________________________________________________________________________\n",
      "input_10 (InputLayer)           [(None, 1024)]       0                                            \n",
      "__________________________________________________________________________________________________\n",
      "conv2d_16 (Conv2D)              (None, 32, 32, 256)  524288      zero_padding2d_1[0][0]           \n",
      "__________________________________________________________________________________________________\n",
      "dense_5 (Dense)                 (None, 256)          262400      input_10[0][0]                   \n",
      "__________________________________________________________________________________________________\n",
      "batch_normalization_12 (BatchNo (None, 32, 32, 256)  1024        conv2d_16[0][0]                  \n",
      "__________________________________________________________________________________________________\n",
      "leaky_re_lu_7 (LeakyReLU)       (None, 256)          0           dense_5[0][0]                    \n",
      "__________________________________________________________________________________________________\n",
      "re_lu_11 (ReLU)                 (None, 32, 32, 256)  0           batch_normalization_12[0][0]     \n",
      "__________________________________________________________________________________________________\n",
      "lambda_2 (Lambda)               (None, 128)          0           leaky_re_lu_7[0][0]              \n",
      "__________________________________________________________________________________________________\n",
      "zero_padding2d_2 (ZeroPadding2D (None, 34, 34, 256)  0           re_lu_11[0][0]                   \n",
      "__________________________________________________________________________________________________\n",
      "tf_op_layer_ExpandDims (TensorF [(None, 1, 128)]     0           lambda_2[0][0]                   \n",
      "__________________________________________________________________________________________________\n",
      "conv2d_17 (Conv2D)              (None, 16, 16, 512)  2097152     zero_padding2d_2[0][0]           \n",
      "__________________________________________________________________________________________________\n",
      "tf_op_layer_ExpandDims_1 (Tenso [(None, 1, 1, 128)]  0           tf_op_layer_ExpandDims[0][0]     \n",
      "__________________________________________________________________________________________________\n",
      "batch_normalization_13 (BatchNo (None, 16, 16, 512)  2048        conv2d_17[0][0]                  \n",
      "__________________________________________________________________________________________________\n",
      "tf_op_layer_Tile (TensorFlowOpL [(None, 16, 16, 128) 0           tf_op_layer_ExpandDims_1[0][0]   \n",
      "__________________________________________________________________________________________________\n",
      "re_lu_12 (ReLU)                 (None, 16, 16, 512)  0           batch_normalization_13[0][0]     \n",
      "__________________________________________________________________________________________________\n",
      "tf_op_layer_concat (TensorFlowO [(None, 16, 16, 640) 0           tf_op_layer_Tile[0][0]           \n",
      "                                                                 re_lu_12[0][0]                   \n",
      "__________________________________________________________________________________________________\n",
      "zero_padding2d_3 (ZeroPadding2D (None, 18, 18, 640)  0           tf_op_layer_concat[0][0]         \n",
      "__________________________________________________________________________________________________\n",
      "conv2d_18 (Conv2D)              (None, 16, 16, 512)  2949120     zero_padding2d_3[0][0]           \n",
      "__________________________________________________________________________________________________\n",
      "batch_normalization_14 (BatchNo (None, 16, 16, 512)  2048        conv2d_18[0][0]                  \n",
      "__________________________________________________________________________________________________\n",
      "re_lu_13 (ReLU)                 (None, 16, 16, 512)  0           batch_normalization_14[0][0]     \n",
      "__________________________________________________________________________________________________\n",
      "conv2d_19 (Conv2D)              (None, 16, 16, 512)  2359296     re_lu_13[0][0]                   \n",
      "__________________________________________________________________________________________________\n",
      "batch_normalization_15 (BatchNo (None, 16, 16, 512)  2048        conv2d_19[0][0]                  \n",
      "__________________________________________________________________________________________________\n",
      "re_lu_14 (ReLU)                 (None, 16, 16, 512)  0           batch_normalization_15[0][0]     \n",
      "__________________________________________________________________________________________________\n",
      "conv2d_20 (Conv2D)              (None, 16, 16, 512)  2359296     re_lu_14[0][0]                   \n",
      "__________________________________________________________________________________________________\n",
      "batch_normalization_16 (BatchNo (None, 16, 16, 512)  2048        conv2d_20[0][0]                  \n",
      "__________________________________________________________________________________________________\n",
      "add (Add)                       (None, 16, 16, 512)  0           batch_normalization_16[0][0]     \n",
      "                                                                 re_lu_13[0][0]                   \n",
      "__________________________________________________________________________________________________\n",
      "re_lu_15 (ReLU)                 (None, 16, 16, 512)  0           add[0][0]                        \n",
      "__________________________________________________________________________________________________\n",
      "conv2d_21 (Conv2D)              (None, 16, 16, 512)  2359296     re_lu_15[0][0]                   \n",
      "__________________________________________________________________________________________________\n",
      "batch_normalization_17 (BatchNo (None, 16, 16, 512)  2048        conv2d_21[0][0]                  \n",
      "__________________________________________________________________________________________________\n",
      "re_lu_16 (ReLU)                 (None, 16, 16, 512)  0           batch_normalization_17[0][0]     \n",
      "__________________________________________________________________________________________________\n",
      "conv2d_22 (Conv2D)              (None, 16, 16, 512)  2359296     re_lu_16[0][0]                   \n",
      "__________________________________________________________________________________________________\n",
      "batch_normalization_18 (BatchNo (None, 16, 16, 512)  2048        conv2d_22[0][0]                  \n",
      "__________________________________________________________________________________________________\n",
      "add_1 (Add)                     (None, 16, 16, 512)  0           batch_normalization_18[0][0]     \n",
      "                                                                 re_lu_15[0][0]                   \n",
      "__________________________________________________________________________________________________\n",
      "re_lu_17 (ReLU)                 (None, 16, 16, 512)  0           add_1[0][0]                      \n",
      "__________________________________________________________________________________________________\n",
      "conv2d_23 (Conv2D)              (None, 16, 16, 512)  2359296     re_lu_17[0][0]                   \n",
      "__________________________________________________________________________________________________\n",
      "batch_normalization_19 (BatchNo (None, 16, 16, 512)  2048        conv2d_23[0][0]                  \n",
      "__________________________________________________________________________________________________\n",
      "re_lu_18 (ReLU)                 (None, 16, 16, 512)  0           batch_normalization_19[0][0]     \n",
      "__________________________________________________________________________________________________\n",
      "conv2d_24 (Conv2D)              (None, 16, 16, 512)  2359296     re_lu_18[0][0]                   \n",
      "__________________________________________________________________________________________________\n",
      "batch_normalization_20 (BatchNo (None, 16, 16, 512)  2048        conv2d_24[0][0]                  \n",
      "__________________________________________________________________________________________________\n",
      "add_2 (Add)                     (None, 16, 16, 512)  0           batch_normalization_20[0][0]     \n",
      "                                                                 re_lu_17[0][0]                   \n",
      "__________________________________________________________________________________________________\n",
      "re_lu_19 (ReLU)                 (None, 16, 16, 512)  0           add_2[0][0]                      \n",
      "__________________________________________________________________________________________________\n",
      "conv2d_25 (Conv2D)              (None, 16, 16, 512)  2359296     re_lu_19[0][0]                   \n",
      "__________________________________________________________________________________________________\n",
      "batch_normalization_21 (BatchNo (None, 16, 16, 512)  2048        conv2d_25[0][0]                  \n",
      "__________________________________________________________________________________________________\n",
      "re_lu_20 (ReLU)                 (None, 16, 16, 512)  0           batch_normalization_21[0][0]     \n",
      "__________________________________________________________________________________________________\n",
      "conv2d_26 (Conv2D)              (None, 16, 16, 512)  2359296     re_lu_20[0][0]                   \n",
      "__________________________________________________________________________________________________\n",
      "batch_normalization_22 (BatchNo (None, 16, 16, 512)  2048        conv2d_26[0][0]                  \n",
      "__________________________________________________________________________________________________\n",
      "add_3 (Add)                     (None, 16, 16, 512)  0           batch_normalization_22[0][0]     \n",
      "                                                                 re_lu_19[0][0]                   \n",
      "__________________________________________________________________________________________________\n",
      "re_lu_21 (ReLU)                 (None, 16, 16, 512)  0           add_3[0][0]                      \n",
      "__________________________________________________________________________________________________\n",
      "up_sampling2d_8 (UpSampling2D)  (None, 32, 32, 512)  0           re_lu_21[0][0]                   \n",
      "__________________________________________________________________________________________________\n",
      "conv2d_27 (Conv2D)              (None, 32, 32, 512)  2359296     up_sampling2d_8[0][0]            \n",
      "__________________________________________________________________________________________________\n",
      "batch_normalization_23 (BatchNo (None, 32, 32, 512)  2048        conv2d_27[0][0]                  \n",
      "__________________________________________________________________________________________________\n",
      "re_lu_22 (ReLU)                 (None, 32, 32, 512)  0           batch_normalization_23[0][0]     \n",
      "__________________________________________________________________________________________________\n",
      "up_sampling2d_9 (UpSampling2D)  (None, 64, 64, 512)  0           re_lu_22[0][0]                   \n",
      "__________________________________________________________________________________________________\n",
      "conv2d_28 (Conv2D)              (None, 64, 64, 256)  1179648     up_sampling2d_9[0][0]            \n",
      "__________________________________________________________________________________________________\n",
      "batch_normalization_24 (BatchNo (None, 64, 64, 256)  1024        conv2d_28[0][0]                  \n",
      "__________________________________________________________________________________________________\n",
      "re_lu_23 (ReLU)                 (None, 64, 64, 256)  0           batch_normalization_24[0][0]     \n",
      "__________________________________________________________________________________________________\n",
      "up_sampling2d_10 (UpSampling2D) (None, 128, 128, 256 0           re_lu_23[0][0]                   \n",
      "__________________________________________________________________________________________________\n",
      "conv2d_29 (Conv2D)              (None, 128, 128, 128 294912      up_sampling2d_10[0][0]           \n",
      "__________________________________________________________________________________________________\n",
      "batch_normalization_25 (BatchNo (None, 128, 128, 128 512         conv2d_29[0][0]                  \n",
      "__________________________________________________________________________________________________\n",
      "re_lu_24 (ReLU)                 (None, 128, 128, 128 0           batch_normalization_25[0][0]     \n",
      "__________________________________________________________________________________________________\n",
      "up_sampling2d_11 (UpSampling2D) (None, 256, 256, 128 0           re_lu_24[0][0]                   \n",
      "__________________________________________________________________________________________________\n",
      "conv2d_30 (Conv2D)              (None, 256, 256, 64) 73728       up_sampling2d_11[0][0]           \n",
      "__________________________________________________________________________________________________\n",
      "batch_normalization_26 (BatchNo (None, 256, 256, 64) 256         conv2d_30[0][0]                  \n",
      "__________________________________________________________________________________________________\n",
      "re_lu_25 (ReLU)                 (None, 256, 256, 64) 0           batch_normalization_26[0][0]     \n",
      "__________________________________________________________________________________________________\n",
      "conv2d_31 (Conv2D)              (None, 256, 256, 3)  1728        re_lu_25[0][0]                   \n",
      "__________________________________________________________________________________________________\n",
      "activation_3 (Activation)       (None, 256, 256, 3)  0           conv2d_31[0][0]                  \n",
      "==================================================================================================\n",
      "Total params: 28,645,440\n",
      "Trainable params: 28,632,768\n",
      "Non-trainable params: 12,672\n",
      "__________________________________________________________________________________________________\n"
     ]
    }
   ],
   "source": [
    "generator_final = build_final_generator()\n",
    "generator_final.summary()"
   ]
  },
  {
   "cell_type": "code",
   "execution_count": 13,
   "metadata": {},
   "outputs": [],
   "source": [
    "\n",
    "############################################################\n",
    "# Final Discriminator Network\n",
    "############################################################\n",
    "\n",
    "def build_final_discriminator():\n",
    "\t\"\"\"Builds the Final Discriminator that uses the 256x256 resolution images from the generator\n",
    "\tand the compressed and spatially replicated embeddings.\n",
    "\n",
    "\tReturns:\n",
    "\t\tFinal Discriminator Model for DCVAE-GAN.\n",
    "\t\"\"\"\n",
    "\tinput_layer1 = Input(shape=(256, 256, 3))\n",
    "\n",
    "\tx = Conv2D(64, kernel_size=(4,4), padding='same', strides=2, use_bias=False,\n",
    "\t\t\t\tkernel_initializer='he_uniform')(input_layer1)\n",
    "\tx = LeakyReLU(alpha=0.2)(x)\n",
    "\n",
    "\tx = ConvBlock(x, 128)\n",
    "\tx = ConvBlock(x, 256)\n",
    "\tx = ConvBlock(x, 512)\n",
    "\tx = ConvBlock(x, 1024)\n",
    "\tx = ConvBlock(x, 2048)\n",
    "\tx = ConvBlock(x, 1024, (1,1), 1)\n",
    "\tx = ConvBlock(x, 512, (1,1), 1, False)\n",
    "\n",
    "\tx1 = ConvBlock(x, 128, (1,1), 1)\n",
    "\tx1 = ConvBlock(x1, 128, (3,3), 1)\n",
    "\tx1 = ConvBlock(x1, 512, (3,3), 1, False)\n",
    "\n",
    "\tx2 = add([x, x1])\n",
    "\tx2 = LeakyReLU(alpha=0.2)(x2)\n",
    "\n",
    "\t# Concatenate compressed and spatially replicated embedding\n",
    "\tinput_layer2 = Input(shape=(4, 4, 128))\n",
    "\tconcat = concatenate([x2, input_layer2])\n",
    "\n",
    "\tx3 = Conv2D(512, kernel_size=(1,1), strides=1, padding='same', kernel_initializer='he_uniform')(concat)\n",
    "\tx3 = BatchNormalization(gamma_initializer='ones', beta_initializer='zeros')(x3)\n",
    "\tx3 = LeakyReLU(alpha=0.2)(x3)\n",
    "\n",
    "\t# Flatten and add a FC layer\n",
    "\tx3 = Flatten()(x3)\n",
    "\tx3 = Dense(1)(x3)\n",
    "\tx3 = Activation('sigmoid')(x3)\n",
    "\n",
    "\tfinal_dis = Model(inputs=[input_layer1, input_layer2], outputs=[x3])\n",
    "\treturn final_dis\n",
    "\n"
   ]
  },
  {
   "cell_type": "code",
   "execution_count": 14,
   "metadata": {},
   "outputs": [
    {
     "name": "stdout",
     "output_type": "stream",
     "text": [
      "Model: \"functional_11\"\n",
      "__________________________________________________________________________________________________\n",
      "Layer (type)                    Output Shape         Param #     Connected to                     \n",
      "==================================================================================================\n",
      "input_12 (InputLayer)           [(None, 256, 256, 3) 0                                            \n",
      "__________________________________________________________________________________________________\n",
      "conv2d_32 (Conv2D)              (None, 128, 128, 64) 3072        input_12[0][0]                   \n",
      "__________________________________________________________________________________________________\n",
      "leaky_re_lu_8 (LeakyReLU)       (None, 128, 128, 64) 0           conv2d_32[0][0]                  \n",
      "__________________________________________________________________________________________________\n",
      "conv2d_33 (Conv2D)              (None, 64, 64, 128)  131072      leaky_re_lu_8[0][0]              \n",
      "__________________________________________________________________________________________________\n",
      "batch_normalization_27 (BatchNo (None, 64, 64, 128)  512         conv2d_33[0][0]                  \n",
      "__________________________________________________________________________________________________\n",
      "leaky_re_lu_9 (LeakyReLU)       (None, 64, 64, 128)  0           batch_normalization_27[0][0]     \n",
      "__________________________________________________________________________________________________\n",
      "conv2d_34 (Conv2D)              (None, 32, 32, 256)  524288      leaky_re_lu_9[0][0]              \n",
      "__________________________________________________________________________________________________\n",
      "batch_normalization_28 (BatchNo (None, 32, 32, 256)  1024        conv2d_34[0][0]                  \n",
      "__________________________________________________________________________________________________\n",
      "leaky_re_lu_10 (LeakyReLU)      (None, 32, 32, 256)  0           batch_normalization_28[0][0]     \n",
      "__________________________________________________________________________________________________\n",
      "conv2d_35 (Conv2D)              (None, 16, 16, 512)  2097152     leaky_re_lu_10[0][0]             \n",
      "__________________________________________________________________________________________________\n",
      "batch_normalization_29 (BatchNo (None, 16, 16, 512)  2048        conv2d_35[0][0]                  \n",
      "__________________________________________________________________________________________________\n",
      "leaky_re_lu_11 (LeakyReLU)      (None, 16, 16, 512)  0           batch_normalization_29[0][0]     \n",
      "__________________________________________________________________________________________________\n",
      "conv2d_36 (Conv2D)              (None, 8, 8, 1024)   8388608     leaky_re_lu_11[0][0]             \n",
      "__________________________________________________________________________________________________\n",
      "batch_normalization_30 (BatchNo (None, 8, 8, 1024)   4096        conv2d_36[0][0]                  \n",
      "__________________________________________________________________________________________________\n",
      "leaky_re_lu_12 (LeakyReLU)      (None, 8, 8, 1024)   0           batch_normalization_30[0][0]     \n",
      "__________________________________________________________________________________________________\n",
      "conv2d_37 (Conv2D)              (None, 4, 4, 2048)   33554432    leaky_re_lu_12[0][0]             \n",
      "__________________________________________________________________________________________________\n",
      "batch_normalization_31 (BatchNo (None, 4, 4, 2048)   8192        conv2d_37[0][0]                  \n",
      "__________________________________________________________________________________________________\n",
      "leaky_re_lu_13 (LeakyReLU)      (None, 4, 4, 2048)   0           batch_normalization_31[0][0]     \n",
      "__________________________________________________________________________________________________\n",
      "conv2d_38 (Conv2D)              (None, 4, 4, 1024)   2097152     leaky_re_lu_13[0][0]             \n",
      "__________________________________________________________________________________________________\n",
      "batch_normalization_32 (BatchNo (None, 4, 4, 1024)   4096        conv2d_38[0][0]                  \n",
      "__________________________________________________________________________________________________\n",
      "leaky_re_lu_14 (LeakyReLU)      (None, 4, 4, 1024)   0           batch_normalization_32[0][0]     \n",
      "__________________________________________________________________________________________________\n",
      "conv2d_39 (Conv2D)              (None, 4, 4, 512)    524288      leaky_re_lu_14[0][0]             \n",
      "__________________________________________________________________________________________________\n",
      "batch_normalization_33 (BatchNo (None, 4, 4, 512)    2048        conv2d_39[0][0]                  \n",
      "__________________________________________________________________________________________________\n",
      "conv2d_40 (Conv2D)              (None, 4, 4, 128)    65536       batch_normalization_33[0][0]     \n",
      "__________________________________________________________________________________________________\n",
      "batch_normalization_34 (BatchNo (None, 4, 4, 128)    512         conv2d_40[0][0]                  \n",
      "__________________________________________________________________________________________________\n",
      "leaky_re_lu_15 (LeakyReLU)      (None, 4, 4, 128)    0           batch_normalization_34[0][0]     \n",
      "__________________________________________________________________________________________________\n",
      "conv2d_41 (Conv2D)              (None, 4, 4, 128)    147456      leaky_re_lu_15[0][0]             \n",
      "__________________________________________________________________________________________________\n",
      "batch_normalization_35 (BatchNo (None, 4, 4, 128)    512         conv2d_41[0][0]                  \n",
      "__________________________________________________________________________________________________\n",
      "leaky_re_lu_16 (LeakyReLU)      (None, 4, 4, 128)    0           batch_normalization_35[0][0]     \n",
      "__________________________________________________________________________________________________\n",
      "conv2d_42 (Conv2D)              (None, 4, 4, 512)    589824      leaky_re_lu_16[0][0]             \n",
      "__________________________________________________________________________________________________\n",
      "batch_normalization_36 (BatchNo (None, 4, 4, 512)    2048        conv2d_42[0][0]                  \n",
      "__________________________________________________________________________________________________\n",
      "add_4 (Add)                     (None, 4, 4, 512)    0           batch_normalization_33[0][0]     \n",
      "                                                                 batch_normalization_36[0][0]     \n",
      "__________________________________________________________________________________________________\n",
      "leaky_re_lu_17 (LeakyReLU)      (None, 4, 4, 512)    0           add_4[0][0]                      \n",
      "__________________________________________________________________________________________________\n",
      "input_13 (InputLayer)           [(None, 4, 4, 128)]  0                                            \n",
      "__________________________________________________________________________________________________\n",
      "concatenate_3 (Concatenate)     (None, 4, 4, 640)    0           leaky_re_lu_17[0][0]             \n",
      "                                                                 input_13[0][0]                   \n",
      "__________________________________________________________________________________________________\n",
      "conv2d_43 (Conv2D)              (None, 4, 4, 512)    328192      concatenate_3[0][0]              \n",
      "__________________________________________________________________________________________________\n",
      "batch_normalization_37 (BatchNo (None, 4, 4, 512)    2048        conv2d_43[0][0]                  \n",
      "__________________________________________________________________________________________________\n",
      "leaky_re_lu_18 (LeakyReLU)      (None, 4, 4, 512)    0           batch_normalization_37[0][0]     \n",
      "__________________________________________________________________________________________________\n",
      "flatten_1 (Flatten)             (None, 8192)         0           leaky_re_lu_18[0][0]             \n",
      "__________________________________________________________________________________________________\n",
      "dense_6 (Dense)                 (None, 1)            8193        flatten_1[0][0]                  \n",
      "__________________________________________________________________________________________________\n",
      "activation_4 (Activation)       (None, 1)            0           dense_6[0][0]                    \n",
      "==================================================================================================\n",
      "Total params: 48,486,401\n",
      "Trainable params: 48,472,833\n",
      "Non-trainable params: 13,568\n",
      "__________________________________________________________________________________________________\n"
     ]
    }
   ],
   "source": [
    "discriminator_final = build_stage2_discriminator()\n",
    "discriminator_final.summary()"
   ]
  },
  {
   "cell_type": "code",
   "execution_count": 15,
   "metadata": {},
   "outputs": [],
   "source": [
    "\n",
    "############################################################\n",
    "# Final Adversarial Model\n",
    "############################################################\n",
    "\n",
    "def final_adversarial_network(final_disc, final_gen, initial_gen):\n",
    "\t\"\"\"Final Adversarial Network.\n",
    "\n",
    "\tArgs:\n",
    "\t\tfinal_disc: Final Discriminator Model.\n",
    "\t\tfinal_gen: Final Generator Model.\n",
    "\t\initial_gen: Initial Generator Model.\n",
    "\n",
    "\tReturns:\n",
    "\t\tFinal Adversarial network.\n",
    "\t\"\"\"\n",
    "\tconditioned_embedding = Input(shape=(1024, ))\n",
    "\tlatent_space = Input(shape=(100, ))\n",
    "\tcompressed_replicated = Input(shape=(4, 4, 128))\n",
    "    \n",
    "\t#the discriminator is trained separately and initial_gen already trained, and this is the reason why we freeze its layers by setting the property trainable=false\n",
    "\tinput_images, ca = initial_gen([conditioned_embedding, latent_space])\n",
    "\final_disc.trainable = False\n",
    "\tinitial_gen.trainable = False\n",
    "\n",
    "\timages, ca2 = final_gen([conditioned_embedding, input_images])\n",
    "\tprobability = final_disc([images, compressed_replicated])\n",
    "\n",
    "\treturn Model(inputs=[conditioned_embedding, latent_space, compressed_replicated],\n",
    "\t\toutputs=[probability, ca2])\n"
   ]
  },
  {
   "cell_type": "code",
   "execution_count": 18,
   "metadata": {},
   "outputs": [
    {
     "name": "stdout",
     "output_type": "stream",
     "text": [
      "Model: \"functional_13\"\n",
      "__________________________________________________________________________________________________\n",
      "Layer (type)                    Output Shape         Param #     Connected to                     \n",
      "==================================================================================================\n",
      "input_14 (InputLayer)           [(None, 1024)]       0                                            \n",
      "__________________________________________________________________________________________________\n",
      "input_15 (InputLayer)           [(None, 100)]        0                                            \n",
      "__________________________________________________________________________________________________\n",
      "functional_3 (Functional)       [(None, 64, 64, 3),  10270400    input_14[0][0]                   \n",
      "                                                                 input_15[0][0]                   \n",
      "__________________________________________________________________________________________________\n",
      "functional_9 (Functional)       [(None, 256, 256, 3) 28645440    input_14[0][0]                   \n",
      "                                                                 functional_3[1][0]               \n",
      "__________________________________________________________________________________________________\n",
      "input_16 (InputLayer)           [(None, 4, 4, 128)]  0                                            \n",
      "__________________________________________________________________________________________________\n",
      "functional_11 (Functional)      (None, 1)            48486401    functional_9[0][0]               \n",
      "                                                                 input_16[0][0]                   \n",
      "==================================================================================================\n",
      "Total params: 87,402,241\n",
      "Trainable params: 28,632,768\n",
      "Non-trainable params: 58,769,473\n",
      "__________________________________________________________________________________________________\n"
     ]
    }
   ],
   "source": [
    "adversarial_final = final_adversarial_network(discriminator_final, generator_final, generator)\n",
    "adversarial_final.summary()"
   ]
  },
  {
   "cell_type": "code",
   "execution_count": 17,
   "metadata": {},
   "outputs": [],
   "source": [
    "\n",
    "class DCVAEGanFinal(object):\n",
    "\t\"\"\"DCVAE-GAN Final class.\n",
    "\n",
    "\tArgs:\n",
    "\t\tepochs: Number of epochs\n",
    "\t\tz_dim: Latent space dimensions\n",
    "\t\tbatch_size: Batch Size\n",
    "\t\tenable_function: If True, training function is decorated with tf.function\n",
    "\t\tfinal_generator_lr: Learning rate for final generator\n",
    "\t\tfinal_discriminator_lr: Learning rate for final discriminator\n",
    "\t\"\"\"\n",
    "\tdef __init__(self, epochs=500, z_dim=100, batch_size=64, enable_function=True, final_generator_lr=0.0002, final_discriminator_lr=0.0002):\n",
    "\t\tself.epochs = epochs\n",
    "\t\tself.z_dim = z_dim\n",
    "\t\tself.enable_function = enable_function\n",
    "\t\tself.initial_generator_lr = final_generator_lr\n",
    "\t\tself.initial_discriminator_lr = final_discriminator_lr\n",
    "\t\tself.low_image_size = 64\n",
    "\t\tself.high_image_size = 256\n",
    "\t\tself.conditioning_dim = 128\n",
    "\t\tself.batch_size = batch_size\n",
    "\t\tself.final_generator_optimizer = Adam(lr=final_generator_lr, beta_1=0.5, beta_2=0.999)\n",
    "\t\tself.final_discriminator_optimizer = Adam(lr=final_discriminator_lr, beta_1=0.5, beta_2=0.999)\n",
    "\t\tself.initial_generator = build_initial_generator()\n",
    "\t\tself.initial_generator.compile(loss='binary_crossentropy', optimizer=self.final_generator_optimizer)\n",
    "\t\tself.initial_generator.load_weights('weights/initial_gen.h5')\n",
    "\t\tself.final_generator = build_final_generator()\n",
    "\t\tself.final_generator.compile(loss='binary_crossentropy', optimizer=self.final_generator_optimizer)\n",
    "\n",
    "\t\tself.final_discriminator = build_final_discriminator()\n",
    "\t\tself.final_discriminator.compile(loss='binary_crossentropy', optimizer=self.final_discriminator_optimizer)\n",
    "\n",
    "\t\tself.ca_network = build_ca_network()\n",
    "\t\tself.ca_network.compile(loss='binary_crossentropy', optimizer='Adam')\n",
    "\n",
    "\t\tself.embedding_compressor = build_embedding_compressor()\n",
    "\t\tself.embedding_compressor.compile(loss='binary_crossentropy', optimizer='Adam')\n",
    "\n",
    "\t\tself.final_adversarial = final_adversarial_network(self.final_discriminator, self.final_generator, self.initial_generator)\n",
    "\t\tself.final_adversarial.compile(loss=['binary_crossentropy', adversarial_loss], loss_weights=[1, 2.0], optimizer=self.final_generator_optimizer)\t\n",
    "\n",
    "\t\tself.checkpoint2 = tf.train.Checkpoint(\n",
    "        \tgenerator_optimizer=self.final_generator_optimizer,\n",
    "        \tdiscriminator_optimizer=self.final_discriminator_optimizer,\n",
    "        \tgenerator=self.final_generator,\n",
    "        \tdiscriminator=self.final_discriminator,\n",
    "        \tgenerator1=self.initial_generator)\n",
    "\n",
    "\tdef visualize_final(self):\n",
    "\t\t\"\"\"Running Tensorboard visualizations.\n",
    "\t\t\"\"\"\n",
    "\t\ttb = TensorBoard(log_dir=\"logs/\".format(time.time()))\n",
    "\t\ttb.set_model(self.final_generator)\n",
    "\t\ttb.set_model(self.final_discriminator)\n",
    "\n",
    "\tdef train_final(self):\n",
    "\t\t\"\"\"Trains final DCVAE-GAN.\n",
    "\t\t\"\"\"\n",
    "\t\tx_high_train, y_high_train, high_train_embeds = load_data(filename_path=filename_path_train, class_id_path=class_id_path_train,\n",
    "      dataset_path=dataset_path, embeddings_path=embeddings_path_train, size=(256, 256))\n",
    "\n",
    "\t\tx_high_test, y_high_test, high_test_embeds = load_data(filename_path=filename_path_test, class_id_path=class_id_path_test, \n",
    "      dataset_path=dataset_path, embeddings_path=embeddings_path_test, size=(256, 256))\n",
    "\n",
    "\t\tx_low_train, y_low_train, low_train_embeds = load_data(filename_path=filename_path_train, class_id_path=class_id_path_train,\n",
    "      dataset_path=dataset_path, embeddings_path=embeddings_path_train, size=(64, 64))\n",
    "\n",
    "\t\tx_low_test, y_low_test, low_test_embeds = load_data(filename_path=filename_path_test, class_id_path=class_id_path_test, \n",
    "      dataset_path=dataset_path, embeddings_path=embeddings_path_test, size=(64, 64))\n",
    "\n",
    "\t\treal = np.ones((self.batch_size, 1), dtype='float') * 0.9\n",
    "\t\tfake = np.zeros((self.batch_size, 1), dtype='float') * 0.1\n",
    "\n",
    "\t\tfor epoch in range(self.epochs):\n",
    "\t\t\tprint(f'Epoch: {epoch}')\n",
    "\n",
    "\t\t\tgen_loss = []\n",
    "\t\t\tdisc_loss = []\n",
    "\n",
    "\t\t\tnum_batches = int(x_high_train.shape[0] / self.batch_size)\n",
    "\n",
    "\t\t\tfor i in range(num_batches):\n",
    "\n",
    "\t\t\t\tlatent_space = np.random.normal(0, 1, size=(self.batch_size, self.z_dim))\n",
    "\t\t\t\tembedding_text = high_train_embeds[i * self.batch_size:(i + 1) * self.batch_size]\n",
    "\t\t\t\tcompressed_embedding = self.embedding_compressor.predict_on_batch(embedding_text)\n",
    "\t\t\t\tcompressed_embedding = np.reshape(compressed_embedding, (-1, 1, 1, self.conditioning_dim))\n",
    "\t\t\t\tcompressed_embedding = np.tile(compressed_embedding, (1, 4, 4, 1))\n",
    "\n",
    "\t\t\t\timage_batch = x_high_train[i * self.batch_size:(i+1) * self.batch_size]\n",
    "\t\t\t\timage_batch = (image_batch - 127.5) / 127.5\n",
    "\t\t\t\t\n",
    "\t\t\t\tlow_res_fakes, _ = self.initial_generator.predict([embedding_text, latent_space], verbose=3)\n",
    "\t\t\t\thigh_res_fakes, _ = self.final_generator.predict([embedding_text, low_res_fakes], verbose=3)\n",
    "\n",
    "\t\t\t\tdiscriminator_loss = self.final_discriminator.train_on_batch([image_batch, compressed_embedding],\n",
    "\t\t\t\t\tnp.reshape(real, (self.batch_size, 1)))\n",
    "\n",
    "\t\t\t\tdiscriminator_loss_gen = self.final_discriminator.train_on_batch([high_res_fakes, compressed_embedding],\n",
    "\t\t\t\t\tnp.reshape(fake, (self.batch_size, 1)))\n",
    "\n",
    "\t\t\t\tdiscriminator_loss_fake = self.final_discriminator.train_on_batch([image_batch[:(self.batch_size-1)], compressed_embedding[1:]],\n",
    "\t\t\t\t\tnp.reshape(fake[1:], (self.batch_size - 1, 1)))\n",
    "\n",
    "\t\t\t\td_loss = 0.5 * np.add(discriminator_loss, 0.5 * np.add(discriminator_loss_gen, discriminator_loss_fake))\n",
    "\t\t\t\tdisc_loss.append(d_loss)\n",
    "\n",
    "\t\t\t\tprint(f'Discriminator Loss: {d_loss}')\n",
    "\n",
    "\t\t\t\tg_loss = self.final_adversarial.train_on_batch([embedding_text, latent_space, compressed_embedding],\n",
    "\t\t\t\t\t[K.ones((self.batch_size, 1)) * 0.9, K.ones((self.batch_size, 256)) * 0.9])\n",
    "\t\t\t\tgen_loss.append(g_loss)\n",
    "\n",
    "\t\t\t\tprint(f'Generator Loss: {g_loss}')\n",
    "\n",
    "\t\t\t\tif epoch % 5 == 0:\n",
    "\t\t\t\t\tlatent_space = np.random.normal(0, 1, size=(self.batch_size, self.z_dim))\n",
    "\t\t\t\t\tembedding_batch = high_test_embeds[0 : self.batch_size]\n",
    "\n",
    "\t\t\t\t\tlow_fake_images, _ = self.initial_generator.predict([embedding_batch, latent_space], verbose=3)\n",
    "\t\t\t\t\thigh_fake_images, _ = self.final_generator.predict([embedding_batch, low_fake_images], verbose=3)\n",
    "\n",
    "\t\t\t\t\tfor i, image in enumerate(high_fake_images[:10]):\n",
    "\t\t\t\t\t    save_image(image, f'results_final/gen_{epoch}_{i}.png')\n",
    "\n",
    "\t\t\t\tif epoch % 10 == 0:\n",
    "\t\t\t\t\tself.final_generator.save_weights('weights/final_gen.h5')\n",
    "\t\t\t\t\tself.final_discriminator.save_weights(\"weights/final_disc.h5\")\n",
    "\t\t\t\t\tself.ca_network.save_weights('weights/final_ca.h5')\n",
    "\t\t\t\t\tself.embedding_compressor.save_weights('weights/final_embco.h5')\n",
    "\t\t\t\t\tself.final_adversarial.save_weights('weights/final_adv.h5')\n",
    "\n",
    "\t\tself.final_generator.save_weights('weights/final_gen.h5')\n",
    "\t\tself.final_discriminator.save_weights(\"weights/final_disc.h5\")\n"
   ]
  },
  {
   "cell_type": "code",
   "execution_count": null,
   "metadata": {},
   "outputs": [
    {
     "name": "stdout",
     "output_type": "stream",
     "text": [
      "Epoch: 0\n",
      "WARNING:tensorflow:5 out of the last 12 calls to <function Model.make_predict_function.<locals>.predict_function at 0x000001888904BA68> triggered tf.function retracing. Tracing is expensive and the excessive number of tracings could be due to (1) creating @tf.function repeatedly in a loop, (2) passing tensors with different shapes, (3) passing Python objects instead of tensors. For (1), please define your @tf.function outside of the loop. For (2), @tf.function has experimental_relax_shapes=True option that relaxes argument shapes that can avoid unnecessary retracing. For (3), please refer to https://www.tensorflow.org/tutorials/customization/performance#python_or_tensor_args and https://www.tensorflow.org/api_docs/python/tf/function for  more details.\n",
      "WARNING:tensorflow:5 out of the last 11 calls to <function Model.make_predict_function.<locals>.predict_function at 0x0000018876DA2318> triggered tf.function retracing. Tracing is expensive and the excessive number of tracings could be due to (1) creating @tf.function repeatedly in a loop, (2) passing tensors with different shapes, (3) passing Python objects instead of tensors. For (1), please define your @tf.function outside of the loop. For (2), @tf.function has experimental_relax_shapes=True option that relaxes argument shapes that can avoid unnecessary retracing. For (3), please refer to https://www.tensorflow.org/tutorials/customization/performance#python_or_tensor_args and https://www.tensorflow.org/api_docs/python/tf/function for  more details.\n",
      "WARNING:tensorflow:5 out of the last 12 calls to <function Model.make_predict_function.<locals>.predict_function at 0x0000018886E584C8> triggered tf.function retracing. Tracing is expensive and the excessive number of tracings could be due to (1) creating @tf.function repeatedly in a loop, (2) passing tensors with different shapes, (3) passing Python objects instead of tensors. For (1), please define your @tf.function outside of the loop. For (2), @tf.function has experimental_relax_shapes=True option that relaxes argument shapes that can avoid unnecessary retracing. For (3), please refer to https://www.tensorflow.org/tutorials/customization/performance#python_or_tensor_args and https://www.tensorflow.org/api_docs/python/tf/function for  more details.\n",
      "WARNING:tensorflow:7 out of the last 77 calls to <function Model.make_train_function.<locals>.train_function at 0x0000018887060438> triggered tf.function retracing. Tracing is expensive and the excessive number of tracings could be due to (1) creating @tf.function repeatedly in a loop, (2) passing tensors with different shapes, (3) passing Python objects instead of tensors. For (1), please define your @tf.function outside of the loop. For (2), @tf.function has experimental_relax_shapes=True option that relaxes argument shapes that can avoid unnecessary retracing. For (3), please refer to https://www.tensorflow.org/tutorials/customization/performance#python_or_tensor_args and https://www.tensorflow.org/api_docs/python/tf/function for  more details.\n",
      "WARNING:tensorflow:8 out of the last 79 calls to <function Model.make_train_function.<locals>.train_function at 0x0000018887060438> triggered tf.function retracing. Tracing is expensive and the excessive number of tracings could be due to (1) creating @tf.function repeatedly in a loop, (2) passing tensors with different shapes, (3) passing Python objects instead of tensors. For (1), please define your @tf.function outside of the loop. For (2), @tf.function has experimental_relax_shapes=True option that relaxes argument shapes that can avoid unnecessary retracing. For (3), please refer to https://www.tensorflow.org/tutorials/customization/performance#python_or_tensor_args and https://www.tensorflow.org/api_docs/python/tf/function for  more details.\n",
      "Discriminator Loss: 4.341924965381622\n",
      "WARNING:tensorflow:8 out of the last 11 calls to <function Model.make_train_function.<locals>.train_function at 0x0000018886DC93A8> triggered tf.function retracing. Tracing is expensive and the excessive number of tracings could be due to (1) creating @tf.function repeatedly in a loop, (2) passing tensors with different shapes, (3) passing Python objects instead of tensors. For (1), please define your @tf.function outside of the loop. For (2), @tf.function has experimental_relax_shapes=True option that relaxes argument shapes that can avoid unnecessary retracing. For (3), please refer to https://www.tensorflow.org/tutorials/customization/performance#python_or_tensor_args and https://www.tensorflow.org/api_docs/python/tf/function for  more details.\n",
      "Generator Loss: [5.9235639572143555, 5.884086608886719, 0.019738756120204926]\n"
     ]
    },
    {
     "name": "stderr",
     "output_type": "stream",
     "text": [
      "Clipping input data to the valid range for imshow with RGB data ([0..1] for floats or [0..255] for integers).\n",
      "Clipping input data to the valid range for imshow with RGB data ([0..1] for floats or [0..255] for integers).\n",
      "Clipping input data to the valid range for imshow with RGB data ([0..1] for floats or [0..255] for integers).\n",
      "Clipping input data to the valid range for imshow with RGB data ([0..1] for floats or [0..255] for integers).\n",
      "Clipping input data to the valid range for imshow with RGB data ([0..1] for floats or [0..255] for integers).\n",
      "Clipping input data to the valid range for imshow with RGB data ([0..1] for floats or [0..255] for integers).\n",
      "Clipping input data to the valid range for imshow with RGB data ([0..1] for floats or [0..255] for integers).\n",
      "Clipping input data to the valid range for imshow with RGB data ([0..1] for floats or [0..255] for integers).\n",
      "Clipping input data to the valid range for imshow with RGB data ([0..1] for floats or [0..255] for integers).\n",
      "Clipping input data to the valid range for imshow with RGB data ([0..1] for floats or [0..255] for integers).\n"
     ]
    },
    {
     "name": "stdout",
     "output_type": "stream",
     "text": [
      "Discriminator Loss: 1.6729741971939802\n",
      "Generator Loss: [0.8559804558753967, 0.8174230456352234, 0.019278712570667267]\n"
     ]
    },
    {
     "name": "stderr",
     "output_type": "stream",
     "text": [
      "Clipping input data to the valid range for imshow with RGB data ([0..1] for floats or [0..255] for integers).\n",
      "Clipping input data to the valid range for imshow with RGB data ([0..1] for floats or [0..255] for integers).\n",
      "Clipping input data to the valid range for imshow with RGB data ([0..1] for floats or [0..255] for integers).\n",
      "Clipping input data to the valid range for imshow with RGB data ([0..1] for floats or [0..255] for integers).\n",
      "Clipping input data to the valid range for imshow with RGB data ([0..1] for floats or [0..255] for integers).\n",
      "Clipping input data to the valid range for imshow with RGB data ([0..1] for floats or [0..255] for integers).\n",
      "Clipping input data to the valid range for imshow with RGB data ([0..1] for floats or [0..255] for integers).\n",
      "Clipping input data to the valid range for imshow with RGB data ([0..1] for floats or [0..255] for integers).\n",
      "Clipping input data to the valid range for imshow with RGB data ([0..1] for floats or [0..255] for integers).\n",
      "Clipping input data to the valid range for imshow with RGB data ([0..1] for floats or [0..255] for integers).\n"
     ]
    },
    {
     "name": "stdout",
     "output_type": "stream",
     "text": [
      "Discriminator Loss: 2.307575668208301\n",
      "Generator Loss: [0.7336495518684387, 0.6914806365966797, 0.021084457635879517]\n"
     ]
    },
    {
     "name": "stderr",
     "output_type": "stream",
     "text": [
      "c:\\users\\lenovo\\appdata\\local\\programs\\python\\python37\\lib\\site-packages\\ipykernel_launcher.py:115: RuntimeWarning: More than 20 figures have been opened. Figures created through the pyplot interface (`matplotlib.pyplot.figure`) are retained until explicitly closed and may consume too much memory. (To control this warning, see the rcParam `figure.max_open_warning`).\n",
      "Clipping input data to the valid range for imshow with RGB data ([0..1] for floats or [0..255] for integers).\n",
      "Clipping input data to the valid range for imshow with RGB data ([0..1] for floats or [0..255] for integers).\n",
      "Clipping input data to the valid range for imshow with RGB data ([0..1] for floats or [0..255] for integers).\n",
      "Clipping input data to the valid range for imshow with RGB data ([0..1] for floats or [0..255] for integers).\n",
      "Clipping input data to the valid range for imshow with RGB data ([0..1] for floats or [0..255] for integers).\n",
      "Clipping input data to the valid range for imshow with RGB data ([0..1] for floats or [0..255] for integers).\n",
      "Clipping input data to the valid range for imshow with RGB data ([0..1] for floats or [0..255] for integers).\n",
      "Clipping input data to the valid range for imshow with RGB data ([0..1] for floats or [0..255] for integers).\n",
      "Clipping input data to the valid range for imshow with RGB data ([0..1] for floats or [0..255] for integers).\n",
      "Clipping input data to the valid range for imshow with RGB data ([0..1] for floats or [0..255] for integers).\n"
     ]
    },
    {
     "name": "stdout",
     "output_type": "stream",
     "text": [
      "Discriminator Loss: 1.478682804852724\n",
      "Generator Loss: [1.0139960050582886, 0.9762146472930908, 0.01889067329466343]\n"
     ]
    },
    {
     "name": "stderr",
     "output_type": "stream",
     "text": [
      "Clipping input data to the valid range for imshow with RGB data ([0..1] for floats or [0..255] for integers).\n",
      "Clipping input data to the valid range for imshow with RGB data ([0..1] for floats or [0..255] for integers).\n",
      "Clipping input data to the valid range for imshow with RGB data ([0..1] for floats or [0..255] for integers).\n",
      "Clipping input data to the valid range for imshow with RGB data ([0..1] for floats or [0..255] for integers).\n",
      "Clipping input data to the valid range for imshow with RGB data ([0..1] for floats or [0..255] for integers).\n",
      "Clipping input data to the valid range for imshow with RGB data ([0..1] for floats or [0..255] for integers).\n",
      "Clipping input data to the valid range for imshow with RGB data ([0..1] for floats or [0..255] for integers).\n",
      "Clipping input data to the valid range for imshow with RGB data ([0..1] for floats or [0..255] for integers).\n",
      "Clipping input data to the valid range for imshow with RGB data ([0..1] for floats or [0..255] for integers).\n",
      "Clipping input data to the valid range for imshow with RGB data ([0..1] for floats or [0..255] for integers).\n"
     ]
    },
    {
     "name": "stdout",
     "output_type": "stream",
     "text": [
      "Discriminator Loss: 1.2383344061672688\n",
      "Generator Loss: [9.803528785705566, 9.769815444946289, 0.01685652695596218]\n"
     ]
    },
    {
     "name": "stderr",
     "output_type": "stream",
     "text": [
      "Clipping input data to the valid range for imshow with RGB data ([0..1] for floats or [0..255] for integers).\n",
      "Clipping input data to the valid range for imshow with RGB data ([0..1] for floats or [0..255] for integers).\n",
      "Clipping input data to the valid range for imshow with RGB data ([0..1] for floats or [0..255] for integers).\n",
      "Clipping input data to the valid range for imshow with RGB data ([0..1] for floats or [0..255] for integers).\n",
      "Clipping input data to the valid range for imshow with RGB data ([0..1] for floats or [0..255] for integers).\n",
      "Clipping input data to the valid range for imshow with RGB data ([0..1] for floats or [0..255] for integers).\n",
      "Clipping input data to the valid range for imshow with RGB data ([0..1] for floats or [0..255] for integers).\n",
      "Clipping input data to the valid range for imshow with RGB data ([0..1] for floats or [0..255] for integers).\n",
      "Clipping input data to the valid range for imshow with RGB data ([0..1] for floats or [0..255] for integers).\n",
      "Clipping input data to the valid range for imshow with RGB data ([0..1] for floats or [0..255] for integers).\n"
     ]
    },
    {
     "name": "stdout",
     "output_type": "stream",
     "text": [
      "Discriminator Loss: 1.3140855776146054\n",
      "Generator Loss: [2.7171006202697754, 2.6856682300567627, 0.015716249123215675]\n"
     ]
    },
    {
     "name": "stderr",
     "output_type": "stream",
     "text": [
      "Clipping input data to the valid range for imshow with RGB data ([0..1] for floats or [0..255] for integers).\n",
      "Clipping input data to the valid range for imshow with RGB data ([0..1] for floats or [0..255] for integers).\n",
      "Clipping input data to the valid range for imshow with RGB data ([0..1] for floats or [0..255] for integers).\n",
      "Clipping input data to the valid range for imshow with RGB data ([0..1] for floats or [0..255] for integers).\n",
      "Clipping input data to the valid range for imshow with RGB data ([0..1] for floats or [0..255] for integers).\n",
      "Clipping input data to the valid range for imshow with RGB data ([0..1] for floats or [0..255] for integers).\n",
      "Clipping input data to the valid range for imshow with RGB data ([0..1] for floats or [0..255] for integers).\n",
      "Clipping input data to the valid range for imshow with RGB data ([0..1] for floats or [0..255] for integers).\n",
      "Clipping input data to the valid range for imshow with RGB data ([0..1] for floats or [0..255] for integers).\n",
      "Clipping input data to the valid range for imshow with RGB data ([0..1] for floats or [0..255] for integers).\n"
     ]
    },
    {
     "name": "stdout",
     "output_type": "stream",
     "text": [
      "Discriminator Loss: 1.1955527453683317\n",
      "Generator Loss: [1.4681050777435303, 1.4425491094589233, 0.012778010219335556]\n"
     ]
    },
    {
     "name": "stderr",
     "output_type": "stream",
     "text": [
      "Clipping input data to the valid range for imshow with RGB data ([0..1] for floats or [0..255] for integers).\n",
      "Clipping input data to the valid range for imshow with RGB data ([0..1] for floats or [0..255] for integers).\n",
      "Clipping input data to the valid range for imshow with RGB data ([0..1] for floats or [0..255] for integers).\n",
      "Clipping input data to the valid range for imshow with RGB data ([0..1] for floats or [0..255] for integers).\n",
      "Clipping input data to the valid range for imshow with RGB data ([0..1] for floats or [0..255] for integers).\n",
      "Clipping input data to the valid range for imshow with RGB data ([0..1] for floats or [0..255] for integers).\n",
      "Clipping input data to the valid range for imshow with RGB data ([0..1] for floats or [0..255] for integers).\n",
      "Clipping input data to the valid range for imshow with RGB data ([0..1] for floats or [0..255] for integers).\n",
      "Clipping input data to the valid range for imshow with RGB data ([0..1] for floats or [0..255] for integers).\n",
      "Clipping input data to the valid range for imshow with RGB data ([0..1] for floats or [0..255] for integers).\n"
     ]
    },
    {
     "name": "stdout",
     "output_type": "stream",
     "text": [
      "Discriminator Loss: 1.05704459361732\n",
      "Generator Loss: [2.314148187637329, 2.250192165374756, 0.03197803348302841]\n"
     ]
    },
    {
     "name": "stderr",
     "output_type": "stream",
     "text": [
      "Clipping input data to the valid range for imshow with RGB data ([0..1] for floats or [0..255] for integers).\n",
      "Clipping input data to the valid range for imshow with RGB data ([0..1] for floats or [0..255] for integers).\n",
      "Clipping input data to the valid range for imshow with RGB data ([0..1] for floats or [0..255] for integers).\n",
      "Clipping input data to the valid range for imshow with RGB data ([0..1] for floats or [0..255] for integers).\n",
      "Clipping input data to the valid range for imshow with RGB data ([0..1] for floats or [0..255] for integers).\n",
      "Clipping input data to the valid range for imshow with RGB data ([0..1] for floats or [0..255] for integers).\n",
      "Clipping input data to the valid range for imshow with RGB data ([0..1] for floats or [0..255] for integers).\n",
      "Clipping input data to the valid range for imshow with RGB data ([0..1] for floats or [0..255] for integers).\n",
      "Clipping input data to the valid range for imshow with RGB data ([0..1] for floats or [0..255] for integers).\n",
      "Clipping input data to the valid range for imshow with RGB data ([0..1] for floats or [0..255] for integers).\n"
     ]
    },
    {
     "name": "stdout",
     "output_type": "stream",
     "text": [
      "Discriminator Loss: 0.9194955009734258\n",
      "Generator Loss: [1.6592633724212646, 1.5704970359802246, 0.04438319802284241]\n"
     ]
    },
    {
     "name": "stderr",
     "output_type": "stream",
     "text": [
      "Clipping input data to the valid range for imshow with RGB data ([0..1] for floats or [0..255] for integers).\n",
      "Clipping input data to the valid range for imshow with RGB data ([0..1] for floats or [0..255] for integers).\n",
      "Clipping input data to the valid range for imshow with RGB data ([0..1] for floats or [0..255] for integers).\n",
      "Clipping input data to the valid range for imshow with RGB data ([0..1] for floats or [0..255] for integers).\n",
      "Clipping input data to the valid range for imshow with RGB data ([0..1] for floats or [0..255] for integers).\n",
      "Clipping input data to the valid range for imshow with RGB data ([0..1] for floats or [0..255] for integers).\n",
      "Clipping input data to the valid range for imshow with RGB data ([0..1] for floats or [0..255] for integers).\n",
      "Clipping input data to the valid range for imshow with RGB data ([0..1] for floats or [0..255] for integers).\n",
      "Clipping input data to the valid range for imshow with RGB data ([0..1] for floats or [0..255] for integers).\n",
      "Clipping input data to the valid range for imshow with RGB data ([0..1] for floats or [0..255] for integers).\n"
     ]
    },
    {
     "name": "stdout",
     "output_type": "stream",
     "text": [
      "Discriminator Loss: 0.8688809238374233\n",
      "Generator Loss: [16.721620559692383, 16.67555809020996, 0.023031406104564667]\n"
     ]
    },
    {
     "name": "stderr",
     "output_type": "stream",
     "text": [
      "Clipping input data to the valid range for imshow with RGB data ([0..1] for floats or [0..255] for integers).\n",
      "Clipping input data to the valid range for imshow with RGB data ([0..1] for floats or [0..255] for integers).\n",
      "Clipping input data to the valid range for imshow with RGB data ([0..1] for floats or [0..255] for integers).\n",
      "Clipping input data to the valid range for imshow with RGB data ([0..1] for floats or [0..255] for integers).\n",
      "Clipping input data to the valid range for imshow with RGB data ([0..1] for floats or [0..255] for integers).\n",
      "Clipping input data to the valid range for imshow with RGB data ([0..1] for floats or [0..255] for integers).\n",
      "Clipping input data to the valid range for imshow with RGB data ([0..1] for floats or [0..255] for integers).\n",
      "Clipping input data to the valid range for imshow with RGB data ([0..1] for floats or [0..255] for integers).\n",
      "Clipping input data to the valid range for imshow with RGB data ([0..1] for floats or [0..255] for integers).\n",
      "Clipping input data to the valid range for imshow with RGB data ([0..1] for floats or [0..255] for integers).\n"
     ]
    },
    {
     "name": "stdout",
     "output_type": "stream",
     "text": [
      "Discriminator Loss: 1.0503613857290475\n",
      "Generator Loss: [4.19828462600708, 4.162642002105713, 0.017821354791522026]\n"
     ]
    },
    {
     "name": "stderr",
     "output_type": "stream",
     "text": [
      "Clipping input data to the valid range for imshow with RGB data ([0..1] for floats or [0..255] for integers).\n",
      "Clipping input data to the valid range for imshow with RGB data ([0..1] for floats or [0..255] for integers).\n",
      "Clipping input data to the valid range for imshow with RGB data ([0..1] for floats or [0..255] for integers).\n",
      "Clipping input data to the valid range for imshow with RGB data ([0..1] for floats or [0..255] for integers).\n",
      "Clipping input data to the valid range for imshow with RGB data ([0..1] for floats or [0..255] for integers).\n",
      "Clipping input data to the valid range for imshow with RGB data ([0..1] for floats or [0..255] for integers).\n",
      "Clipping input data to the valid range for imshow with RGB data ([0..1] for floats or [0..255] for integers).\n",
      "Clipping input data to the valid range for imshow with RGB data ([0..1] for floats or [0..255] for integers).\n",
      "Clipping input data to the valid range for imshow with RGB data ([0..1] for floats or [0..255] for integers).\n",
      "Clipping input data to the valid range for imshow with RGB data ([0..1] for floats or [0..255] for integers).\n"
     ]
    },
    {
     "name": "stdout",
     "output_type": "stream",
     "text": [
      "Discriminator Loss: 0.9357839758740738\n",
      "Generator Loss: [1.2179244756698608, 1.1866810321807861, 0.01562172919511795]\n"
     ]
    },
    {
     "name": "stderr",
     "output_type": "stream",
     "text": [
      "Clipping input data to the valid range for imshow with RGB data ([0..1] for floats or [0..255] for integers).\n",
      "Clipping input data to the valid range for imshow with RGB data ([0..1] for floats or [0..255] for integers).\n",
      "Clipping input data to the valid range for imshow with RGB data ([0..1] for floats or [0..255] for integers).\n",
      "Clipping input data to the valid range for imshow with RGB data ([0..1] for floats or [0..255] for integers).\n",
      "Clipping input data to the valid range for imshow with RGB data ([0..1] for floats or [0..255] for integers).\n",
      "Clipping input data to the valid range for imshow with RGB data ([0..1] for floats or [0..255] for integers).\n",
      "Clipping input data to the valid range for imshow with RGB data ([0..1] for floats or [0..255] for integers).\n",
      "Clipping input data to the valid range for imshow with RGB data ([0..1] for floats or [0..255] for integers).\n",
      "Clipping input data to the valid range for imshow with RGB data ([0..1] for floats or [0..255] for integers).\n",
      "Clipping input data to the valid range for imshow with RGB data ([0..1] for floats or [0..255] for integers).\n"
     ]
    },
    {
     "name": "stdout",
     "output_type": "stream",
     "text": [
      "Discriminator Loss: 0.8858980983495712\n",
      "Generator Loss: [5.192981243133545, 5.162515640258789, 0.01523278746753931]\n"
     ]
    },
    {
     "name": "stderr",
     "output_type": "stream",
     "text": [
      "Clipping input data to the valid range for imshow with RGB data ([0..1] for floats or [0..255] for integers).\n",
      "Clipping input data to the valid range for imshow with RGB data ([0..1] for floats or [0..255] for integers).\n",
      "Clipping input data to the valid range for imshow with RGB data ([0..1] for floats or [0..255] for integers).\n",
      "Clipping input data to the valid range for imshow with RGB data ([0..1] for floats or [0..255] for integers).\n",
      "Clipping input data to the valid range for imshow with RGB data ([0..1] for floats or [0..255] for integers).\n",
      "Clipping input data to the valid range for imshow with RGB data ([0..1] for floats or [0..255] for integers).\n",
      "Clipping input data to the valid range for imshow with RGB data ([0..1] for floats or [0..255] for integers).\n",
      "Clipping input data to the valid range for imshow with RGB data ([0..1] for floats or [0..255] for integers).\n",
      "Clipping input data to the valid range for imshow with RGB data ([0..1] for floats or [0..255] for integers).\n",
      "Clipping input data to the valid range for imshow with RGB data ([0..1] for floats or [0..255] for integers).\n"
     ]
    },
    {
     "name": "stdout",
     "output_type": "stream",
     "text": [
      "Discriminator Loss: 0.8907611850154353\n",
      "Generator Loss: [1.8530761003494263, 1.8219698667526245, 0.01555311493575573]\n"
     ]
    },
    {
     "name": "stderr",
     "output_type": "stream",
     "text": [
      "Clipping input data to the valid range for imshow with RGB data ([0..1] for floats or [0..255] for integers).\n",
      "Clipping input data to the valid range for imshow with RGB data ([0..1] for floats or [0..255] for integers).\n",
      "Clipping input data to the valid range for imshow with RGB data ([0..1] for floats or [0..255] for integers).\n",
      "Clipping input data to the valid range for imshow with RGB data ([0..1] for floats or [0..255] for integers).\n",
      "Clipping input data to the valid range for imshow with RGB data ([0..1] for floats or [0..255] for integers).\n",
      "Clipping input data to the valid range for imshow with RGB data ([0..1] for floats or [0..255] for integers).\n",
      "Clipping input data to the valid range for imshow with RGB data ([0..1] for floats or [0..255] for integers).\n",
      "Clipping input data to the valid range for imshow with RGB data ([0..1] for floats or [0..255] for integers).\n",
      "Clipping input data to the valid range for imshow with RGB data ([0..1] for floats or [0..255] for integers).\n",
      "Clipping input data to the valid range for imshow with RGB data ([0..1] for floats or [0..255] for integers).\n"
     ]
    },
    {
     "name": "stdout",
     "output_type": "stream",
     "text": [
      "Discriminator Loss: 0.8502250541350804\n",
      "Generator Loss: [1.9934537410736084, 1.9443719387054443, 0.02454087883234024]\n"
     ]
    },
    {
     "name": "stderr",
     "output_type": "stream",
     "text": [
      "Clipping input data to the valid range for imshow with RGB data ([0..1] for floats or [0..255] for integers).\n",
      "Clipping input data to the valid range for imshow with RGB data ([0..1] for floats or [0..255] for integers).\n",
      "Clipping input data to the valid range for imshow with RGB data ([0..1] for floats or [0..255] for integers).\n",
      "Clipping input data to the valid range for imshow with RGB data ([0..1] for floats or [0..255] for integers).\n",
      "Clipping input data to the valid range for imshow with RGB data ([0..1] for floats or [0..255] for integers).\n",
      "Clipping input data to the valid range for imshow with RGB data ([0..1] for floats or [0..255] for integers).\n",
      "Clipping input data to the valid range for imshow with RGB data ([0..1] for floats or [0..255] for integers).\n",
      "Clipping input data to the valid range for imshow with RGB data ([0..1] for floats or [0..255] for integers).\n",
      "Clipping input data to the valid range for imshow with RGB data ([0..1] for floats or [0..255] for integers).\n",
      "Clipping input data to the valid range for imshow with RGB data ([0..1] for floats or [0..255] for integers).\n"
     ]
    },
    {
     "name": "stdout",
     "output_type": "stream",
     "text": [
      "Discriminator Loss: 0.8344345653022174\n",
      "Generator Loss: [1.3982075452804565, 1.3587796688079834, 0.019713953137397766]\n"
     ]
    },
    {
     "name": "stderr",
     "output_type": "stream",
     "text": [
      "Clipping input data to the valid range for imshow with RGB data ([0..1] for floats or [0..255] for integers).\n",
      "Clipping input data to the valid range for imshow with RGB data ([0..1] for floats or [0..255] for integers).\n",
      "Clipping input data to the valid range for imshow with RGB data ([0..1] for floats or [0..255] for integers).\n",
      "Clipping input data to the valid range for imshow with RGB data ([0..1] for floats or [0..255] for integers).\n",
      "Clipping input data to the valid range for imshow with RGB data ([0..1] for floats or [0..255] for integers).\n",
      "Clipping input data to the valid range for imshow with RGB data ([0..1] for floats or [0..255] for integers).\n",
      "Clipping input data to the valid range for imshow with RGB data ([0..1] for floats or [0..255] for integers).\n",
      "Clipping input data to the valid range for imshow with RGB data ([0..1] for floats or [0..255] for integers).\n",
      "Clipping input data to the valid range for imshow with RGB data ([0..1] for floats or [0..255] for integers).\n",
      "Clipping input data to the valid range for imshow with RGB data ([0..1] for floats or [0..255] for integers).\n"
     ]
    },
    {
     "name": "stdout",
     "output_type": "stream",
     "text": [
      "Discriminator Loss: 0.8061179636279121\n",
      "Generator Loss: [0.622081458568573, 0.5929521322250366, 0.01456467155367136]\n"
     ]
    },
    {
     "name": "stderr",
     "output_type": "stream",
     "text": [
      "Clipping input data to the valid range for imshow with RGB data ([0..1] for floats or [0..255] for integers).\n",
      "Clipping input data to the valid range for imshow with RGB data ([0..1] for floats or [0..255] for integers).\n",
      "Clipping input data to the valid range for imshow with RGB data ([0..1] for floats or [0..255] for integers).\n",
      "Clipping input data to the valid range for imshow with RGB data ([0..1] for floats or [0..255] for integers).\n",
      "Clipping input data to the valid range for imshow with RGB data ([0..1] for floats or [0..255] for integers).\n",
      "Clipping input data to the valid range for imshow with RGB data ([0..1] for floats or [0..255] for integers).\n",
      "Clipping input data to the valid range for imshow with RGB data ([0..1] for floats or [0..255] for integers).\n",
      "Clipping input data to the valid range for imshow with RGB data ([0..1] for floats or [0..255] for integers).\n",
      "Clipping input data to the valid range for imshow with RGB data ([0..1] for floats or [0..255] for integers).\n",
      "Clipping input data to the valid range for imshow with RGB data ([0..1] for floats or [0..255] for integers).\n"
     ]
    },
    {
     "name": "stdout",
     "output_type": "stream",
     "text": [
      "Discriminator Loss: 0.7993853725638473\n",
      "Generator Loss: [0.8528047204017639, 0.829993724822998, 0.01140551082789898]\n"
     ]
    },
    {
     "name": "stderr",
     "output_type": "stream",
     "text": [
      "Clipping input data to the valid range for imshow with RGB data ([0..1] for floats or [0..255] for integers).\n",
      "Clipping input data to the valid range for imshow with RGB data ([0..1] for floats or [0..255] for integers).\n",
      "Clipping input data to the valid range for imshow with RGB data ([0..1] for floats or [0..255] for integers).\n",
      "Clipping input data to the valid range for imshow with RGB data ([0..1] for floats or [0..255] for integers).\n",
      "Clipping input data to the valid range for imshow with RGB data ([0..1] for floats or [0..255] for integers).\n",
      "Clipping input data to the valid range for imshow with RGB data ([0..1] for floats or [0..255] for integers).\n",
      "Clipping input data to the valid range for imshow with RGB data ([0..1] for floats or [0..255] for integers).\n",
      "Clipping input data to the valid range for imshow with RGB data ([0..1] for floats or [0..255] for integers).\n",
      "Clipping input data to the valid range for imshow with RGB data ([0..1] for floats or [0..255] for integers).\n",
      "Clipping input data to the valid range for imshow with RGB data ([0..1] for floats or [0..255] for integers).\n"
     ]
    },
    {
     "name": "stdout",
     "output_type": "stream",
     "text": [
      "Discriminator Loss: 0.8167351293959655\n",
      "Generator Loss: [0.4128090441226959, 0.38434770703315735, 0.01423066295683384]\n"
     ]
    },
    {
     "name": "stderr",
     "output_type": "stream",
     "text": [
      "Clipping input data to the valid range for imshow with RGB data ([0..1] for floats or [0..255] for integers).\n",
      "Clipping input data to the valid range for imshow with RGB data ([0..1] for floats or [0..255] for integers).\n",
      "Clipping input data to the valid range for imshow with RGB data ([0..1] for floats or [0..255] for integers).\n",
      "Clipping input data to the valid range for imshow with RGB data ([0..1] for floats or [0..255] for integers).\n",
      "Clipping input data to the valid range for imshow with RGB data ([0..1] for floats or [0..255] for integers).\n",
      "Clipping input data to the valid range for imshow with RGB data ([0..1] for floats or [0..255] for integers).\n",
      "Clipping input data to the valid range for imshow with RGB data ([0..1] for floats or [0..255] for integers).\n",
      "Clipping input data to the valid range for imshow with RGB data ([0..1] for floats or [0..255] for integers).\n",
      "Clipping input data to the valid range for imshow with RGB data ([0..1] for floats or [0..255] for integers).\n",
      "Clipping input data to the valid range for imshow with RGB data ([0..1] for floats or [0..255] for integers).\n"
     ]
    },
    {
     "name": "stdout",
     "output_type": "stream",
     "text": [
      "Discriminator Loss: 0.8151060750242323\n",
      "Generator Loss: [0.46938765048980713, 0.4489324986934662, 0.010227572172880173]\n"
     ]
    },
    {
     "name": "stderr",
     "output_type": "stream",
     "text": [
      "Clipping input data to the valid range for imshow with RGB data ([0..1] for floats or [0..255] for integers).\n",
      "Clipping input data to the valid range for imshow with RGB data ([0..1] for floats or [0..255] for integers).\n",
      "Clipping input data to the valid range for imshow with RGB data ([0..1] for floats or [0..255] for integers).\n",
      "Clipping input data to the valid range for imshow with RGB data ([0..1] for floats or [0..255] for integers).\n",
      "Clipping input data to the valid range for imshow with RGB data ([0..1] for floats or [0..255] for integers).\n",
      "Clipping input data to the valid range for imshow with RGB data ([0..1] for floats or [0..255] for integers).\n",
      "Clipping input data to the valid range for imshow with RGB data ([0..1] for floats or [0..255] for integers).\n",
      "Clipping input data to the valid range for imshow with RGB data ([0..1] for floats or [0..255] for integers).\n",
      "Clipping input data to the valid range for imshow with RGB data ([0..1] for floats or [0..255] for integers).\n",
      "Clipping input data to the valid range for imshow with RGB data ([0..1] for floats or [0..255] for integers).\n"
     ]
    },
    {
     "name": "stdout",
     "output_type": "stream",
     "text": [
      "Discriminator Loss: 0.7350255311466753\n",
      "Generator Loss: [1.1172202825546265, 1.088322639465332, 0.014448808506131172]\n"
     ]
    },
    {
     "name": "stderr",
     "output_type": "stream",
     "text": [
      "Clipping input data to the valid range for imshow with RGB data ([0..1] for floats or [0..255] for integers).\n",
      "Clipping input data to the valid range for imshow with RGB data ([0..1] for floats or [0..255] for integers).\n",
      "Clipping input data to the valid range for imshow with RGB data ([0..1] for floats or [0..255] for integers).\n",
      "Clipping input data to the valid range for imshow with RGB data ([0..1] for floats or [0..255] for integers).\n",
      "Clipping input data to the valid range for imshow with RGB data ([0..1] for floats or [0..255] for integers).\n",
      "Clipping input data to the valid range for imshow with RGB data ([0..1] for floats or [0..255] for integers).\n",
      "Clipping input data to the valid range for imshow with RGB data ([0..1] for floats or [0..255] for integers).\n",
      "Clipping input data to the valid range for imshow with RGB data ([0..1] for floats or [0..255] for integers).\n",
      "Clipping input data to the valid range for imshow with RGB data ([0..1] for floats or [0..255] for integers).\n",
      "Clipping input data to the valid range for imshow with RGB data ([0..1] for floats or [0..255] for integers).\n"
     ]
    },
    {
     "name": "stdout",
     "output_type": "stream",
     "text": [
      "Discriminator Loss: 0.8446482717990875\n",
      "Generator Loss: [2.1500651836395264, 2.124587059020996, 0.012739015743136406]\n"
     ]
    },
    {
     "name": "stderr",
     "output_type": "stream",
     "text": [
      "Clipping input data to the valid range for imshow with RGB data ([0..1] for floats or [0..255] for integers).\n",
      "Clipping input data to the valid range for imshow with RGB data ([0..1] for floats or [0..255] for integers).\n",
      "Clipping input data to the valid range for imshow with RGB data ([0..1] for floats or [0..255] for integers).\n",
      "Clipping input data to the valid range for imshow with RGB data ([0..1] for floats or [0..255] for integers).\n",
      "Clipping input data to the valid range for imshow with RGB data ([0..1] for floats or [0..255] for integers).\n",
      "Clipping input data to the valid range for imshow with RGB data ([0..1] for floats or [0..255] for integers).\n",
      "Clipping input data to the valid range for imshow with RGB data ([0..1] for floats or [0..255] for integers).\n",
      "Clipping input data to the valid range for imshow with RGB data ([0..1] for floats or [0..255] for integers).\n",
      "Clipping input data to the valid range for imshow with RGB data ([0..1] for floats or [0..255] for integers).\n",
      "Clipping input data to the valid range for imshow with RGB data ([0..1] for floats or [0..255] for integers).\n"
     ]
    },
    {
     "name": "stdout",
     "output_type": "stream",
     "text": [
      "Discriminator Loss: 0.78323404546245\n",
      "Generator Loss: [0.6675587296485901, 0.6454278826713562, 0.011065417900681496]\n"
     ]
    },
    {
     "name": "stderr",
     "output_type": "stream",
     "text": [
      "Clipping input data to the valid range for imshow with RGB data ([0..1] for floats or [0..255] for integers).\n",
      "Clipping input data to the valid range for imshow with RGB data ([0..1] for floats or [0..255] for integers).\n",
      "Clipping input data to the valid range for imshow with RGB data ([0..1] for floats or [0..255] for integers).\n",
      "Clipping input data to the valid range for imshow with RGB data ([0..1] for floats or [0..255] for integers).\n",
      "Clipping input data to the valid range for imshow with RGB data ([0..1] for floats or [0..255] for integers).\n",
      "Clipping input data to the valid range for imshow with RGB data ([0..1] for floats or [0..255] for integers).\n",
      "Clipping input data to the valid range for imshow with RGB data ([0..1] for floats or [0..255] for integers).\n",
      "Clipping input data to the valid range for imshow with RGB data ([0..1] for floats or [0..255] for integers).\n",
      "Clipping input data to the valid range for imshow with RGB data ([0..1] for floats or [0..255] for integers).\n",
      "Clipping input data to the valid range for imshow with RGB data ([0..1] for floats or [0..255] for integers).\n"
     ]
    },
    {
     "name": "stdout",
     "output_type": "stream",
     "text": [
      "Discriminator Loss: 0.7193179747359864\n",
      "Generator Loss: [2.453465223312378, 2.4225897789001465, 0.015437750145792961]\n"
     ]
    },
    {
     "name": "stderr",
     "output_type": "stream",
     "text": [
      "Clipping input data to the valid range for imshow with RGB data ([0..1] for floats or [0..255] for integers).\n",
      "Clipping input data to the valid range for imshow with RGB data ([0..1] for floats or [0..255] for integers).\n",
      "Clipping input data to the valid range for imshow with RGB data ([0..1] for floats or [0..255] for integers).\n",
      "Clipping input data to the valid range for imshow with RGB data ([0..1] for floats or [0..255] for integers).\n",
      "Clipping input data to the valid range for imshow with RGB data ([0..1] for floats or [0..255] for integers).\n",
      "Clipping input data to the valid range for imshow with RGB data ([0..1] for floats or [0..255] for integers).\n",
      "Clipping input data to the valid range for imshow with RGB data ([0..1] for floats or [0..255] for integers).\n",
      "Clipping input data to the valid range for imshow with RGB data ([0..1] for floats or [0..255] for integers).\n",
      "Clipping input data to the valid range for imshow with RGB data ([0..1] for floats or [0..255] for integers).\n",
      "Clipping input data to the valid range for imshow with RGB data ([0..1] for floats or [0..255] for integers).\n"
     ]
    },
    {
     "name": "stdout",
     "output_type": "stream",
     "text": [
      "Discriminator Loss: 0.7838602687288585\n",
      "Generator Loss: [0.6218461394309998, 0.5900561809539795, 0.015894977375864983]\n"
     ]
    },
    {
     "name": "stderr",
     "output_type": "stream",
     "text": [
      "Clipping input data to the valid range for imshow with RGB data ([0..1] for floats or [0..255] for integers).\n",
      "Clipping input data to the valid range for imshow with RGB data ([0..1] for floats or [0..255] for integers).\n",
      "Clipping input data to the valid range for imshow with RGB data ([0..1] for floats or [0..255] for integers).\n",
      "Clipping input data to the valid range for imshow with RGB data ([0..1] for floats or [0..255] for integers).\n",
      "Clipping input data to the valid range for imshow with RGB data ([0..1] for floats or [0..255] for integers).\n",
      "Clipping input data to the valid range for imshow with RGB data ([0..1] for floats or [0..255] for integers).\n",
      "Clipping input data to the valid range for imshow with RGB data ([0..1] for floats or [0..255] for integers).\n",
      "Clipping input data to the valid range for imshow with RGB data ([0..1] for floats or [0..255] for integers).\n",
      "Clipping input data to the valid range for imshow with RGB data ([0..1] for floats or [0..255] for integers).\n",
      "Clipping input data to the valid range for imshow with RGB data ([0..1] for floats or [0..255] for integers).\n"
     ]
    },
    {
     "name": "stdout",
     "output_type": "stream",
     "text": [
      "Discriminator Loss: 0.7123920822323271\n",
      "Generator Loss: [0.45450276136398315, 0.42421412467956543, 0.015144319273531437]\n"
     ]
    },
    {
     "name": "stderr",
     "output_type": "stream",
     "text": [
      "Clipping input data to the valid range for imshow with RGB data ([0..1] for floats or [0..255] for integers).\n",
      "Clipping input data to the valid range for imshow with RGB data ([0..1] for floats or [0..255] for integers).\n",
      "Clipping input data to the valid range for imshow with RGB data ([0..1] for floats or [0..255] for integers).\n",
      "Clipping input data to the valid range for imshow with RGB data ([0..1] for floats or [0..255] for integers).\n",
      "Clipping input data to the valid range for imshow with RGB data ([0..1] for floats or [0..255] for integers).\n",
      "Clipping input data to the valid range for imshow with RGB data ([0..1] for floats or [0..255] for integers).\n",
      "Clipping input data to the valid range for imshow with RGB data ([0..1] for floats or [0..255] for integers).\n",
      "Clipping input data to the valid range for imshow with RGB data ([0..1] for floats or [0..255] for integers).\n",
      "Clipping input data to the valid range for imshow with RGB data ([0..1] for floats or [0..255] for integers).\n",
      "Clipping input data to the valid range for imshow with RGB data ([0..1] for floats or [0..255] for integers).\n"
     ]
    },
    {
     "name": "stdout",
     "output_type": "stream",
     "text": [
      "Discriminator Loss: 0.8065722453975468\n",
      "Generator Loss: [0.4071749448776245, 0.38288766145706177, 0.012143634259700775]\n"
     ]
    },
    {
     "name": "stderr",
     "output_type": "stream",
     "text": [
      "Clipping input data to the valid range for imshow with RGB data ([0..1] for floats or [0..255] for integers).\n",
      "Clipping input data to the valid range for imshow with RGB data ([0..1] for floats or [0..255] for integers).\n",
      "Clipping input data to the valid range for imshow with RGB data ([0..1] for floats or [0..255] for integers).\n",
      "Clipping input data to the valid range for imshow with RGB data ([0..1] for floats or [0..255] for integers).\n",
      "Clipping input data to the valid range for imshow with RGB data ([0..1] for floats or [0..255] for integers).\n",
      "Clipping input data to the valid range for imshow with RGB data ([0..1] for floats or [0..255] for integers).\n",
      "Clipping input data to the valid range for imshow with RGB data ([0..1] for floats or [0..255] for integers).\n",
      "Clipping input data to the valid range for imshow with RGB data ([0..1] for floats or [0..255] for integers).\n",
      "Clipping input data to the valid range for imshow with RGB data ([0..1] for floats or [0..255] for integers).\n",
      "Clipping input data to the valid range for imshow with RGB data ([0..1] for floats or [0..255] for integers).\n"
     ]
    },
    {
     "name": "stdout",
     "output_type": "stream",
     "text": [
      "Discriminator Loss: 0.6788775428722147\n",
      "Generator Loss: [0.7336193919181824, 0.6888527274131775, 0.022383321076631546]\n"
     ]
    },
    {
     "name": "stderr",
     "output_type": "stream",
     "text": [
      "Clipping input data to the valid range for imshow with RGB data ([0..1] for floats or [0..255] for integers).\n",
      "Clipping input data to the valid range for imshow with RGB data ([0..1] for floats or [0..255] for integers).\n",
      "Clipping input data to the valid range for imshow with RGB data ([0..1] for floats or [0..255] for integers).\n",
      "Clipping input data to the valid range for imshow with RGB data ([0..1] for floats or [0..255] for integers).\n",
      "Clipping input data to the valid range for imshow with RGB data ([0..1] for floats or [0..255] for integers).\n",
      "Clipping input data to the valid range for imshow with RGB data ([0..1] for floats or [0..255] for integers).\n",
      "Clipping input data to the valid range for imshow with RGB data ([0..1] for floats or [0..255] for integers).\n",
      "Clipping input data to the valid range for imshow with RGB data ([0..1] for floats or [0..255] for integers).\n",
      "Clipping input data to the valid range for imshow with RGB data ([0..1] for floats or [0..255] for integers).\n",
      "Clipping input data to the valid range for imshow with RGB data ([0..1] for floats or [0..255] for integers).\n"
     ]
    },
    {
     "name": "stdout",
     "output_type": "stream",
     "text": [
      "Discriminator Loss: 0.7012777812124114\n",
      "Generator Loss: [0.3818764090538025, 0.34759747982025146, 0.017139459028840065]\n"
     ]
    },
    {
     "name": "stderr",
     "output_type": "stream",
     "text": [
      "Clipping input data to the valid range for imshow with RGB data ([0..1] for floats or [0..255] for integers).\n",
      "Clipping input data to the valid range for imshow with RGB data ([0..1] for floats or [0..255] for integers).\n",
      "Clipping input data to the valid range for imshow with RGB data ([0..1] for floats or [0..255] for integers).\n",
      "Clipping input data to the valid range for imshow with RGB data ([0..1] for floats or [0..255] for integers).\n",
      "Clipping input data to the valid range for imshow with RGB data ([0..1] for floats or [0..255] for integers).\n",
      "Clipping input data to the valid range for imshow with RGB data ([0..1] for floats or [0..255] for integers).\n",
      "Clipping input data to the valid range for imshow with RGB data ([0..1] for floats or [0..255] for integers).\n",
      "Clipping input data to the valid range for imshow with RGB data ([0..1] for floats or [0..255] for integers).\n",
      "Clipping input data to the valid range for imshow with RGB data ([0..1] for floats or [0..255] for integers).\n",
      "Clipping input data to the valid range for imshow with RGB data ([0..1] for floats or [0..255] for integers).\n"
     ]
    },
    {
     "name": "stdout",
     "output_type": "stream",
     "text": [
      "Discriminator Loss: 0.7177956685627578\n",
      "Generator Loss: [0.4116794168949127, 0.38099974393844604, 0.015339831821620464]\n"
     ]
    },
    {
     "name": "stderr",
     "output_type": "stream",
     "text": [
      "Clipping input data to the valid range for imshow with RGB data ([0..1] for floats or [0..255] for integers).\n",
      "Clipping input data to the valid range for imshow with RGB data ([0..1] for floats or [0..255] for integers).\n",
      "Clipping input data to the valid range for imshow with RGB data ([0..1] for floats or [0..255] for integers).\n",
      "Clipping input data to the valid range for imshow with RGB data ([0..1] for floats or [0..255] for integers).\n",
      "Clipping input data to the valid range for imshow with RGB data ([0..1] for floats or [0..255] for integers).\n",
      "Clipping input data to the valid range for imshow with RGB data ([0..1] for floats or [0..255] for integers).\n",
      "Clipping input data to the valid range for imshow with RGB data ([0..1] for floats or [0..255] for integers).\n",
      "Clipping input data to the valid range for imshow with RGB data ([0..1] for floats or [0..255] for integers).\n",
      "Clipping input data to the valid range for imshow with RGB data ([0..1] for floats or [0..255] for integers).\n",
      "Clipping input data to the valid range for imshow with RGB data ([0..1] for floats or [0..255] for integers).\n"
     ]
    },
    {
     "name": "stdout",
     "output_type": "stream",
     "text": [
      "Discriminator Loss: 0.6763002556981519\n",
      "Generator Loss: [0.38250598311424255, 0.3536336421966553, 0.01443617045879364]\n"
     ]
    },
    {
     "name": "stderr",
     "output_type": "stream",
     "text": [
      "Clipping input data to the valid range for imshow with RGB data ([0..1] for floats or [0..255] for integers).\n",
      "Clipping input data to the valid range for imshow with RGB data ([0..1] for floats or [0..255] for integers).\n",
      "Clipping input data to the valid range for imshow with RGB data ([0..1] for floats or [0..255] for integers).\n",
      "Clipping input data to the valid range for imshow with RGB data ([0..1] for floats or [0..255] for integers).\n",
      "Clipping input data to the valid range for imshow with RGB data ([0..1] for floats or [0..255] for integers).\n",
      "Clipping input data to the valid range for imshow with RGB data ([0..1] for floats or [0..255] for integers).\n",
      "Clipping input data to the valid range for imshow with RGB data ([0..1] for floats or [0..255] for integers).\n",
      "Clipping input data to the valid range for imshow with RGB data ([0..1] for floats or [0..255] for integers).\n",
      "Clipping input data to the valid range for imshow with RGB data ([0..1] for floats or [0..255] for integers).\n",
      "Clipping input data to the valid range for imshow with RGB data ([0..1] for floats or [0..255] for integers).\n"
     ]
    },
    {
     "name": "stdout",
     "output_type": "stream",
     "text": [
      "Discriminator Loss: 0.7380214385048021\n",
      "Generator Loss: [0.48162582516670227, 0.43923094868659973, 0.02119743451476097]\n"
     ]
    },
    {
     "name": "stderr",
     "output_type": "stream",
     "text": [
      "Clipping input data to the valid range for imshow with RGB data ([0..1] for floats or [0..255] for integers).\n",
      "Clipping input data to the valid range for imshow with RGB data ([0..1] for floats or [0..255] for integers).\n",
      "Clipping input data to the valid range for imshow with RGB data ([0..1] for floats or [0..255] for integers).\n",
      "Clipping input data to the valid range for imshow with RGB data ([0..1] for floats or [0..255] for integers).\n",
      "Clipping input data to the valid range for imshow with RGB data ([0..1] for floats or [0..255] for integers).\n",
      "Clipping input data to the valid range for imshow with RGB data ([0..1] for floats or [0..255] for integers).\n",
      "Clipping input data to the valid range for imshow with RGB data ([0..1] for floats or [0..255] for integers).\n",
      "Clipping input data to the valid range for imshow with RGB data ([0..1] for floats or [0..255] for integers).\n",
      "Clipping input data to the valid range for imshow with RGB data ([0..1] for floats or [0..255] for integers).\n",
      "Clipping input data to the valid range for imshow with RGB data ([0..1] for floats or [0..255] for integers).\n"
     ]
    },
    {
     "name": "stdout",
     "output_type": "stream",
     "text": [
      "Discriminator Loss: 0.6874325345852412\n",
      "Generator Loss: [0.35619860887527466, 0.33009427785873413, 0.01305217295885086]\n"
     ]
    },
    {
     "name": "stderr",
     "output_type": "stream",
     "text": [
      "Clipping input data to the valid range for imshow with RGB data ([0..1] for floats or [0..255] for integers).\n",
      "Clipping input data to the valid range for imshow with RGB data ([0..1] for floats or [0..255] for integers).\n",
      "Clipping input data to the valid range for imshow with RGB data ([0..1] for floats or [0..255] for integers).\n",
      "Clipping input data to the valid range for imshow with RGB data ([0..1] for floats or [0..255] for integers).\n",
      "Clipping input data to the valid range for imshow with RGB data ([0..1] for floats or [0..255] for integers).\n",
      "Clipping input data to the valid range for imshow with RGB data ([0..1] for floats or [0..255] for integers).\n",
      "Clipping input data to the valid range for imshow with RGB data ([0..1] for floats or [0..255] for integers).\n",
      "Clipping input data to the valid range for imshow with RGB data ([0..1] for floats or [0..255] for integers).\n",
      "Clipping input data to the valid range for imshow with RGB data ([0..1] for floats or [0..255] for integers).\n",
      "Clipping input data to the valid range for imshow with RGB data ([0..1] for floats or [0..255] for integers).\n"
     ]
    },
    {
     "name": "stdout",
     "output_type": "stream",
     "text": [
      "Discriminator Loss: 0.6862096659024246\n",
      "Generator Loss: [0.36034491658210754, 0.329947829246521, 0.015198539942502975]\n"
     ]
    },
    {
     "name": "stderr",
     "output_type": "stream",
     "text": [
      "Clipping input data to the valid range for imshow with RGB data ([0..1] for floats or [0..255] for integers).\n",
      "Clipping input data to the valid range for imshow with RGB data ([0..1] for floats or [0..255] for integers).\n",
      "Clipping input data to the valid range for imshow with RGB data ([0..1] for floats or [0..255] for integers).\n",
      "Clipping input data to the valid range for imshow with RGB data ([0..1] for floats or [0..255] for integers).\n",
      "Clipping input data to the valid range for imshow with RGB data ([0..1] for floats or [0..255] for integers).\n",
      "Clipping input data to the valid range for imshow with RGB data ([0..1] for floats or [0..255] for integers).\n",
      "Clipping input data to the valid range for imshow with RGB data ([0..1] for floats or [0..255] for integers).\n",
      "Clipping input data to the valid range for imshow with RGB data ([0..1] for floats or [0..255] for integers).\n",
      "Clipping input data to the valid range for imshow with RGB data ([0..1] for floats or [0..255] for integers).\n",
      "Clipping input data to the valid range for imshow with RGB data ([0..1] for floats or [0..255] for integers).\n"
     ]
    },
    {
     "name": "stdout",
     "output_type": "stream",
     "text": [
      "Discriminator Loss: 0.6801723930984735\n",
      "Generator Loss: [0.37164175510406494, 0.3451771140098572, 0.013232318684458733]\n"
     ]
    },
    {
     "name": "stderr",
     "output_type": "stream",
     "text": [
      "Clipping input data to the valid range for imshow with RGB data ([0..1] for floats or [0..255] for integers).\n",
      "Clipping input data to the valid range for imshow with RGB data ([0..1] for floats or [0..255] for integers).\n",
      "Clipping input data to the valid range for imshow with RGB data ([0..1] for floats or [0..255] for integers).\n",
      "Clipping input data to the valid range for imshow with RGB data ([0..1] for floats or [0..255] for integers).\n",
      "Clipping input data to the valid range for imshow with RGB data ([0..1] for floats or [0..255] for integers).\n",
      "Clipping input data to the valid range for imshow with RGB data ([0..1] for floats or [0..255] for integers).\n",
      "Clipping input data to the valid range for imshow with RGB data ([0..1] for floats or [0..255] for integers).\n",
      "Clipping input data to the valid range for imshow with RGB data ([0..1] for floats or [0..255] for integers).\n",
      "Clipping input data to the valid range for imshow with RGB data ([0..1] for floats or [0..255] for integers).\n",
      "Clipping input data to the valid range for imshow with RGB data ([0..1] for floats or [0..255] for integers).\n"
     ]
    },
    {
     "name": "stdout",
     "output_type": "stream",
     "text": [
      "Discriminator Loss: 0.6811000013622106\n",
      "Generator Loss: [0.35846972465515137, 0.32936587929725647, 0.014551924541592598]\n"
     ]
    },
    {
     "name": "stderr",
     "output_type": "stream",
     "text": [
      "Clipping input data to the valid range for imshow with RGB data ([0..1] for floats or [0..255] for integers).\n",
      "Clipping input data to the valid range for imshow with RGB data ([0..1] for floats or [0..255] for integers).\n",
      "Clipping input data to the valid range for imshow with RGB data ([0..1] for floats or [0..255] for integers).\n",
      "Clipping input data to the valid range for imshow with RGB data ([0..1] for floats or [0..255] for integers).\n",
      "Clipping input data to the valid range for imshow with RGB data ([0..1] for floats or [0..255] for integers).\n",
      "Clipping input data to the valid range for imshow with RGB data ([0..1] for floats or [0..255] for integers).\n",
      "Clipping input data to the valid range for imshow with RGB data ([0..1] for floats or [0..255] for integers).\n",
      "Clipping input data to the valid range for imshow with RGB data ([0..1] for floats or [0..255] for integers).\n",
      "Clipping input data to the valid range for imshow with RGB data ([0..1] for floats or [0..255] for integers).\n",
      "Clipping input data to the valid range for imshow with RGB data ([0..1] for floats or [0..255] for integers).\n"
     ]
    },
    {
     "name": "stdout",
     "output_type": "stream",
     "text": [
      "Discriminator Loss: 0.7045316236326471\n",
      "Generator Loss: [0.3814411461353302, 0.3495226204395294, 0.01595926284790039]\n"
     ]
    },
    {
     "name": "stderr",
     "output_type": "stream",
     "text": [
      "Clipping input data to the valid range for imshow with RGB data ([0..1] for floats or [0..255] for integers).\n",
      "Clipping input data to the valid range for imshow with RGB data ([0..1] for floats or [0..255] for integers).\n",
      "Clipping input data to the valid range for imshow with RGB data ([0..1] for floats or [0..255] for integers).\n",
      "Clipping input data to the valid range for imshow with RGB data ([0..1] for floats or [0..255] for integers).\n",
      "Clipping input data to the valid range for imshow with RGB data ([0..1] for floats or [0..255] for integers).\n",
      "Clipping input data to the valid range for imshow with RGB data ([0..1] for floats or [0..255] for integers).\n",
      "Clipping input data to the valid range for imshow with RGB data ([0..1] for floats or [0..255] for integers).\n",
      "Clipping input data to the valid range for imshow with RGB data ([0..1] for floats or [0..255] for integers).\n",
      "Clipping input data to the valid range for imshow with RGB data ([0..1] for floats or [0..255] for integers).\n",
      "Clipping input data to the valid range for imshow with RGB data ([0..1] for floats or [0..255] for integers).\n"
     ]
    },
    {
     "name": "stdout",
     "output_type": "stream",
     "text": [
      "Discriminator Loss: 0.6831639985612128\n",
      "Generator Loss: [0.3566608130931854, 0.32973888516426086, 0.013460958376526833]\n"
     ]
    },
    {
     "name": "stderr",
     "output_type": "stream",
     "text": [
      "Clipping input data to the valid range for imshow with RGB data ([0..1] for floats or [0..255] for integers).\n",
      "Clipping input data to the valid range for imshow with RGB data ([0..1] for floats or [0..255] for integers).\n",
      "Clipping input data to the valid range for imshow with RGB data ([0..1] for floats or [0..255] for integers).\n",
      "Clipping input data to the valid range for imshow with RGB data ([0..1] for floats or [0..255] for integers).\n",
      "Clipping input data to the valid range for imshow with RGB data ([0..1] for floats or [0..255] for integers).\n",
      "Clipping input data to the valid range for imshow with RGB data ([0..1] for floats or [0..255] for integers).\n",
      "Clipping input data to the valid range for imshow with RGB data ([0..1] for floats or [0..255] for integers).\n",
      "Clipping input data to the valid range for imshow with RGB data ([0..1] for floats or [0..255] for integers).\n",
      "Clipping input data to the valid range for imshow with RGB data ([0..1] for floats or [0..255] for integers).\n",
      "Clipping input data to the valid range for imshow with RGB data ([0..1] for floats or [0..255] for integers).\n"
     ]
    },
    {
     "name": "stdout",
     "output_type": "stream",
     "text": [
      "Discriminator Loss: 0.6909124784870073\n",
      "Generator Loss: [0.36260107159614563, 0.3313007354736328, 0.015650173649191856]\n"
     ]
    },
    {
     "name": "stderr",
     "output_type": "stream",
     "text": [
      "Clipping input data to the valid range for imshow with RGB data ([0..1] for floats or [0..255] for integers).\n",
      "Clipping input data to the valid range for imshow with RGB data ([0..1] for floats or [0..255] for integers).\n",
      "Clipping input data to the valid range for imshow with RGB data ([0..1] for floats or [0..255] for integers).\n",
      "Clipping input data to the valid range for imshow with RGB data ([0..1] for floats or [0..255] for integers).\n",
      "Clipping input data to the valid range for imshow with RGB data ([0..1] for floats or [0..255] for integers).\n",
      "Clipping input data to the valid range for imshow with RGB data ([0..1] for floats or [0..255] for integers).\n",
      "Clipping input data to the valid range for imshow with RGB data ([0..1] for floats or [0..255] for integers).\n",
      "Clipping input data to the valid range for imshow with RGB data ([0..1] for floats or [0..255] for integers).\n",
      "Clipping input data to the valid range for imshow with RGB data ([0..1] for floats or [0..255] for integers).\n",
      "Clipping input data to the valid range for imshow with RGB data ([0..1] for floats or [0..255] for integers).\n"
     ]
    },
    {
     "name": "stdout",
     "output_type": "stream",
     "text": [
      "Discriminator Loss: 0.7256252464139834\n",
      "Generator Loss: [0.35519856214523315, 0.3331363797187805, 0.011031092144548893]\n"
     ]
    },
    {
     "name": "stderr",
     "output_type": "stream",
     "text": [
      "Clipping input data to the valid range for imshow with RGB data ([0..1] for floats or [0..255] for integers).\n",
      "Clipping input data to the valid range for imshow with RGB data ([0..1] for floats or [0..255] for integers).\n",
      "Clipping input data to the valid range for imshow with RGB data ([0..1] for floats or [0..255] for integers).\n",
      "Clipping input data to the valid range for imshow with RGB data ([0..1] for floats or [0..255] for integers).\n",
      "Clipping input data to the valid range for imshow with RGB data ([0..1] for floats or [0..255] for integers).\n",
      "Clipping input data to the valid range for imshow with RGB data ([0..1] for floats or [0..255] for integers).\n",
      "Clipping input data to the valid range for imshow with RGB data ([0..1] for floats or [0..255] for integers).\n",
      "Clipping input data to the valid range for imshow with RGB data ([0..1] for floats or [0..255] for integers).\n",
      "Clipping input data to the valid range for imshow with RGB data ([0..1] for floats or [0..255] for integers).\n",
      "Clipping input data to the valid range for imshow with RGB data ([0..1] for floats or [0..255] for integers).\n"
     ]
    },
    {
     "name": "stdout",
     "output_type": "stream",
     "text": [
      "Discriminator Loss: 0.6411440770607442\n",
      "Generator Loss: [0.3971813917160034, 0.3733804225921631, 0.011900478973984718]\n"
     ]
    },
    {
     "name": "stderr",
     "output_type": "stream",
     "text": [
      "Clipping input data to the valid range for imshow with RGB data ([0..1] for floats or [0..255] for integers).\n",
      "Clipping input data to the valid range for imshow with RGB data ([0..1] for floats or [0..255] for integers).\n",
      "Clipping input data to the valid range for imshow with RGB data ([0..1] for floats or [0..255] for integers).\n",
      "Clipping input data to the valid range for imshow with RGB data ([0..1] for floats or [0..255] for integers).\n",
      "Clipping input data to the valid range for imshow with RGB data ([0..1] for floats or [0..255] for integers).\n",
      "Clipping input data to the valid range for imshow with RGB data ([0..1] for floats or [0..255] for integers).\n",
      "Clipping input data to the valid range for imshow with RGB data ([0..1] for floats or [0..255] for integers).\n",
      "Clipping input data to the valid range for imshow with RGB data ([0..1] for floats or [0..255] for integers).\n",
      "Clipping input data to the valid range for imshow with RGB data ([0..1] for floats or [0..255] for integers).\n",
      "Clipping input data to the valid range for imshow with RGB data ([0..1] for floats or [0..255] for integers).\n"
     ]
    },
    {
     "name": "stdout",
     "output_type": "stream",
     "text": [
      "Discriminator Loss: 0.7144223670475185\n",
      "Generator Loss: [0.37438976764678955, 0.34978729486465454, 0.012301241979002953]\n"
     ]
    },
    {
     "name": "stderr",
     "output_type": "stream",
     "text": [
      "Clipping input data to the valid range for imshow with RGB data ([0..1] for floats or [0..255] for integers).\n",
      "Clipping input data to the valid range for imshow with RGB data ([0..1] for floats or [0..255] for integers).\n",
      "Clipping input data to the valid range for imshow with RGB data ([0..1] for floats or [0..255] for integers).\n",
      "Clipping input data to the valid range for imshow with RGB data ([0..1] for floats or [0..255] for integers).\n",
      "Clipping input data to the valid range for imshow with RGB data ([0..1] for floats or [0..255] for integers).\n",
      "Clipping input data to the valid range for imshow with RGB data ([0..1] for floats or [0..255] for integers).\n",
      "Clipping input data to the valid range for imshow with RGB data ([0..1] for floats or [0..255] for integers).\n",
      "Clipping input data to the valid range for imshow with RGB data ([0..1] for floats or [0..255] for integers).\n",
      "Clipping input data to the valid range for imshow with RGB data ([0..1] for floats or [0..255] for integers).\n",
      "Clipping input data to the valid range for imshow with RGB data ([0..1] for floats or [0..255] for integers).\n"
     ]
    },
    {
     "name": "stdout",
     "output_type": "stream",
     "text": [
      "Discriminator Loss: 0.6418897248222493\n",
      "Generator Loss: [0.38678625226020813, 0.3574329614639282, 0.014676644466817379]\n"
     ]
    },
    {
     "name": "stderr",
     "output_type": "stream",
     "text": [
      "Clipping input data to the valid range for imshow with RGB data ([0..1] for floats or [0..255] for integers).\n",
      "Clipping input data to the valid range for imshow with RGB data ([0..1] for floats or [0..255] for integers).\n",
      "Clipping input data to the valid range for imshow with RGB data ([0..1] for floats or [0..255] for integers).\n",
      "Clipping input data to the valid range for imshow with RGB data ([0..1] for floats or [0..255] for integers).\n",
      "Clipping input data to the valid range for imshow with RGB data ([0..1] for floats or [0..255] for integers).\n",
      "Clipping input data to the valid range for imshow with RGB data ([0..1] for floats or [0..255] for integers).\n",
      "Clipping input data to the valid range for imshow with RGB data ([0..1] for floats or [0..255] for integers).\n",
      "Clipping input data to the valid range for imshow with RGB data ([0..1] for floats or [0..255] for integers).\n",
      "Clipping input data to the valid range for imshow with RGB data ([0..1] for floats or [0..255] for integers).\n",
      "Clipping input data to the valid range for imshow with RGB data ([0..1] for floats or [0..255] for integers).\n"
     ]
    },
    {
     "name": "stdout",
     "output_type": "stream",
     "text": [
      "Discriminator Loss: 0.6440997901372612\n",
      "Generator Loss: [0.3892553448677063, 0.36504942178726196, 0.012102961540222168]\n"
     ]
    },
    {
     "name": "stderr",
     "output_type": "stream",
     "text": [
      "Clipping input data to the valid range for imshow with RGB data ([0..1] for floats or [0..255] for integers).\n",
      "Clipping input data to the valid range for imshow with RGB data ([0..1] for floats or [0..255] for integers).\n",
      "Clipping input data to the valid range for imshow with RGB data ([0..1] for floats or [0..255] for integers).\n",
      "Clipping input data to the valid range for imshow with RGB data ([0..1] for floats or [0..255] for integers).\n",
      "Clipping input data to the valid range for imshow with RGB data ([0..1] for floats or [0..255] for integers).\n",
      "Clipping input data to the valid range for imshow with RGB data ([0..1] for floats or [0..255] for integers).\n",
      "Clipping input data to the valid range for imshow with RGB data ([0..1] for floats or [0..255] for integers).\n",
      "Clipping input data to the valid range for imshow with RGB data ([0..1] for floats or [0..255] for integers).\n",
      "Clipping input data to the valid range for imshow with RGB data ([0..1] for floats or [0..255] for integers).\n",
      "Clipping input data to the valid range for imshow with RGB data ([0..1] for floats or [0..255] for integers).\n"
     ]
    },
    {
     "name": "stdout",
     "output_type": "stream",
     "text": [
      "Discriminator Loss: 0.6296542780473828\n",
      "Generator Loss: [0.520379900932312, 0.4900220036506653, 0.015178934670984745]\n"
     ]
    },
    {
     "name": "stderr",
     "output_type": "stream",
     "text": [
      "Clipping input data to the valid range for imshow with RGB data ([0..1] for floats or [0..255] for integers).\n",
      "Clipping input data to the valid range for imshow with RGB data ([0..1] for floats or [0..255] for integers).\n",
      "Clipping input data to the valid range for imshow with RGB data ([0..1] for floats or [0..255] for integers).\n",
      "Clipping input data to the valid range for imshow with RGB data ([0..1] for floats or [0..255] for integers).\n",
      "Clipping input data to the valid range for imshow with RGB data ([0..1] for floats or [0..255] for integers).\n",
      "Clipping input data to the valid range for imshow with RGB data ([0..1] for floats or [0..255] for integers).\n",
      "Clipping input data to the valid range for imshow with RGB data ([0..1] for floats or [0..255] for integers).\n",
      "Clipping input data to the valid range for imshow with RGB data ([0..1] for floats or [0..255] for integers).\n",
      "Clipping input data to the valid range for imshow with RGB data ([0..1] for floats or [0..255] for integers).\n",
      "Clipping input data to the valid range for imshow with RGB data ([0..1] for floats or [0..255] for integers).\n"
     ]
    },
    {
     "name": "stdout",
     "output_type": "stream",
     "text": [
      "Discriminator Loss: 0.649228953407146\n",
      "Generator Loss: [0.46966761350631714, 0.44221019744873047, 0.013728711754083633]\n"
     ]
    },
    {
     "name": "stderr",
     "output_type": "stream",
     "text": [
      "Clipping input data to the valid range for imshow with RGB data ([0..1] for floats or [0..255] for integers).\n",
      "Clipping input data to the valid range for imshow with RGB data ([0..1] for floats or [0..255] for integers).\n",
      "Clipping input data to the valid range for imshow with RGB data ([0..1] for floats or [0..255] for integers).\n",
      "Clipping input data to the valid range for imshow with RGB data ([0..1] for floats or [0..255] for integers).\n",
      "Clipping input data to the valid range for imshow with RGB data ([0..1] for floats or [0..255] for integers).\n",
      "Clipping input data to the valid range for imshow with RGB data ([0..1] for floats or [0..255] for integers).\n",
      "Clipping input data to the valid range for imshow with RGB data ([0..1] for floats or [0..255] for integers).\n",
      "Clipping input data to the valid range for imshow with RGB data ([0..1] for floats or [0..255] for integers).\n",
      "Clipping input data to the valid range for imshow with RGB data ([0..1] for floats or [0..255] for integers).\n",
      "Clipping input data to the valid range for imshow with RGB data ([0..1] for floats or [0..255] for integers).\n"
     ]
    },
    {
     "name": "stdout",
     "output_type": "stream",
     "text": [
      "Discriminator Loss: 0.6593728919979185\n",
      "Generator Loss: [0.49492478370666504, 0.46623390913009644, 0.014345429837703705]\n"
     ]
    },
    {
     "name": "stderr",
     "output_type": "stream",
     "text": [
      "Clipping input data to the valid range for imshow with RGB data ([0..1] for floats or [0..255] for integers).\n",
      "Clipping input data to the valid range for imshow with RGB data ([0..1] for floats or [0..255] for integers).\n",
      "Clipping input data to the valid range for imshow with RGB data ([0..1] for floats or [0..255] for integers).\n",
      "Clipping input data to the valid range for imshow with RGB data ([0..1] for floats or [0..255] for integers).\n",
      "Clipping input data to the valid range for imshow with RGB data ([0..1] for floats or [0..255] for integers).\n",
      "Clipping input data to the valid range for imshow with RGB data ([0..1] for floats or [0..255] for integers).\n",
      "Clipping input data to the valid range for imshow with RGB data ([0..1] for floats or [0..255] for integers).\n",
      "Clipping input data to the valid range for imshow with RGB data ([0..1] for floats or [0..255] for integers).\n",
      "Clipping input data to the valid range for imshow with RGB data ([0..1] for floats or [0..255] for integers).\n",
      "Clipping input data to the valid range for imshow with RGB data ([0..1] for floats or [0..255] for integers).\n"
     ]
    },
    {
     "name": "stdout",
     "output_type": "stream",
     "text": [
      "Discriminator Loss: 0.6504926332854666\n",
      "Generator Loss: [0.4765687882900238, 0.4499567151069641, 0.013306042179465294]\n"
     ]
    },
    {
     "name": "stderr",
     "output_type": "stream",
     "text": [
      "Clipping input data to the valid range for imshow with RGB data ([0..1] for floats or [0..255] for integers).\n",
      "Clipping input data to the valid range for imshow with RGB data ([0..1] for floats or [0..255] for integers).\n",
      "Clipping input data to the valid range for imshow with RGB data ([0..1] for floats or [0..255] for integers).\n",
      "Clipping input data to the valid range for imshow with RGB data ([0..1] for floats or [0..255] for integers).\n",
      "Clipping input data to the valid range for imshow with RGB data ([0..1] for floats or [0..255] for integers).\n",
      "Clipping input data to the valid range for imshow with RGB data ([0..1] for floats or [0..255] for integers).\n",
      "Clipping input data to the valid range for imshow with RGB data ([0..1] for floats or [0..255] for integers).\n",
      "Clipping input data to the valid range for imshow with RGB data ([0..1] for floats or [0..255] for integers).\n",
      "Clipping input data to the valid range for imshow with RGB data ([0..1] for floats or [0..255] for integers).\n",
      "Clipping input data to the valid range for imshow with RGB data ([0..1] for floats or [0..255] for integers).\n"
     ]
    },
    {
     "name": "stdout",
     "output_type": "stream",
     "text": [
      "Discriminator Loss: 0.6393580595031381\n",
      "Generator Loss: [0.5294638276100159, 0.4963831901550293, 0.01654030755162239]\n"
     ]
    },
    {
     "name": "stderr",
     "output_type": "stream",
     "text": [
      "Clipping input data to the valid range for imshow with RGB data ([0..1] for floats or [0..255] for integers).\n",
      "Clipping input data to the valid range for imshow with RGB data ([0..1] for floats or [0..255] for integers).\n",
      "Clipping input data to the valid range for imshow with RGB data ([0..1] for floats or [0..255] for integers).\n",
      "Clipping input data to the valid range for imshow with RGB data ([0..1] for floats or [0..255] for integers).\n",
      "Clipping input data to the valid range for imshow with RGB data ([0..1] for floats or [0..255] for integers).\n",
      "Clipping input data to the valid range for imshow with RGB data ([0..1] for floats or [0..255] for integers).\n",
      "Clipping input data to the valid range for imshow with RGB data ([0..1] for floats or [0..255] for integers).\n",
      "Clipping input data to the valid range for imshow with RGB data ([0..1] for floats or [0..255] for integers).\n",
      "Clipping input data to the valid range for imshow with RGB data ([0..1] for floats or [0..255] for integers).\n",
      "Clipping input data to the valid range for imshow with RGB data ([0..1] for floats or [0..255] for integers).\n"
     ]
    },
    {
     "name": "stdout",
     "output_type": "stream",
     "text": [
      "Discriminator Loss: 0.6584386641770834\n",
      "Generator Loss: [0.5512557625770569, 0.5316150784492493, 0.009820343926548958]\n"
     ]
    },
    {
     "name": "stderr",
     "output_type": "stream",
     "text": [
      "Clipping input data to the valid range for imshow with RGB data ([0..1] for floats or [0..255] for integers).\n",
      "Clipping input data to the valid range for imshow with RGB data ([0..1] for floats or [0..255] for integers).\n",
      "Clipping input data to the valid range for imshow with RGB data ([0..1] for floats or [0..255] for integers).\n",
      "Clipping input data to the valid range for imshow with RGB data ([0..1] for floats or [0..255] for integers).\n",
      "Clipping input data to the valid range for imshow with RGB data ([0..1] for floats or [0..255] for integers).\n",
      "Clipping input data to the valid range for imshow with RGB data ([0..1] for floats or [0..255] for integers).\n",
      "Clipping input data to the valid range for imshow with RGB data ([0..1] for floats or [0..255] for integers).\n",
      "Clipping input data to the valid range for imshow with RGB data ([0..1] for floats or [0..255] for integers).\n",
      "Clipping input data to the valid range for imshow with RGB data ([0..1] for floats or [0..255] for integers).\n",
      "Clipping input data to the valid range for imshow with RGB data ([0..1] for floats or [0..255] for integers).\n"
     ]
    },
    {
     "name": "stdout",
     "output_type": "stream",
     "text": [
      "Discriminator Loss: 0.6549294907599688\n",
      "Generator Loss: [0.5054411888122559, 0.48632627725601196, 0.009557446464896202]\n"
     ]
    },
    {
     "name": "stderr",
     "output_type": "stream",
     "text": [
      "Clipping input data to the valid range for imshow with RGB data ([0..1] for floats or [0..255] for integers).\n",
      "Clipping input data to the valid range for imshow with RGB data ([0..1] for floats or [0..255] for integers).\n",
      "Clipping input data to the valid range for imshow with RGB data ([0..1] for floats or [0..255] for integers).\n",
      "Clipping input data to the valid range for imshow with RGB data ([0..1] for floats or [0..255] for integers).\n",
      "Clipping input data to the valid range for imshow with RGB data ([0..1] for floats or [0..255] for integers).\n",
      "Clipping input data to the valid range for imshow with RGB data ([0..1] for floats or [0..255] for integers).\n",
      "Clipping input data to the valid range for imshow with RGB data ([0..1] for floats or [0..255] for integers).\n",
      "Clipping input data to the valid range for imshow with RGB data ([0..1] for floats or [0..255] for integers).\n",
      "Clipping input data to the valid range for imshow with RGB data ([0..1] for floats or [0..255] for integers).\n",
      "Clipping input data to the valid range for imshow with RGB data ([0..1] for floats or [0..255] for integers).\n"
     ]
    },
    {
     "name": "stdout",
     "output_type": "stream",
     "text": [
      "Discriminator Loss: 0.688370973803103\n",
      "Generator Loss: [0.5154533386230469, 0.5009227991104126, 0.007265279069542885]\n"
     ]
    },
    {
     "name": "stderr",
     "output_type": "stream",
     "text": [
      "Clipping input data to the valid range for imshow with RGB data ([0..1] for floats or [0..255] for integers).\n",
      "Clipping input data to the valid range for imshow with RGB data ([0..1] for floats or [0..255] for integers).\n",
      "Clipping input data to the valid range for imshow with RGB data ([0..1] for floats or [0..255] for integers).\n",
      "Clipping input data to the valid range for imshow with RGB data ([0..1] for floats or [0..255] for integers).\n",
      "Clipping input data to the valid range for imshow with RGB data ([0..1] for floats or [0..255] for integers).\n",
      "Clipping input data to the valid range for imshow with RGB data ([0..1] for floats or [0..255] for integers).\n",
      "Clipping input data to the valid range for imshow with RGB data ([0..1] for floats or [0..255] for integers).\n",
      "Clipping input data to the valid range for imshow with RGB data ([0..1] for floats or [0..255] for integers).\n",
      "Clipping input data to the valid range for imshow with RGB data ([0..1] for floats or [0..255] for integers).\n",
      "Clipping input data to the valid range for imshow with RGB data ([0..1] for floats or [0..255] for integers).\n"
     ]
    },
    {
     "name": "stdout",
     "output_type": "stream",
     "text": [
      "Discriminator Loss: 0.6381838275119662\n",
      "Generator Loss: [0.4532196819782257, 0.43244263529777527, 0.01038852147758007]\n"
     ]
    },
    {
     "name": "stderr",
     "output_type": "stream",
     "text": [
      "Clipping input data to the valid range for imshow with RGB data ([0..1] for floats or [0..255] for integers).\n",
      "Clipping input data to the valid range for imshow with RGB data ([0..1] for floats or [0..255] for integers).\n",
      "Clipping input data to the valid range for imshow with RGB data ([0..1] for floats or [0..255] for integers).\n",
      "Clipping input data to the valid range for imshow with RGB data ([0..1] for floats or [0..255] for integers).\n",
      "Clipping input data to the valid range for imshow with RGB data ([0..1] for floats or [0..255] for integers).\n",
      "Clipping input data to the valid range for imshow with RGB data ([0..1] for floats or [0..255] for integers).\n",
      "Clipping input data to the valid range for imshow with RGB data ([0..1] for floats or [0..255] for integers).\n",
      "Clipping input data to the valid range for imshow with RGB data ([0..1] for floats or [0..255] for integers).\n",
      "Clipping input data to the valid range for imshow with RGB data ([0..1] for floats or [0..255] for integers).\n",
      "Clipping input data to the valid range for imshow with RGB data ([0..1] for floats or [0..255] for integers).\n"
     ]
    },
    {
     "name": "stdout",
     "output_type": "stream",
     "text": [
      "Discriminator Loss: 0.6599680194631219\n",
      "Generator Loss: [0.46414995193481445, 0.4455852210521698, 0.009282365441322327]\n"
     ]
    },
    {
     "name": "stderr",
     "output_type": "stream",
     "text": [
      "Clipping input data to the valid range for imshow with RGB data ([0..1] for floats or [0..255] for integers).\n",
      "Clipping input data to the valid range for imshow with RGB data ([0..1] for floats or [0..255] for integers).\n",
      "Clipping input data to the valid range for imshow with RGB data ([0..1] for floats or [0..255] for integers).\n",
      "Clipping input data to the valid range for imshow with RGB data ([0..1] for floats or [0..255] for integers).\n",
      "Clipping input data to the valid range for imshow with RGB data ([0..1] for floats or [0..255] for integers).\n",
      "Clipping input data to the valid range for imshow with RGB data ([0..1] for floats or [0..255] for integers).\n",
      "Clipping input data to the valid range for imshow with RGB data ([0..1] for floats or [0..255] for integers).\n",
      "Clipping input data to the valid range for imshow with RGB data ([0..1] for floats or [0..255] for integers).\n",
      "Clipping input data to the valid range for imshow with RGB data ([0..1] for floats or [0..255] for integers).\n",
      "Clipping input data to the valid range for imshow with RGB data ([0..1] for floats or [0..255] for integers).\n"
     ]
    },
    {
     "name": "stdout",
     "output_type": "stream",
     "text": [
      "Discriminator Loss: 0.6163938489335123\n",
      "Generator Loss: [0.5009550452232361, 0.48248130083084106, 0.009236865676939487]\n"
     ]
    },
    {
     "name": "stderr",
     "output_type": "stream",
     "text": [
      "Clipping input data to the valid range for imshow with RGB data ([0..1] for floats or [0..255] for integers).\n",
      "Clipping input data to the valid range for imshow with RGB data ([0..1] for floats or [0..255] for integers).\n",
      "Clipping input data to the valid range for imshow with RGB data ([0..1] for floats or [0..255] for integers).\n",
      "Clipping input data to the valid range for imshow with RGB data ([0..1] for floats or [0..255] for integers).\n",
      "Clipping input data to the valid range for imshow with RGB data ([0..1] for floats or [0..255] for integers).\n",
      "Clipping input data to the valid range for imshow with RGB data ([0..1] for floats or [0..255] for integers).\n",
      "Clipping input data to the valid range for imshow with RGB data ([0..1] for floats or [0..255] for integers).\n",
      "Clipping input data to the valid range for imshow with RGB data ([0..1] for floats or [0..255] for integers).\n",
      "Clipping input data to the valid range for imshow with RGB data ([0..1] for floats or [0..255] for integers).\n",
      "Clipping input data to the valid range for imshow with RGB data ([0..1] for floats or [0..255] for integers).\n"
     ]
    },
    {
     "name": "stdout",
     "output_type": "stream",
     "text": [
      "Discriminator Loss: 0.7235489920713007\n",
      "Generator Loss: [0.6197643280029297, 0.5941553115844727, 0.012804508209228516]\n"
     ]
    },
    {
     "name": "stderr",
     "output_type": "stream",
     "text": [
      "Clipping input data to the valid range for imshow with RGB data ([0..1] for floats or [0..255] for integers).\n",
      "Clipping input data to the valid range for imshow with RGB data ([0..1] for floats or [0..255] for integers).\n",
      "Clipping input data to the valid range for imshow with RGB data ([0..1] for floats or [0..255] for integers).\n",
      "Clipping input data to the valid range for imshow with RGB data ([0..1] for floats or [0..255] for integers).\n",
      "Clipping input data to the valid range for imshow with RGB data ([0..1] for floats or [0..255] for integers).\n",
      "Clipping input data to the valid range for imshow with RGB data ([0..1] for floats or [0..255] for integers).\n",
      "Clipping input data to the valid range for imshow with RGB data ([0..1] for floats or [0..255] for integers).\n",
      "Clipping input data to the valid range for imshow with RGB data ([0..1] for floats or [0..255] for integers).\n",
      "Clipping input data to the valid range for imshow with RGB data ([0..1] for floats or [0..255] for integers).\n",
      "Clipping input data to the valid range for imshow with RGB data ([0..1] for floats or [0..255] for integers).\n"
     ]
    },
    {
     "name": "stdout",
     "output_type": "stream",
     "text": [
      "Discriminator Loss: 0.6466139992699027\n",
      "Generator Loss: [0.6423078775405884, 0.6148545742034912, 0.013726646080613136]\n"
     ]
    },
    {
     "name": "stderr",
     "output_type": "stream",
     "text": [
      "Clipping input data to the valid range for imshow with RGB data ([0..1] for floats or [0..255] for integers).\n",
      "Clipping input data to the valid range for imshow with RGB data ([0..1] for floats or [0..255] for integers).\n",
      "Clipping input data to the valid range for imshow with RGB data ([0..1] for floats or [0..255] for integers).\n",
      "Clipping input data to the valid range for imshow with RGB data ([0..1] for floats or [0..255] for integers).\n",
      "Clipping input data to the valid range for imshow with RGB data ([0..1] for floats or [0..255] for integers).\n",
      "Clipping input data to the valid range for imshow with RGB data ([0..1] for floats or [0..255] for integers).\n",
      "Clipping input data to the valid range for imshow with RGB data ([0..1] for floats or [0..255] for integers).\n",
      "Clipping input data to the valid range for imshow with RGB data ([0..1] for floats or [0..255] for integers).\n",
      "Clipping input data to the valid range for imshow with RGB data ([0..1] for floats or [0..255] for integers).\n",
      "Clipping input data to the valid range for imshow with RGB data ([0..1] for floats or [0..255] for integers).\n"
     ]
    },
    {
     "name": "stdout",
     "output_type": "stream",
     "text": [
      "Discriminator Loss: 0.6340963921975344\n",
      "Generator Loss: [0.6988945603370667, 0.6798137426376343, 0.00954040139913559]\n"
     ]
    },
    {
     "name": "stderr",
     "output_type": "stream",
     "text": [
      "Clipping input data to the valid range for imshow with RGB data ([0..1] for floats or [0..255] for integers).\n",
      "Clipping input data to the valid range for imshow with RGB data ([0..1] for floats or [0..255] for integers).\n",
      "Clipping input data to the valid range for imshow with RGB data ([0..1] for floats or [0..255] for integers).\n",
      "Clipping input data to the valid range for imshow with RGB data ([0..1] for floats or [0..255] for integers).\n",
      "Clipping input data to the valid range for imshow with RGB data ([0..1] for floats or [0..255] for integers).\n",
      "Clipping input data to the valid range for imshow with RGB data ([0..1] for floats or [0..255] for integers).\n",
      "Clipping input data to the valid range for imshow with RGB data ([0..1] for floats or [0..255] for integers).\n",
      "Clipping input data to the valid range for imshow with RGB data ([0..1] for floats or [0..255] for integers).\n",
      "Clipping input data to the valid range for imshow with RGB data ([0..1] for floats or [0..255] for integers).\n",
      "Clipping input data to the valid range for imshow with RGB data ([0..1] for floats or [0..255] for integers).\n"
     ]
    },
    {
     "name": "stdout",
     "output_type": "stream",
     "text": [
      "Discriminator Loss: 0.7069146372377872\n",
      "Generator Loss: [1.948685884475708, 1.93020761013031, 0.009239144623279572]\n"
     ]
    },
    {
     "name": "stderr",
     "output_type": "stream",
     "text": [
      "Clipping input data to the valid range for imshow with RGB data ([0..1] for floats or [0..255] for integers).\n",
      "Clipping input data to the valid range for imshow with RGB data ([0..1] for floats or [0..255] for integers).\n",
      "Clipping input data to the valid range for imshow with RGB data ([0..1] for floats or [0..255] for integers).\n",
      "Clipping input data to the valid range for imshow with RGB data ([0..1] for floats or [0..255] for integers).\n",
      "Clipping input data to the valid range for imshow with RGB data ([0..1] for floats or [0..255] for integers).\n",
      "Clipping input data to the valid range for imshow with RGB data ([0..1] for floats or [0..255] for integers).\n",
      "Clipping input data to the valid range for imshow with RGB data ([0..1] for floats or [0..255] for integers).\n",
      "Clipping input data to the valid range for imshow with RGB data ([0..1] for floats or [0..255] for integers).\n",
      "Clipping input data to the valid range for imshow with RGB data ([0..1] for floats or [0..255] for integers).\n",
      "Clipping input data to the valid range for imshow with RGB data ([0..1] for floats or [0..255] for integers).\n"
     ]
    },
    {
     "name": "stdout",
     "output_type": "stream",
     "text": [
      "Discriminator Loss: 0.7107692155987024\n",
      "Generator Loss: [1.269660472869873, 1.2522931098937988, 0.008683652617037296]\n"
     ]
    },
    {
     "name": "stderr",
     "output_type": "stream",
     "text": [
      "Clipping input data to the valid range for imshow with RGB data ([0..1] for floats or [0..255] for integers).\n",
      "Clipping input data to the valid range for imshow with RGB data ([0..1] for floats or [0..255] for integers).\n",
      "Clipping input data to the valid range for imshow with RGB data ([0..1] for floats or [0..255] for integers).\n",
      "Clipping input data to the valid range for imshow with RGB data ([0..1] for floats or [0..255] for integers).\n",
      "Clipping input data to the valid range for imshow with RGB data ([0..1] for floats or [0..255] for integers).\n",
      "Clipping input data to the valid range for imshow with RGB data ([0..1] for floats or [0..255] for integers).\n",
      "Clipping input data to the valid range for imshow with RGB data ([0..1] for floats or [0..255] for integers).\n",
      "Clipping input data to the valid range for imshow with RGB data ([0..1] for floats or [0..255] for integers).\n",
      "Clipping input data to the valid range for imshow with RGB data ([0..1] for floats or [0..255] for integers).\n",
      "Clipping input data to the valid range for imshow with RGB data ([0..1] for floats or [0..255] for integers).\n"
     ]
    },
    {
     "name": "stdout",
     "output_type": "stream",
     "text": [
      "Discriminator Loss: 0.6866202498786151\n",
      "Generator Loss: [0.9682864546775818, 0.9531943798065186, 0.0075460271909832954]\n"
     ]
    },
    {
     "name": "stderr",
     "output_type": "stream",
     "text": [
      "Clipping input data to the valid range for imshow with RGB data ([0..1] for floats or [0..255] for integers).\n",
      "Clipping input data to the valid range for imshow with RGB data ([0..1] for floats or [0..255] for integers).\n",
      "Clipping input data to the valid range for imshow with RGB data ([0..1] for floats or [0..255] for integers).\n",
      "Clipping input data to the valid range for imshow with RGB data ([0..1] for floats or [0..255] for integers).\n",
      "Clipping input data to the valid range for imshow with RGB data ([0..1] for floats or [0..255] for integers).\n",
      "Clipping input data to the valid range for imshow with RGB data ([0..1] for floats or [0..255] for integers).\n",
      "Clipping input data to the valid range for imshow with RGB data ([0..1] for floats or [0..255] for integers).\n",
      "Clipping input data to the valid range for imshow with RGB data ([0..1] for floats or [0..255] for integers).\n",
      "Clipping input data to the valid range for imshow with RGB data ([0..1] for floats or [0..255] for integers).\n",
      "Clipping input data to the valid range for imshow with RGB data ([0..1] for floats or [0..255] for integers).\n"
     ]
    },
    {
     "name": "stdout",
     "output_type": "stream",
     "text": [
      "Discriminator Loss: 0.6768498085439205\n",
      "Generator Loss: [1.0425950288772583, 1.0295233726501465, 0.006535817869007587]\n"
     ]
    },
    {
     "name": "stderr",
     "output_type": "stream",
     "text": [
      "Clipping input data to the valid range for imshow with RGB data ([0..1] for floats or [0..255] for integers).\n",
      "Clipping input data to the valid range for imshow with RGB data ([0..1] for floats or [0..255] for integers).\n",
      "Clipping input data to the valid range for imshow with RGB data ([0..1] for floats or [0..255] for integers).\n",
      "Clipping input data to the valid range for imshow with RGB data ([0..1] for floats or [0..255] for integers).\n",
      "Clipping input data to the valid range for imshow with RGB data ([0..1] for floats or [0..255] for integers).\n",
      "Clipping input data to the valid range for imshow with RGB data ([0..1] for floats or [0..255] for integers).\n",
      "Clipping input data to the valid range for imshow with RGB data ([0..1] for floats or [0..255] for integers).\n",
      "Clipping input data to the valid range for imshow with RGB data ([0..1] for floats or [0..255] for integers).\n",
      "Clipping input data to the valid range for imshow with RGB data ([0..1] for floats or [0..255] for integers).\n",
      "Clipping input data to the valid range for imshow with RGB data ([0..1] for floats or [0..255] for integers).\n"
     ]
    },
    {
     "name": "stdout",
     "output_type": "stream",
     "text": [
      "Discriminator Loss: 0.6641698035527952\n",
      "Generator Loss: [0.8270543813705444, 0.8122260570526123, 0.007414156571030617]\n"
     ]
    },
    {
     "name": "stderr",
     "output_type": "stream",
     "text": [
      "Clipping input data to the valid range for imshow with RGB data ([0..1] for floats or [0..255] for integers).\n",
      "Clipping input data to the valid range for imshow with RGB data ([0..1] for floats or [0..255] for integers).\n",
      "Clipping input data to the valid range for imshow with RGB data ([0..1] for floats or [0..255] for integers).\n",
      "Clipping input data to the valid range for imshow with RGB data ([0..1] for floats or [0..255] for integers).\n",
      "Clipping input data to the valid range for imshow with RGB data ([0..1] for floats or [0..255] for integers).\n",
      "Clipping input data to the valid range for imshow with RGB data ([0..1] for floats or [0..255] for integers).\n",
      "Clipping input data to the valid range for imshow with RGB data ([0..1] for floats or [0..255] for integers).\n",
      "Clipping input data to the valid range for imshow with RGB data ([0..1] for floats or [0..255] for integers).\n",
      "Clipping input data to the valid range for imshow with RGB data ([0..1] for floats or [0..255] for integers).\n",
      "Clipping input data to the valid range for imshow with RGB data ([0..1] for floats or [0..255] for integers).\n"
     ]
    },
    {
     "name": "stdout",
     "output_type": "stream",
     "text": [
      "Discriminator Loss: 0.6549219284206629\n",
      "Generator Loss: [0.8732336759567261, 0.8576525449752808, 0.007790571078658104]\n"
     ]
    },
    {
     "name": "stderr",
     "output_type": "stream",
     "text": [
      "Clipping input data to the valid range for imshow with RGB data ([0..1] for floats or [0..255] for integers).\n",
      "Clipping input data to the valid range for imshow with RGB data ([0..1] for floats or [0..255] for integers).\n",
      "Clipping input data to the valid range for imshow with RGB data ([0..1] for floats or [0..255] for integers).\n",
      "Clipping input data to the valid range for imshow with RGB data ([0..1] for floats or [0..255] for integers).\n",
      "Clipping input data to the valid range for imshow with RGB data ([0..1] for floats or [0..255] for integers).\n",
      "Clipping input data to the valid range for imshow with RGB data ([0..1] for floats or [0..255] for integers).\n",
      "Clipping input data to the valid range for imshow with RGB data ([0..1] for floats or [0..255] for integers).\n",
      "Clipping input data to the valid range for imshow with RGB data ([0..1] for floats or [0..255] for integers).\n",
      "Clipping input data to the valid range for imshow with RGB data ([0..1] for floats or [0..255] for integers).\n",
      "Clipping input data to the valid range for imshow with RGB data ([0..1] for floats or [0..255] for integers).\n"
     ]
    },
    {
     "name": "stdout",
     "output_type": "stream",
     "text": [
      "Discriminator Loss: 0.6976257981732488\n",
      "Generator Loss: [0.8866333961486816, 0.8679987192153931, 0.00931733101606369]\n"
     ]
    },
    {
     "name": "stderr",
     "output_type": "stream",
     "text": [
      "Clipping input data to the valid range for imshow with RGB data ([0..1] for floats or [0..255] for integers).\n",
      "Clipping input data to the valid range for imshow with RGB data ([0..1] for floats or [0..255] for integers).\n",
      "Clipping input data to the valid range for imshow with RGB data ([0..1] for floats or [0..255] for integers).\n",
      "Clipping input data to the valid range for imshow with RGB data ([0..1] for floats or [0..255] for integers).\n",
      "Clipping input data to the valid range for imshow with RGB data ([0..1] for floats or [0..255] for integers).\n",
      "Clipping input data to the valid range for imshow with RGB data ([0..1] for floats or [0..255] for integers).\n",
      "Clipping input data to the valid range for imshow with RGB data ([0..1] for floats or [0..255] for integers).\n",
      "Clipping input data to the valid range for imshow with RGB data ([0..1] for floats or [0..255] for integers).\n",
      "Clipping input data to the valid range for imshow with RGB data ([0..1] for floats or [0..255] for integers).\n",
      "Clipping input data to the valid range for imshow with RGB data ([0..1] for floats or [0..255] for integers).\n"
     ]
    },
    {
     "name": "stdout",
     "output_type": "stream",
     "text": [
      "Discriminator Loss: 0.6230432861484587\n",
      "Generator Loss: [0.8257302045822144, 0.8101880550384521, 0.007771072443574667]\n"
     ]
    },
    {
     "name": "stderr",
     "output_type": "stream",
     "text": [
      "Clipping input data to the valid range for imshow with RGB data ([0..1] for floats or [0..255] for integers).\n",
      "Clipping input data to the valid range for imshow with RGB data ([0..1] for floats or [0..255] for integers).\n",
      "Clipping input data to the valid range for imshow with RGB data ([0..1] for floats or [0..255] for integers).\n",
      "Clipping input data to the valid range for imshow with RGB data ([0..1] for floats or [0..255] for integers).\n",
      "Clipping input data to the valid range for imshow with RGB data ([0..1] for floats or [0..255] for integers).\n",
      "Clipping input data to the valid range for imshow with RGB data ([0..1] for floats or [0..255] for integers).\n",
      "Clipping input data to the valid range for imshow with RGB data ([0..1] for floats or [0..255] for integers).\n",
      "Clipping input data to the valid range for imshow with RGB data ([0..1] for floats or [0..255] for integers).\n",
      "Clipping input data to the valid range for imshow with RGB data ([0..1] for floats or [0..255] for integers).\n",
      "Clipping input data to the valid range for imshow with RGB data ([0..1] for floats or [0..255] for integers).\n"
     ]
    },
    {
     "name": "stdout",
     "output_type": "stream",
     "text": [
      "Discriminator Loss: 0.7274914467707276\n",
      "Generator Loss: [0.6571617722511292, 0.6444829702377319, 0.006339402869343758]\n"
     ]
    },
    {
     "name": "stderr",
     "output_type": "stream",
     "text": [
      "Clipping input data to the valid range for imshow with RGB data ([0..1] for floats or [0..255] for integers).\n",
      "Clipping input data to the valid range for imshow with RGB data ([0..1] for floats or [0..255] for integers).\n",
      "Clipping input data to the valid range for imshow with RGB data ([0..1] for floats or [0..255] for integers).\n",
      "Clipping input data to the valid range for imshow with RGB data ([0..1] for floats or [0..255] for integers).\n",
      "Clipping input data to the valid range for imshow with RGB data ([0..1] for floats or [0..255] for integers).\n",
      "Clipping input data to the valid range for imshow with RGB data ([0..1] for floats or [0..255] for integers).\n",
      "Clipping input data to the valid range for imshow with RGB data ([0..1] for floats or [0..255] for integers).\n",
      "Clipping input data to the valid range for imshow with RGB data ([0..1] for floats or [0..255] for integers).\n",
      "Clipping input data to the valid range for imshow with RGB data ([0..1] for floats or [0..255] for integers).\n",
      "Clipping input data to the valid range for imshow with RGB data ([0..1] for floats or [0..255] for integers).\n"
     ]
    },
    {
     "name": "stdout",
     "output_type": "stream",
     "text": [
      "Discriminator Loss: 0.6719851642847061\n",
      "Generator Loss: [0.6502306461334229, 0.6353630423545837, 0.007433795370161533]\n"
     ]
    },
    {
     "name": "stderr",
     "output_type": "stream",
     "text": [
      "Clipping input data to the valid range for imshow with RGB data ([0..1] for floats or [0..255] for integers).\n",
      "Clipping input data to the valid range for imshow with RGB data ([0..1] for floats or [0..255] for integers).\n",
      "Clipping input data to the valid range for imshow with RGB data ([0..1] for floats or [0..255] for integers).\n",
      "Clipping input data to the valid range for imshow with RGB data ([0..1] for floats or [0..255] for integers).\n",
      "Clipping input data to the valid range for imshow with RGB data ([0..1] for floats or [0..255] for integers).\n",
      "Clipping input data to the valid range for imshow with RGB data ([0..1] for floats or [0..255] for integers).\n",
      "Clipping input data to the valid range for imshow with RGB data ([0..1] for floats or [0..255] for integers).\n",
      "Clipping input data to the valid range for imshow with RGB data ([0..1] for floats or [0..255] for integers).\n",
      "Clipping input data to the valid range for imshow with RGB data ([0..1] for floats or [0..255] for integers).\n",
      "Clipping input data to the valid range for imshow with RGB data ([0..1] for floats or [0..255] for integers).\n"
     ]
    },
    {
     "name": "stdout",
     "output_type": "stream",
     "text": [
      "Discriminator Loss: 0.6726480736979283\n",
      "Generator Loss: [0.6435895562171936, 0.6329505443572998, 0.0053194984793663025]\n"
     ]
    },
    {
     "name": "stderr",
     "output_type": "stream",
     "text": [
      "Clipping input data to the valid range for imshow with RGB data ([0..1] for floats or [0..255] for integers).\n",
      "Clipping input data to the valid range for imshow with RGB data ([0..1] for floats or [0..255] for integers).\n",
      "Clipping input data to the valid range for imshow with RGB data ([0..1] for floats or [0..255] for integers).\n",
      "Clipping input data to the valid range for imshow with RGB data ([0..1] for floats or [0..255] for integers).\n",
      "Clipping input data to the valid range for imshow with RGB data ([0..1] for floats or [0..255] for integers).\n",
      "Clipping input data to the valid range for imshow with RGB data ([0..1] for floats or [0..255] for integers).\n",
      "Clipping input data to the valid range for imshow with RGB data ([0..1] for floats or [0..255] for integers).\n",
      "Clipping input data to the valid range for imshow with RGB data ([0..1] for floats or [0..255] for integers).\n",
      "Clipping input data to the valid range for imshow with RGB data ([0..1] for floats or [0..255] for integers).\n",
      "Clipping input data to the valid range for imshow with RGB data ([0..1] for floats or [0..255] for integers).\n"
     ]
    },
    {
     "name": "stdout",
     "output_type": "stream",
     "text": [
      "Discriminator Loss: 0.6461087763309479\n",
      "Generator Loss: [0.8161249756813049, 0.8028744459152222, 0.006625264883041382]\n"
     ]
    },
    {
     "name": "stderr",
     "output_type": "stream",
     "text": [
      "Clipping input data to the valid range for imshow with RGB data ([0..1] for floats or [0..255] for integers).\n",
      "Clipping input data to the valid range for imshow with RGB data ([0..1] for floats or [0..255] for integers).\n",
      "Clipping input data to the valid range for imshow with RGB data ([0..1] for floats or [0..255] for integers).\n",
      "Clipping input data to the valid range for imshow with RGB data ([0..1] for floats or [0..255] for integers).\n",
      "Clipping input data to the valid range for imshow with RGB data ([0..1] for floats or [0..255] for integers).\n",
      "Clipping input data to the valid range for imshow with RGB data ([0..1] for floats or [0..255] for integers).\n",
      "Clipping input data to the valid range for imshow with RGB data ([0..1] for floats or [0..255] for integers).\n",
      "Clipping input data to the valid range for imshow with RGB data ([0..1] for floats or [0..255] for integers).\n",
      "Clipping input data to the valid range for imshow with RGB data ([0..1] for floats or [0..255] for integers).\n",
      "Clipping input data to the valid range for imshow with RGB data ([0..1] for floats or [0..255] for integers).\n"
     ]
    },
    {
     "name": "stdout",
     "output_type": "stream",
     "text": [
      "Discriminator Loss: 0.6533883240481373\n",
      "Generator Loss: [0.6702730059623718, 0.6533012390136719, 0.008485876023769379]\n"
     ]
    },
    {
     "name": "stderr",
     "output_type": "stream",
     "text": [
      "Clipping input data to the valid range for imshow with RGB data ([0..1] for floats or [0..255] for integers).\n",
      "Clipping input data to the valid range for imshow with RGB data ([0..1] for floats or [0..255] for integers).\n",
      "Clipping input data to the valid range for imshow with RGB data ([0..1] for floats or [0..255] for integers).\n",
      "Clipping input data to the valid range for imshow with RGB data ([0..1] for floats or [0..255] for integers).\n",
      "Clipping input data to the valid range for imshow with RGB data ([0..1] for floats or [0..255] for integers).\n",
      "Clipping input data to the valid range for imshow with RGB data ([0..1] for floats or [0..255] for integers).\n",
      "Clipping input data to the valid range for imshow with RGB data ([0..1] for floats or [0..255] for integers).\n",
      "Clipping input data to the valid range for imshow with RGB data ([0..1] for floats or [0..255] for integers).\n",
      "Clipping input data to the valid range for imshow with RGB data ([0..1] for floats or [0..255] for integers).\n",
      "Clipping input data to the valid range for imshow with RGB data ([0..1] for floats or [0..255] for integers).\n"
     ]
    },
    {
     "name": "stdout",
     "output_type": "stream",
     "text": [
      "Discriminator Loss: 0.6638660734752193\n",
      "Generator Loss: [0.7152475714683533, 0.7037520408630371, 0.005747757386416197]\n"
     ]
    },
    {
     "name": "stderr",
     "output_type": "stream",
     "text": [
      "Clipping input data to the valid range for imshow with RGB data ([0..1] for floats or [0..255] for integers).\n",
      "Clipping input data to the valid range for imshow with RGB data ([0..1] for floats or [0..255] for integers).\n",
      "Clipping input data to the valid range for imshow with RGB data ([0..1] for floats or [0..255] for integers).\n",
      "Clipping input data to the valid range for imshow with RGB data ([0..1] for floats or [0..255] for integers).\n",
      "Clipping input data to the valid range for imshow with RGB data ([0..1] for floats or [0..255] for integers).\n",
      "Clipping input data to the valid range for imshow with RGB data ([0..1] for floats or [0..255] for integers).\n",
      "Clipping input data to the valid range for imshow with RGB data ([0..1] for floats or [0..255] for integers).\n",
      "Clipping input data to the valid range for imshow with RGB data ([0..1] for floats or [0..255] for integers).\n",
      "Clipping input data to the valid range for imshow with RGB data ([0..1] for floats or [0..255] for integers).\n",
      "Clipping input data to the valid range for imshow with RGB data ([0..1] for floats or [0..255] for integers).\n"
     ]
    },
    {
     "name": "stdout",
     "output_type": "stream",
     "text": [
      "Discriminator Loss: 0.627749863313511\n",
      "Generator Loss: [0.6656475067138672, 0.6509345769882202, 0.00735646765679121]\n"
     ]
    },
    {
     "name": "stderr",
     "output_type": "stream",
     "text": [
      "Clipping input data to the valid range for imshow with RGB data ([0..1] for floats or [0..255] for integers).\n",
      "Clipping input data to the valid range for imshow with RGB data ([0..1] for floats or [0..255] for integers).\n",
      "Clipping input data to the valid range for imshow with RGB data ([0..1] for floats or [0..255] for integers).\n",
      "Clipping input data to the valid range for imshow with RGB data ([0..1] for floats or [0..255] for integers).\n",
      "Clipping input data to the valid range for imshow with RGB data ([0..1] for floats or [0..255] for integers).\n",
      "Clipping input data to the valid range for imshow with RGB data ([0..1] for floats or [0..255] for integers).\n",
      "Clipping input data to the valid range for imshow with RGB data ([0..1] for floats or [0..255] for integers).\n",
      "Clipping input data to the valid range for imshow with RGB data ([0..1] for floats or [0..255] for integers).\n",
      "Clipping input data to the valid range for imshow with RGB data ([0..1] for floats or [0..255] for integers).\n",
      "Clipping input data to the valid range for imshow with RGB data ([0..1] for floats or [0..255] for integers).\n"
     ]
    },
    {
     "name": "stdout",
     "output_type": "stream",
     "text": [
      "Discriminator Loss: 0.6653477261424996\n",
      "Generator Loss: [0.6985064148902893, 0.6847497224807739, 0.006878353655338287]\n"
     ]
    },
    {
     "name": "stderr",
     "output_type": "stream",
     "text": [
      "Clipping input data to the valid range for imshow with RGB data ([0..1] for floats or [0..255] for integers).\n",
      "Clipping input data to the valid range for imshow with RGB data ([0..1] for floats or [0..255] for integers).\n",
      "Clipping input data to the valid range for imshow with RGB data ([0..1] for floats or [0..255] for integers).\n",
      "Clipping input data to the valid range for imshow with RGB data ([0..1] for floats or [0..255] for integers).\n",
      "Clipping input data to the valid range for imshow with RGB data ([0..1] for floats or [0..255] for integers).\n",
      "Clipping input data to the valid range for imshow with RGB data ([0..1] for floats or [0..255] for integers).\n",
      "Clipping input data to the valid range for imshow with RGB data ([0..1] for floats or [0..255] for integers).\n",
      "Clipping input data to the valid range for imshow with RGB data ([0..1] for floats or [0..255] for integers).\n",
      "Clipping input data to the valid range for imshow with RGB data ([0..1] for floats or [0..255] for integers).\n",
      "Clipping input data to the valid range for imshow with RGB data ([0..1] for floats or [0..255] for integers).\n"
     ]
    },
    {
     "name": "stdout",
     "output_type": "stream",
     "text": [
      "Discriminator Loss: 0.64126754575409\n",
      "Generator Loss: [0.623856246471405, 0.6100122928619385, 0.006921988446265459]\n"
     ]
    },
    {
     "name": "stderr",
     "output_type": "stream",
     "text": [
      "Clipping input data to the valid range for imshow with RGB data ([0..1] for floats or [0..255] for integers).\n",
      "Clipping input data to the valid range for imshow with RGB data ([0..1] for floats or [0..255] for integers).\n",
      "Clipping input data to the valid range for imshow with RGB data ([0..1] for floats or [0..255] for integers).\n",
      "Clipping input data to the valid range for imshow with RGB data ([0..1] for floats or [0..255] for integers).\n",
      "Clipping input data to the valid range for imshow with RGB data ([0..1] for floats or [0..255] for integers).\n",
      "Clipping input data to the valid range for imshow with RGB data ([0..1] for floats or [0..255] for integers).\n",
      "Clipping input data to the valid range for imshow with RGB data ([0..1] for floats or [0..255] for integers).\n",
      "Clipping input data to the valid range for imshow with RGB data ([0..1] for floats or [0..255] for integers).\n",
      "Clipping input data to the valid range for imshow with RGB data ([0..1] for floats or [0..255] for integers).\n",
      "Clipping input data to the valid range for imshow with RGB data ([0..1] for floats or [0..255] for integers).\n"
     ]
    },
    {
     "name": "stdout",
     "output_type": "stream",
     "text": [
      "Discriminator Loss: 0.693760643247515\n",
      "Generator Loss: [0.5896444916725159, 0.575250506401062, 0.007197000086307526]\n"
     ]
    },
    {
     "name": "stderr",
     "output_type": "stream",
     "text": [
      "Clipping input data to the valid range for imshow with RGB data ([0..1] for floats or [0..255] for integers).\n",
      "Clipping input data to the valid range for imshow with RGB data ([0..1] for floats or [0..255] for integers).\n",
      "Clipping input data to the valid range for imshow with RGB data ([0..1] for floats or [0..255] for integers).\n",
      "Clipping input data to the valid range for imshow with RGB data ([0..1] for floats or [0..255] for integers).\n",
      "Clipping input data to the valid range for imshow with RGB data ([0..1] for floats or [0..255] for integers).\n",
      "Clipping input data to the valid range for imshow with RGB data ([0..1] for floats or [0..255] for integers).\n",
      "Clipping input data to the valid range for imshow with RGB data ([0..1] for floats or [0..255] for integers).\n",
      "Clipping input data to the valid range for imshow with RGB data ([0..1] for floats or [0..255] for integers).\n",
      "Clipping input data to the valid range for imshow with RGB data ([0..1] for floats or [0..255] for integers).\n",
      "Clipping input data to the valid range for imshow with RGB data ([0..1] for floats or [0..255] for integers).\n"
     ]
    },
    {
     "name": "stdout",
     "output_type": "stream",
     "text": [
      "Discriminator Loss: 0.6176441186107695\n",
      "Generator Loss: [0.6129578351974487, 0.6024671196937561, 0.005245360545814037]\n"
     ]
    },
    {
     "name": "stderr",
     "output_type": "stream",
     "text": [
      "Clipping input data to the valid range for imshow with RGB data ([0..1] for floats or [0..255] for integers).\n",
      "Clipping input data to the valid range for imshow with RGB data ([0..1] for floats or [0..255] for integers).\n",
      "Clipping input data to the valid range for imshow with RGB data ([0..1] for floats or [0..255] for integers).\n",
      "Clipping input data to the valid range for imshow with RGB data ([0..1] for floats or [0..255] for integers).\n",
      "Clipping input data to the valid range for imshow with RGB data ([0..1] for floats or [0..255] for integers).\n",
      "Clipping input data to the valid range for imshow with RGB data ([0..1] for floats or [0..255] for integers).\n",
      "Clipping input data to the valid range for imshow with RGB data ([0..1] for floats or [0..255] for integers).\n",
      "Clipping input data to the valid range for imshow with RGB data ([0..1] for floats or [0..255] for integers).\n",
      "Clipping input data to the valid range for imshow with RGB data ([0..1] for floats or [0..255] for integers).\n",
      "Clipping input data to the valid range for imshow with RGB data ([0..1] for floats or [0..255] for integers).\n"
     ]
    },
    {
     "name": "stdout",
     "output_type": "stream",
     "text": [
      "Discriminator Loss: 0.6433182357286569\n",
      "Generator Loss: [0.6449084281921387, 0.631242036819458, 0.006833194755017757]\n"
     ]
    },
    {
     "name": "stderr",
     "output_type": "stream",
     "text": [
      "Clipping input data to the valid range for imshow with RGB data ([0..1] for floats or [0..255] for integers).\n",
      "Clipping input data to the valid range for imshow with RGB data ([0..1] for floats or [0..255] for integers).\n",
      "Clipping input data to the valid range for imshow with RGB data ([0..1] for floats or [0..255] for integers).\n",
      "Clipping input data to the valid range for imshow with RGB data ([0..1] for floats or [0..255] for integers).\n",
      "Clipping input data to the valid range for imshow with RGB data ([0..1] for floats or [0..255] for integers).\n",
      "Clipping input data to the valid range for imshow with RGB data ([0..1] for floats or [0..255] for integers).\n",
      "Clipping input data to the valid range for imshow with RGB data ([0..1] for floats or [0..255] for integers).\n",
      "Clipping input data to the valid range for imshow with RGB data ([0..1] for floats or [0..255] for integers).\n",
      "Clipping input data to the valid range for imshow with RGB data ([0..1] for floats or [0..255] for integers).\n",
      "Clipping input data to the valid range for imshow with RGB data ([0..1] for floats or [0..255] for integers).\n"
     ]
    },
    {
     "name": "stdout",
     "output_type": "stream",
     "text": [
      "Discriminator Loss: 0.6444500688812695\n",
      "Generator Loss: [0.611035943031311, 0.5979647636413574, 0.006535578519105911]\n"
     ]
    },
    {
     "name": "stderr",
     "output_type": "stream",
     "text": [
      "Clipping input data to the valid range for imshow with RGB data ([0..1] for floats or [0..255] for integers).\n",
      "Clipping input data to the valid range for imshow with RGB data ([0..1] for floats or [0..255] for integers).\n",
      "Clipping input data to the valid range for imshow with RGB data ([0..1] for floats or [0..255] for integers).\n",
      "Clipping input data to the valid range for imshow with RGB data ([0..1] for floats or [0..255] for integers).\n",
      "Clipping input data to the valid range for imshow with RGB data ([0..1] for floats or [0..255] for integers).\n",
      "Clipping input data to the valid range for imshow with RGB data ([0..1] for floats or [0..255] for integers).\n",
      "Clipping input data to the valid range for imshow with RGB data ([0..1] for floats or [0..255] for integers).\n",
      "Clipping input data to the valid range for imshow with RGB data ([0..1] for floats or [0..255] for integers).\n",
      "Clipping input data to the valid range for imshow with RGB data ([0..1] for floats or [0..255] for integers).\n",
      "Clipping input data to the valid range for imshow with RGB data ([0..1] for floats or [0..255] for integers).\n"
     ]
    },
    {
     "name": "stdout",
     "output_type": "stream",
     "text": [
      "Discriminator Loss: 0.6171972341835499\n",
      "Generator Loss: [0.6613538265228271, 0.6493122577667236, 0.006020777393132448]\n"
     ]
    },
    {
     "name": "stderr",
     "output_type": "stream",
     "text": [
      "Clipping input data to the valid range for imshow with RGB data ([0..1] for floats or [0..255] for integers).\n",
      "Clipping input data to the valid range for imshow with RGB data ([0..1] for floats or [0..255] for integers).\n",
      "Clipping input data to the valid range for imshow with RGB data ([0..1] for floats or [0..255] for integers).\n",
      "Clipping input data to the valid range for imshow with RGB data ([0..1] for floats or [0..255] for integers).\n",
      "Clipping input data to the valid range for imshow with RGB data ([0..1] for floats or [0..255] for integers).\n",
      "Clipping input data to the valid range for imshow with RGB data ([0..1] for floats or [0..255] for integers).\n",
      "Clipping input data to the valid range for imshow with RGB data ([0..1] for floats or [0..255] for integers).\n",
      "Clipping input data to the valid range for imshow with RGB data ([0..1] for floats or [0..255] for integers).\n",
      "Clipping input data to the valid range for imshow with RGB data ([0..1] for floats or [0..255] for integers).\n",
      "Clipping input data to the valid range for imshow with RGB data ([0..1] for floats or [0..255] for integers).\n"
     ]
    },
    {
     "name": "stdout",
     "output_type": "stream",
     "text": [
      "Discriminator Loss: 0.6207708552101394\n",
      "Generator Loss: [0.6847808957099915, 0.6696299314498901, 0.007575472816824913]\n"
     ]
    },
    {
     "name": "stderr",
     "output_type": "stream",
     "text": [
      "Clipping input data to the valid range for imshow with RGB data ([0..1] for floats or [0..255] for integers).\n",
      "Clipping input data to the valid range for imshow with RGB data ([0..1] for floats or [0..255] for integers).\n",
      "Clipping input data to the valid range for imshow with RGB data ([0..1] for floats or [0..255] for integers).\n",
      "Clipping input data to the valid range for imshow with RGB data ([0..1] for floats or [0..255] for integers).\n",
      "Clipping input data to the valid range for imshow with RGB data ([0..1] for floats or [0..255] for integers).\n",
      "Clipping input data to the valid range for imshow with RGB data ([0..1] for floats or [0..255] for integers).\n",
      "Clipping input data to the valid range for imshow with RGB data ([0..1] for floats or [0..255] for integers).\n",
      "Clipping input data to the valid range for imshow with RGB data ([0..1] for floats or [0..255] for integers).\n",
      "Clipping input data to the valid range for imshow with RGB data ([0..1] for floats or [0..255] for integers).\n",
      "Clipping input data to the valid range for imshow with RGB data ([0..1] for floats or [0..255] for integers).\n"
     ]
    },
    {
     "name": "stdout",
     "output_type": "stream",
     "text": [
      "Discriminator Loss: 0.6671266087796539\n",
      "Generator Loss: [0.6597449779510498, 0.6491534113883972, 0.005295771174132824]\n"
     ]
    },
    {
     "name": "stderr",
     "output_type": "stream",
     "text": [
      "Clipping input data to the valid range for imshow with RGB data ([0..1] for floats or [0..255] for integers).\n",
      "Clipping input data to the valid range for imshow with RGB data ([0..1] for floats or [0..255] for integers).\n",
      "Clipping input data to the valid range for imshow with RGB data ([0..1] for floats or [0..255] for integers).\n",
      "Clipping input data to the valid range for imshow with RGB data ([0..1] for floats or [0..255] for integers).\n",
      "Clipping input data to the valid range for imshow with RGB data ([0..1] for floats or [0..255] for integers).\n",
      "Clipping input data to the valid range for imshow with RGB data ([0..1] for floats or [0..255] for integers).\n",
      "Clipping input data to the valid range for imshow with RGB data ([0..1] for floats or [0..255] for integers).\n",
      "Clipping input data to the valid range for imshow with RGB data ([0..1] for floats or [0..255] for integers).\n",
      "Clipping input data to the valid range for imshow with RGB data ([0..1] for floats or [0..255] for integers).\n",
      "Clipping input data to the valid range for imshow with RGB data ([0..1] for floats or [0..255] for integers).\n"
     ]
    },
    {
     "name": "stdout",
     "output_type": "stream",
     "text": [
      "Discriminator Loss: 0.5985265986528248\n",
      "Generator Loss: [0.6149788498878479, 0.6036415100097656, 0.005668663419783115]\n"
     ]
    },
    {
     "name": "stderr",
     "output_type": "stream",
     "text": [
      "Clipping input data to the valid range for imshow with RGB data ([0..1] for floats or [0..255] for integers).\n",
      "Clipping input data to the valid range for imshow with RGB data ([0..1] for floats or [0..255] for integers).\n",
      "Clipping input data to the valid range for imshow with RGB data ([0..1] for floats or [0..255] for integers).\n",
      "Clipping input data to the valid range for imshow with RGB data ([0..1] for floats or [0..255] for integers).\n",
      "Clipping input data to the valid range for imshow with RGB data ([0..1] for floats or [0..255] for integers).\n",
      "Clipping input data to the valid range for imshow with RGB data ([0..1] for floats or [0..255] for integers).\n",
      "Clipping input data to the valid range for imshow with RGB data ([0..1] for floats or [0..255] for integers).\n",
      "Clipping input data to the valid range for imshow with RGB data ([0..1] for floats or [0..255] for integers).\n",
      "Clipping input data to the valid range for imshow with RGB data ([0..1] for floats or [0..255] for integers).\n",
      "Clipping input data to the valid range for imshow with RGB data ([0..1] for floats or [0..255] for integers).\n"
     ]
    },
    {
     "name": "stdout",
     "output_type": "stream",
     "text": [
      "Discriminator Loss: 0.630656658206135\n",
      "Generator Loss: [0.6803805232048035, 0.6698247194290161, 0.005277900956571102]\n"
     ]
    },
    {
     "name": "stderr",
     "output_type": "stream",
     "text": [
      "Clipping input data to the valid range for imshow with RGB data ([0..1] for floats or [0..255] for integers).\n",
      "Clipping input data to the valid range for imshow with RGB data ([0..1] for floats or [0..255] for integers).\n",
      "Clipping input data to the valid range for imshow with RGB data ([0..1] for floats or [0..255] for integers).\n",
      "Clipping input data to the valid range for imshow with RGB data ([0..1] for floats or [0..255] for integers).\n",
      "Clipping input data to the valid range for imshow with RGB data ([0..1] for floats or [0..255] for integers).\n",
      "Clipping input data to the valid range for imshow with RGB data ([0..1] for floats or [0..255] for integers).\n",
      "Clipping input data to the valid range for imshow with RGB data ([0..1] for floats or [0..255] for integers).\n",
      "Clipping input data to the valid range for imshow with RGB data ([0..1] for floats or [0..255] for integers).\n",
      "Clipping input data to the valid range for imshow with RGB data ([0..1] for floats or [0..255] for integers).\n",
      "Clipping input data to the valid range for imshow with RGB data ([0..1] for floats or [0..255] for integers).\n"
     ]
    },
    {
     "name": "stdout",
     "output_type": "stream",
     "text": [
      "Discriminator Loss: 0.6316185948089696\n",
      "Generator Loss: [0.6133152842521667, 0.6036199331283569, 0.004847687669098377]\n"
     ]
    },
    {
     "name": "stderr",
     "output_type": "stream",
     "text": [
      "Clipping input data to the valid range for imshow with RGB data ([0..1] for floats or [0..255] for integers).\n",
      "Clipping input data to the valid range for imshow with RGB data ([0..1] for floats or [0..255] for integers).\n",
      "Clipping input data to the valid range for imshow with RGB data ([0..1] for floats or [0..255] for integers).\n",
      "Clipping input data to the valid range for imshow with RGB data ([0..1] for floats or [0..255] for integers).\n",
      "Clipping input data to the valid range for imshow with RGB data ([0..1] for floats or [0..255] for integers).\n",
      "Clipping input data to the valid range for imshow with RGB data ([0..1] for floats or [0..255] for integers).\n",
      "Clipping input data to the valid range for imshow with RGB data ([0..1] for floats or [0..255] for integers).\n",
      "Clipping input data to the valid range for imshow with RGB data ([0..1] for floats or [0..255] for integers).\n",
      "Clipping input data to the valid range for imshow with RGB data ([0..1] for floats or [0..255] for integers).\n",
      "Clipping input data to the valid range for imshow with RGB data ([0..1] for floats or [0..255] for integers).\n"
     ]
    },
    {
     "name": "stdout",
     "output_type": "stream",
     "text": [
      "Discriminator Loss: 0.6028433566025342\n",
      "Generator Loss: [0.5965461134910583, 0.5856759548187256, 0.005435064900666475]\n"
     ]
    },
    {
     "name": "stderr",
     "output_type": "stream",
     "text": [
      "Clipping input data to the valid range for imshow with RGB data ([0..1] for floats or [0..255] for integers).\n",
      "Clipping input data to the valid range for imshow with RGB data ([0..1] for floats or [0..255] for integers).\n",
      "Clipping input data to the valid range for imshow with RGB data ([0..1] for floats or [0..255] for integers).\n",
      "Clipping input data to the valid range for imshow with RGB data ([0..1] for floats or [0..255] for integers).\n",
      "Clipping input data to the valid range for imshow with RGB data ([0..1] for floats or [0..255] for integers).\n",
      "Clipping input data to the valid range for imshow with RGB data ([0..1] for floats or [0..255] for integers).\n",
      "Clipping input data to the valid range for imshow with RGB data ([0..1] for floats or [0..255] for integers).\n",
      "Clipping input data to the valid range for imshow with RGB data ([0..1] for floats or [0..255] for integers).\n",
      "Clipping input data to the valid range for imshow with RGB data ([0..1] for floats or [0..255] for integers).\n",
      "Clipping input data to the valid range for imshow with RGB data ([0..1] for floats or [0..255] for integers).\n"
     ]
    },
    {
     "name": "stdout",
     "output_type": "stream",
     "text": [
      "Discriminator Loss: 0.6121023127925582\n",
      "Generator Loss: [0.616792619228363, 0.6046280860900879, 0.006082278210669756]\n"
     ]
    },
    {
     "name": "stderr",
     "output_type": "stream",
     "text": [
      "Clipping input data to the valid range for imshow with RGB data ([0..1] for floats or [0..255] for integers).\n",
      "Clipping input data to the valid range for imshow with RGB data ([0..1] for floats or [0..255] for integers).\n",
      "Clipping input data to the valid range for imshow with RGB data ([0..1] for floats or [0..255] for integers).\n",
      "Clipping input data to the valid range for imshow with RGB data ([0..1] for floats or [0..255] for integers).\n",
      "Clipping input data to the valid range for imshow with RGB data ([0..1] for floats or [0..255] for integers).\n",
      "Clipping input data to the valid range for imshow with RGB data ([0..1] for floats or [0..255] for integers).\n",
      "Clipping input data to the valid range for imshow with RGB data ([0..1] for floats or [0..255] for integers).\n",
      "Clipping input data to the valid range for imshow with RGB data ([0..1] for floats or [0..255] for integers).\n",
      "Clipping input data to the valid range for imshow with RGB data ([0..1] for floats or [0..255] for integers).\n",
      "Clipping input data to the valid range for imshow with RGB data ([0..1] for floats or [0..255] for integers).\n"
     ]
    },
    {
     "name": "stdout",
     "output_type": "stream",
     "text": [
      "Discriminator Loss: 0.686296789906919\n",
      "Generator Loss: [0.6202150583267212, 0.6072263717651367, 0.00649432884529233]\n"
     ]
    },
    {
     "name": "stderr",
     "output_type": "stream",
     "text": [
      "Clipping input data to the valid range for imshow with RGB data ([0..1] for floats or [0..255] for integers).\n",
      "Clipping input data to the valid range for imshow with RGB data ([0..1] for floats or [0..255] for integers).\n",
      "Clipping input data to the valid range for imshow with RGB data ([0..1] for floats or [0..255] for integers).\n",
      "Clipping input data to the valid range for imshow with RGB data ([0..1] for floats or [0..255] for integers).\n",
      "Clipping input data to the valid range for imshow with RGB data ([0..1] for floats or [0..255] for integers).\n",
      "Clipping input data to the valid range for imshow with RGB data ([0..1] for floats or [0..255] for integers).\n",
      "Clipping input data to the valid range for imshow with RGB data ([0..1] for floats or [0..255] for integers).\n",
      "Clipping input data to the valid range for imshow with RGB data ([0..1] for floats or [0..255] for integers).\n",
      "Clipping input data to the valid range for imshow with RGB data ([0..1] for floats or [0..255] for integers).\n",
      "Clipping input data to the valid range for imshow with RGB data ([0..1] for floats or [0..255] for integers).\n"
     ]
    },
    {
     "name": "stdout",
     "output_type": "stream",
     "text": [
      "Discriminator Loss: 0.6280504623682646\n",
      "Generator Loss: [0.6388242244720459, 0.6210334300994873, 0.008895408362150192]\n"
     ]
    },
    {
     "name": "stderr",
     "output_type": "stream",
     "text": [
      "Clipping input data to the valid range for imshow with RGB data ([0..1] for floats or [0..255] for integers).\n",
      "Clipping input data to the valid range for imshow with RGB data ([0..1] for floats or [0..255] for integers).\n",
      "Clipping input data to the valid range for imshow with RGB data ([0..1] for floats or [0..255] for integers).\n",
      "Clipping input data to the valid range for imshow with RGB data ([0..1] for floats or [0..255] for integers).\n",
      "Clipping input data to the valid range for imshow with RGB data ([0..1] for floats or [0..255] for integers).\n",
      "Clipping input data to the valid range for imshow with RGB data ([0..1] for floats or [0..255] for integers).\n",
      "Clipping input data to the valid range for imshow with RGB data ([0..1] for floats or [0..255] for integers).\n",
      "Clipping input data to the valid range for imshow with RGB data ([0..1] for floats or [0..255] for integers).\n",
      "Clipping input data to the valid range for imshow with RGB data ([0..1] for floats or [0..255] for integers).\n",
      "Clipping input data to the valid range for imshow with RGB data ([0..1] for floats or [0..255] for integers).\n"
     ]
    },
    {
     "name": "stdout",
     "output_type": "stream",
     "text": [
      "Discriminator Loss: 0.6090173879056238\n",
      "Generator Loss: [0.629877507686615, 0.6162787675857544, 0.006799378432333469]\n"
     ]
    },
    {
     "name": "stderr",
     "output_type": "stream",
     "text": [
      "Clipping input data to the valid range for imshow with RGB data ([0..1] for floats or [0..255] for integers).\n",
      "Clipping input data to the valid range for imshow with RGB data ([0..1] for floats or [0..255] for integers).\n",
      "Clipping input data to the valid range for imshow with RGB data ([0..1] for floats or [0..255] for integers).\n",
      "Clipping input data to the valid range for imshow with RGB data ([0..1] for floats or [0..255] for integers).\n",
      "Clipping input data to the valid range for imshow with RGB data ([0..1] for floats or [0..255] for integers).\n",
      "Clipping input data to the valid range for imshow with RGB data ([0..1] for floats or [0..255] for integers).\n",
      "Clipping input data to the valid range for imshow with RGB data ([0..1] for floats or [0..255] for integers).\n",
      "Clipping input data to the valid range for imshow with RGB data ([0..1] for floats or [0..255] for integers).\n",
      "Clipping input data to the valid range for imshow with RGB data ([0..1] for floats or [0..255] for integers).\n",
      "Clipping input data to the valid range for imshow with RGB data ([0..1] for floats or [0..255] for integers).\n"
     ]
    },
    {
     "name": "stdout",
     "output_type": "stream",
     "text": [
      "Discriminator Loss: 0.6446900932187418\n",
      "Generator Loss: [0.5711988806724548, 0.561133861541748, 0.005032507702708244]\n"
     ]
    },
    {
     "name": "stderr",
     "output_type": "stream",
     "text": [
      "Clipping input data to the valid range for imshow with RGB data ([0..1] for floats or [0..255] for integers).\n",
      "Clipping input data to the valid range for imshow with RGB data ([0..1] for floats or [0..255] for integers).\n",
      "Clipping input data to the valid range for imshow with RGB data ([0..1] for floats or [0..255] for integers).\n",
      "Clipping input data to the valid range for imshow with RGB data ([0..1] for floats or [0..255] for integers).\n",
      "Clipping input data to the valid range for imshow with RGB data ([0..1] for floats or [0..255] for integers).\n",
      "Clipping input data to the valid range for imshow with RGB data ([0..1] for floats or [0..255] for integers).\n",
      "Clipping input data to the valid range for imshow with RGB data ([0..1] for floats or [0..255] for integers).\n",
      "Clipping input data to the valid range for imshow with RGB data ([0..1] for floats or [0..255] for integers).\n",
      "Clipping input data to the valid range for imshow with RGB data ([0..1] for floats or [0..255] for integers).\n",
      "Clipping input data to the valid range for imshow with RGB data ([0..1] for floats or [0..255] for integers).\n"
     ]
    },
    {
     "name": "stdout",
     "output_type": "stream",
     "text": [
      "Discriminator Loss: 0.6371794808801496\n",
      "Generator Loss: [0.8034445643424988, 0.7850657105445862, 0.009189431555569172]\n"
     ]
    },
    {
     "name": "stderr",
     "output_type": "stream",
     "text": [
      "Clipping input data to the valid range for imshow with RGB data ([0..1] for floats or [0..255] for integers).\n",
      "Clipping input data to the valid range for imshow with RGB data ([0..1] for floats or [0..255] for integers).\n",
      "Clipping input data to the valid range for imshow with RGB data ([0..1] for floats or [0..255] for integers).\n",
      "Clipping input data to the valid range for imshow with RGB data ([0..1] for floats or [0..255] for integers).\n",
      "Clipping input data to the valid range for imshow with RGB data ([0..1] for floats or [0..255] for integers).\n",
      "Clipping input data to the valid range for imshow with RGB data ([0..1] for floats or [0..255] for integers).\n",
      "Clipping input data to the valid range for imshow with RGB data ([0..1] for floats or [0..255] for integers).\n",
      "Clipping input data to the valid range for imshow with RGB data ([0..1] for floats or [0..255] for integers).\n",
      "Clipping input data to the valid range for imshow with RGB data ([0..1] for floats or [0..255] for integers).\n",
      "Clipping input data to the valid range for imshow with RGB data ([0..1] for floats or [0..255] for integers).\n"
     ]
    },
    {
     "name": "stdout",
     "output_type": "stream",
     "text": [
      "Discriminator Loss: 0.6148274188162759\n",
      "Generator Loss: [0.5505923628807068, 0.5334469676017761, 0.008572705090045929]\n"
     ]
    },
    {
     "name": "stderr",
     "output_type": "stream",
     "text": [
      "Clipping input data to the valid range for imshow with RGB data ([0..1] for floats or [0..255] for integers).\n",
      "Clipping input data to the valid range for imshow with RGB data ([0..1] for floats or [0..255] for integers).\n",
      "Clipping input data to the valid range for imshow with RGB data ([0..1] for floats or [0..255] for integers).\n",
      "Clipping input data to the valid range for imshow with RGB data ([0..1] for floats or [0..255] for integers).\n",
      "Clipping input data to the valid range for imshow with RGB data ([0..1] for floats or [0..255] for integers).\n",
      "Clipping input data to the valid range for imshow with RGB data ([0..1] for floats or [0..255] for integers).\n",
      "Clipping input data to the valid range for imshow with RGB data ([0..1] for floats or [0..255] for integers).\n",
      "Clipping input data to the valid range for imshow with RGB data ([0..1] for floats or [0..255] for integers).\n",
      "Clipping input data to the valid range for imshow with RGB data ([0..1] for floats or [0..255] for integers).\n",
      "Clipping input data to the valid range for imshow with RGB data ([0..1] for floats or [0..255] for integers).\n"
     ]
    },
    {
     "name": "stdout",
     "output_type": "stream",
     "text": [
      "Discriminator Loss: 0.6380665403557941\n",
      "Generator Loss: [0.5821236371994019, 0.5637874007225037, 0.009168104268610477]\n"
     ]
    },
    {
     "name": "stderr",
     "output_type": "stream",
     "text": [
      "Clipping input data to the valid range for imshow with RGB data ([0..1] for floats or [0..255] for integers).\n",
      "Clipping input data to the valid range for imshow with RGB data ([0..1] for floats or [0..255] for integers).\n",
      "Clipping input data to the valid range for imshow with RGB data ([0..1] for floats or [0..255] for integers).\n",
      "Clipping input data to the valid range for imshow with RGB data ([0..1] for floats or [0..255] for integers).\n",
      "Clipping input data to the valid range for imshow with RGB data ([0..1] for floats or [0..255] for integers).\n",
      "Clipping input data to the valid range for imshow with RGB data ([0..1] for floats or [0..255] for integers).\n",
      "Clipping input data to the valid range for imshow with RGB data ([0..1] for floats or [0..255] for integers).\n",
      "Clipping input data to the valid range for imshow with RGB data ([0..1] for floats or [0..255] for integers).\n",
      "Clipping input data to the valid range for imshow with RGB data ([0..1] for floats or [0..255] for integers).\n",
      "Clipping input data to the valid range for imshow with RGB data ([0..1] for floats or [0..255] for integers).\n"
     ]
    },
    {
     "name": "stdout",
     "output_type": "stream",
     "text": [
      "Discriminator Loss: 0.6222194862057222\n",
      "Generator Loss: [0.5356540083885193, 0.5252338647842407, 0.005210064351558685]\n"
     ]
    },
    {
     "name": "stderr",
     "output_type": "stream",
     "text": [
      "Clipping input data to the valid range for imshow with RGB data ([0..1] for floats or [0..255] for integers).\n",
      "Clipping input data to the valid range for imshow with RGB data ([0..1] for floats or [0..255] for integers).\n",
      "Clipping input data to the valid range for imshow with RGB data ([0..1] for floats or [0..255] for integers).\n",
      "Clipping input data to the valid range for imshow with RGB data ([0..1] for floats or [0..255] for integers).\n",
      "Clipping input data to the valid range for imshow with RGB data ([0..1] for floats or [0..255] for integers).\n",
      "Clipping input data to the valid range for imshow with RGB data ([0..1] for floats or [0..255] for integers).\n",
      "Clipping input data to the valid range for imshow with RGB data ([0..1] for floats or [0..255] for integers).\n",
      "Clipping input data to the valid range for imshow with RGB data ([0..1] for floats or [0..255] for integers).\n",
      "Clipping input data to the valid range for imshow with RGB data ([0..1] for floats or [0..255] for integers).\n",
      "Clipping input data to the valid range for imshow with RGB data ([0..1] for floats or [0..255] for integers).\n"
     ]
    },
    {
     "name": "stdout",
     "output_type": "stream",
     "text": [
      "Discriminator Loss: 0.608187836536672\n",
      "Generator Loss: [0.5942378044128418, 0.577246904373169, 0.00849546305835247]\n"
     ]
    },
    {
     "name": "stderr",
     "output_type": "stream",
     "text": [
      "Clipping input data to the valid range for imshow with RGB data ([0..1] for floats or [0..255] for integers).\n",
      "Clipping input data to the valid range for imshow with RGB data ([0..1] for floats or [0..255] for integers).\n",
      "Clipping input data to the valid range for imshow with RGB data ([0..1] for floats or [0..255] for integers).\n",
      "Clipping input data to the valid range for imshow with RGB data ([0..1] for floats or [0..255] for integers).\n",
      "Clipping input data to the valid range for imshow with RGB data ([0..1] for floats or [0..255] for integers).\n",
      "Clipping input data to the valid range for imshow with RGB data ([0..1] for floats or [0..255] for integers).\n",
      "Clipping input data to the valid range for imshow with RGB data ([0..1] for floats or [0..255] for integers).\n",
      "Clipping input data to the valid range for imshow with RGB data ([0..1] for floats or [0..255] for integers).\n",
      "Clipping input data to the valid range for imshow with RGB data ([0..1] for floats or [0..255] for integers).\n",
      "Clipping input data to the valid range for imshow with RGB data ([0..1] for floats or [0..255] for integers).\n"
     ]
    },
    {
     "name": "stdout",
     "output_type": "stream",
     "text": [
      "Discriminator Loss: 0.6012915448227432\n",
      "Generator Loss: [0.5613428354263306, 0.5478910803794861, 0.006725884508341551]\n"
     ]
    },
    {
     "name": "stderr",
     "output_type": "stream",
     "text": [
      "Clipping input data to the valid range for imshow with RGB data ([0..1] for floats or [0..255] for integers).\n",
      "Clipping input data to the valid range for imshow with RGB data ([0..1] for floats or [0..255] for integers).\n",
      "Clipping input data to the valid range for imshow with RGB data ([0..1] for floats or [0..255] for integers).\n",
      "Clipping input data to the valid range for imshow with RGB data ([0..1] for floats or [0..255] for integers).\n",
      "Clipping input data to the valid range for imshow with RGB data ([0..1] for floats or [0..255] for integers).\n",
      "Clipping input data to the valid range for imshow with RGB data ([0..1] for floats or [0..255] for integers).\n",
      "Clipping input data to the valid range for imshow with RGB data ([0..1] for floats or [0..255] for integers).\n",
      "Clipping input data to the valid range for imshow with RGB data ([0..1] for floats or [0..255] for integers).\n",
      "Clipping input data to the valid range for imshow with RGB data ([0..1] for floats or [0..255] for integers).\n",
      "Clipping input data to the valid range for imshow with RGB data ([0..1] for floats or [0..255] for integers).\n"
     ]
    },
    {
     "name": "stdout",
     "output_type": "stream",
     "text": [
      "Discriminator Loss: 0.6493126281966397\n",
      "Generator Loss: [0.5410096049308777, 0.5263143181800842, 0.007347635459154844]\n"
     ]
    },
    {
     "name": "stderr",
     "output_type": "stream",
     "text": [
      "Clipping input data to the valid range for imshow with RGB data ([0..1] for floats or [0..255] for integers).\n",
      "Clipping input data to the valid range for imshow with RGB data ([0..1] for floats or [0..255] for integers).\n",
      "Clipping input data to the valid range for imshow with RGB data ([0..1] for floats or [0..255] for integers).\n",
      "Clipping input data to the valid range for imshow with RGB data ([0..1] for floats or [0..255] for integers).\n",
      "Clipping input data to the valid range for imshow with RGB data ([0..1] for floats or [0..255] for integers).\n",
      "Clipping input data to the valid range for imshow with RGB data ([0..1] for floats or [0..255] for integers).\n",
      "Clipping input data to the valid range for imshow with RGB data ([0..1] for floats or [0..255] for integers).\n",
      "Clipping input data to the valid range for imshow with RGB data ([0..1] for floats or [0..255] for integers).\n",
      "Clipping input data to the valid range for imshow with RGB data ([0..1] for floats or [0..255] for integers).\n",
      "Clipping input data to the valid range for imshow with RGB data ([0..1] for floats or [0..255] for integers).\n"
     ]
    },
    {
     "name": "stdout",
     "output_type": "stream",
     "text": [
      "Discriminator Loss: 0.6062112889230775\n",
      "Generator Loss: [0.5215752720832825, 0.5064519643783569, 0.007561656646430492]\n"
     ]
    },
    {
     "name": "stderr",
     "output_type": "stream",
     "text": [
      "Clipping input data to the valid range for imshow with RGB data ([0..1] for floats or [0..255] for integers).\n",
      "Clipping input data to the valid range for imshow with RGB data ([0..1] for floats or [0..255] for integers).\n",
      "Clipping input data to the valid range for imshow with RGB data ([0..1] for floats or [0..255] for integers).\n",
      "Clipping input data to the valid range for imshow with RGB data ([0..1] for floats or [0..255] for integers).\n",
      "Clipping input data to the valid range for imshow with RGB data ([0..1] for floats or [0..255] for integers).\n",
      "Clipping input data to the valid range for imshow with RGB data ([0..1] for floats or [0..255] for integers).\n",
      "Clipping input data to the valid range for imshow with RGB data ([0..1] for floats or [0..255] for integers).\n",
      "Clipping input data to the valid range for imshow with RGB data ([0..1] for floats or [0..255] for integers).\n",
      "Clipping input data to the valid range for imshow with RGB data ([0..1] for floats or [0..255] for integers).\n",
      "Clipping input data to the valid range for imshow with RGB data ([0..1] for floats or [0..255] for integers).\n"
     ]
    },
    {
     "name": "stdout",
     "output_type": "stream",
     "text": [
      "Discriminator Loss: 0.5926440206822008\n",
      "Generator Loss: [0.594577431678772, 0.5836560726165771, 0.005460670217871666]\n"
     ]
    },
    {
     "name": "stderr",
     "output_type": "stream",
     "text": [
      "Clipping input data to the valid range for imshow with RGB data ([0..1] for floats or [0..255] for integers).\n",
      "Clipping input data to the valid range for imshow with RGB data ([0..1] for floats or [0..255] for integers).\n",
      "Clipping input data to the valid range for imshow with RGB data ([0..1] for floats or [0..255] for integers).\n",
      "Clipping input data to the valid range for imshow with RGB data ([0..1] for floats or [0..255] for integers).\n",
      "Clipping input data to the valid range for imshow with RGB data ([0..1] for floats or [0..255] for integers).\n",
      "Clipping input data to the valid range for imshow with RGB data ([0..1] for floats or [0..255] for integers).\n",
      "Clipping input data to the valid range for imshow with RGB data ([0..1] for floats or [0..255] for integers).\n",
      "Clipping input data to the valid range for imshow with RGB data ([0..1] for floats or [0..255] for integers).\n",
      "Clipping input data to the valid range for imshow with RGB data ([0..1] for floats or [0..255] for integers).\n",
      "Clipping input data to the valid range for imshow with RGB data ([0..1] for floats or [0..255] for integers).\n"
     ]
    },
    {
     "name": "stdout",
     "output_type": "stream",
     "text": [
      "Discriminator Loss: 0.6350655670976266\n",
      "Generator Loss: [0.5516753196716309, 0.5411249399185181, 0.005275177303701639]\n"
     ]
    },
    {
     "name": "stderr",
     "output_type": "stream",
     "text": [
      "Clipping input data to the valid range for imshow with RGB data ([0..1] for floats or [0..255] for integers).\n",
      "Clipping input data to the valid range for imshow with RGB data ([0..1] for floats or [0..255] for integers).\n",
      "Clipping input data to the valid range for imshow with RGB data ([0..1] for floats or [0..255] for integers).\n",
      "Clipping input data to the valid range for imshow with RGB data ([0..1] for floats or [0..255] for integers).\n",
      "Clipping input data to the valid range for imshow with RGB data ([0..1] for floats or [0..255] for integers).\n",
      "Clipping input data to the valid range for imshow with RGB data ([0..1] for floats or [0..255] for integers).\n",
      "Clipping input data to the valid range for imshow with RGB data ([0..1] for floats or [0..255] for integers).\n",
      "Clipping input data to the valid range for imshow with RGB data ([0..1] for floats or [0..255] for integers).\n",
      "Clipping input data to the valid range for imshow with RGB data ([0..1] for floats or [0..255] for integers).\n",
      "Clipping input data to the valid range for imshow with RGB data ([0..1] for floats or [0..255] for integers).\n"
     ]
    },
    {
     "name": "stdout",
     "output_type": "stream",
     "text": [
      "Discriminator Loss: 0.5989997508004308\n",
      "Generator Loss: [0.5634593367576599, 0.5540284514427185, 0.004715448245406151]\n"
     ]
    },
    {
     "name": "stderr",
     "output_type": "stream",
     "text": [
      "Clipping input data to the valid range for imshow with RGB data ([0..1] for floats or [0..255] for integers).\n",
      "Clipping input data to the valid range for imshow with RGB data ([0..1] for floats or [0..255] for integers).\n",
      "Clipping input data to the valid range for imshow with RGB data ([0..1] for floats or [0..255] for integers).\n",
      "Clipping input data to the valid range for imshow with RGB data ([0..1] for floats or [0..255] for integers).\n",
      "Clipping input data to the valid range for imshow with RGB data ([0..1] for floats or [0..255] for integers).\n",
      "Clipping input data to the valid range for imshow with RGB data ([0..1] for floats or [0..255] for integers).\n",
      "Clipping input data to the valid range for imshow with RGB data ([0..1] for floats or [0..255] for integers).\n",
      "Clipping input data to the valid range for imshow with RGB data ([0..1] for floats or [0..255] for integers).\n",
      "Clipping input data to the valid range for imshow with RGB data ([0..1] for floats or [0..255] for integers).\n",
      "Clipping input data to the valid range for imshow with RGB data ([0..1] for floats or [0..255] for integers).\n"
     ]
    },
    {
     "name": "stdout",
     "output_type": "stream",
     "text": [
      "Discriminator Loss: 0.6332115931727458\n",
      "Generator Loss: [0.5147389769554138, 0.5028141736984253, 0.00596240721642971]\n"
     ]
    },
    {
     "name": "stderr",
     "output_type": "stream",
     "text": [
      "Clipping input data to the valid range for imshow with RGB data ([0..1] for floats or [0..255] for integers).\n",
      "Clipping input data to the valid range for imshow with RGB data ([0..1] for floats or [0..255] for integers).\n",
      "Clipping input data to the valid range for imshow with RGB data ([0..1] for floats or [0..255] for integers).\n",
      "Clipping input data to the valid range for imshow with RGB data ([0..1] for floats or [0..255] for integers).\n",
      "Clipping input data to the valid range for imshow with RGB data ([0..1] for floats or [0..255] for integers).\n",
      "Clipping input data to the valid range for imshow with RGB data ([0..1] for floats or [0..255] for integers).\n",
      "Clipping input data to the valid range for imshow with RGB data ([0..1] for floats or [0..255] for integers).\n",
      "Clipping input data to the valid range for imshow with RGB data ([0..1] for floats or [0..255] for integers).\n",
      "Clipping input data to the valid range for imshow with RGB data ([0..1] for floats or [0..255] for integers).\n",
      "Clipping input data to the valid range for imshow with RGB data ([0..1] for floats or [0..255] for integers).\n"
     ]
    },
    {
     "name": "stdout",
     "output_type": "stream",
     "text": [
      "Discriminator Loss: 0.627750192215899\n",
      "Generator Loss: [0.6048546433448792, 0.5956557393074036, 0.004599462728947401]\n"
     ]
    },
    {
     "name": "stderr",
     "output_type": "stream",
     "text": [
      "Clipping input data to the valid range for imshow with RGB data ([0..1] for floats or [0..255] for integers).\n",
      "Clipping input data to the valid range for imshow with RGB data ([0..1] for floats or [0..255] for integers).\n",
      "Clipping input data to the valid range for imshow with RGB data ([0..1] for floats or [0..255] for integers).\n",
      "Clipping input data to the valid range for imshow with RGB data ([0..1] for floats or [0..255] for integers).\n",
      "Clipping input data to the valid range for imshow with RGB data ([0..1] for floats or [0..255] for integers).\n",
      "Clipping input data to the valid range for imshow with RGB data ([0..1] for floats or [0..255] for integers).\n",
      "Clipping input data to the valid range for imshow with RGB data ([0..1] for floats or [0..255] for integers).\n",
      "Clipping input data to the valid range for imshow with RGB data ([0..1] for floats or [0..255] for integers).\n",
      "Clipping input data to the valid range for imshow with RGB data ([0..1] for floats or [0..255] for integers).\n",
      "Clipping input data to the valid range for imshow with RGB data ([0..1] for floats or [0..255] for integers).\n"
     ]
    },
    {
     "name": "stdout",
     "output_type": "stream",
     "text": [
      "Discriminator Loss: 0.6167550758691505\n",
      "Generator Loss: [0.5376071333885193, 0.5302944183349609, 0.0036563463509082794]\n"
     ]
    },
    {
     "name": "stderr",
     "output_type": "stream",
     "text": [
      "Clipping input data to the valid range for imshow with RGB data ([0..1] for floats or [0..255] for integers).\n",
      "Clipping input data to the valid range for imshow with RGB data ([0..1] for floats or [0..255] for integers).\n",
      "Clipping input data to the valid range for imshow with RGB data ([0..1] for floats or [0..255] for integers).\n",
      "Clipping input data to the valid range for imshow with RGB data ([0..1] for floats or [0..255] for integers).\n",
      "Clipping input data to the valid range for imshow with RGB data ([0..1] for floats or [0..255] for integers).\n",
      "Clipping input data to the valid range for imshow with RGB data ([0..1] for floats or [0..255] for integers).\n",
      "Clipping input data to the valid range for imshow with RGB data ([0..1] for floats or [0..255] for integers).\n",
      "Clipping input data to the valid range for imshow with RGB data ([0..1] for floats or [0..255] for integers).\n",
      "Clipping input data to the valid range for imshow with RGB data ([0..1] for floats or [0..255] for integers).\n",
      "Clipping input data to the valid range for imshow with RGB data ([0..1] for floats or [0..255] for integers).\n"
     ]
    },
    {
     "name": "stdout",
     "output_type": "stream",
     "text": [
      "Discriminator Loss: 0.6059480420080945\n",
      "Generator Loss: [0.5438683032989502, 0.5352874398231506, 0.00429044384509325]\n"
     ]
    },
    {
     "name": "stderr",
     "output_type": "stream",
     "text": [
      "Clipping input data to the valid range for imshow with RGB data ([0..1] for floats or [0..255] for integers).\n",
      "Clipping input data to the valid range for imshow with RGB data ([0..1] for floats or [0..255] for integers).\n",
      "Clipping input data to the valid range for imshow with RGB data ([0..1] for floats or [0..255] for integers).\n",
      "Clipping input data to the valid range for imshow with RGB data ([0..1] for floats or [0..255] for integers).\n",
      "Clipping input data to the valid range for imshow with RGB data ([0..1] for floats or [0..255] for integers).\n",
      "Clipping input data to the valid range for imshow with RGB data ([0..1] for floats or [0..255] for integers).\n",
      "Clipping input data to the valid range for imshow with RGB data ([0..1] for floats or [0..255] for integers).\n",
      "Clipping input data to the valid range for imshow with RGB data ([0..1] for floats or [0..255] for integers).\n",
      "Clipping input data to the valid range for imshow with RGB data ([0..1] for floats or [0..255] for integers).\n",
      "Clipping input data to the valid range for imshow with RGB data ([0..1] for floats or [0..255] for integers).\n"
     ]
    },
    {
     "name": "stdout",
     "output_type": "stream",
     "text": [
      "Discriminator Loss: 0.6254425960069057\n",
      "Generator Loss: [0.5260442495346069, 0.5152667760848999, 0.005388734862208366]\n"
     ]
    },
    {
     "name": "stderr",
     "output_type": "stream",
     "text": [
      "Clipping input data to the valid range for imshow with RGB data ([0..1] for floats or [0..255] for integers).\n",
      "Clipping input data to the valid range for imshow with RGB data ([0..1] for floats or [0..255] for integers).\n",
      "Clipping input data to the valid range for imshow with RGB data ([0..1] for floats or [0..255] for integers).\n",
      "Clipping input data to the valid range for imshow with RGB data ([0..1] for floats or [0..255] for integers).\n",
      "Clipping input data to the valid range for imshow with RGB data ([0..1] for floats or [0..255] for integers).\n",
      "Clipping input data to the valid range for imshow with RGB data ([0..1] for floats or [0..255] for integers).\n",
      "Clipping input data to the valid range for imshow with RGB data ([0..1] for floats or [0..255] for integers).\n",
      "Clipping input data to the valid range for imshow with RGB data ([0..1] for floats or [0..255] for integers).\n",
      "Clipping input data to the valid range for imshow with RGB data ([0..1] for floats or [0..255] for integers).\n",
      "Clipping input data to the valid range for imshow with RGB data ([0..1] for floats or [0..255] for integers).\n"
     ]
    },
    {
     "name": "stdout",
     "output_type": "stream",
     "text": [
      "Discriminator Loss: 0.6146855363622308\n",
      "Generator Loss: [0.5163546204566956, 0.5069673657417297, 0.004693623632192612]\n"
     ]
    },
    {
     "name": "stderr",
     "output_type": "stream",
     "text": [
      "Clipping input data to the valid range for imshow with RGB data ([0..1] for floats or [0..255] for integers).\n",
      "Clipping input data to the valid range for imshow with RGB data ([0..1] for floats or [0..255] for integers).\n",
      "Clipping input data to the valid range for imshow with RGB data ([0..1] for floats or [0..255] for integers).\n",
      "Clipping input data to the valid range for imshow with RGB data ([0..1] for floats or [0..255] for integers).\n",
      "Clipping input data to the valid range for imshow with RGB data ([0..1] for floats or [0..255] for integers).\n",
      "Clipping input data to the valid range for imshow with RGB data ([0..1] for floats or [0..255] for integers).\n",
      "Clipping input data to the valid range for imshow with RGB data ([0..1] for floats or [0..255] for integers).\n",
      "Clipping input data to the valid range for imshow with RGB data ([0..1] for floats or [0..255] for integers).\n",
      "Clipping input data to the valid range for imshow with RGB data ([0..1] for floats or [0..255] for integers).\n",
      "Clipping input data to the valid range for imshow with RGB data ([0..1] for floats or [0..255] for integers).\n"
     ]
    },
    {
     "name": "stdout",
     "output_type": "stream",
     "text": [
      "Discriminator Loss: 0.6143217343051219\n",
      "Generator Loss: [0.5532321333885193, 0.5438277125358582, 0.004702216945588589]\n"
     ]
    },
    {
     "name": "stderr",
     "output_type": "stream",
     "text": [
      "Clipping input data to the valid range for imshow with RGB data ([0..1] for floats or [0..255] for integers).\n",
      "Clipping input data to the valid range for imshow with RGB data ([0..1] for floats or [0..255] for integers).\n",
      "Clipping input data to the valid range for imshow with RGB data ([0..1] for floats or [0..255] for integers).\n",
      "Clipping input data to the valid range for imshow with RGB data ([0..1] for floats or [0..255] for integers).\n",
      "Clipping input data to the valid range for imshow with RGB data ([0..1] for floats or [0..255] for integers).\n",
      "Clipping input data to the valid range for imshow with RGB data ([0..1] for floats or [0..255] for integers).\n",
      "Clipping input data to the valid range for imshow with RGB data ([0..1] for floats or [0..255] for integers).\n",
      "Clipping input data to the valid range for imshow with RGB data ([0..1] for floats or [0..255] for integers).\n",
      "Clipping input data to the valid range for imshow with RGB data ([0..1] for floats or [0..255] for integers).\n",
      "Clipping input data to the valid range for imshow with RGB data ([0..1] for floats or [0..255] for integers).\n"
     ]
    },
    {
     "name": "stdout",
     "output_type": "stream",
     "text": [
      "Discriminator Loss: 0.6115998561726883\n",
      "Generator Loss: [0.5078830718994141, 0.4974510371685028, 0.005216019228100777]\n"
     ]
    },
    {
     "name": "stderr",
     "output_type": "stream",
     "text": [
      "Clipping input data to the valid range for imshow with RGB data ([0..1] for floats or [0..255] for integers).\n",
      "Clipping input data to the valid range for imshow with RGB data ([0..1] for floats or [0..255] for integers).\n",
      "Clipping input data to the valid range for imshow with RGB data ([0..1] for floats or [0..255] for integers).\n",
      "Clipping input data to the valid range for imshow with RGB data ([0..1] for floats or [0..255] for integers).\n",
      "Clipping input data to the valid range for imshow with RGB data ([0..1] for floats or [0..255] for integers).\n",
      "Clipping input data to the valid range for imshow with RGB data ([0..1] for floats or [0..255] for integers).\n",
      "Clipping input data to the valid range for imshow with RGB data ([0..1] for floats or [0..255] for integers).\n",
      "Clipping input data to the valid range for imshow with RGB data ([0..1] for floats or [0..255] for integers).\n",
      "Clipping input data to the valid range for imshow with RGB data ([0..1] for floats or [0..255] for integers).\n",
      "Clipping input data to the valid range for imshow with RGB data ([0..1] for floats or [0..255] for integers).\n"
     ]
    },
    {
     "name": "stdout",
     "output_type": "stream",
     "text": [
      "Discriminator Loss: 0.5964405515696853\n",
      "Generator Loss: [0.5736141204833984, 0.5630345940589905, 0.005289775785058737]\n"
     ]
    },
    {
     "name": "stderr",
     "output_type": "stream",
     "text": [
      "Clipping input data to the valid range for imshow with RGB data ([0..1] for floats or [0..255] for integers).\n",
      "Clipping input data to the valid range for imshow with RGB data ([0..1] for floats or [0..255] for integers).\n",
      "Clipping input data to the valid range for imshow with RGB data ([0..1] for floats or [0..255] for integers).\n",
      "Clipping input data to the valid range for imshow with RGB data ([0..1] for floats or [0..255] for integers).\n",
      "Clipping input data to the valid range for imshow with RGB data ([0..1] for floats or [0..255] for integers).\n",
      "Clipping input data to the valid range for imshow with RGB data ([0..1] for floats or [0..255] for integers).\n",
      "Clipping input data to the valid range for imshow with RGB data ([0..1] for floats or [0..255] for integers).\n",
      "Clipping input data to the valid range for imshow with RGB data ([0..1] for floats or [0..255] for integers).\n",
      "Clipping input data to the valid range for imshow with RGB data ([0..1] for floats or [0..255] for integers).\n",
      "Clipping input data to the valid range for imshow with RGB data ([0..1] for floats or [0..255] for integers).\n"
     ]
    },
    {
     "name": "stdout",
     "output_type": "stream",
     "text": [
      "Discriminator Loss: 0.6356933492788812\n",
      "Generator Loss: [0.5543346405029297, 0.5434067249298096, 0.005463963374495506]\n"
     ]
    },
    {
     "name": "stderr",
     "output_type": "stream",
     "text": [
      "Clipping input data to the valid range for imshow with RGB data ([0..1] for floats or [0..255] for integers).\n",
      "Clipping input data to the valid range for imshow with RGB data ([0..1] for floats or [0..255] for integers).\n",
      "Clipping input data to the valid range for imshow with RGB data ([0..1] for floats or [0..255] for integers).\n",
      "Clipping input data to the valid range for imshow with RGB data ([0..1] for floats or [0..255] for integers).\n",
      "Clipping input data to the valid range for imshow with RGB data ([0..1] for floats or [0..255] for integers).\n",
      "Clipping input data to the valid range for imshow with RGB data ([0..1] for floats or [0..255] for integers).\n",
      "Clipping input data to the valid range for imshow with RGB data ([0..1] for floats or [0..255] for integers).\n",
      "Clipping input data to the valid range for imshow with RGB data ([0..1] for floats or [0..255] for integers).\n",
      "Clipping input data to the valid range for imshow with RGB data ([0..1] for floats or [0..255] for integers).\n",
      "Clipping input data to the valid range for imshow with RGB data ([0..1] for floats or [0..255] for integers).\n"
     ]
    },
    {
     "name": "stdout",
     "output_type": "stream",
     "text": [
      "Discriminator Loss: 0.6034815234452253\n",
      "Generator Loss: [0.5096133947372437, 0.498627245426178, 0.005493084900081158]\n"
     ]
    },
    {
     "name": "stderr",
     "output_type": "stream",
     "text": [
      "Clipping input data to the valid range for imshow with RGB data ([0..1] for floats or [0..255] for integers).\n",
      "Clipping input data to the valid range for imshow with RGB data ([0..1] for floats or [0..255] for integers).\n",
      "Clipping input data to the valid range for imshow with RGB data ([0..1] for floats or [0..255] for integers).\n",
      "Clipping input data to the valid range for imshow with RGB data ([0..1] for floats or [0..255] for integers).\n",
      "Clipping input data to the valid range for imshow with RGB data ([0..1] for floats or [0..255] for integers).\n",
      "Clipping input data to the valid range for imshow with RGB data ([0..1] for floats or [0..255] for integers).\n",
      "Clipping input data to the valid range for imshow with RGB data ([0..1] for floats or [0..255] for integers).\n",
      "Clipping input data to the valid range for imshow with RGB data ([0..1] for floats or [0..255] for integers).\n",
      "Clipping input data to the valid range for imshow with RGB data ([0..1] for floats or [0..255] for integers).\n",
      "Clipping input data to the valid range for imshow with RGB data ([0..1] for floats or [0..255] for integers).\n"
     ]
    },
    {
     "name": "stdout",
     "output_type": "stream",
     "text": [
      "Discriminator Loss: 0.5917183002238744\n",
      "Generator Loss: [0.5359326004981995, 0.5258574485778809, 0.005037575028836727]\n"
     ]
    },
    {
     "name": "stderr",
     "output_type": "stream",
     "text": [
      "Clipping input data to the valid range for imshow with RGB data ([0..1] for floats or [0..255] for integers).\n",
      "Clipping input data to the valid range for imshow with RGB data ([0..1] for floats or [0..255] for integers).\n",
      "Clipping input data to the valid range for imshow with RGB data ([0..1] for floats or [0..255] for integers).\n",
      "Clipping input data to the valid range for imshow with RGB data ([0..1] for floats or [0..255] for integers).\n",
      "Clipping input data to the valid range for imshow with RGB data ([0..1] for floats or [0..255] for integers).\n",
      "Clipping input data to the valid range for imshow with RGB data ([0..1] for floats or [0..255] for integers).\n",
      "Clipping input data to the valid range for imshow with RGB data ([0..1] for floats or [0..255] for integers).\n",
      "Clipping input data to the valid range for imshow with RGB data ([0..1] for floats or [0..255] for integers).\n",
      "Clipping input data to the valid range for imshow with RGB data ([0..1] for floats or [0..255] for integers).\n",
      "Clipping input data to the valid range for imshow with RGB data ([0..1] for floats or [0..255] for integers).\n"
     ]
    },
    {
     "name": "stdout",
     "output_type": "stream",
     "text": [
      "Discriminator Loss: 0.5995933597005205\n",
      "Generator Loss: [0.595998227596283, 0.5840156674385071, 0.0059912786819040775]\n"
     ]
    },
    {
     "name": "stderr",
     "output_type": "stream",
     "text": [
      "Clipping input data to the valid range for imshow with RGB data ([0..1] for floats or [0..255] for integers).\n",
      "Clipping input data to the valid range for imshow with RGB data ([0..1] for floats or [0..255] for integers).\n",
      "Clipping input data to the valid range for imshow with RGB data ([0..1] for floats or [0..255] for integers).\n",
      "Clipping input data to the valid range for imshow with RGB data ([0..1] for floats or [0..255] for integers).\n",
      "Clipping input data to the valid range for imshow with RGB data ([0..1] for floats or [0..255] for integers).\n",
      "Clipping input data to the valid range for imshow with RGB data ([0..1] for floats or [0..255] for integers).\n",
      "Clipping input data to the valid range for imshow with RGB data ([0..1] for floats or [0..255] for integers).\n",
      "Clipping input data to the valid range for imshow with RGB data ([0..1] for floats or [0..255] for integers).\n",
      "Clipping input data to the valid range for imshow with RGB data ([0..1] for floats or [0..255] for integers).\n",
      "Clipping input data to the valid range for imshow with RGB data ([0..1] for floats or [0..255] for integers).\n"
     ]
    },
    {
     "name": "stdout",
     "output_type": "stream",
     "text": [
      "Discriminator Loss: 0.6463114209182095\n",
      "Generator Loss: [0.49934718012809753, 0.48962050676345825, 0.00486333854496479]\n"
     ]
    },
    {
     "name": "stderr",
     "output_type": "stream",
     "text": [
      "Clipping input data to the valid range for imshow with RGB data ([0..1] for floats or [0..255] for integers).\n",
      "Clipping input data to the valid range for imshow with RGB data ([0..1] for floats or [0..255] for integers).\n",
      "Clipping input data to the valid range for imshow with RGB data ([0..1] for floats or [0..255] for integers).\n",
      "Clipping input data to the valid range for imshow with RGB data ([0..1] for floats or [0..255] for integers).\n",
      "Clipping input data to the valid range for imshow with RGB data ([0..1] for floats or [0..255] for integers).\n",
      "Clipping input data to the valid range for imshow with RGB data ([0..1] for floats or [0..255] for integers).\n",
      "Clipping input data to the valid range for imshow with RGB data ([0..1] for floats or [0..255] for integers).\n",
      "Clipping input data to the valid range for imshow with RGB data ([0..1] for floats or [0..255] for integers).\n",
      "Clipping input data to the valid range for imshow with RGB data ([0..1] for floats or [0..255] for integers).\n",
      "Clipping input data to the valid range for imshow with RGB data ([0..1] for floats or [0..255] for integers).\n"
     ]
    },
    {
     "name": "stdout",
     "output_type": "stream",
     "text": [
      "Discriminator Loss: 0.6053680284712755\n",
      "Generator Loss: [0.567225992679596, 0.5592665076255798, 0.003979743458330631]\n"
     ]
    },
    {
     "name": "stderr",
     "output_type": "stream",
     "text": [
      "Clipping input data to the valid range for imshow with RGB data ([0..1] for floats or [0..255] for integers).\n",
      "Clipping input data to the valid range for imshow with RGB data ([0..1] for floats or [0..255] for integers).\n",
      "Clipping input data to the valid range for imshow with RGB data ([0..1] for floats or [0..255] for integers).\n",
      "Clipping input data to the valid range for imshow with RGB data ([0..1] for floats or [0..255] for integers).\n",
      "Clipping input data to the valid range for imshow with RGB data ([0..1] for floats or [0..255] for integers).\n",
      "Clipping input data to the valid range for imshow with RGB data ([0..1] for floats or [0..255] for integers).\n",
      "Clipping input data to the valid range for imshow with RGB data ([0..1] for floats or [0..255] for integers).\n",
      "Clipping input data to the valid range for imshow with RGB data ([0..1] for floats or [0..255] for integers).\n",
      "Clipping input data to the valid range for imshow with RGB data ([0..1] for floats or [0..255] for integers).\n",
      "Clipping input data to the valid range for imshow with RGB data ([0..1] for floats or [0..255] for integers).\n"
     ]
    },
    {
     "name": "stdout",
     "output_type": "stream",
     "text": [
      "Discriminator Loss: 0.5996953585417941\n",
      "Generator Loss: [0.524951159954071, 0.5141470432281494, 0.005402061622589827]\n"
     ]
    },
    {
     "name": "stderr",
     "output_type": "stream",
     "text": [
      "Clipping input data to the valid range for imshow with RGB data ([0..1] for floats or [0..255] for integers).\n",
      "Clipping input data to the valid range for imshow with RGB data ([0..1] for floats or [0..255] for integers).\n",
      "Clipping input data to the valid range for imshow with RGB data ([0..1] for floats or [0..255] for integers).\n",
      "Clipping input data to the valid range for imshow with RGB data ([0..1] for floats or [0..255] for integers).\n",
      "Clipping input data to the valid range for imshow with RGB data ([0..1] for floats or [0..255] for integers).\n",
      "Clipping input data to the valid range for imshow with RGB data ([0..1] for floats or [0..255] for integers).\n",
      "Clipping input data to the valid range for imshow with RGB data ([0..1] for floats or [0..255] for integers).\n",
      "Clipping input data to the valid range for imshow with RGB data ([0..1] for floats or [0..255] for integers).\n",
      "Clipping input data to the valid range for imshow with RGB data ([0..1] for floats or [0..255] for integers).\n",
      "Clipping input data to the valid range for imshow with RGB data ([0..1] for floats or [0..255] for integers).\n"
     ]
    },
    {
     "name": "stdout",
     "output_type": "stream",
     "text": [
      "Discriminator Loss: 0.6064803815097548\n",
      "Generator Loss: [0.5453973412513733, 0.5373596549034119, 0.004018849693238735]\n"
     ]
    },
    {
     "name": "stderr",
     "output_type": "stream",
     "text": [
      "Clipping input data to the valid range for imshow with RGB data ([0..1] for floats or [0..255] for integers).\n",
      "Clipping input data to the valid range for imshow with RGB data ([0..1] for floats or [0..255] for integers).\n",
      "Clipping input data to the valid range for imshow with RGB data ([0..1] for floats or [0..255] for integers).\n",
      "Clipping input data to the valid range for imshow with RGB data ([0..1] for floats or [0..255] for integers).\n",
      "Clipping input data to the valid range for imshow with RGB data ([0..1] for floats or [0..255] for integers).\n",
      "Clipping input data to the valid range for imshow with RGB data ([0..1] for floats or [0..255] for integers).\n",
      "Clipping input data to the valid range for imshow with RGB data ([0..1] for floats or [0..255] for integers).\n",
      "Clipping input data to the valid range for imshow with RGB data ([0..1] for floats or [0..255] for integers).\n",
      "Clipping input data to the valid range for imshow with RGB data ([0..1] for floats or [0..255] for integers).\n",
      "Clipping input data to the valid range for imshow with RGB data ([0..1] for floats or [0..255] for integers).\n"
     ]
    },
    {
     "name": "stdout",
     "output_type": "stream",
     "text": [
      "Discriminator Loss: 0.5912049655453302\n",
      "Generator Loss: [0.5818791389465332, 0.5722976922988892, 0.004790732637047768]\n"
     ]
    },
    {
     "name": "stderr",
     "output_type": "stream",
     "text": [
      "Clipping input data to the valid range for imshow with RGB data ([0..1] for floats or [0..255] for integers).\n",
      "Clipping input data to the valid range for imshow with RGB data ([0..1] for floats or [0..255] for integers).\n",
      "Clipping input data to the valid range for imshow with RGB data ([0..1] for floats or [0..255] for integers).\n",
      "Clipping input data to the valid range for imshow with RGB data ([0..1] for floats or [0..255] for integers).\n",
      "Clipping input data to the valid range for imshow with RGB data ([0..1] for floats or [0..255] for integers).\n",
      "Clipping input data to the valid range for imshow with RGB data ([0..1] for floats or [0..255] for integers).\n",
      "Clipping input data to the valid range for imshow with RGB data ([0..1] for floats or [0..255] for integers).\n",
      "Clipping input data to the valid range for imshow with RGB data ([0..1] for floats or [0..255] for integers).\n",
      "Clipping input data to the valid range for imshow with RGB data ([0..1] for floats or [0..255] for integers).\n",
      "Clipping input data to the valid range for imshow with RGB data ([0..1] for floats or [0..255] for integers).\n"
     ]
    },
    {
     "name": "stdout",
     "output_type": "stream",
     "text": [
      "Discriminator Loss: 0.6194154521654127\n",
      "Generator Loss: [0.5678501725196838, 0.5589137077331543, 0.004468239843845367]\n"
     ]
    },
    {
     "name": "stderr",
     "output_type": "stream",
     "text": [
      "Clipping input data to the valid range for imshow with RGB data ([0..1] for floats or [0..255] for integers).\n",
      "Clipping input data to the valid range for imshow with RGB data ([0..1] for floats or [0..255] for integers).\n",
      "Clipping input data to the valid range for imshow with RGB data ([0..1] for floats or [0..255] for integers).\n",
      "Clipping input data to the valid range for imshow with RGB data ([0..1] for floats or [0..255] for integers).\n",
      "Clipping input data to the valid range for imshow with RGB data ([0..1] for floats or [0..255] for integers).\n",
      "Clipping input data to the valid range for imshow with RGB data ([0..1] for floats or [0..255] for integers).\n",
      "Clipping input data to the valid range for imshow with RGB data ([0..1] for floats or [0..255] for integers).\n",
      "Clipping input data to the valid range for imshow with RGB data ([0..1] for floats or [0..255] for integers).\n",
      "Clipping input data to the valid range for imshow with RGB data ([0..1] for floats or [0..255] for integers).\n",
      "Clipping input data to the valid range for imshow with RGB data ([0..1] for floats or [0..255] for integers).\n"
     ]
    },
    {
     "name": "stdout",
     "output_type": "stream",
     "text": [
      "Discriminator Loss: 0.5943751785671338\n",
      "Generator Loss: [0.6295821666717529, 0.6211695075035095, 0.004206339828670025]\n"
     ]
    },
    {
     "name": "stderr",
     "output_type": "stream",
     "text": [
      "Clipping input data to the valid range for imshow with RGB data ([0..1] for floats or [0..255] for integers).\n",
      "Clipping input data to the valid range for imshow with RGB data ([0..1] for floats or [0..255] for integers).\n",
      "Clipping input data to the valid range for imshow with RGB data ([0..1] for floats or [0..255] for integers).\n",
      "Clipping input data to the valid range for imshow with RGB data ([0..1] for floats or [0..255] for integers).\n",
      "Clipping input data to the valid range for imshow with RGB data ([0..1] for floats or [0..255] for integers).\n",
      "Clipping input data to the valid range for imshow with RGB data ([0..1] for floats or [0..255] for integers).\n",
      "Clipping input data to the valid range for imshow with RGB data ([0..1] for floats or [0..255] for integers).\n",
      "Clipping input data to the valid range for imshow with RGB data ([0..1] for floats or [0..255] for integers).\n",
      "Clipping input data to the valid range for imshow with RGB data ([0..1] for floats or [0..255] for integers).\n",
      "Clipping input data to the valid range for imshow with RGB data ([0..1] for floats or [0..255] for integers).\n"
     ]
    },
    {
     "name": "stdout",
     "output_type": "stream",
     "text": [
      "Discriminator Loss: 0.6839156360219931\n",
      "Generator Loss: [0.7654560208320618, 0.7581345438957214, 0.0036607286892831326]\n"
     ]
    },
    {
     "name": "stderr",
     "output_type": "stream",
     "text": [
      "Clipping input data to the valid range for imshow with RGB data ([0..1] for floats or [0..255] for integers).\n",
      "Clipping input data to the valid range for imshow with RGB data ([0..1] for floats or [0..255] for integers).\n",
      "Clipping input data to the valid range for imshow with RGB data ([0..1] for floats or [0..255] for integers).\n",
      "Clipping input data to the valid range for imshow with RGB data ([0..1] for floats or [0..255] for integers).\n",
      "Clipping input data to the valid range for imshow with RGB data ([0..1] for floats or [0..255] for integers).\n",
      "Clipping input data to the valid range for imshow with RGB data ([0..1] for floats or [0..255] for integers).\n",
      "Clipping input data to the valid range for imshow with RGB data ([0..1] for floats or [0..255] for integers).\n",
      "Clipping input data to the valid range for imshow with RGB data ([0..1] for floats or [0..255] for integers).\n",
      "Clipping input data to the valid range for imshow with RGB data ([0..1] for floats or [0..255] for integers).\n",
      "Clipping input data to the valid range for imshow with RGB data ([0..1] for floats or [0..255] for integers).\n"
     ]
    },
    {
     "name": "stdout",
     "output_type": "stream",
     "text": [
      "Discriminator Loss: 0.6009290867368691\n",
      "Generator Loss: [0.5661230087280273, 0.5597066879272461, 0.003208145499229431]\n"
     ]
    },
    {
     "name": "stderr",
     "output_type": "stream",
     "text": [
      "Clipping input data to the valid range for imshow with RGB data ([0..1] for floats or [0..255] for integers).\n",
      "Clipping input data to the valid range for imshow with RGB data ([0..1] for floats or [0..255] for integers).\n",
      "Clipping input data to the valid range for imshow with RGB data ([0..1] for floats or [0..255] for integers).\n",
      "Clipping input data to the valid range for imshow with RGB data ([0..1] for floats or [0..255] for integers).\n",
      "Clipping input data to the valid range for imshow with RGB data ([0..1] for floats or [0..255] for integers).\n",
      "Clipping input data to the valid range for imshow with RGB data ([0..1] for floats or [0..255] for integers).\n",
      "Clipping input data to the valid range for imshow with RGB data ([0..1] for floats or [0..255] for integers).\n",
      "Clipping input data to the valid range for imshow with RGB data ([0..1] for floats or [0..255] for integers).\n",
      "Clipping input data to the valid range for imshow with RGB data ([0..1] for floats or [0..255] for integers).\n",
      "Clipping input data to the valid range for imshow with RGB data ([0..1] for floats or [0..255] for integers).\n"
     ]
    },
    {
     "name": "stdout",
     "output_type": "stream",
     "text": [
      "Discriminator Loss: 0.5793089574654005\n",
      "Generator Loss: [0.6133347153663635, 0.6045712232589722, 0.004381748382002115]\n"
     ]
    },
    {
     "name": "stderr",
     "output_type": "stream",
     "text": [
      "Clipping input data to the valid range for imshow with RGB data ([0..1] for floats or [0..255] for integers).\n",
      "Clipping input data to the valid range for imshow with RGB data ([0..1] for floats or [0..255] for integers).\n",
      "Clipping input data to the valid range for imshow with RGB data ([0..1] for floats or [0..255] for integers).\n",
      "Clipping input data to the valid range for imshow with RGB data ([0..1] for floats or [0..255] for integers).\n",
      "Clipping input data to the valid range for imshow with RGB data ([0..1] for floats or [0..255] for integers).\n",
      "Clipping input data to the valid range for imshow with RGB data ([0..1] for floats or [0..255] for integers).\n",
      "Clipping input data to the valid range for imshow with RGB data ([0..1] for floats or [0..255] for integers).\n",
      "Clipping input data to the valid range for imshow with RGB data ([0..1] for floats or [0..255] for integers).\n",
      "Clipping input data to the valid range for imshow with RGB data ([0..1] for floats or [0..255] for integers).\n",
      "Clipping input data to the valid range for imshow with RGB data ([0..1] for floats or [0..255] for integers).\n"
     ]
    },
    {
     "name": "stdout",
     "output_type": "stream",
     "text": [
      "Discriminator Loss: 0.5967744523659348\n",
      "Generator Loss: [0.6796324253082275, 0.6696210503578186, 0.005005683749914169]\n"
     ]
    },
    {
     "name": "stderr",
     "output_type": "stream",
     "text": [
      "Clipping input data to the valid range for imshow with RGB data ([0..1] for floats or [0..255] for integers).\n",
      "Clipping input data to the valid range for imshow with RGB data ([0..1] for floats or [0..255] for integers).\n",
      "Clipping input data to the valid range for imshow with RGB data ([0..1] for floats or [0..255] for integers).\n",
      "Clipping input data to the valid range for imshow with RGB data ([0..1] for floats or [0..255] for integers).\n",
      "Clipping input data to the valid range for imshow with RGB data ([0..1] for floats or [0..255] for integers).\n",
      "Clipping input data to the valid range for imshow with RGB data ([0..1] for floats or [0..255] for integers).\n",
      "Clipping input data to the valid range for imshow with RGB data ([0..1] for floats or [0..255] for integers).\n",
      "Clipping input data to the valid range for imshow with RGB data ([0..1] for floats or [0..255] for integers).\n",
      "Clipping input data to the valid range for imshow with RGB data ([0..1] for floats or [0..255] for integers).\n",
      "Clipping input data to the valid range for imshow with RGB data ([0..1] for floats or [0..255] for integers).\n"
     ]
    },
    {
     "name": "stdout",
     "output_type": "stream",
     "text": [
      "Discriminator Loss: 0.5980789704772178\n",
      "Generator Loss: [0.6848888993263245, 0.6773905754089355, 0.003749152645468712]\n"
     ]
    },
    {
     "name": "stderr",
     "output_type": "stream",
     "text": [
      "Clipping input data to the valid range for imshow with RGB data ([0..1] for floats or [0..255] for integers).\n",
      "Clipping input data to the valid range for imshow with RGB data ([0..1] for floats or [0..255] for integers).\n",
      "Clipping input data to the valid range for imshow with RGB data ([0..1] for floats or [0..255] for integers).\n",
      "Clipping input data to the valid range for imshow with RGB data ([0..1] for floats or [0..255] for integers).\n",
      "Clipping input data to the valid range for imshow with RGB data ([0..1] for floats or [0..255] for integers).\n",
      "Clipping input data to the valid range for imshow with RGB data ([0..1] for floats or [0..255] for integers).\n",
      "Clipping input data to the valid range for imshow with RGB data ([0..1] for floats or [0..255] for integers).\n",
      "Clipping input data to the valid range for imshow with RGB data ([0..1] for floats or [0..255] for integers).\n",
      "Clipping input data to the valid range for imshow with RGB data ([0..1] for floats or [0..255] for integers).\n",
      "Clipping input data to the valid range for imshow with RGB data ([0..1] for floats or [0..255] for integers).\n"
     ]
    },
    {
     "name": "stdout",
     "output_type": "stream",
     "text": [
      "Discriminator Loss: 0.6330828928912524\n",
      "Generator Loss: [0.6872400641441345, 0.6739411354064941, 0.006649462506175041]\n"
     ]
    },
    {
     "name": "stderr",
     "output_type": "stream",
     "text": [
      "Clipping input data to the valid range for imshow with RGB data ([0..1] for floats or [0..255] for integers).\n",
      "Clipping input data to the valid range for imshow with RGB data ([0..1] for floats or [0..255] for integers).\n",
      "Clipping input data to the valid range for imshow with RGB data ([0..1] for floats or [0..255] for integers).\n",
      "Clipping input data to the valid range for imshow with RGB data ([0..1] for floats or [0..255] for integers).\n",
      "Clipping input data to the valid range for imshow with RGB data ([0..1] for floats or [0..255] for integers).\n",
      "Clipping input data to the valid range for imshow with RGB data ([0..1] for floats or [0..255] for integers).\n",
      "Clipping input data to the valid range for imshow with RGB data ([0..1] for floats or [0..255] for integers).\n",
      "Clipping input data to the valid range for imshow with RGB data ([0..1] for floats or [0..255] for integers).\n",
      "Clipping input data to the valid range for imshow with RGB data ([0..1] for floats or [0..255] for integers).\n",
      "Clipping input data to the valid range for imshow with RGB data ([0..1] for floats or [0..255] for integers).\n"
     ]
    },
    {
     "name": "stdout",
     "output_type": "stream",
     "text": [
      "Discriminator Loss: 0.6085342296864837\n",
      "Generator Loss: [0.6140819191932678, 0.6014270782470703, 0.006327416282147169]\n"
     ]
    },
    {
     "name": "stderr",
     "output_type": "stream",
     "text": [
      "Clipping input data to the valid range for imshow with RGB data ([0..1] for floats or [0..255] for integers).\n",
      "Clipping input data to the valid range for imshow with RGB data ([0..1] for floats or [0..255] for integers).\n",
      "Clipping input data to the valid range for imshow with RGB data ([0..1] for floats or [0..255] for integers).\n",
      "Clipping input data to the valid range for imshow with RGB data ([0..1] for floats or [0..255] for integers).\n",
      "Clipping input data to the valid range for imshow with RGB data ([0..1] for floats or [0..255] for integers).\n",
      "Clipping input data to the valid range for imshow with RGB data ([0..1] for floats or [0..255] for integers).\n",
      "Clipping input data to the valid range for imshow with RGB data ([0..1] for floats or [0..255] for integers).\n",
      "Clipping input data to the valid range for imshow with RGB data ([0..1] for floats or [0..255] for integers).\n",
      "Clipping input data to the valid range for imshow with RGB data ([0..1] for floats or [0..255] for integers).\n",
      "Clipping input data to the valid range for imshow with RGB data ([0..1] for floats or [0..255] for integers).\n"
     ]
    },
    {
     "name": "stdout",
     "output_type": "stream",
     "text": [
      "Discriminator Loss: 0.6150014592931257\n",
      "Generator Loss: [0.5846178531646729, 0.5767472982406616, 0.0039352839812636375]\n"
     ]
    },
    {
     "name": "stderr",
     "output_type": "stream",
     "text": [
      "Clipping input data to the valid range for imshow with RGB data ([0..1] for floats or [0..255] for integers).\n",
      "Clipping input data to the valid range for imshow with RGB data ([0..1] for floats or [0..255] for integers).\n",
      "Clipping input data to the valid range for imshow with RGB data ([0..1] for floats or [0..255] for integers).\n",
      "Clipping input data to the valid range for imshow with RGB data ([0..1] for floats or [0..255] for integers).\n",
      "Clipping input data to the valid range for imshow with RGB data ([0..1] for floats or [0..255] for integers).\n",
      "Clipping input data to the valid range for imshow with RGB data ([0..1] for floats or [0..255] for integers).\n",
      "Clipping input data to the valid range for imshow with RGB data ([0..1] for floats or [0..255] for integers).\n",
      "Clipping input data to the valid range for imshow with RGB data ([0..1] for floats or [0..255] for integers).\n",
      "Clipping input data to the valid range for imshow with RGB data ([0..1] for floats or [0..255] for integers).\n",
      "Clipping input data to the valid range for imshow with RGB data ([0..1] for floats or [0..255] for integers).\n"
     ]
    },
    {
     "name": "stdout",
     "output_type": "stream",
     "text": [
      "Discriminator Loss: 0.6216396294767037\n",
      "Generator Loss: [0.6480348706245422, 0.6376630067825317, 0.0051859221421182156]\n"
     ]
    },
    {
     "name": "stderr",
     "output_type": "stream",
     "text": [
      "Clipping input data to the valid range for imshow with RGB data ([0..1] for floats or [0..255] for integers).\n",
      "Clipping input data to the valid range for imshow with RGB data ([0..1] for floats or [0..255] for integers).\n",
      "Clipping input data to the valid range for imshow with RGB data ([0..1] for floats or [0..255] for integers).\n",
      "Clipping input data to the valid range for imshow with RGB data ([0..1] for floats or [0..255] for integers).\n",
      "Clipping input data to the valid range for imshow with RGB data ([0..1] for floats or [0..255] for integers).\n",
      "Clipping input data to the valid range for imshow with RGB data ([0..1] for floats or [0..255] for integers).\n",
      "Clipping input data to the valid range for imshow with RGB data ([0..1] for floats or [0..255] for integers).\n",
      "Clipping input data to the valid range for imshow with RGB data ([0..1] for floats or [0..255] for integers).\n",
      "Clipping input data to the valid range for imshow with RGB data ([0..1] for floats or [0..255] for integers).\n",
      "Clipping input data to the valid range for imshow with RGB data ([0..1] for floats or [0..255] for integers).\n"
     ]
    },
    {
     "name": "stdout",
     "output_type": "stream",
     "text": [
      "Discriminator Loss: 0.5940810967294965\n",
      "Generator Loss: [0.6617148518562317, 0.6535564661026001, 0.004079187288880348]\n"
     ]
    },
    {
     "name": "stderr",
     "output_type": "stream",
     "text": [
      "Clipping input data to the valid range for imshow with RGB data ([0..1] for floats or [0..255] for integers).\n",
      "Clipping input data to the valid range for imshow with RGB data ([0..1] for floats or [0..255] for integers).\n",
      "Clipping input data to the valid range for imshow with RGB data ([0..1] for floats or [0..255] for integers).\n",
      "Clipping input data to the valid range for imshow with RGB data ([0..1] for floats or [0..255] for integers).\n",
      "Clipping input data to the valid range for imshow with RGB data ([0..1] for floats or [0..255] for integers).\n",
      "Clipping input data to the valid range for imshow with RGB data ([0..1] for floats or [0..255] for integers).\n",
      "Clipping input data to the valid range for imshow with RGB data ([0..1] for floats or [0..255] for integers).\n",
      "Clipping input data to the valid range for imshow with RGB data ([0..1] for floats or [0..255] for integers).\n",
      "Clipping input data to the valid range for imshow with RGB data ([0..1] for floats or [0..255] for integers).\n",
      "Clipping input data to the valid range for imshow with RGB data ([0..1] for floats or [0..255] for integers).\n"
     ]
    },
    {
     "name": "stdout",
     "output_type": "stream",
     "text": [
      "Discriminator Loss: 0.5957896789095685\n",
      "Generator Loss: [0.6474128365516663, 0.6404476165771484, 0.0034826169721782207]\n"
     ]
    },
    {
     "name": "stderr",
     "output_type": "stream",
     "text": [
      "Clipping input data to the valid range for imshow with RGB data ([0..1] for floats or [0..255] for integers).\n",
      "Clipping input data to the valid range for imshow with RGB data ([0..1] for floats or [0..255] for integers).\n",
      "Clipping input data to the valid range for imshow with RGB data ([0..1] for floats or [0..255] for integers).\n",
      "Clipping input data to the valid range for imshow with RGB data ([0..1] for floats or [0..255] for integers).\n",
      "Clipping input data to the valid range for imshow with RGB data ([0..1] for floats or [0..255] for integers).\n",
      "Clipping input data to the valid range for imshow with RGB data ([0..1] for floats or [0..255] for integers).\n",
      "Clipping input data to the valid range for imshow with RGB data ([0..1] for floats or [0..255] for integers).\n",
      "Clipping input data to the valid range for imshow with RGB data ([0..1] for floats or [0..255] for integers).\n",
      "Clipping input data to the valid range for imshow with RGB data ([0..1] for floats or [0..255] for integers).\n",
      "Clipping input data to the valid range for imshow with RGB data ([0..1] for floats or [0..255] for integers).\n"
     ]
    },
    {
     "name": "stdout",
     "output_type": "stream",
     "text": [
      "Discriminator Loss: 0.5999181199877057\n",
      "Generator Loss: [0.6381790637969971, 0.6294075846672058, 0.004385729320347309]\n"
     ]
    },
    {
     "name": "stderr",
     "output_type": "stream",
     "text": [
      "Clipping input data to the valid range for imshow with RGB data ([0..1] for floats or [0..255] for integers).\n",
      "Clipping input data to the valid range for imshow with RGB data ([0..1] for floats or [0..255] for integers).\n",
      "Clipping input data to the valid range for imshow with RGB data ([0..1] for floats or [0..255] for integers).\n",
      "Clipping input data to the valid range for imshow with RGB data ([0..1] for floats or [0..255] for integers).\n",
      "Clipping input data to the valid range for imshow with RGB data ([0..1] for floats or [0..255] for integers).\n",
      "Clipping input data to the valid range for imshow with RGB data ([0..1] for floats or [0..255] for integers).\n",
      "Clipping input data to the valid range for imshow with RGB data ([0..1] for floats or [0..255] for integers).\n",
      "Clipping input data to the valid range for imshow with RGB data ([0..1] for floats or [0..255] for integers).\n",
      "Clipping input data to the valid range for imshow with RGB data ([0..1] for floats or [0..255] for integers).\n",
      "Clipping input data to the valid range for imshow with RGB data ([0..1] for floats or [0..255] for integers).\n"
     ]
    },
    {
     "name": "stdout",
     "output_type": "stream",
     "text": [
      "Discriminator Loss: 0.6205144180094067\n",
      "Generator Loss: [0.5839255452156067, 0.5790212154388428, 0.0024521637242287397]\n"
     ]
    },
    {
     "name": "stderr",
     "output_type": "stream",
     "text": [
      "Clipping input data to the valid range for imshow with RGB data ([0..1] for floats or [0..255] for integers).\n",
      "Clipping input data to the valid range for imshow with RGB data ([0..1] for floats or [0..255] for integers).\n",
      "Clipping input data to the valid range for imshow with RGB data ([0..1] for floats or [0..255] for integers).\n",
      "Clipping input data to the valid range for imshow with RGB data ([0..1] for floats or [0..255] for integers).\n",
      "Clipping input data to the valid range for imshow with RGB data ([0..1] for floats or [0..255] for integers).\n",
      "Clipping input data to the valid range for imshow with RGB data ([0..1] for floats or [0..255] for integers).\n",
      "Clipping input data to the valid range for imshow with RGB data ([0..1] for floats or [0..255] for integers).\n",
      "Clipping input data to the valid range for imshow with RGB data ([0..1] for floats or [0..255] for integers).\n",
      "Clipping input data to the valid range for imshow with RGB data ([0..1] for floats or [0..255] for integers).\n",
      "Clipping input data to the valid range for imshow with RGB data ([0..1] for floats or [0..255] for integers).\n"
     ]
    },
    {
     "name": "stdout",
     "output_type": "stream",
     "text": [
      "Discriminator Loss: 0.5774433880869765\n",
      "Generator Loss: [0.5931529998779297, 0.5879694223403931, 0.0025917922612279654]\n"
     ]
    },
    {
     "name": "stderr",
     "output_type": "stream",
     "text": [
      "Clipping input data to the valid range for imshow with RGB data ([0..1] for floats or [0..255] for integers).\n",
      "Clipping input data to the valid range for imshow with RGB data ([0..1] for floats or [0..255] for integers).\n",
      "Clipping input data to the valid range for imshow with RGB data ([0..1] for floats or [0..255] for integers).\n",
      "Clipping input data to the valid range for imshow with RGB data ([0..1] for floats or [0..255] for integers).\n",
      "Clipping input data to the valid range for imshow with RGB data ([0..1] for floats or [0..255] for integers).\n",
      "Clipping input data to the valid range for imshow with RGB data ([0..1] for floats or [0..255] for integers).\n",
      "Clipping input data to the valid range for imshow with RGB data ([0..1] for floats or [0..255] for integers).\n",
      "Clipping input data to the valid range for imshow with RGB data ([0..1] for floats or [0..255] for integers).\n",
      "Clipping input data to the valid range for imshow with RGB data ([0..1] for floats or [0..255] for integers).\n",
      "Clipping input data to the valid range for imshow with RGB data ([0..1] for floats or [0..255] for integers).\n"
     ]
    },
    {
     "name": "stdout",
     "output_type": "stream",
     "text": [
      "Discriminator Loss: 0.5901305625011446\n",
      "Generator Loss: [0.5977582335472107, 0.5920051336288452, 0.0028765385504812002]\n"
     ]
    },
    {
     "name": "stderr",
     "output_type": "stream",
     "text": [
      "Clipping input data to the valid range for imshow with RGB data ([0..1] for floats or [0..255] for integers).\n",
      "Clipping input data to the valid range for imshow with RGB data ([0..1] for floats or [0..255] for integers).\n",
      "Clipping input data to the valid range for imshow with RGB data ([0..1] for floats or [0..255] for integers).\n",
      "Clipping input data to the valid range for imshow with RGB data ([0..1] for floats or [0..255] for integers).\n",
      "Clipping input data to the valid range for imshow with RGB data ([0..1] for floats or [0..255] for integers).\n",
      "Clipping input data to the valid range for imshow with RGB data ([0..1] for floats or [0..255] for integers).\n",
      "Clipping input data to the valid range for imshow with RGB data ([0..1] for floats or [0..255] for integers).\n",
      "Clipping input data to the valid range for imshow with RGB data ([0..1] for floats or [0..255] for integers).\n",
      "Clipping input data to the valid range for imshow with RGB data ([0..1] for floats or [0..255] for integers).\n",
      "Clipping input data to the valid range for imshow with RGB data ([0..1] for floats or [0..255] for integers).\n"
     ]
    },
    {
     "name": "stdout",
     "output_type": "stream",
     "text": [
      "Discriminator Loss: 0.614616815932095\n",
      "Generator Loss: [0.6122318506240845, 0.6054579019546509, 0.0033869801554828882]\n"
     ]
    },
    {
     "name": "stderr",
     "output_type": "stream",
     "text": [
      "Clipping input data to the valid range for imshow with RGB data ([0..1] for floats or [0..255] for integers).\n",
      "Clipping input data to the valid range for imshow with RGB data ([0..1] for floats or [0..255] for integers).\n",
      "Clipping input data to the valid range for imshow with RGB data ([0..1] for floats or [0..255] for integers).\n",
      "Clipping input data to the valid range for imshow with RGB data ([0..1] for floats or [0..255] for integers).\n",
      "Clipping input data to the valid range for imshow with RGB data ([0..1] for floats or [0..255] for integers).\n",
      "Clipping input data to the valid range for imshow with RGB data ([0..1] for floats or [0..255] for integers).\n",
      "Clipping input data to the valid range for imshow with RGB data ([0..1] for floats or [0..255] for integers).\n",
      "Clipping input data to the valid range for imshow with RGB data ([0..1] for floats or [0..255] for integers).\n",
      "Clipping input data to the valid range for imshow with RGB data ([0..1] for floats or [0..255] for integers).\n",
      "Clipping input data to the valid range for imshow with RGB data ([0..1] for floats or [0..255] for integers).\n"
     ]
    },
    {
     "name": "stdout",
     "output_type": "stream",
     "text": [
      "Epoch: 1\n",
      "Discriminator Loss: 0.6235824866744224\n",
      "Generator Loss: [0.6040969491004944, 0.5958951711654663, 0.00410089734941721]\n",
      "Discriminator Loss: 0.6135627429466695\n",
      "Generator Loss: [0.5977954268455505, 0.589765191078186, 0.004015129990875721]\n",
      "Discriminator Loss: 0.6153851489943918\n",
      "Generator Loss: [0.588952898979187, 0.5798052549362183, 0.00457382295280695]\n",
      "Discriminator Loss: 0.6326816372729809\n",
      "Generator Loss: [0.5533849000930786, 0.5454598665237427, 0.003962512593716383]\n",
      "Discriminator Loss: 0.6134933417779393\n",
      "Generator Loss: [0.544869065284729, 0.5379041433334351, 0.003482453990727663]\n",
      "Discriminator Loss: 0.6201572936552111\n",
      "Generator Loss: [0.5646368265151978, 0.558405339717865, 0.003115752013400197]\n",
      "Discriminator Loss: 0.6000592154814512\n",
      "Generator Loss: [0.5632144212722778, 0.5582342743873596, 0.002490073209628463]\n",
      "Discriminator Loss: 0.5870022821472958\n",
      "Generator Loss: [0.5521346926689148, 0.5406662225723267, 0.005734234116971493]\n",
      "Discriminator Loss: 0.5926825906162776\n",
      "Generator Loss: [0.5741488337516785, 0.5559272170066833, 0.009110796265304089]\n",
      "Discriminator Loss: 0.5967314963927492\n",
      "Generator Loss: [0.5869424343109131, 0.5775285959243774, 0.004706932231783867]\n",
      "Discriminator Loss: 0.6373867709189653\n",
      "Generator Loss: [0.5906493067741394, 0.5838380455970764, 0.003405624069273472]\n",
      "Discriminator Loss: 0.6039566522231326\n",
      "Generator Loss: [0.5706665515899658, 0.5650268197059631, 0.0028198696672916412]\n",
      "Discriminator Loss: 0.6003350405371748\n",
      "Generator Loss: [0.5519275665283203, 0.5462796092033386, 0.0028239665552973747]\n",
      "Discriminator Loss: 0.5959672412718646\n",
      "Generator Loss: [0.5842181444168091, 0.5777763724327087, 0.003220893209800124]\n",
      "Discriminator Loss: 0.6105273053544806\n",
      "Generator Loss: [0.5503491163253784, 0.5394366383552551, 0.005456250626593828]\n",
      "Discriminator Loss: 0.6059958877740428\n",
      "Generator Loss: [0.5624375939369202, 0.5536795854568481, 0.00437901122495532]\n",
      "Discriminator Loss: 0.6142378594740876\n",
      "Generator Loss: [0.5464731454849243, 0.5395053029060364, 0.003483907785266638]\n",
      "Discriminator Loss: 0.6083540971012553\n",
      "Generator Loss: [0.553796648979187, 0.5490924119949341, 0.0023521166294813156]\n",
      "Discriminator Loss: 0.6221921970136464\n",
      "Generator Loss: [0.5579596161842346, 0.5526319742202759, 0.002663832623511553]\n",
      "Discriminator Loss: 0.6335439867325476\n",
      "Generator Loss: [0.5269740223884583, 0.5226556062698364, 0.002159220166504383]\n",
      "Discriminator Loss: 0.5891820303368149\n",
      "Generator Loss: [0.5279913544654846, 0.5225796699523926, 0.002705836668610573]\n",
      "Discriminator Loss: 0.6216873826924711\n",
      "Generator Loss: [0.6177189946174622, 0.6131468415260315, 0.002286065835505724]\n",
      "Discriminator Loss: 0.593781102244975\n",
      "Generator Loss: [0.5778087377548218, 0.5734138488769531, 0.0021974428091198206]\n",
      "Discriminator Loss: 0.5751896040492284\n",
      "Generator Loss: [0.5779933333396912, 0.571614146232605, 0.0031895930878818035]\n",
      "Discriminator Loss: 0.6227387748658657\n",
      "Generator Loss: [0.6096765995025635, 0.6027274131774902, 0.00347460457123816]\n",
      "Discriminator Loss: 0.5825912141808658\n",
      "Generator Loss: [0.648473858833313, 0.6419722437858582, 0.003250812878832221]\n",
      "Discriminator Loss: 0.6121861488791183\n",
      "Generator Loss: [0.634842038154602, 0.6294949054718018, 0.002673559356480837]\n",
      "Discriminator Loss: 0.7496744468808174\n",
      "Generator Loss: [0.8499404191970825, 0.8409852385520935, 0.004477584734559059]\n",
      "Discriminator Loss: 0.6325196446850896\n",
      "Generator Loss: [1.6610915660858154, 1.654062032699585, 0.0035147578455507755]\n",
      "Discriminator Loss: 0.7219126301351935\n",
      "Generator Loss: [0.7650721669197083, 0.7578061819076538, 0.0036329985596239567]\n",
      "Discriminator Loss: 0.6035797204822302\n",
      "Generator Loss: [1.105895757675171, 1.0994141101837158, 0.003240841208025813]\n",
      "Discriminator Loss: 0.6721504555898719\n",
      "Generator Loss: [1.1158623695373535, 1.106086254119873, 0.004888076335191727]\n",
      "Discriminator Loss: 0.6176383974961936\n",
      "Generator Loss: [0.8147505521774292, 0.8089675903320312, 0.002891485346481204]\n",
      "Discriminator Loss: 0.6335688093677163\n",
      "Generator Loss: [0.7714157104492188, 0.7643917798995972, 0.0035119717940688133]\n",
      "Discriminator Loss: 0.6028251651441678\n",
      "Generator Loss: [0.827765941619873, 0.8216609954833984, 0.0030524744652211666]\n",
      "Discriminator Loss: 0.6181302110198885\n",
      "Generator Loss: [0.7412606477737427, 0.7337967753410339, 0.003731922712177038]\n",
      "Discriminator Loss: 0.6312806345522404\n",
      "Generator Loss: [0.6902647018432617, 0.6825987696647644, 0.0038329805247485638]\n",
      "Discriminator Loss: 0.6413494487060234\n",
      "Generator Loss: [0.6333867311477661, 0.626779317855835, 0.003303700592368841]\n",
      "Discriminator Loss: 0.6275802538730204\n",
      "Generator Loss: [0.6188467741012573, 0.6107468605041504, 0.004049948416650295]\n",
      "Discriminator Loss: 0.6165576700586826\n",
      "Generator Loss: [0.7398914694786072, 0.734200119972229, 0.0028456670697778463]\n",
      "Discriminator Loss: 0.5994875841133762\n",
      "Generator Loss: [0.6623637676239014, 0.6561633348464966, 0.0031002280302345753]\n",
      "Discriminator Loss: 0.6129314069694374\n",
      "Generator Loss: [0.5937034487724304, 0.5873409509658813, 0.003181254491209984]\n",
      "Discriminator Loss: 0.601193162263371\n",
      "Generator Loss: [0.6050631403923035, 0.5983272194862366, 0.0033679630141705275]\n",
      "Discriminator Loss: 0.5986654060470755\n",
      "Generator Loss: [0.5218263864517212, 0.5160101652145386, 0.0029081027023494244]\n",
      "Discriminator Loss: 0.5967020753305405\n",
      "Generator Loss: [0.5114930868148804, 0.5042985677719116, 0.00359726813621819]\n",
      "Discriminator Loss: 0.5873351664922666\n",
      "Generator Loss: [0.5245969295501709, 0.5175783038139343, 0.003509326372295618]\n",
      "Discriminator Loss: 0.6136474159720819\n",
      "Generator Loss: [0.4969292879104614, 0.49006831645965576, 0.003430485725402832]\n",
      "Discriminator Loss: 0.603539234463824\n",
      "Generator Loss: [0.46868470311164856, 0.4624330997467041, 0.0031258089002221823]\n",
      "Discriminator Loss: 0.6123439129441977\n",
      "Generator Loss: [0.43668290972709656, 0.42874032258987427, 0.003971289377659559]\n",
      "Discriminator Loss: 0.6108091030619107\n",
      "Generator Loss: [0.5555579662322998, 0.5505444407463074, 0.0025067732203751802]\n",
      "Discriminator Loss: 0.6018122557070456\n",
      "Generator Loss: [0.4587743282318115, 0.4537241458892822, 0.0025250876788049936]\n",
      "Discriminator Loss: 0.6274639233015478\n",
      "Generator Loss: [0.5114569664001465, 0.5076931118965149, 0.0018819329561665654]\n",
      "Discriminator Loss: 0.5870537875598529\n",
      "Generator Loss: [0.43833327293395996, 0.4325729310512543, 0.0028801667504012585]\n",
      "Discriminator Loss: 0.6015440783812664\n",
      "Generator Loss: [0.45321086049079895, 0.44786667823791504, 0.0026720925234258175]\n",
      "Discriminator Loss: 0.583998121204786\n",
      "Generator Loss: [0.472970187664032, 0.4674331545829773, 0.0027685200329869986]\n",
      "Discriminator Loss: 0.6234142497414723\n",
      "Generator Loss: [0.458817720413208, 0.45123445987701416, 0.0037916311994194984]\n",
      "Discriminator Loss: 0.5976363412337378\n",
      "Generator Loss: [0.4819684326648712, 0.47384169697761536, 0.004063367377966642]\n",
      "Discriminator Loss: 0.6038153127301484\n",
      "Generator Loss: [0.48274680972099304, 0.4770239591598511, 0.002861427143216133]\n",
      "Discriminator Loss: 0.6013455725624226\n",
      "Generator Loss: [0.45436954498291016, 0.44872722029685974, 0.0028211609460413456]\n",
      "Discriminator Loss: 0.5965193592928699\n",
      "Generator Loss: [0.43793395161628723, 0.4324807822704315, 0.0027265786193311214]\n",
      "Discriminator Loss: 0.5922215670034348\n",
      "Generator Loss: [0.44961845874786377, 0.44478482007980347, 0.0024168137460947037]\n",
      "Discriminator Loss: 0.6053302881482523\n",
      "Generator Loss: [0.4593876600265503, 0.4552801251411438, 0.0020537646487355232]\n",
      "Discriminator Loss: 0.6048937073828711\n",
      "Generator Loss: [0.43275773525238037, 0.4282819926738739, 0.002237865934148431]\n",
      "Discriminator Loss: 0.6043541337130591\n",
      "Generator Loss: [0.4334157109260559, 0.42901352047920227, 0.002201099181547761]\n",
      "Discriminator Loss: 0.5963006311503705\n",
      "Generator Loss: [0.49528929591178894, 0.48936110734939575, 0.002964097075164318]\n",
      "Discriminator Loss: 0.5849497954914114\n",
      "Generator Loss: [0.5365996956825256, 0.5318989157676697, 0.0023503785487264395]\n",
      "Discriminator Loss: 0.6187446654075757\n",
      "Generator Loss: [0.4669470489025116, 0.4628491997718811, 0.002048919443041086]\n",
      "Discriminator Loss: 0.6007153016980737\n",
      "Generator Loss: [0.4471948742866516, 0.44217175245285034, 0.0025115618482232094]\n",
      "Discriminator Loss: 0.6160345281423361\n",
      "Generator Loss: [0.4421387016773224, 0.43838927149772644, 0.0018747166031971574]\n",
      "Discriminator Loss: 0.6019523253926309\n"
     ]
    },
    {
     "name": "stdout",
     "output_type": "stream",
     "text": [
      "Generator Loss: [0.4318770468235016, 0.42729300260543823, 0.00229202164337039]\n",
      "Discriminator Loss: 0.5997945968774729\n",
      "Generator Loss: [0.4104025065898895, 0.40468114614486694, 0.002860686741769314]\n",
      "Discriminator Loss: 0.6083794024307281\n",
      "Generator Loss: [0.46305418014526367, 0.45924150943756104, 0.0019063400104641914]\n",
      "Discriminator Loss: 0.5853410003037425\n",
      "Generator Loss: [0.46590015292167664, 0.46111130714416504, 0.0023944159038364887]\n",
      "Discriminator Loss: 0.5848182666522916\n",
      "Generator Loss: [0.43047982454299927, 0.4261026978492737, 0.002188560552895069]\n",
      "Discriminator Loss: 0.5987417891446967\n",
      "Generator Loss: [0.4147689938545227, 0.41013434529304504, 0.0023173284716904163]\n",
      "Discriminator Loss: 0.6402476180810481\n",
      "Generator Loss: [0.6414366364479065, 0.6368499994277954, 0.002293315948918462]\n",
      "Discriminator Loss: 0.5885258279449772\n",
      "Generator Loss: [0.6327070593833923, 0.6290509104728699, 0.001828082138672471]\n",
      "Discriminator Loss: 0.6002154830785003\n",
      "Generator Loss: [0.47414225339889526, 0.4696471393108368, 0.002247558906674385]\n",
      "Discriminator Loss: 0.599563220370328\n",
      "Generator Loss: [0.45565178990364075, 0.4510883688926697, 0.0022817091085016727]\n",
      "Discriminator Loss: 0.5845019731204957\n",
      "Generator Loss: [0.3703615665435791, 0.3663707375526428, 0.0019954219460487366]\n",
      "Discriminator Loss: 0.5794598158245208\n",
      "Generator Loss: [0.3715972602367401, 0.3667184114456177, 0.0024394234642386436]\n",
      "Discriminator Loss: 0.5932932083960623\n",
      "Generator Loss: [0.41549378633499146, 0.4117799401283264, 0.0018569228705018759]\n",
      "Discriminator Loss: 0.583863542182371\n",
      "Generator Loss: [0.4136817455291748, 0.4096144735813141, 0.002033628523349762]\n",
      "Discriminator Loss: 0.5868851612322032\n",
      "Generator Loss: [0.48811906576156616, 0.48425474762916565, 0.001932151964865625]\n",
      "Discriminator Loss: 0.5997291519888677\n",
      "Generator Loss: [0.6097117066383362, 0.6061409711837769, 0.0017853672616183758]\n",
      "Discriminator Loss: 0.5821721322136\n",
      "Generator Loss: [0.44104355573654175, 0.4370384216308594, 0.002002560067921877]\n",
      "Discriminator Loss: 0.5834812094690278\n",
      "Generator Loss: [0.4781397879123688, 0.47346848249435425, 0.0023356524761766195]\n",
      "Discriminator Loss: 0.6148796571069397\n",
      "Generator Loss: [0.4883655309677124, 0.48329514265060425, 0.002535188104957342]\n",
      "Discriminator Loss: 0.6460881914244965\n",
      "Generator Loss: [1.0950249433517456, 1.0886726379394531, 0.0031761627178639174]\n",
      "Discriminator Loss: 0.5802483080187812\n",
      "Generator Loss: [0.9416806697845459, 0.9365034103393555, 0.0025886213406920433]\n",
      "Discriminator Loss: 0.6101466547697783\n",
      "Generator Loss: [0.8739766478538513, 0.869979739189148, 0.0019984450191259384]\n",
      "Discriminator Loss: 0.6197929388072225\n",
      "Generator Loss: [0.8426862359046936, 0.8366066217422485, 0.003039793809875846]\n",
      "Discriminator Loss: 0.6043196782266023\n",
      "Generator Loss: [0.8108217716217041, 0.8048540949821472, 0.0029838415794074535]\n",
      "Discriminator Loss: 0.6066308832378127\n",
      "Generator Loss: [0.7251415848731995, 0.7182649970054626, 0.003438290674239397]\n",
      "Discriminator Loss: 0.621640894736629\n",
      "Generator Loss: [0.6415541172027588, 0.6373391151428223, 0.002107487292960286]\n",
      "Discriminator Loss: 0.5701794947963208\n",
      "Generator Loss: [0.6252610087394714, 0.6187840700149536, 0.0032384791411459446]\n",
      "Discriminator Loss: 0.5744139961898327\n",
      "Generator Loss: [1.611933708190918, 1.6065946817398071, 0.00266951322555542]\n",
      "Discriminator Loss: 0.7910693380981684\n",
      "Generator Loss: [1.7859346866607666, 1.7799839973449707, 0.0029753665439784527]\n",
      "Discriminator Loss: 0.6053397376090288\n",
      "Generator Loss: [1.26926589012146, 1.2630685567855835, 0.0030986652709543705]\n",
      "Discriminator Loss: 0.6074139648117125\n",
      "Generator Loss: [0.7814076542854309, 0.7770575284957886, 0.0021750610321760178]\n",
      "Discriminator Loss: 0.6300505846738815\n",
      "Generator Loss: [0.905301570892334, 0.9010229706764221, 0.0021393033675849438]\n",
      "Discriminator Loss: 0.6022255623247474\n",
      "Generator Loss: [0.7019913792610168, 0.6981385350227356, 0.0019264196744188666]\n",
      "Discriminator Loss: 0.6245616748929024\n",
      "Generator Loss: [1.079722285270691, 1.0750123262405396, 0.0023549727629870176]\n",
      "Discriminator Loss: 0.6227101735130418\n",
      "Generator Loss: [1.1300469636917114, 1.1262744665145874, 0.0018862371798604727]\n",
      "Discriminator Loss: 0.6225016638636589\n",
      "Generator Loss: [0.7756226062774658, 0.7723437547683716, 0.0016394376289099455]\n",
      "Discriminator Loss: 0.594985953066498\n",
      "Generator Loss: [0.9447998404502869, 0.9411789774894714, 0.001810430083423853]\n",
      "Discriminator Loss: 0.6214262451976538\n",
      "Generator Loss: [0.983421802520752, 0.9788574576377869, 0.002282169181853533]\n",
      "Discriminator Loss: 0.5977949050138704\n",
      "Generator Loss: [0.7860851883888245, 0.7818323373794556, 0.002126429695636034]\n",
      "Discriminator Loss: 0.6123287277296185\n",
      "Generator Loss: [0.8667219281196594, 0.8626819252967834, 0.0020199972204864025]\n",
      "Discriminator Loss: 0.5940828971433803\n",
      "Generator Loss: [0.8055479526519775, 0.8010819554328918, 0.0022329953499138355]\n",
      "Discriminator Loss: 0.5910755439545028\n",
      "Generator Loss: [0.7431178092956543, 0.738463282585144, 0.0023272689431905746]\n",
      "Discriminator Loss: 0.6069779638200998\n",
      "Generator Loss: [0.8737860918045044, 0.869036078453064, 0.002375015988945961]\n",
      "Discriminator Loss: 0.6042087966779945\n",
      "Generator Loss: [0.7371704578399658, 0.7323493361473083, 0.002410575747489929]\n",
      "Discriminator Loss: 0.5803181359369773\n",
      "Generator Loss: [0.7473916411399841, 0.7426992654800415, 0.0023461768869310617]\n",
      "Discriminator Loss: 0.5803184664691798\n",
      "Generator Loss: [0.7248300313949585, 0.7194962501525879, 0.0026668966747820377]\n",
      "Discriminator Loss: 0.6242137341760099\n",
      "Generator Loss: [0.7102757096290588, 0.7058031558990479, 0.002236262895166874]\n",
      "Discriminator Loss: 0.5820600853767246\n",
      "Generator Loss: [0.6751537919044495, 0.6712103486061096, 0.0019717116374522448]\n",
      "Discriminator Loss: 0.583058649674058\n",
      "Generator Loss: [0.7569870352745056, 0.7519053816795349, 0.00254082097671926]\n",
      "Discriminator Loss: 0.7412636352819391\n",
      "Generator Loss: [2.540886163711548, 2.536897897720337, 0.001994109246879816]\n",
      "Discriminator Loss: 0.597677462734282\n",
      "Generator Loss: [1.6681907176971436, 1.663535475730896, 0.0023276449646800756]\n",
      "Discriminator Loss: 0.6038385654101148\n",
      "Generator Loss: [0.9371487498283386, 0.9327230453491211, 0.002212843857705593]\n",
      "Discriminator Loss: 0.6122445180080831\n",
      "Generator Loss: [1.0980101823806763, 1.0937755107879639, 0.0021173623390495777]\n",
      "Discriminator Loss: 0.6528068314946722\n",
      "Generator Loss: [0.8385372161865234, 0.8347121477127075, 0.0019125244580209255]\n",
      "Discriminator Loss: 0.5858507575467229\n",
      "Generator Loss: [0.8798216581344604, 0.8764220476150513, 0.0016998050268739462]\n",
      "Discriminator Loss: 0.6001050798222423\n",
      "Generator Loss: [0.5246537923812866, 0.5201735496520996, 0.0022401190362870693]\n",
      "Discriminator Loss: 0.5762837356887758\n",
      "Generator Loss: [0.9237441420555115, 0.9187685251235962, 0.002487807534635067]\n",
      "Discriminator Loss: 0.5913197386544198\n",
      "Generator Loss: [0.7122963666915894, 0.7083712816238403, 0.0019625527784228325]\n",
      "Discriminator Loss: 0.6604984900914133\n",
      "Generator Loss: [0.6969377994537354, 0.6908851265907288, 0.003026349004358053]\n",
      "Discriminator Loss: 0.5980508379871026\n",
      "Generator Loss: [0.8427860140800476, 0.8368551731109619, 0.0029654279351234436]\n",
      "Discriminator Loss: 0.6107266242615879\n",
      "Generator Loss: [0.5731434226036072, 0.5691601037979126, 0.0019916703458875418]\n",
      "Discriminator Loss: 0.5968875451144413\n",
      "Generator Loss: [0.7444640398025513, 0.7393061518669128, 0.0025789549108594656]\n",
      "Discriminator Loss: 0.6029643542133272\n",
      "Generator Loss: [0.5582590699195862, 0.5540962219238281, 0.002081433543935418]\n",
      "Discriminator Loss: 0.5996585814282298\n",
      "Generator Loss: [1.083607792854309, 1.0799283981323242, 0.0018396719824522734]\n",
      "Discriminator Loss: 0.5972760713193566\n",
      "Generator Loss: [1.2070332765579224, 1.2025058269500732, 0.002263731323182583]\n",
      "Discriminator Loss: 0.6276127696619369\n",
      "Generator Loss: [0.6650136113166809, 0.6622650027275085, 0.0013742989394813776]\n",
      "Discriminator Loss: 0.5869702622294426\n",
      "Generator Loss: [0.8292185664176941, 0.8263508081436157, 0.0014338893815875053]\n",
      "Discriminator Loss: 0.6230193746450823\n",
      "Generator Loss: [0.5685343146324158, 0.5654091835021973, 0.001562564168125391]\n",
      "Discriminator Loss: 0.5784416949318256\n",
      "Generator Loss: [0.5255262851715088, 0.5216236114501953, 0.001951337093487382]\n",
      "Epoch: 2\n",
      "Discriminator Loss: 0.6213667208794504\n",
      "Generator Loss: [0.5018162131309509, 0.4974663257598877, 0.0021749562583863735]\n"
     ]
    },
    {
     "name": "stdout",
     "output_type": "stream",
     "text": [
      "Discriminator Loss: 0.5986940336879343\n",
      "Generator Loss: [0.5231145024299622, 0.518915057182312, 0.0020997151732444763]\n",
      "Discriminator Loss: 0.6027563483949052\n",
      "Generator Loss: [0.5049281120300293, 0.5004528164863586, 0.00223763519898057]\n",
      "Discriminator Loss: 0.6438744100742042\n",
      "Generator Loss: [1.2917366027832031, 1.2876884937286377, 0.0020240838639438152]\n",
      "Discriminator Loss: 0.6244030919078796\n",
      "Generator Loss: [0.9097793698310852, 0.9060896635055542, 0.0018448668997734785]\n",
      "Discriminator Loss: 0.6571625441283686\n",
      "Generator Loss: [0.6853029727935791, 0.6816807985305786, 0.0018111004028469324]\n",
      "Discriminator Loss: 0.6144077007193118\n",
      "Generator Loss: [0.7037789821624756, 0.7007554769515991, 0.001511748880147934]\n",
      "Discriminator Loss: 0.6079135239488096\n",
      "Generator Loss: [0.5466797947883606, 0.5409113764762878, 0.0028842133469879627]\n",
      "Discriminator Loss: 0.5947349113994278\n",
      "Generator Loss: [0.7551359534263611, 0.7469635605812073, 0.004086194559931755]\n",
      "Discriminator Loss: 0.594282632584509\n",
      "Generator Loss: [0.569730281829834, 0.5649524331092834, 0.0023889150470495224]\n",
      "Discriminator Loss: 0.6277493716188474\n",
      "Generator Loss: [0.6943337321281433, 0.6904828548431396, 0.0019254300277680159]\n",
      "Discriminator Loss: 0.6013041862752289\n",
      "Generator Loss: [0.9398933053016663, 0.9365048408508301, 0.001694241538643837]\n",
      "Discriminator Loss: 0.6003884538076818\n",
      "Generator Loss: [0.6907758712768555, 0.6873748302459717, 0.0017005142290145159]\n",
      "Discriminator Loss: 0.5809300377295585\n",
      "Generator Loss: [0.7040770649909973, 0.7004977464675903, 0.0017896589124575257]\n",
      "Discriminator Loss: 0.6204161439090967\n",
      "Generator Loss: [0.8402127027511597, 0.8347247838973999, 0.002743964083492756]\n",
      "Discriminator Loss: 0.6119537219346967\n",
      "Generator Loss: [0.9078559875488281, 0.9032866954803467, 0.002284655347466469]\n",
      "Discriminator Loss: 0.6167913383542327\n",
      "Generator Loss: [0.6147918105125427, 0.6110252141952515, 0.0018833042122423649]\n",
      "Discriminator Loss: 0.6113562782702502\n",
      "Generator Loss: [0.7820413112640381, 0.7792291641235352, 0.0014060621615499258]\n",
      "Discriminator Loss: 0.6206899695680477\n",
      "Generator Loss: [0.674597442150116, 0.6714731454849243, 0.0015621407655999064]\n",
      "Discriminator Loss: 0.6068478518573102\n",
      "Generator Loss: [0.5631624460220337, 0.560470700263977, 0.0013458828907459974]\n",
      "Discriminator Loss: 0.5945029014255852\n",
      "Generator Loss: [0.49414995312690735, 0.4908943772315979, 0.0016277816612273455]\n",
      "Discriminator Loss: 0.6039531701535452\n",
      "Generator Loss: [0.5334570407867432, 0.5307005643844604, 0.0013782274909317493]\n",
      "Discriminator Loss: 0.6048770971046906\n",
      "Generator Loss: [0.5923155546188354, 0.5894919633865356, 0.0014118085382506251]\n",
      "Discriminator Loss: 0.5716045971385029\n",
      "Generator Loss: [0.5197232961654663, 0.5159084796905518, 0.0019074042793363333]\n",
      "Discriminator Loss: 0.6076285823364742\n",
      "Generator Loss: [0.4770270586013794, 0.47301989793777466, 0.002003577072173357]\n",
      "Discriminator Loss: 0.5877750616928097\n",
      "Generator Loss: [0.46362602710723877, 0.45988160371780396, 0.0018722047097980976]\n",
      "Discriminator Loss: 0.5969857394702558\n",
      "Generator Loss: [0.49336010217666626, 0.4902448058128357, 0.001557650975883007]\n",
      "Discriminator Loss: 0.5781104641791899\n",
      "Generator Loss: [0.4269062280654907, 0.4214872717857361, 0.002709482330828905]\n",
      "Discriminator Loss: 0.5824113576381933\n",
      "Generator Loss: [0.4096202254295349, 0.4054005444049835, 0.002109846565872431]\n",
      "Discriminator Loss: 0.6089143058470654\n",
      "Generator Loss: [0.5025320053100586, 0.49850529432296753, 0.0020133547950536013]\n",
      "Discriminator Loss: 0.5764378747117007\n",
      "Generator Loss: [0.4894997775554657, 0.48579901456832886, 0.0018503747414797544]\n",
      "Discriminator Loss: 0.5999419618892716\n",
      "Generator Loss: [0.45178458094596863, 0.4461861848831177, 0.0027991943061351776]\n",
      "Discriminator Loss: 0.5774932931090007\n",
      "Generator Loss: [0.4338436722755432, 0.4302098751068115, 0.00181689509190619]\n",
      "Discriminator Loss: 0.5909479743859265\n",
      "Generator Loss: [0.42729538679122925, 0.4230804741382599, 0.0021074526011943817]\n",
      "Discriminator Loss: 0.573109126984491\n",
      "Generator Loss: [0.43383702635765076, 0.43016210198402405, 0.0018374621868133545]\n",
      "Discriminator Loss: 0.5763871865347028\n",
      "Generator Loss: [0.4266357719898224, 0.4221920073032379, 0.0022218888625502586]\n",
      "Discriminator Loss: 0.5934093110045069\n",
      "Generator Loss: [0.45358550548553467, 0.4491002559661865, 0.0022426231298595667]\n",
      "Discriminator Loss: 0.5891740641091019\n",
      "Generator Loss: [0.4609198570251465, 0.4569965600967407, 0.001961649628356099]\n",
      "Discriminator Loss: 0.5973991676291917\n",
      "Generator Loss: [0.5372908115386963, 0.5325031280517578, 0.0023938408121466637]\n",
      "Discriminator Loss: 0.5852565029344987\n",
      "Generator Loss: [0.48325392603874207, 0.4797269105911255, 0.001763510168530047]\n",
      "Discriminator Loss: 0.5762370604916214\n",
      "Generator Loss: [0.46780455112457275, 0.463949978351593, 0.0019272842910140753]\n",
      "Discriminator Loss: 0.5817028016826953\n",
      "Generator Loss: [0.47933536767959595, 0.47537240386009216, 0.0019814856350421906]\n",
      "Discriminator Loss: 0.5808290281111113\n",
      "Generator Loss: [0.41002336144447327, 0.4057769179344177, 0.0021232229191809893]\n",
      "Discriminator Loss: 0.583980531006091\n",
      "Generator Loss: [0.41321268677711487, 0.4094429016113281, 0.0018848967738449574]\n",
      "Discriminator Loss: 0.576356953708455\n",
      "Generator Loss: [0.4453974664211273, 0.441017746925354, 0.0021898620761930943]\n",
      "Discriminator Loss: 0.5747539307376428\n",
      "Generator Loss: [0.4405399560928345, 0.43627938628196716, 0.002130283508449793]\n",
      "Discriminator Loss: 0.589657311575138\n",
      "Generator Loss: [0.4706971049308777, 0.4664573669433594, 0.00211986992508173]\n",
      "Discriminator Loss: 0.5797580071957782\n",
      "Generator Loss: [0.4421623647212982, 0.43823638558387756, 0.0019629946909844875]\n",
      "Discriminator Loss: 0.5890729864131572\n",
      "Generator Loss: [0.4838537275791168, 0.4789246916770935, 0.002464518416672945]\n",
      "Discriminator Loss: 0.5870663824052826\n",
      "Generator Loss: [0.6420275568962097, 0.6387317776679993, 0.001647901488468051]\n",
      "Discriminator Loss: 0.5801264139445266\n",
      "Generator Loss: [0.48101988434791565, 0.4775375723838806, 0.0017411503940820694]\n",
      "Discriminator Loss: 0.6060612975852564\n",
      "Generator Loss: [0.49973195791244507, 0.4971432685852051, 0.0012943451292812824]\n",
      "Discriminator Loss: 0.5655899163175491\n",
      "Generator Loss: [0.4366932511329651, 0.4329030215740204, 0.0018951131496578455]\n",
      "Discriminator Loss: 0.5861368683617911\n",
      "Generator Loss: [0.41916531324386597, 0.4156988263130188, 0.0017332402057945728]\n",
      "Discriminator Loss: 0.5686199624324217\n",
      "Generator Loss: [0.48964017629623413, 0.48595643043518066, 0.0018418743275105953]\n",
      "Discriminator Loss: 0.5950743019275251\n",
      "Generator Loss: [0.5880366563796997, 0.5832725763320923, 0.00238203932531178]\n",
      "Discriminator Loss: 0.5818189698911738\n",
      "Generator Loss: [0.5143911838531494, 0.5093877911567688, 0.0025017098523676395]\n",
      "Discriminator Loss: 0.5768226520958706\n",
      "Generator Loss: [0.5004186034202576, 0.496520459651947, 0.0019490644335746765]\n",
      "Discriminator Loss: 0.5839276060978591\n",
      "Generator Loss: [0.4583396911621094, 0.45478636026382446, 0.001776662189513445]\n",
      "Discriminator Loss: 0.5755334169662092\n",
      "Generator Loss: [0.48387378454208374, 0.4804248809814453, 0.0017244524788111448]\n",
      "Discriminator Loss: 0.5820380255681812\n",
      "Generator Loss: [0.46103712916374207, 0.4577830731868744, 0.0016270349733531475]\n",
      "Discriminator Loss: 0.5858204256219324\n",
      "Generator Loss: [0.5064375400543213, 0.5035682916641235, 0.0014346209354698658]\n",
      "Discriminator Loss: 0.5863920824158413\n",
      "Generator Loss: [0.44431832432746887, 0.44128119945526123, 0.0015185552183538675]\n",
      "Discriminator Loss: 0.5846040250617079\n",
      "Generator Loss: [0.46285855770111084, 0.45993277430534363, 0.0014628979843109846]\n",
      "Discriminator Loss: 0.5776347597311542\n",
      "Generator Loss: [0.481997013092041, 0.47816720604896545, 0.001914910739287734]\n",
      "Discriminator Loss: 0.5769579330808483\n",
      "Generator Loss: [0.48563098907470703, 0.48246777057647705, 0.0015816151862964034]\n",
      "Discriminator Loss: 0.5979518291060231\n",
      "Generator Loss: [0.446991890668869, 0.44429463148117065, 0.0013486235402524471]\n",
      "Discriminator Loss: 0.5865339196461719\n",
      "Generator Loss: [0.5026242136955261, 0.4993573725223541, 0.0016334099927917123]\n",
      "Discriminator Loss: 0.5845790817111265\n",
      "Generator Loss: [0.4913308024406433, 0.48877012729644775, 0.00128033640794456]\n",
      "Discriminator Loss: 0.5832465520361438\n",
      "Generator Loss: [0.47545456886291504, 0.4723380208015442, 0.0015582747291773558]\n"
     ]
    },
    {
     "name": "stdout",
     "output_type": "stream",
     "text": [
      "Discriminator Loss: 0.5821680666413158\n",
      "Generator Loss: [0.4926627278327942, 0.4887818694114685, 0.001940426998771727]\n",
      "Discriminator Loss: 0.5873340407852083\n",
      "Generator Loss: [0.5088706016540527, 0.506226658821106, 0.001321985968388617]\n",
      "Discriminator Loss: 0.5678352156592155\n",
      "Generator Loss: [0.5475541353225708, 0.5443745851516724, 0.0015897698467597365]\n",
      "Discriminator Loss: 0.5757269053247001\n",
      "Generator Loss: [0.5146335959434509, 0.5116780996322632, 0.0014777560718357563]\n",
      "Discriminator Loss: 0.589433870074572\n",
      "Generator Loss: [0.5052802562713623, 0.5020629167556763, 0.001608663471415639]\n",
      "Discriminator Loss: 0.6069291496642109\n",
      "Generator Loss: [0.4322252571582794, 0.42911410331726074, 0.0015555842546746135]\n",
      "Discriminator Loss: 0.579803749171333\n",
      "Generator Loss: [0.5463120937347412, 0.543716549873352, 0.0012977573787793517]\n",
      "Discriminator Loss: 0.5800403556786478\n",
      "Generator Loss: [0.41953015327453613, 0.416466623544693, 0.0015317689394578338]\n",
      "Discriminator Loss: 0.5875708018174919\n",
      "Generator Loss: [0.4824640452861786, 0.47937843203544617, 0.001542805228382349]\n",
      "Discriminator Loss: 0.5708143767260481\n",
      "Generator Loss: [0.397784948348999, 0.39501553773880005, 0.0013846998335793614]\n",
      "Discriminator Loss: 0.5713253096510016\n",
      "Generator Loss: [0.42795437574386597, 0.42467254400253296, 0.001640910399146378]\n",
      "Discriminator Loss: 0.5776948747370625\n",
      "Generator Loss: [0.43376851081848145, 0.431132048368454, 0.001318229828029871]\n",
      "Discriminator Loss: 0.5767227157630259\n",
      "Generator Loss: [0.4287765920162201, 0.4258742034435272, 0.0014512009220197797]\n",
      "Discriminator Loss: 0.5694895155465929\n",
      "Generator Loss: [0.4718400835990906, 0.46908748149871826, 0.0013763029128313065]\n",
      "Discriminator Loss: 0.5810784602554122\n",
      "Generator Loss: [0.4621987044811249, 0.45964255928993225, 0.0012780744582414627]\n",
      "Discriminator Loss: 0.5672156982291199\n",
      "Generator Loss: [0.4266636073589325, 0.42384666204452515, 0.001408473588526249]\n",
      "Discriminator Loss: 0.5707115976929344\n",
      "Generator Loss: [0.4283624291419983, 0.42519766092300415, 0.001582390395924449]\n",
      "Discriminator Loss: 0.5859091652419011\n",
      "Generator Loss: [0.4860948920249939, 0.48254653811454773, 0.0017741790506988764]\n",
      "Discriminator Loss: 0.6086487186184968\n",
      "Generator Loss: [0.6120838522911072, 0.6079497933387756, 0.002067035995423794]\n",
      "Discriminator Loss: 0.5700141875968256\n",
      "Generator Loss: [0.46534112095832825, 0.46171334385871887, 0.001813893555663526]\n",
      "Discriminator Loss: 0.5885281163282343\n",
      "Generator Loss: [0.4501865804195404, 0.44729894399642944, 0.001443823566660285]\n",
      "Discriminator Loss: 0.592254806388155\n",
      "Generator Loss: [0.5204116702079773, 0.5164948105812073, 0.001958416309207678]\n",
      "Discriminator Loss: 0.5891059148380009\n",
      "Generator Loss: [0.49299782514572144, 0.4891554117202759, 0.0019212139304727316]\n",
      "Discriminator Loss: 0.5859548842418008\n",
      "Generator Loss: [0.49474024772644043, 0.49026253819465637, 0.002238848712295294]\n",
      "Discriminator Loss: 0.5725470824399963\n",
      "Generator Loss: [0.5147449374198914, 0.5117900967597961, 0.0014774093870073557]\n",
      "Discriminator Loss: 0.5638078055199003\n",
      "Generator Loss: [0.49836501479148865, 0.494121253490448, 0.0021218738984316587]\n",
      "Discriminator Loss: 0.580799119963558\n",
      "Generator Loss: [0.5230783224105835, 0.5194606184959412, 0.0018088488141074777]\n",
      "Discriminator Loss: 0.5859942089919059\n",
      "Generator Loss: [0.48059162497520447, 0.47654056549072266, 0.002025528810918331]\n",
      "Discriminator Loss: 0.5906771873997059\n",
      "Generator Loss: [0.5601850748062134, 0.5558557510375977, 0.0021646698005497456]\n",
      "Discriminator Loss: 0.5822074901225278\n",
      "Generator Loss: [0.47563859820365906, 0.47247496247291565, 0.0015818225219845772]\n",
      "Discriminator Loss: 0.5746866227091232\n",
      "Generator Loss: [0.457999587059021, 0.45496106147766113, 0.0015192675637081265]\n",
      "Discriminator Loss: 0.6090399249333132\n",
      "Generator Loss: [0.5640931129455566, 0.5613404512405396, 0.001376316649839282]\n",
      "Discriminator Loss: 0.5733496809116332\n",
      "Generator Loss: [0.4837229549884796, 0.48035717010498047, 0.0016828984953463078]\n",
      "Discriminator Loss: 0.5888687640981516\n",
      "Generator Loss: [0.5018951296806335, 0.49911439418792725, 0.001390358549542725]\n",
      "Discriminator Loss: 0.5821798679608037\n",
      "Generator Loss: [0.45431798696517944, 0.4518621861934662, 0.0012279038783162832]\n",
      "Discriminator Loss: 0.5739718036275008\n",
      "Generator Loss: [0.45818716287612915, 0.4555158317089081, 0.0013356641866266727]\n",
      "Discriminator Loss: 0.5811213123924972\n",
      "Generator Loss: [0.48400455713272095, 0.48064419627189636, 0.001680177403613925]\n",
      "Discriminator Loss: 0.5746700948366197\n",
      "Generator Loss: [0.45123863220214844, 0.44811636209487915, 0.0015611392445862293]\n",
      "Discriminator Loss: 0.5724297818269406\n",
      "Generator Loss: [0.4616960883140564, 0.45881545543670654, 0.00144031154923141]\n",
      "Discriminator Loss: 0.5824973910930566\n",
      "Generator Loss: [0.49340662360191345, 0.4901426434516907, 0.0016319847200065851]\n",
      "Discriminator Loss: 0.5850785426409857\n",
      "Generator Loss: [0.4824528098106384, 0.4790048599243164, 0.0017239779699593782]\n",
      "Discriminator Loss: 0.5856623712243163\n",
      "Generator Loss: [0.5514379143714905, 0.5480251908302307, 0.0017063504783436656]\n",
      "Discriminator Loss: 0.5684238246903988\n",
      "Generator Loss: [0.46532681584358215, 0.46182093024253845, 0.0017529388424009085]\n",
      "Discriminator Loss: 0.5659286118752789\n",
      "Generator Loss: [0.4213399291038513, 0.4178398847579956, 0.0017500232206657529]\n",
      "Discriminator Loss: 0.5698432089302514\n",
      "Generator Loss: [0.45972302556037903, 0.45583391189575195, 0.001944559277035296]\n",
      "Discriminator Loss: 0.5976746052183444\n",
      "Generator Loss: [0.4931909739971161, 0.4899212121963501, 0.0016348736826330423]\n",
      "Discriminator Loss: 0.5678971146553522\n",
      "Generator Loss: [0.5520182251930237, 0.5490940809249878, 0.0014620788861066103]\n",
      "Discriminator Loss: 0.5726471149173449\n",
      "Generator Loss: [0.4832805395126343, 0.4795439839363098, 0.0018682763911783695]\n",
      "Discriminator Loss: 0.5841763758471643\n",
      "Generator Loss: [0.5164929628372192, 0.5135008096694946, 0.0014960628468543291]\n",
      "Discriminator Loss: 0.5699700394106912\n",
      "Generator Loss: [0.5408157110214233, 0.5373799800872803, 0.0017178583657369018]\n",
      "Discriminator Loss: 0.5830623704205209\n",
      "Generator Loss: [0.49660730361938477, 0.4932992458343506, 0.0016540363430976868]\n",
      "Discriminator Loss: 0.579348953677254\n",
      "Generator Loss: [0.4440840482711792, 0.44089871644973755, 0.0015926649793982506]\n",
      "Discriminator Loss: 0.6019252883270383\n",
      "Generator Loss: [0.5464600324630737, 0.5435736179351807, 0.0014432172756642103]\n",
      "Discriminator Loss: 0.5639173910494719\n",
      "Generator Loss: [0.4901609718799591, 0.4875621795654297, 0.0012993932468816638]\n",
      "Discriminator Loss: 0.573896273956052\n",
      "Generator Loss: [0.4007929265499115, 0.397457480430603, 0.0016677171224728227]\n",
      "Discriminator Loss: 0.557634033037175\n",
      "Generator Loss: [0.4793505072593689, 0.4757097065448761, 0.0018203947693109512]\n",
      "Discriminator Loss: 0.5615715986168652\n",
      "Generator Loss: [0.47703787684440613, 0.4740927815437317, 0.001472541131079197]\n",
      "Discriminator Loss: 0.6132666501689528\n",
      "Generator Loss: [0.5597898364067078, 0.5555083751678467, 0.0021407396998256445]\n",
      "Discriminator Loss: 0.5811779635114362\n",
      "Generator Loss: [0.5650421977043152, 0.560897946357727, 0.0020721161272376776]\n",
      "Discriminator Loss: 0.5842973937396891\n",
      "Generator Loss: [0.5348832607269287, 0.5319735407829285, 0.0014548733597621322]\n",
      "Discriminator Loss: 0.5733524122915696\n",
      "Generator Loss: [0.4698481261730194, 0.4660681486129761, 0.001889989711344242]\n",
      "Discriminator Loss: 0.5823583081819379\n",
      "Generator Loss: [0.46195924282073975, 0.4589422643184662, 0.0015084842452779412]\n",
      "Discriminator Loss: 0.5794769060585168\n",
      "Generator Loss: [0.4290972948074341, 0.4263536036014557, 0.001371840131469071]\n",
      "Discriminator Loss: 0.5702481683747465\n",
      "Generator Loss: [0.4572393298149109, 0.4539432227611542, 0.0016480537597090006]\n",
      "Discriminator Loss: 0.5870648926138529\n",
      "Generator Loss: [0.5081923604011536, 0.5060878992080688, 0.001052239676937461]\n",
      "Discriminator Loss: 0.5672241788770407\n",
      "Generator Loss: [0.4988310933113098, 0.4966582655906677, 0.0010864129289984703]\n",
      "Discriminator Loss: 0.5863373143347417\n",
      "Generator Loss: [0.423995703458786, 0.4216444492340088, 0.0011756219901144505]\n",
      "Discriminator Loss: 0.5577491002823081\n",
      "Generator Loss: [0.46523943543434143, 0.4622625708580017, 0.0014884383417665958]\n",
      "Epoch: 3\n",
      "Discriminator Loss: 0.5852884505147813\n",
      "Generator Loss: [0.4360179901123047, 0.4328625202178955, 0.0015777391381561756]\n"
     ]
    },
    {
     "name": "stdout",
     "output_type": "stream",
     "text": [
      "Discriminator Loss: 0.5798552863998339\n",
      "Generator Loss: [0.5146335363388062, 0.5116069316864014, 0.00151330535300076]\n",
      "Discriminator Loss: 0.5839613930984342\n",
      "Generator Loss: [0.5307554602622986, 0.5276552438735962, 0.0015501219313591719]\n",
      "Discriminator Loss: 0.6086212731897831\n",
      "Generator Loss: [0.6922316551208496, 0.6893019080162048, 0.0014648674987256527]\n",
      "Discriminator Loss: 0.5832048675219994\n",
      "Generator Loss: [0.7502681612968445, 0.747549831867218, 0.001359171001240611]\n",
      "Discriminator Loss: 0.6711830347776413\n",
      "Generator Loss: [2.8038883209228516, 2.8011417388916016, 0.0013733061496168375]\n",
      "Discriminator Loss: 0.730094239115715\n",
      "Generator Loss: [4.404311180114746, 4.401961326599121, 0.0011749977711588144]\n",
      "Discriminator Loss: 0.7849086001515388\n",
      "Generator Loss: [9.731425285339355, 9.727306365966797, 0.002059565857052803]\n",
      "Discriminator Loss: 0.8275958634912968\n",
      "Generator Loss: [4.341557502746582, 4.33609676361084, 0.00273031834512949]\n",
      "Discriminator Loss: 0.7975606918334961\n",
      "Generator Loss: [2.242534637451172, 2.2391104698181152, 0.0017121285200119019]\n",
      "Discriminator Loss: 0.8624451612122357\n",
      "Generator Loss: [0.3814830183982849, 0.37859007716178894, 0.0014464632840827107]\n",
      "Discriminator Loss: 0.6811186545528471\n",
      "Generator Loss: [0.33327236771583557, 0.3306860625743866, 0.0012931479141116142]\n",
      "Discriminator Loss: 0.6554287078324705\n",
      "Generator Loss: [0.37697315216064453, 0.3743543028831482, 0.0013094282476231456]\n",
      "Discriminator Loss: 0.6292703998624347\n",
      "Generator Loss: [0.5682485103607178, 0.5656012296676636, 0.0013236332451924682]\n",
      "Discriminator Loss: 0.6506550362100825\n",
      "Generator Loss: [0.917997419834137, 0.9141746759414673, 0.001911363797262311]\n",
      "Discriminator Loss: 0.6360858633415774\n",
      "Generator Loss: [0.764080822467804, 0.7608219981193542, 0.0016294012311846018]\n",
      "Discriminator Loss: 0.6002733500208706\n",
      "Generator Loss: [0.6636318564414978, 0.6609126925468445, 0.0013595737982541323]\n",
      "Discriminator Loss: 0.6190368189127184\n",
      "Generator Loss: [0.6258655786514282, 0.6237192153930664, 0.0010731886141002178]\n",
      "Discriminator Loss: 0.6069285881239921\n",
      "Generator Loss: [0.646221399307251, 0.6438754796981812, 0.0011729449033737183]\n",
      "Discriminator Loss: 0.6263659225951415\n",
      "Generator Loss: [0.5216168165206909, 0.5195434093475342, 0.0010367153445258737]\n",
      "Discriminator Loss: 0.6106987706152722\n",
      "Generator Loss: [0.6249716877937317, 0.6225087642669678, 0.0012314680498093367]\n",
      "Discriminator Loss: 0.6329872873611748\n",
      "Generator Loss: [0.8496686220169067, 0.8475799560546875, 0.0010443268110975623]\n",
      "Discriminator Loss: 0.6286399723030627\n",
      "Generator Loss: [0.7007845640182495, 0.6985742449760437, 0.0011051533510908484]\n",
      "Discriminator Loss: 0.5847021185327321\n",
      "Generator Loss: [0.6059207320213318, 0.6030048131942749, 0.0014579626731574535]\n",
      "Discriminator Loss: 0.6213571417029016\n",
      "Generator Loss: [0.5090587735176086, 0.506064772605896, 0.0014970146585255861]\n",
      "Discriminator Loss: 0.5974672984448262\n",
      "Generator Loss: [0.4859547019004822, 0.4831808805465698, 0.0013869134709239006]\n",
      "Discriminator Loss: 0.6046478095813654\n",
      "Generator Loss: [0.5212024450302124, 0.5188771486282349, 0.0011626392370089889]\n",
      "Discriminator Loss: 0.5773726290353807\n",
      "Generator Loss: [0.4280003309249878, 0.423896461725235, 0.0020519383251667023]\n",
      "Discriminator Loss: 0.6020123703056015\n",
      "Generator Loss: [0.5996467471122742, 0.5964511632919312, 0.0015978027367964387]\n",
      "Discriminator Loss: 0.6041793721378781\n",
      "Generator Loss: [0.7028449177742004, 0.6999468803405762, 0.0014490194153040648]\n",
      "Discriminator Loss: 0.5801361340563744\n",
      "Generator Loss: [0.6263266801834106, 0.6235984563827515, 0.001364104449748993]\n",
      "Discriminator Loss: 0.5944435221608728\n",
      "Generator Loss: [0.6487752795219421, 0.6446388959884644, 0.002068184781819582]\n",
      "Discriminator Loss: 0.5762727367691696\n",
      "Generator Loss: [0.5890225172042847, 0.5862482786178589, 0.0013871327973902225]\n",
      "Discriminator Loss: 0.583517775638029\n",
      "Generator Loss: [0.5637067556381226, 0.5605403184890747, 0.0015832080971449614]\n",
      "Discriminator Loss: 0.5939142261777306\n",
      "Generator Loss: [0.51262366771698, 0.5098552703857422, 0.0013841954059898853]\n",
      "Discriminator Loss: 0.57479290253832\n",
      "Generator Loss: [0.5144566893577576, 0.5111980438232422, 0.0016293209046125412]\n",
      "Discriminator Loss: 0.5969456345774233\n",
      "Generator Loss: [0.5259764194488525, 0.5227026343345642, 0.0016368844080716372]\n",
      "Discriminator Loss: 0.5785903467040043\n",
      "Generator Loss: [0.5491780638694763, 0.5462746024131775, 0.0014517332892864943]\n",
      "Discriminator Loss: 0.5876195437740535\n",
      "Generator Loss: [0.5100006461143494, 0.5064841508865356, 0.0017582441214472055]\n",
      "Discriminator Loss: 0.5978797206480522\n",
      "Generator Loss: [0.5021162033081055, 0.49944359064102173, 0.0013362965546548367]\n",
      "Discriminator Loss: 0.5651571142661851\n",
      "Generator Loss: [0.5257085561752319, 0.5228038430213928, 0.001452355645596981]\n",
      "Discriminator Loss: 0.5976642878958955\n",
      "Generator Loss: [0.5430936217308044, 0.5401147603988647, 0.0014894220512360334]\n",
      "Discriminator Loss: 0.5659156358015025\n",
      "Generator Loss: [0.5132312178611755, 0.5099918842315674, 0.001619676360860467]\n",
      "Discriminator Loss: 0.5800461361432099\n",
      "Generator Loss: [0.4983157217502594, 0.49540454149246216, 0.0014555964153259993]\n",
      "Discriminator Loss: 0.5606855128426105\n",
      "Generator Loss: [0.5168046355247498, 0.513512134552002, 0.0016462376806885004]\n",
      "Discriminator Loss: 0.5829972303909017\n",
      "Generator Loss: [0.537838339805603, 0.5346195101737976, 0.001609420869499445]\n",
      "Discriminator Loss: 0.5774211381358327\n",
      "Generator Loss: [0.48795032501220703, 0.4847524166107178, 0.001598953502252698]\n",
      "Discriminator Loss: 0.5695187537930906\n",
      "Generator Loss: [0.4655505120754242, 0.46257105469703674, 0.0014897347427904606]\n",
      "Discriminator Loss: 0.5805935441057954\n",
      "Generator Loss: [0.5154829025268555, 0.5117596983909607, 0.001861590426415205]\n",
      "Discriminator Loss: 0.5767712310625939\n",
      "Generator Loss: [0.5145655870437622, 0.5120329260826111, 0.001266317325644195]\n",
      "Discriminator Loss: 0.5773206423473312\n",
      "Generator Loss: [0.532332181930542, 0.5296156406402588, 0.001358261564746499]\n",
      "Discriminator Loss: 0.6019354646632564\n",
      "Generator Loss: [0.5353129506111145, 0.5333063006401062, 0.0010033317375928164]\n",
      "Discriminator Loss: 0.5565181410347577\n",
      "Generator Loss: [0.5179163217544556, 0.51500403881073, 0.0014561412390321493]\n",
      "Discriminator Loss: 0.5839516523556085\n",
      "Generator Loss: [0.4970475435256958, 0.49440938234329224, 0.0013190880417823792]\n",
      "Discriminator Loss: 0.581832130701514\n",
      "Generator Loss: [0.5105092525482178, 0.5076858997344971, 0.001411676174029708]\n",
      "Discriminator Loss: 0.5992393769847695\n",
      "Generator Loss: [0.5683782696723938, 0.5648671388626099, 0.0017555570229887962]\n",
      "Discriminator Loss: 0.5958546724868938\n",
      "Generator Loss: [0.5352709293365479, 0.5315720438957214, 0.0018494372488930821]\n",
      "Discriminator Loss: 0.5875858110230183\n",
      "Generator Loss: [0.4988531470298767, 0.49579691886901855, 0.0015281110536307096]\n",
      "Discriminator Loss: 0.5912875645444728\n",
      "Generator Loss: [0.42724114656448364, 0.42458391189575195, 0.001328613143414259]\n",
      "Discriminator Loss: 0.5780636199051514\n",
      "Generator Loss: [0.42013034224510193, 0.4175396263599396, 0.0012953518889844418]\n",
      "Discriminator Loss: 0.6061123239342123\n",
      "Generator Loss: [0.3995693027973175, 0.39706915616989136, 0.0012500779703259468]\n",
      "Discriminator Loss: 0.5889390862357686\n",
      "Generator Loss: [0.3888208568096161, 0.38658055663108826, 0.0011201557936146855]\n",
      "Discriminator Loss: 0.5980618520407006\n",
      "Generator Loss: [0.39312925934791565, 0.39077427983283997, 0.0011774912709370255]\n",
      "Discriminator Loss: 0.5992033644433832\n",
      "Generator Loss: [0.41739988327026367, 0.4151412844657898, 0.0011293005663901567]\n",
      "Discriminator Loss: 0.5793145695643034\n",
      "Generator Loss: [0.41647109389305115, 0.4135778546333313, 0.0014466214925050735]\n",
      "Discriminator Loss: 0.5696427783186664\n",
      "Generator Loss: [0.5107043385505676, 0.5082747936248779, 0.001214783638715744]\n",
      "Discriminator Loss: 0.5939091423060745\n",
      "Generator Loss: [0.4766578674316406, 0.4746033549308777, 0.0010272508952766657]\n",
      "Discriminator Loss: 0.5830072436947376\n",
      "Generator Loss: [0.46608278155326843, 0.4636131525039673, 0.0012348138261586428]\n",
      "Discriminator Loss: 0.588197135948576\n",
      "Generator Loss: [0.45759353041648865, 0.4556124210357666, 0.0009905495680868626]\n",
      "Discriminator Loss: 0.5922542587213684\n",
      "Generator Loss: [0.42787623405456543, 0.4254723787307739, 0.0012019290588796139]\n",
      "Discriminator Loss: 0.5675677133258432\n"
     ]
    },
    {
     "name": "stdout",
     "output_type": "stream",
     "text": [
      "Generator Loss: [0.4719008207321167, 0.46891507506370544, 0.0014928712043911219]\n",
      "Discriminator Loss: 0.5863660999384592\n",
      "Generator Loss: [0.4396491050720215, 0.43759459257125854, 0.0010272569488734007]\n",
      "Discriminator Loss: 0.5666635233501438\n",
      "Generator Loss: [0.4554080665111542, 0.45298999547958374, 0.00120903633069247]\n",
      "Discriminator Loss: 0.5981276546372101\n",
      "Generator Loss: [0.47218987345695496, 0.46990787982940674, 0.0011409923899918795]\n",
      "Discriminator Loss: 0.5808562993188389\n",
      "Generator Loss: [0.42510685324668884, 0.4226107597351074, 0.0012480523437261581]\n",
      "Discriminator Loss: 0.5943410370964557\n",
      "Generator Loss: [0.5432376265525818, 0.5408409833908081, 0.0011983257718384266]\n",
      "Discriminator Loss: 0.5604992062326346\n",
      "Generator Loss: [0.5484264492988586, 0.5463873147964478, 0.001019572140648961]\n",
      "Discriminator Loss: 0.5799004756117938\n",
      "Generator Loss: [0.5139412879943848, 0.5115687847137451, 0.0011862393002957106]\n",
      "Discriminator Loss: 0.583075019007083\n",
      "Generator Loss: [0.5167107582092285, 0.5143420696258545, 0.0011843377724289894]\n",
      "Discriminator Loss: 0.5763743762508966\n",
      "Generator Loss: [0.4955469071865082, 0.4934055209159851, 0.0010706930188462138]\n",
      "Discriminator Loss: 0.56617338572687\n",
      "Generator Loss: [0.49877801537513733, 0.4962623715400696, 0.0012578272726386786]\n",
      "Discriminator Loss: 0.5735337178048212\n",
      "Generator Loss: [0.5214205384254456, 0.5193654894828796, 0.0010275228414684534]\n",
      "Discriminator Loss: 0.5571034556633094\n",
      "Generator Loss: [0.5274854302406311, 0.525200605392456, 0.001142421388067305]\n",
      "Discriminator Loss: 0.5745931138808373\n",
      "Generator Loss: [0.5189623236656189, 0.5168180465698242, 0.0010721264407038689]\n",
      "Discriminator Loss: 0.5815458495926578\n",
      "Generator Loss: [0.5203566551208496, 0.5183518528938293, 0.00100241438485682]\n",
      "Discriminator Loss: 0.5617629744228907\n",
      "Generator Loss: [0.5205068588256836, 0.5183091759681702, 0.0010988402646034956]\n",
      "Discriminator Loss: 0.5720972170674941\n",
      "Generator Loss: [0.5198134779930115, 0.5174134969711304, 0.001199976191855967]\n",
      "Discriminator Loss: 0.597099694001372\n",
      "Generator Loss: [0.5517212748527527, 0.5489770174026489, 0.0013721168506890535]\n",
      "Discriminator Loss: 0.5747858514951076\n",
      "Generator Loss: [0.5765827298164368, 0.5734544992446899, 0.0015641192439943552]\n",
      "Discriminator Loss: 0.5704795551137067\n",
      "Generator Loss: [0.5652991533279419, 0.562497615814209, 0.0014007743448019028]\n",
      "Discriminator Loss: 0.5880570522458584\n",
      "Generator Loss: [0.5668991804122925, 0.5646363496780396, 0.0011314036091789603]\n",
      "Discriminator Loss: 0.5872211783425882\n",
      "Generator Loss: [0.5350878834724426, 0.5321104526519775, 0.0014887142460793257]\n",
      "Discriminator Loss: 0.5712242768022406\n",
      "Generator Loss: [0.5318177938461304, 0.5289044380187988, 0.0014566683676093817]\n",
      "Discriminator Loss: 0.58481059132464\n",
      "Generator Loss: [0.539722204208374, 0.5363351702690125, 0.001693511614575982]\n",
      "Discriminator Loss: 0.5675343872280791\n",
      "Generator Loss: [0.5448589324951172, 0.5425640344619751, 0.0011474572820588946]\n",
      "Discriminator Loss: 0.5751669542805757\n",
      "Generator Loss: [0.5299494862556458, 0.5267491936683655, 0.0016001593321561813]\n",
      "Discriminator Loss: 0.5589413274446997\n",
      "Generator Loss: [0.5331908464431763, 0.5304293632507324, 0.001380730653181672]\n",
      "Discriminator Loss: 0.5862160595497699\n",
      "Generator Loss: [0.5241902470588684, 0.5210930705070496, 0.0015485875774174929]\n",
      "Discriminator Loss: 0.5753985416085925\n",
      "Generator Loss: [0.5348585844039917, 0.531539797782898, 0.0016593803884461522]\n",
      "Discriminator Loss: 0.5553926943684928\n",
      "Generator Loss: [0.5242981314659119, 0.5218052268028259, 0.0012464614119380713]\n",
      "Discriminator Loss: 0.5799042304352042\n",
      "Generator Loss: [0.5065069198608398, 0.5041478872299194, 0.0011795083992183208]\n",
      "Discriminator Loss: 0.564413033935125\n",
      "Generator Loss: [0.5307585000991821, 0.5286357402801514, 0.0010613654740154743]\n",
      "Discriminator Loss: 0.5883673484750034\n",
      "Generator Loss: [0.5270709991455078, 0.5244689583778381, 0.0013010124675929546]\n",
      "Discriminator Loss: 0.5847610177152092\n",
      "Generator Loss: [0.5316978693008423, 0.529522716999054, 0.0010875881416723132]\n",
      "Discriminator Loss: 0.5732354297360871\n",
      "Generator Loss: [0.51250159740448, 0.5105669498443604, 0.0009673089953139424]\n",
      "Discriminator Loss: 0.5765914565854473\n",
      "Generator Loss: [0.516818106174469, 0.5147240161895752, 0.0010470401030033827]\n",
      "Discriminator Loss: 0.578202690994658\n",
      "Generator Loss: [0.5103453993797302, 0.5077152848243713, 0.0013150619342923164]\n",
      "Discriminator Loss: 0.5649937687167039\n",
      "Generator Loss: [0.5156837701797485, 0.5132291316986084, 0.0012273297179490328]\n",
      "Discriminator Loss: 0.569723708620586\n",
      "Generator Loss: [0.5257288217544556, 0.5235027074813843, 0.001113050151616335]\n",
      "Discriminator Loss: 0.5766721245563531\n",
      "Generator Loss: [0.5229408740997314, 0.520412027835846, 0.0012644181260839105]\n",
      "Discriminator Loss: 0.5673865660937736\n",
      "Generator Loss: [0.5214560031890869, 0.5187467336654663, 0.0013546203263103962]\n",
      "Discriminator Loss: 0.583470550536731\n",
      "Generator Loss: [0.4994502365589142, 0.4968032240867615, 0.0013235043734312057]\n",
      "Discriminator Loss: 0.5663875861810084\n",
      "Generator Loss: [0.5308446288108826, 0.528150200843811, 0.0013472182909026742]\n",
      "Discriminator Loss: 0.5544355305100908\n",
      "Generator Loss: [0.5462054014205933, 0.5434715747833252, 0.0013669198378920555]\n",
      "Discriminator Loss: 0.5625010101284715\n",
      "Generator Loss: [0.521548867225647, 0.5185280442237854, 0.0015103989280760288]\n",
      "Discriminator Loss: 0.5816085054466384\n",
      "Generator Loss: [0.5411840081214905, 0.5386401414871216, 0.0012719416990876198]\n",
      "Discriminator Loss: 0.5660629770209198\n",
      "Generator Loss: [0.5201531052589417, 0.5178700685501099, 0.0011415148619562387]\n",
      "Discriminator Loss: 0.5655376478171092\n",
      "Generator Loss: [0.5042157769203186, 0.5013014674186707, 0.0014571475330740213]\n",
      "Discriminator Loss: 0.5674361079800292\n",
      "Generator Loss: [0.49152904748916626, 0.48918384313583374, 0.0011725958902388811]\n",
      "Discriminator Loss: 0.5617765400966164\n",
      "Generator Loss: [0.49352407455444336, 0.49084675312042236, 0.0013386625796556473]\n",
      "Discriminator Loss: 0.5694807302570553\n",
      "Generator Loss: [0.48879101872444153, 0.48620814085006714, 0.001291433465667069]\n",
      "Discriminator Loss: 0.5674295195804007\n",
      "Generator Loss: [0.5044887065887451, 0.5019968748092651, 0.0012459228746592999]\n",
      "Discriminator Loss: 0.6059940082195681\n",
      "Generator Loss: [0.49599960446357727, 0.493737131357193, 0.0011312293354421854]\n",
      "Discriminator Loss: 0.5640842085704207\n",
      "Generator Loss: [0.625862717628479, 0.6238101720809937, 0.0010262689320370555]\n",
      "Discriminator Loss: 0.5575440119719133\n",
      "Generator Loss: [0.5803829431533813, 0.5777763724327087, 0.001303278491832316]\n",
      "Discriminator Loss: 0.559125699037395\n",
      "Generator Loss: [0.5668708086013794, 0.5640639066696167, 0.0014034443302080035]\n",
      "Discriminator Loss: 0.5574301612505224\n",
      "Generator Loss: [0.5793579816818237, 0.5770255327224731, 0.0011662383330985904]\n",
      "Discriminator Loss: 0.5873846410249826\n",
      "Generator Loss: [0.5587139129638672, 0.5554012060165405, 0.001656348118558526]\n",
      "Discriminator Loss: 0.5658786802887334\n",
      "Generator Loss: [0.561976969242096, 0.5588274598121643, 0.0015747618163004518]\n",
      "Discriminator Loss: 0.5810944267977902\n",
      "Generator Loss: [0.5900207757949829, 0.5877473950386047, 0.0011366938706487417]\n",
      "Discriminator Loss: 0.5763833206146955\n",
      "Generator Loss: [1.0046947002410889, 1.0017225742340088, 0.0014860599767416716]\n",
      "Discriminator Loss: 0.5767452192230849\n",
      "Generator Loss: [0.9055576920509338, 0.9032410383224487, 0.001158321974799037]\n",
      "Discriminator Loss: 0.5770580635871738\n",
      "Generator Loss: [0.8542426228523254, 0.8520796298980713, 0.0010814984561875463]\n",
      "Discriminator Loss: 0.575060482169647\n",
      "Generator Loss: [0.7925812005996704, 0.7900157570838928, 0.0012827168684452772]\n",
      "Discriminator Loss: 0.5817507302417653\n",
      "Generator Loss: [0.8589174151420593, 0.8572465181350708, 0.0008354480378329754]\n",
      "Discriminator Loss: 0.5564209689764539\n",
      "Generator Loss: [0.8253971934318542, 0.8236819505691528, 0.0008576302789151669]\n",
      "Discriminator Loss: 0.5785536325274734\n",
      "Generator Loss: [0.740935206413269, 0.7390803098678589, 0.0009274461772292852]\n",
      "Discriminator Loss: 0.57339999609394\n",
      "Generator Loss: [0.7551194429397583, 0.7527621984481812, 0.001178608974441886]\n",
      "Epoch: 4\n",
      "Discriminator Loss: 0.5855251978646265\n",
      "Generator Loss: [0.6819308996200562, 0.6794724464416504, 0.0012292294995859265]\n",
      "Discriminator Loss: 0.5812446800991893\n",
      "Generator Loss: [0.7126446962356567, 0.7103040218353271, 0.001170331030152738]\n"
     ]
    },
    {
     "name": "stdout",
     "output_type": "stream",
     "text": [
      "Discriminator Loss: 0.5726473321701633\n",
      "Generator Loss: [0.7081356048583984, 0.7057741284370422, 0.0011807370465248823]\n",
      "Discriminator Loss: 0.5767463515221607\n",
      "Generator Loss: [0.6630828380584717, 0.6607942581176758, 0.0011442808900028467]\n",
      "Discriminator Loss: 0.579758939507883\n",
      "Generator Loss: [0.6314465999603271, 0.6293059587478638, 0.0010703265434131026]\n",
      "Discriminator Loss: 0.5813318910659291\n",
      "Generator Loss: [0.5964663028717041, 0.594297468662262, 0.0010844077914953232]\n",
      "Discriminator Loss: 0.5695939101278782\n",
      "Generator Loss: [1.0800626277923584, 1.078186273574829, 0.0009381921263411641]\n",
      "Discriminator Loss: 0.5730644001159817\n",
      "Generator Loss: [1.0633063316345215, 1.0601255893707275, 0.0015903961611911654]\n",
      "Discriminator Loss: 0.5747824143618345\n",
      "Generator Loss: [0.9239766001701355, 0.9198901057243347, 0.0020432593300938606]\n",
      "Discriminator Loss: 0.5800833110115491\n",
      "Generator Loss: [0.8541374802589417, 0.851470947265625, 0.0013332575326785445]\n",
      "Discriminator Loss: 0.5924938434254727\n",
      "Generator Loss: [0.8053985238075256, 0.8031073808670044, 0.0011455740313977003]\n",
      "Discriminator Loss: 0.5752324907807633\n",
      "Generator Loss: [0.7580254673957825, 0.7559944987297058, 0.0010154957417398691]\n",
      "Discriminator Loss: 0.5770429840194993\n",
      "Generator Loss: [0.7239925861358643, 0.7219247221946716, 0.0010339299915358424]\n",
      "Discriminator Loss: 0.5723050622327719\n",
      "Generator Loss: [0.6811327338218689, 0.6790388226509094, 0.001046949764713645]\n",
      "Discriminator Loss: 0.5781919121800456\n",
      "Generator Loss: [0.6786645650863647, 0.675753653049469, 0.0014554441440850496]\n",
      "Discriminator Loss: 0.5798961930850055\n",
      "Generator Loss: [0.663234531879425, 0.6607276201248169, 0.0012534685665741563]\n",
      "Discriminator Loss: 0.5726083300396567\n",
      "Generator Loss: [0.6362370252609253, 0.6341423988342285, 0.001047308905981481]\n",
      "Discriminator Loss: 0.5811287353863008\n",
      "Generator Loss: [0.6237674951553345, 0.6220773458480835, 0.0008450768073089421]\n",
      "Discriminator Loss: 0.5852926646766718\n",
      "Generator Loss: [0.5941039323806763, 0.5922681093215942, 0.0009179140906780958]\n",
      "Discriminator Loss: 0.5863440379616804\n",
      "Generator Loss: [0.5433992743492126, 0.5417563915252686, 0.0008214469999074936]\n",
      "Discriminator Loss: 0.5688357896433445\n",
      "Generator Loss: [0.591218113899231, 0.5892835855484009, 0.0009672556770965457]\n",
      "Discriminator Loss: 0.5903697878820822\n",
      "Generator Loss: [0.6422997713088989, 0.6406577825546265, 0.0008210006635636091]\n",
      "Discriminator Loss: 0.5665187989361584\n",
      "Generator Loss: [0.7125919461250305, 0.7108199596405029, 0.0008859911467880011]\n",
      "Discriminator Loss: 0.5619557856043684\n",
      "Generator Loss: [0.7542883157730103, 0.7519677877426147, 0.0011602542363107204]\n",
      "Discriminator Loss: 0.5865928598068422\n",
      "Generator Loss: [0.818701982498169, 0.8163435459136963, 0.0011792064178735018]\n",
      "Discriminator Loss: 0.5630846981657669\n",
      "Generator Loss: [0.8483506441116333, 0.8461765050888062, 0.0010870646219700575]\n",
      "Discriminator Loss: 0.5818350343033671\n",
      "Generator Loss: [0.7491423487663269, 0.7473182082176208, 0.0009120600298047066]\n",
      "Discriminator Loss: 0.5572405920247547\n",
      "Generator Loss: [0.7490472793579102, 0.7458634376525879, 0.001591932843439281]\n",
      "Discriminator Loss: 0.5653798247221857\n",
      "Generator Loss: [0.7262935638427734, 0.7237908244132996, 0.0012513624969869852]\n",
      "Discriminator Loss: 0.5764758900040761\n",
      "Generator Loss: [0.7003010511398315, 0.698064923286438, 0.001118056708946824]\n",
      "Discriminator Loss: 0.5647928451289772\n",
      "Generator Loss: [0.7281460762023926, 0.7260206937789917, 0.0010626954026520252]\n",
      "Discriminator Loss: 0.5717165303358342\n",
      "Generator Loss: [0.72748863697052, 0.7242891788482666, 0.0015997204463928938]\n",
      "Discriminator Loss: 0.5626036644971464\n",
      "Generator Loss: [0.716732382774353, 0.7145576477050781, 0.0010873539140447974]\n",
      "Discriminator Loss: 0.567894399879151\n",
      "Generator Loss: [0.6817846298217773, 0.6793176531791687, 0.0012334833154454827]\n",
      "Discriminator Loss: 0.5715457889746176\n",
      "Generator Loss: [0.6548225283622742, 0.6526464223861694, 0.0010880619520321488]\n",
      "Discriminator Loss: 0.5628322933443997\n",
      "Generator Loss: [0.6583165526390076, 0.6557837128639221, 0.0012664071982726455]\n",
      "Discriminator Loss: 0.5801581985615485\n",
      "Generator Loss: [0.6342046856880188, 0.6316626667976379, 0.0012710185255855322]\n",
      "Discriminator Loss: 0.5669644264562521\n",
      "Generator Loss: [0.6887010931968689, 0.6864461898803711, 0.001127444440498948]\n",
      "Discriminator Loss: 0.5713467617006245\n",
      "Generator Loss: [0.6523171067237854, 0.6495910286903381, 0.001363048329949379]\n",
      "Discriminator Loss: 0.576978324475931\n",
      "Generator Loss: [0.6346957683563232, 0.6325778961181641, 0.0010589307639747858]\n",
      "Discriminator Loss: 0.5523185168203781\n",
      "Generator Loss: [0.6494349241256714, 0.6471481919288635, 0.0011433623731136322]\n",
      "Discriminator Loss: 0.5811279348308744\n",
      "Generator Loss: [0.6034156680107117, 0.6010837554931641, 0.0011659523006528616]\n",
      "Discriminator Loss: 0.5582263793767197\n",
      "Generator Loss: [0.6468925476074219, 0.6443334817886353, 0.0012795396614819765]\n",
      "Discriminator Loss: 0.5634089997074625\n",
      "Generator Loss: [0.6236346364021301, 0.6213302612304688, 0.0011521928245201707]\n",
      "Discriminator Loss: 0.5487616809477913\n",
      "Generator Loss: [0.6256663203239441, 0.6231051683425903, 0.001280580647289753]\n",
      "Discriminator Loss: 0.5729105266891565\n",
      "Generator Loss: [0.6289260983467102, 0.6264017820358276, 0.0012621436035260558]\n",
      "Discriminator Loss: 0.5584912003323552\n",
      "Generator Loss: [0.6105281710624695, 0.608030378818512, 0.0012489072978496552]\n",
      "Discriminator Loss: 0.5616786282480462\n",
      "Generator Loss: [0.6105629205703735, 0.6082287430763245, 0.001167074660770595]\n",
      "Discriminator Loss: 0.5575550621106231\n",
      "Generator Loss: [0.5994866490364075, 0.5965887904167175, 0.0014489182503893971]\n",
      "Discriminator Loss: 0.5656551636675431\n",
      "Generator Loss: [0.6137784719467163, 0.6117891669273376, 0.0009946569334715605]\n",
      "Discriminator Loss: 0.5782348687280319\n",
      "Generator Loss: [0.7546783089637756, 0.752519965171814, 0.001079181325621903]\n",
      "Discriminator Loss: 0.5853483963292092\n",
      "Generator Loss: [0.9912203550338745, 0.9896355867385864, 0.0007923695957288146]\n",
      "Discriminator Loss: 0.5493061358574778\n",
      "Generator Loss: [1.0218926668167114, 1.019587516784668, 0.0011525789741426706]\n",
      "Discriminator Loss: 0.5847945484565571\n",
      "Generator Loss: [0.8537507057189941, 0.8516732454299927, 0.0010387329384684563]\n",
      "Discriminator Loss: 0.5573074648273177\n",
      "Generator Loss: [0.8040154576301575, 0.8017933964729309, 0.0011110362829640508]\n",
      "Discriminator Loss: 0.5822598793893121\n",
      "Generator Loss: [0.7362196445465088, 0.7335258722305298, 0.0013468752149492502]\n",
      "Discriminator Loss: 0.561647355556488\n",
      "Generator Loss: [0.7613815069198608, 0.7585122585296631, 0.001434637000784278]\n",
      "Discriminator Loss: 0.5628622232179623\n",
      "Generator Loss: [0.7462580800056458, 0.7437888383865356, 0.001234625931829214]\n",
      "Discriminator Loss: 0.5881469532614574\n",
      "Generator Loss: [0.6747020483016968, 0.6726270914077759, 0.001037474488839507]\n",
      "Discriminator Loss: 0.5740998825058341\n",
      "Generator Loss: [0.802520215511322, 0.8004871606826782, 0.001016529742628336]\n",
      "Discriminator Loss: 0.5725248561211629\n",
      "Generator Loss: [0.7348082065582275, 0.732826828956604, 0.0009907004423439503]\n",
      "Discriminator Loss: 0.5802957634441555\n",
      "Generator Loss: [0.7582159042358398, 0.7564321756362915, 0.0008918624953366816]\n",
      "Discriminator Loss: 0.568180306639988\n",
      "Generator Loss: [0.7751857042312622, 0.7733132839202881, 0.0009362191776745021]\n",
      "Discriminator Loss: 0.5700624377059285\n",
      "Generator Loss: [0.6319999098777771, 0.6302058100700378, 0.0008970546186901629]\n",
      "Discriminator Loss: 0.5764461657963693\n",
      "Generator Loss: [0.9008570313453674, 0.8985716700553894, 0.0011426882119849324]\n",
      "Discriminator Loss: 0.5622636137559311\n",
      "Generator Loss: [0.8633612394332886, 0.8614317178726196, 0.0009647482074797153]\n",
      "Discriminator Loss: 0.5984476019511931\n",
      "Generator Loss: [2.2011585235595703, 2.199528694152832, 0.0008149498607963324]\n",
      "Discriminator Loss: 0.581992571358569\n",
      "Generator Loss: [1.168976902961731, 1.1670355796813965, 0.0009706335258670151]\n",
      "Discriminator Loss: 0.5791392668616027\n",
      "Generator Loss: [0.9762175679206848, 0.9746386408805847, 0.0007894674781709909]\n",
      "Discriminator Loss: 0.5902939943043748\n",
      "Generator Loss: [0.7923999428749084, 0.790482223033905, 0.0009588618413545191]\n",
      "Discriminator Loss: 0.5653426138451323\n",
      "Generator Loss: [0.8334971070289612, 0.831114649772644, 0.001191228162497282]\n",
      "Discriminator Loss: 0.5799152191902976\n"
     ]
    },
    {
     "name": "stdout",
     "output_type": "stream",
     "text": [
      "Generator Loss: [0.7238994240760803, 0.7222684621810913, 0.0008154821116477251]\n",
      "Discriminator Loss: 0.5622671197343152\n",
      "Generator Loss: [0.7048594951629639, 0.7029495239257812, 0.0009549726382829249]\n",
      "Discriminator Loss: 0.5756584612245206\n",
      "Generator Loss: [0.7850348949432373, 0.7832133173942566, 0.0009107826044782996]\n",
      "Discriminator Loss: 0.5669326768256724\n",
      "Generator Loss: [0.8722754716873169, 0.8702813386917114, 0.0009970740647986531]\n",
      "Discriminator Loss: 0.5836002737632953\n",
      "Generator Loss: [0.7468729615211487, 0.7449678778648376, 0.0009525448549538851]\n",
      "Discriminator Loss: 0.5630070052793599\n",
      "Generator Loss: [0.7586728930473328, 0.7570381164550781, 0.0008173744427040219]\n",
      "Discriminator Loss: 0.5737847613781923\n",
      "Generator Loss: [0.7050250172615051, 0.7031277418136597, 0.0009486285853199661]\n",
      "Discriminator Loss: 0.5744137713627424\n",
      "Generator Loss: [0.7093223929405212, 0.7074390649795532, 0.0009416656685061753]\n",
      "Discriminator Loss: 0.5646921803418081\n",
      "Generator Loss: [0.7234042882919312, 0.7217018008232117, 0.0008512546773999929]\n",
      "Discriminator Loss: 0.5599602763541043\n",
      "Generator Loss: [0.667280912399292, 0.6652841567993164, 0.0009983768686652184]\n",
      "Discriminator Loss: 0.5677510791574605\n",
      "Generator Loss: [0.7036668658256531, 0.7020291090011597, 0.000818885862827301]\n",
      "Discriminator Loss: 0.5566787723000743\n",
      "Generator Loss: [0.72437584400177, 0.7225387096405029, 0.0009185677627101541]\n",
      "Discriminator Loss: 0.5692635589221027\n",
      "Generator Loss: [0.7000720500946045, 0.6983650922775269, 0.0008534669759683311]\n",
      "Discriminator Loss: 0.5727750699734315\n",
      "Generator Loss: [0.7083919048309326, 0.7067853212356567, 0.0008032931946218014]\n",
      "Discriminator Loss: 0.5552889533537382\n",
      "Generator Loss: [0.704292893409729, 0.7025294303894043, 0.0008817313937470317]\n",
      "Discriminator Loss: 0.5660377139884076\n",
      "Generator Loss: [0.7516458034515381, 0.7497615814208984, 0.0009421171271242201]\n",
      "Discriminator Loss: 0.5841652795606933\n",
      "Generator Loss: [0.7166439890861511, 0.7144656181335449, 0.001089177094399929]\n",
      "Discriminator Loss: 0.5707743152343028\n",
      "Generator Loss: [0.7517865300178528, 0.7493100762367249, 0.0012382310815155506]\n",
      "Discriminator Loss: 0.565569995680562\n",
      "Generator Loss: [0.6890089511871338, 0.6867963075637817, 0.0011063327547162771]\n",
      "Discriminator Loss: 0.5813022804795764\n",
      "Generator Loss: [0.7244347929954529, 0.722641110420227, 0.0008968468755483627]\n",
      "Discriminator Loss: 0.5804450552823255\n",
      "Generator Loss: [0.6389402747154236, 0.6365876793861389, 0.0011762913782149553]\n",
      "Discriminator Loss: 0.5638236484810477\n",
      "Generator Loss: [0.6588626503944397, 0.6565517783164978, 0.001155438250862062]\n",
      "Discriminator Loss: 0.5706999648828059\n",
      "Generator Loss: [0.7215057015419006, 0.7188229560852051, 0.0013413678389042616]\n",
      "Discriminator Loss: 0.5695351000176743\n",
      "Generator Loss: [0.7878267765045166, 0.7859920859336853, 0.0009173305588774383]\n",
      "Discriminator Loss: 0.5658694431040203\n",
      "Generator Loss: [0.7087031006813049, 0.7061794996261597, 0.001261792378500104]\n",
      "Discriminator Loss: 0.5493683297245298\n",
      "Generator Loss: [0.6770101189613342, 0.6748279929161072, 0.0010910594137385488]\n",
      "Discriminator Loss: 0.5803285912206775\n",
      "Generator Loss: [0.646378219127655, 0.6439272165298462, 0.001225512009114027]\n",
      "Discriminator Loss: 0.5686461113364203\n",
      "Generator Loss: [0.6638125777244568, 0.661206066608429, 0.0013032641727477312]\n",
      "Discriminator Loss: 0.5503844502927677\n",
      "Generator Loss: [0.6332386136054993, 0.6312377452850342, 0.0010004322975873947]\n",
      "Discriminator Loss: 0.5698560080782045\n",
      "Generator Loss: [0.6225840449333191, 0.6207089424133301, 0.0009375473600812256]\n",
      "Discriminator Loss: 0.558843669045018\n",
      "Generator Loss: [0.6280749440193176, 0.626397967338562, 0.0008384917164221406]\n",
      "Discriminator Loss: 0.5853680056025041\n",
      "Generator Loss: [0.6138380765914917, 0.6117669343948364, 0.0010355761041864753]\n",
      "Discriminator Loss: 0.5740827412955696\n",
      "Generator Loss: [0.6512291431427002, 0.6494965553283691, 0.000866292102728039]\n",
      "Discriminator Loss: 0.5669310450175544\n",
      "Generator Loss: [0.6303918957710266, 0.628847599029541, 0.0007721574511379004]\n",
      "Discriminator Loss: 0.5761851955030579\n",
      "Generator Loss: [0.6844520568847656, 0.6827797889709473, 0.0008361428044736385]\n",
      "Discriminator Loss: 0.5743497015428147\n",
      "Generator Loss: [0.6848738193511963, 0.6827807426452637, 0.0010465437080711126]\n",
      "Discriminator Loss: 0.5622306068071339\n",
      "Generator Loss: [0.6638455390930176, 0.6618778109550476, 0.0009838494006544352]\n",
      "Discriminator Loss: 0.5685848988432554\n",
      "Generator Loss: [0.7023108601570129, 0.7005409002304077, 0.0008849758887663484]\n",
      "Discriminator Loss: 0.571885185316205\n",
      "Generator Loss: [0.6294482946395874, 0.627456784248352, 0.0009957576403394341]\n",
      "Discriminator Loss: 0.5660993327728647\n",
      "Generator Loss: [0.6870335936546326, 0.684855043888092, 0.0010892796562984586]\n",
      "Discriminator Loss: 0.5726016845219419\n",
      "Generator Loss: [0.7192171216011047, 0.7171068787574768, 0.0010551100131124258]\n",
      "Discriminator Loss: 0.5613931786701869\n",
      "Generator Loss: [0.7270037531852722, 0.7248908281326294, 0.0010564711410552263]\n",
      "Discriminator Loss: 0.5545839112164686\n",
      "Generator Loss: [0.7091207504272461, 0.7069540023803711, 0.0010833886917680502]\n",
      "Discriminator Loss: 0.560212280601263\n",
      "Generator Loss: [0.732359766960144, 0.7299641370773315, 0.0011978023685514927]\n",
      "Discriminator Loss: 0.5819982105422241\n",
      "Generator Loss: [0.7053551077842712, 0.7033308744430542, 0.001012115040794015]\n",
      "Discriminator Loss: 0.5557004694128409\n",
      "Generator Loss: [0.7226282954216003, 0.7208136320114136, 0.0009073212277144194]\n",
      "Discriminator Loss: 0.5648052360484144\n",
      "Generator Loss: [0.6975243091583252, 0.6951858401298523, 0.0011692260159179568]\n",
      "Discriminator Loss: 0.5692029013807769\n",
      "Generator Loss: [0.6685312986373901, 0.6666597127914429, 0.0009358073584735394]\n",
      "Discriminator Loss: 0.5584963230940048\n",
      "Generator Loss: [0.6729816794395447, 0.6708587408065796, 0.0010614561615511775]\n",
      "Discriminator Loss: 0.5641084602684714\n",
      "Generator Loss: [0.6679083108901978, 0.6658545136451721, 0.0010269111953675747]\n",
      "Discriminator Loss: 0.5648492827895097\n",
      "Generator Loss: [0.6726682782173157, 0.6706826686859131, 0.0009927903302013874]\n",
      "Discriminator Loss: 0.6051700352400076\n",
      "Generator Loss: [0.9403308033943176, 0.9385309219360352, 0.0008999314159154892]\n",
      "Discriminator Loss: 0.5625615012540948\n",
      "Generator Loss: [0.8694837093353271, 0.8678404688835144, 0.0008216080022975802]\n",
      "Discriminator Loss: 0.5554983243928291\n",
      "Generator Loss: [0.8433516621589661, 0.8412690758705139, 0.0010412849951535463]\n",
      "Discriminator Loss: 0.5632215422738227\n",
      "Generator Loss: [0.7889903783798218, 0.7867797017097473, 0.0011053329799324274]\n",
      "Discriminator Loss: 0.5605841789511032\n",
      "Generator Loss: [0.8130548596382141, 0.8111746311187744, 0.0009401008719578385]\n",
      "Discriminator Loss: 0.5863136119296541\n",
      "Generator Loss: [0.7969592213630676, 0.7943377494812012, 0.001310746418312192]\n",
      "Discriminator Loss: 0.5618771297886269\n",
      "Generator Loss: [0.7953289151191711, 0.7928773164749146, 0.0012257982743903995]\n",
      "Discriminator Loss: 0.581972348241834\n",
      "Generator Loss: [0.7827064394950867, 0.7808926701545715, 0.0009068908402696252]\n",
      "Discriminator Loss: 0.5737476012254774\n",
      "Generator Loss: [0.7993988990783691, 0.7970324754714966, 0.0011832220479846]\n",
      "Discriminator Loss: 0.5584680997599207\n",
      "Generator Loss: [0.7879776954650879, 0.7861635088920593, 0.000907098816242069]\n",
      "Discriminator Loss: 0.5671644429530716\n",
      "Generator Loss: [0.7699601054191589, 0.7682207226753235, 0.0008696976583451033]\n",
      "Discriminator Loss: 0.5715904017270077\n",
      "Generator Loss: [0.7821852564811707, 0.7801473736763, 0.0010189461754634976]\n",
      "Discriminator Loss: 0.5745566398909432\n",
      "Generator Loss: [0.8031476140022278, 0.8018007874488831, 0.0006734163616783917]\n",
      "Discriminator Loss: 0.5517108570209075\n",
      "Generator Loss: [0.8232206702232361, 0.8218423128128052, 0.0006891761440783739]\n",
      "Discriminator Loss: 0.5625328729474859\n",
      "Generator Loss: [0.8219960331916809, 0.8205059766769409, 0.0007450412376783788]\n",
      "Discriminator Loss: 0.5704073392444116\n",
      "Generator Loss: [0.8026018738746643, 0.8007040023803711, 0.0009489307994954288]\n",
      "Epoch: 5\n",
      "Discriminator Loss: 0.5838728180679027\n",
      "Generator Loss: [0.767248809337616, 0.7652814388275146, 0.0009836843237280846]\n"
     ]
    },
    {
     "name": "stderr",
     "output_type": "stream",
     "text": [
      "Clipping input data to the valid range for imshow with RGB data ([0..1] for floats or [0..255] for integers).\n",
      "Clipping input data to the valid range for imshow with RGB data ([0..1] for floats or [0..255] for integers).\n",
      "Clipping input data to the valid range for imshow with RGB data ([0..1] for floats or [0..255] for integers).\n",
      "Clipping input data to the valid range for imshow with RGB data ([0..1] for floats or [0..255] for integers).\n",
      "Clipping input data to the valid range for imshow with RGB data ([0..1] for floats or [0..255] for integers).\n",
      "Clipping input data to the valid range for imshow with RGB data ([0..1] for floats or [0..255] for integers).\n",
      "Clipping input data to the valid range for imshow with RGB data ([0..1] for floats or [0..255] for integers).\n",
      "Clipping input data to the valid range for imshow with RGB data ([0..1] for floats or [0..255] for integers).\n",
      "Clipping input data to the valid range for imshow with RGB data ([0..1] for floats or [0..255] for integers).\n",
      "Clipping input data to the valid range for imshow with RGB data ([0..1] for floats or [0..255] for integers).\n"
     ]
    },
    {
     "name": "stdout",
     "output_type": "stream",
     "text": [
      "Discriminator Loss: 0.5689061113007483\n",
      "Generator Loss: [0.7542083263397217, 0.752348780632019, 0.000929766334593296]\n"
     ]
    },
    {
     "name": "stderr",
     "output_type": "stream",
     "text": [
      "Clipping input data to the valid range for imshow with RGB data ([0..1] for floats or [0..255] for integers).\n",
      "Clipping input data to the valid range for imshow with RGB data ([0..1] for floats or [0..255] for integers).\n",
      "Clipping input data to the valid range for imshow with RGB data ([0..1] for floats or [0..255] for integers).\n",
      "Clipping input data to the valid range for imshow with RGB data ([0..1] for floats or [0..255] for integers).\n",
      "Clipping input data to the valid range for imshow with RGB data ([0..1] for floats or [0..255] for integers).\n",
      "Clipping input data to the valid range for imshow with RGB data ([0..1] for floats or [0..255] for integers).\n",
      "Clipping input data to the valid range for imshow with RGB data ([0..1] for floats or [0..255] for integers).\n",
      "Clipping input data to the valid range for imshow with RGB data ([0..1] for floats or [0..255] for integers).\n",
      "Clipping input data to the valid range for imshow with RGB data ([0..1] for floats or [0..255] for integers).\n",
      "Clipping input data to the valid range for imshow with RGB data ([0..1] for floats or [0..255] for integers).\n"
     ]
    },
    {
     "name": "stdout",
     "output_type": "stream",
     "text": [
      "Discriminator Loss: 0.5671738269375055\n",
      "Generator Loss: [0.7168201208114624, 0.7149614095687866, 0.0009293666225858033]\n"
     ]
    },
    {
     "name": "stderr",
     "output_type": "stream",
     "text": [
      "Clipping input data to the valid range for imshow with RGB data ([0..1] for floats or [0..255] for integers).\n",
      "Clipping input data to the valid range for imshow with RGB data ([0..1] for floats or [0..255] for integers).\n",
      "Clipping input data to the valid range for imshow with RGB data ([0..1] for floats or [0..255] for integers).\n",
      "Clipping input data to the valid range for imshow with RGB data ([0..1] for floats or [0..255] for integers).\n",
      "Clipping input data to the valid range for imshow with RGB data ([0..1] for floats or [0..255] for integers).\n",
      "Clipping input data to the valid range for imshow with RGB data ([0..1] for floats or [0..255] for integers).\n",
      "Clipping input data to the valid range for imshow with RGB data ([0..1] for floats or [0..255] for integers).\n",
      "Clipping input data to the valid range for imshow with RGB data ([0..1] for floats or [0..255] for integers).\n",
      "Clipping input data to the valid range for imshow with RGB data ([0..1] for floats or [0..255] for integers).\n",
      "Clipping input data to the valid range for imshow with RGB data ([0..1] for floats or [0..255] for integers).\n"
     ]
    },
    {
     "name": "stdout",
     "output_type": "stream",
     "text": [
      "Discriminator Loss: 0.5739839201996801\n",
      "Generator Loss: [0.7171959280967712, 0.7153612375259399, 0.0009173391154035926]\n"
     ]
    },
    {
     "name": "stderr",
     "output_type": "stream",
     "text": [
      "Clipping input data to the valid range for imshow with RGB data ([0..1] for floats or [0..255] for integers).\n",
      "Clipping input data to the valid range for imshow with RGB data ([0..1] for floats or [0..255] for integers).\n",
      "Clipping input data to the valid range for imshow with RGB data ([0..1] for floats or [0..255] for integers).\n",
      "Clipping input data to the valid range for imshow with RGB data ([0..1] for floats or [0..255] for integers).\n",
      "Clipping input data to the valid range for imshow with RGB data ([0..1] for floats or [0..255] for integers).\n",
      "Clipping input data to the valid range for imshow with RGB data ([0..1] for floats or [0..255] for integers).\n",
      "Clipping input data to the valid range for imshow with RGB data ([0..1] for floats or [0..255] for integers).\n",
      "Clipping input data to the valid range for imshow with RGB data ([0..1] for floats or [0..255] for integers).\n",
      "Clipping input data to the valid range for imshow with RGB data ([0..1] for floats or [0..255] for integers).\n",
      "Clipping input data to the valid range for imshow with RGB data ([0..1] for floats or [0..255] for integers).\n"
     ]
    },
    {
     "name": "stdout",
     "output_type": "stream",
     "text": [
      "Discriminator Loss: 0.5717674212137354\n",
      "Generator Loss: [0.7145354151725769, 0.7128016948699951, 0.0008668483351357281]\n"
     ]
    },
    {
     "name": "stderr",
     "output_type": "stream",
     "text": [
      "Clipping input data to the valid range for imshow with RGB data ([0..1] for floats or [0..255] for integers).\n",
      "Clipping input data to the valid range for imshow with RGB data ([0..1] for floats or [0..255] for integers).\n",
      "Clipping input data to the valid range for imshow with RGB data ([0..1] for floats or [0..255] for integers).\n",
      "Clipping input data to the valid range for imshow with RGB data ([0..1] for floats or [0..255] for integers).\n",
      "Clipping input data to the valid range for imshow with RGB data ([0..1] for floats or [0..255] for integers).\n",
      "Clipping input data to the valid range for imshow with RGB data ([0..1] for floats or [0..255] for integers).\n",
      "Clipping input data to the valid range for imshow with RGB data ([0..1] for floats or [0..255] for integers).\n",
      "Clipping input data to the valid range for imshow with RGB data ([0..1] for floats or [0..255] for integers).\n",
      "Clipping input data to the valid range for imshow with RGB data ([0..1] for floats or [0..255] for integers).\n",
      "Clipping input data to the valid range for imshow with RGB data ([0..1] for floats or [0..255] for integers).\n"
     ]
    },
    {
     "name": "stdout",
     "output_type": "stream",
     "text": [
      "Discriminator Loss: 0.5723033969989046\n",
      "Generator Loss: [0.7248356342315674, 0.7230952978134155, 0.0008701562765054405]\n"
     ]
    },
    {
     "name": "stderr",
     "output_type": "stream",
     "text": [
      "Clipping input data to the valid range for imshow with RGB data ([0..1] for floats or [0..255] for integers).\n",
      "Clipping input data to the valid range for imshow with RGB data ([0..1] for floats or [0..255] for integers).\n",
      "Clipping input data to the valid range for imshow with RGB data ([0..1] for floats or [0..255] for integers).\n",
      "Clipping input data to the valid range for imshow with RGB data ([0..1] for floats or [0..255] for integers).\n",
      "Clipping input data to the valid range for imshow with RGB data ([0..1] for floats or [0..255] for integers).\n",
      "Clipping input data to the valid range for imshow with RGB data ([0..1] for floats or [0..255] for integers).\n",
      "Clipping input data to the valid range for imshow with RGB data ([0..1] for floats or [0..255] for integers).\n",
      "Clipping input data to the valid range for imshow with RGB data ([0..1] for floats or [0..255] for integers).\n",
      "Clipping input data to the valid range for imshow with RGB data ([0..1] for floats or [0..255] for integers).\n",
      "Clipping input data to the valid range for imshow with RGB data ([0..1] for floats or [0..255] for integers).\n"
     ]
    },
    {
     "name": "stdout",
     "output_type": "stream",
     "text": [
      "Discriminator Loss: 0.5631220467039384\n",
      "Generator Loss: [0.8321829438209534, 0.8306698799133301, 0.000756544410251081]\n"
     ]
    },
    {
     "name": "stderr",
     "output_type": "stream",
     "text": [
      "Clipping input data to the valid range for imshow with RGB data ([0..1] for floats or [0..255] for integers).\n",
      "Clipping input data to the valid range for imshow with RGB data ([0..1] for floats or [0..255] for integers).\n",
      "Clipping input data to the valid range for imshow with RGB data ([0..1] for floats or [0..255] for integers).\n",
      "Clipping input data to the valid range for imshow with RGB data ([0..1] for floats or [0..255] for integers).\n",
      "Clipping input data to the valid range for imshow with RGB data ([0..1] for floats or [0..255] for integers).\n",
      "Clipping input data to the valid range for imshow with RGB data ([0..1] for floats or [0..255] for integers).\n",
      "Clipping input data to the valid range for imshow with RGB data ([0..1] for floats or [0..255] for integers).\n",
      "Clipping input data to the valid range for imshow with RGB data ([0..1] for floats or [0..255] for integers).\n",
      "Clipping input data to the valid range for imshow with RGB data ([0..1] for floats or [0..255] for integers).\n",
      "Clipping input data to the valid range for imshow with RGB data ([0..1] for floats or [0..255] for integers).\n"
     ]
    },
    {
     "name": "stdout",
     "output_type": "stream",
     "text": [
      "Discriminator Loss: 0.5596435449551791\n",
      "Generator Loss: [0.7959603071212769, 0.7934475541114807, 0.0012563681229948997]\n"
     ]
    },
    {
     "name": "stderr",
     "output_type": "stream",
     "text": [
      "Clipping input data to the valid range for imshow with RGB data ([0..1] for floats or [0..255] for integers).\n",
      "Clipping input data to the valid range for imshow with RGB data ([0..1] for floats or [0..255] for integers).\n",
      "Clipping input data to the valid range for imshow with RGB data ([0..1] for floats or [0..255] for integers).\n",
      "Clipping input data to the valid range for imshow with RGB data ([0..1] for floats or [0..255] for integers).\n",
      "Clipping input data to the valid range for imshow with RGB data ([0..1] for floats or [0..255] for integers).\n",
      "Clipping input data to the valid range for imshow with RGB data ([0..1] for floats or [0..255] for integers).\n",
      "Clipping input data to the valid range for imshow with RGB data ([0..1] for floats or [0..255] for integers).\n",
      "Clipping input data to the valid range for imshow with RGB data ([0..1] for floats or [0..255] for integers).\n",
      "Clipping input data to the valid range for imshow with RGB data ([0..1] for floats or [0..255] for integers).\n",
      "Clipping input data to the valid range for imshow with RGB data ([0..1] for floats or [0..255] for integers).\n"
     ]
    },
    {
     "name": "stdout",
     "output_type": "stream",
     "text": [
      "Discriminator Loss: 0.5599880382505944\n",
      "Generator Loss: [0.7496979236602783, 0.7465187907218933, 0.0015895714750513434]\n"
     ]
    },
    {
     "name": "stderr",
     "output_type": "stream",
     "text": [
      "Clipping input data to the valid range for imshow with RGB data ([0..1] for floats or [0..255] for integers).\n",
      "Clipping input data to the valid range for imshow with RGB data ([0..1] for floats or [0..255] for integers).\n",
      "Clipping input data to the valid range for imshow with RGB data ([0..1] for floats or [0..255] for integers).\n",
      "Clipping input data to the valid range for imshow with RGB data ([0..1] for floats or [0..255] for integers).\n",
      "Clipping input data to the valid range for imshow with RGB data ([0..1] for floats or [0..255] for integers).\n",
      "Clipping input data to the valid range for imshow with RGB data ([0..1] for floats or [0..255] for integers).\n",
      "Clipping input data to the valid range for imshow with RGB data ([0..1] for floats or [0..255] for integers).\n",
      "Clipping input data to the valid range for imshow with RGB data ([0..1] for floats or [0..255] for integers).\n",
      "Clipping input data to the valid range for imshow with RGB data ([0..1] for floats or [0..255] for integers).\n",
      "Clipping input data to the valid range for imshow with RGB data ([0..1] for floats or [0..255] for integers).\n"
     ]
    },
    {
     "name": "stdout",
     "output_type": "stream",
     "text": [
      "Discriminator Loss: 0.5678038207479403\n",
      "Generator Loss: [0.8474200367927551, 0.8452678322792053, 0.0010761057492345572]\n"
     ]
    },
    {
     "name": "stderr",
     "output_type": "stream",
     "text": [
      "Clipping input data to the valid range for imshow with RGB data ([0..1] for floats or [0..255] for integers).\n",
      "Clipping input data to the valid range for imshow with RGB data ([0..1] for floats or [0..255] for integers).\n",
      "Clipping input data to the valid range for imshow with RGB data ([0..1] for floats or [0..255] for integers).\n",
      "Clipping input data to the valid range for imshow with RGB data ([0..1] for floats or [0..255] for integers).\n",
      "Clipping input data to the valid range for imshow with RGB data ([0..1] for floats or [0..255] for integers).\n",
      "Clipping input data to the valid range for imshow with RGB data ([0..1] for floats or [0..255] for integers).\n",
      "Clipping input data to the valid range for imshow with RGB data ([0..1] for floats or [0..255] for integers).\n",
      "Clipping input data to the valid range for imshow with RGB data ([0..1] for floats or [0..255] for integers).\n",
      "Clipping input data to the valid range for imshow with RGB data ([0..1] for floats or [0..255] for integers).\n",
      "Clipping input data to the valid range for imshow with RGB data ([0..1] for floats or [0..255] for integers).\n"
     ]
    },
    {
     "name": "stdout",
     "output_type": "stream",
     "text": [
      "Discriminator Loss: 0.5788692069363606\n",
      "Generator Loss: [0.8075805306434631, 0.8057377338409424, 0.0009214058518409729]\n"
     ]
    },
    {
     "name": "stderr",
     "output_type": "stream",
     "text": [
      "Clipping input data to the valid range for imshow with RGB data ([0..1] for floats or [0..255] for integers).\n",
      "Clipping input data to the valid range for imshow with RGB data ([0..1] for floats or [0..255] for integers).\n",
      "Clipping input data to the valid range for imshow with RGB data ([0..1] for floats or [0..255] for integers).\n",
      "Clipping input data to the valid range for imshow with RGB data ([0..1] for floats or [0..255] for integers).\n",
      "Clipping input data to the valid range for imshow with RGB data ([0..1] for floats or [0..255] for integers).\n",
      "Clipping input data to the valid range for imshow with RGB data ([0..1] for floats or [0..255] for integers).\n",
      "Clipping input data to the valid range for imshow with RGB data ([0..1] for floats or [0..255] for integers).\n",
      "Clipping input data to the valid range for imshow with RGB data ([0..1] for floats or [0..255] for integers).\n",
      "Clipping input data to the valid range for imshow with RGB data ([0..1] for floats or [0..255] for integers).\n",
      "Clipping input data to the valid range for imshow with RGB data ([0..1] for floats or [0..255] for integers).\n"
     ]
    },
    {
     "name": "stdout",
     "output_type": "stream",
     "text": [
      "Discriminator Loss: 0.5719888975800131\n",
      "Generator Loss: [0.7525876760482788, 0.7509579658508301, 0.0008148616179823875]\n"
     ]
    },
    {
     "name": "stderr",
     "output_type": "stream",
     "text": [
      "Clipping input data to the valid range for imshow with RGB data ([0..1] for floats or [0..255] for integers).\n",
      "Clipping input data to the valid range for imshow with RGB data ([0..1] for floats or [0..255] for integers).\n",
      "Clipping input data to the valid range for imshow with RGB data ([0..1] for floats or [0..255] for integers).\n",
      "Clipping input data to the valid range for imshow with RGB data ([0..1] for floats or [0..255] for integers).\n",
      "Clipping input data to the valid range for imshow with RGB data ([0..1] for floats or [0..255] for integers).\n",
      "Clipping input data to the valid range for imshow with RGB data ([0..1] for floats or [0..255] for integers).\n",
      "Clipping input data to the valid range for imshow with RGB data ([0..1] for floats or [0..255] for integers).\n",
      "Clipping input data to the valid range for imshow with RGB data ([0..1] for floats or [0..255] for integers).\n",
      "Clipping input data to the valid range for imshow with RGB data ([0..1] for floats or [0..255] for integers).\n",
      "Clipping input data to the valid range for imshow with RGB data ([0..1] for floats or [0..255] for integers).\n"
     ]
    },
    {
     "name": "stdout",
     "output_type": "stream",
     "text": [
      "Discriminator Loss: 0.564177952848695\n",
      "Generator Loss: [0.7358366847038269, 0.7341758608818054, 0.0008304211078211665]\n"
     ]
    },
    {
     "name": "stderr",
     "output_type": "stream",
     "text": [
      "Clipping input data to the valid range for imshow with RGB data ([0..1] for floats or [0..255] for integers).\n",
      "Clipping input data to the valid range for imshow with RGB data ([0..1] for floats or [0..255] for integers).\n",
      "Clipping input data to the valid range for imshow with RGB data ([0..1] for floats or [0..255] for integers).\n",
      "Clipping input data to the valid range for imshow with RGB data ([0..1] for floats or [0..255] for integers).\n",
      "Clipping input data to the valid range for imshow with RGB data ([0..1] for floats or [0..255] for integers).\n",
      "Clipping input data to the valid range for imshow with RGB data ([0..1] for floats or [0..255] for integers).\n",
      "Clipping input data to the valid range for imshow with RGB data ([0..1] for floats or [0..255] for integers).\n",
      "Clipping input data to the valid range for imshow with RGB data ([0..1] for floats or [0..255] for integers).\n",
      "Clipping input data to the valid range for imshow with RGB data ([0..1] for floats or [0..255] for integers).\n",
      "Clipping input data to the valid range for imshow with RGB data ([0..1] for floats or [0..255] for integers).\n"
     ]
    },
    {
     "name": "stdout",
     "output_type": "stream",
     "text": [
      "Discriminator Loss: 0.5595804328841041\n",
      "Generator Loss: [0.8019489049911499, 0.8002607822418213, 0.0008440656820312142]\n"
     ]
    },
    {
     "name": "stderr",
     "output_type": "stream",
     "text": [
      "Clipping input data to the valid range for imshow with RGB data ([0..1] for floats or [0..255] for integers).\n",
      "Clipping input data to the valid range for imshow with RGB data ([0..1] for floats or [0..255] for integers).\n",
      "Clipping input data to the valid range for imshow with RGB data ([0..1] for floats or [0..255] for integers).\n",
      "Clipping input data to the valid range for imshow with RGB data ([0..1] for floats or [0..255] for integers).\n",
      "Clipping input data to the valid range for imshow with RGB data ([0..1] for floats or [0..255] for integers).\n",
      "Clipping input data to the valid range for imshow with RGB data ([0..1] for floats or [0..255] for integers).\n",
      "Clipping input data to the valid range for imshow with RGB data ([0..1] for floats or [0..255] for integers).\n",
      "Clipping input data to the valid range for imshow with RGB data ([0..1] for floats or [0..255] for integers).\n",
      "Clipping input data to the valid range for imshow with RGB data ([0..1] for floats or [0..255] for integers).\n",
      "Clipping input data to the valid range for imshow with RGB data ([0..1] for floats or [0..255] for integers).\n"
     ]
    },
    {
     "name": "stdout",
     "output_type": "stream",
     "text": [
      "Discriminator Loss: 0.5700772922173201\n",
      "Generator Loss: [0.7486421465873718, 0.7463295459747314, 0.0011563078733161092]\n"
     ]
    },
    {
     "name": "stderr",
     "output_type": "stream",
     "text": [
      "Clipping input data to the valid range for imshow with RGB data ([0..1] for floats or [0..255] for integers).\n",
      "Clipping input data to the valid range for imshow with RGB data ([0..1] for floats or [0..255] for integers).\n",
      "Clipping input data to the valid range for imshow with RGB data ([0..1] for floats or [0..255] for integers).\n",
      "Clipping input data to the valid range for imshow with RGB data ([0..1] for floats or [0..255] for integers).\n",
      "Clipping input data to the valid range for imshow with RGB data ([0..1] for floats or [0..255] for integers).\n",
      "Clipping input data to the valid range for imshow with RGB data ([0..1] for floats or [0..255] for integers).\n",
      "Clipping input data to the valid range for imshow with RGB data ([0..1] for floats or [0..255] for integers).\n",
      "Clipping input data to the valid range for imshow with RGB data ([0..1] for floats or [0..255] for integers).\n",
      "Clipping input data to the valid range for imshow with RGB data ([0..1] for floats or [0..255] for integers).\n",
      "Clipping input data to the valid range for imshow with RGB data ([0..1] for floats or [0..255] for integers).\n"
     ]
    },
    {
     "name": "stdout",
     "output_type": "stream",
     "text": [
      "Discriminator Loss: 0.5704176601720974\n",
      "Generator Loss: [0.7940846681594849, 0.7920782566070557, 0.0010031915735453367]\n"
     ]
    },
    {
     "name": "stderr",
     "output_type": "stream",
     "text": [
      "Clipping input data to the valid range for imshow with RGB data ([0..1] for floats or [0..255] for integers).\n",
      "Clipping input data to the valid range for imshow with RGB data ([0..1] for floats or [0..255] for integers).\n",
      "Clipping input data to the valid range for imshow with RGB data ([0..1] for floats or [0..255] for integers).\n",
      "Clipping input data to the valid range for imshow with RGB data ([0..1] for floats or [0..255] for integers).\n",
      "Clipping input data to the valid range for imshow with RGB data ([0..1] for floats or [0..255] for integers).\n",
      "Clipping input data to the valid range for imshow with RGB data ([0..1] for floats or [0..255] for integers).\n",
      "Clipping input data to the valid range for imshow with RGB data ([0..1] for floats or [0..255] for integers).\n",
      "Clipping input data to the valid range for imshow with RGB data ([0..1] for floats or [0..255] for integers).\n",
      "Clipping input data to the valid range for imshow with RGB data ([0..1] for floats or [0..255] for integers).\n",
      "Clipping input data to the valid range for imshow with RGB data ([0..1] for floats or [0..255] for integers).\n"
     ]
    },
    {
     "name": "stdout",
     "output_type": "stream",
     "text": [
      "Discriminator Loss: 0.5670635703218068\n",
      "Generator Loss: [0.7816014289855957, 0.7799305319786072, 0.0008354486199095845]\n"
     ]
    },
    {
     "name": "stderr",
     "output_type": "stream",
     "text": [
      "Clipping input data to the valid range for imshow with RGB data ([0..1] for floats or [0..255] for integers).\n",
      "Clipping input data to the valid range for imshow with RGB data ([0..1] for floats or [0..255] for integers).\n",
      "Clipping input data to the valid range for imshow with RGB data ([0..1] for floats or [0..255] for integers).\n",
      "Clipping input data to the valid range for imshow with RGB data ([0..1] for floats or [0..255] for integers).\n",
      "Clipping input data to the valid range for imshow with RGB data ([0..1] for floats or [0..255] for integers).\n",
      "Clipping input data to the valid range for imshow with RGB data ([0..1] for floats or [0..255] for integers).\n",
      "Clipping input data to the valid range for imshow with RGB data ([0..1] for floats or [0..255] for integers).\n",
      "Clipping input data to the valid range for imshow with RGB data ([0..1] for floats or [0..255] for integers).\n",
      "Clipping input data to the valid range for imshow with RGB data ([0..1] for floats or [0..255] for integers).\n",
      "Clipping input data to the valid range for imshow with RGB data ([0..1] for floats or [0..255] for integers).\n"
     ]
    },
    {
     "name": "stdout",
     "output_type": "stream",
     "text": [
      "Discriminator Loss: 0.5728325789632436\n",
      "Generator Loss: [0.7713084816932678, 0.7699518799781799, 0.000678313197568059]\n"
     ]
    },
    {
     "name": "stderr",
     "output_type": "stream",
     "text": [
      "Clipping input data to the valid range for imshow with RGB data ([0..1] for floats or [0..255] for integers).\n",
      "Clipping input data to the valid range for imshow with RGB data ([0..1] for floats or [0..255] for integers).\n",
      "Clipping input data to the valid range for imshow with RGB data ([0..1] for floats or [0..255] for integers).\n",
      "Clipping input data to the valid range for imshow with RGB data ([0..1] for floats or [0..255] for integers).\n",
      "Clipping input data to the valid range for imshow with RGB data ([0..1] for floats or [0..255] for integers).\n",
      "Clipping input data to the valid range for imshow with RGB data ([0..1] for floats or [0..255] for integers).\n",
      "Clipping input data to the valid range for imshow with RGB data ([0..1] for floats or [0..255] for integers).\n",
      "Clipping input data to the valid range for imshow with RGB data ([0..1] for floats or [0..255] for integers).\n",
      "Clipping input data to the valid range for imshow with RGB data ([0..1] for floats or [0..255] for integers).\n",
      "Clipping input data to the valid range for imshow with RGB data ([0..1] for floats or [0..255] for integers).\n"
     ]
    },
    {
     "name": "stdout",
     "output_type": "stream",
     "text": [
      "Discriminator Loss: 0.5791569014691049\n",
      "Generator Loss: [0.7880467772483826, 0.7865804433822632, 0.0007331559900194407]\n"
     ]
    },
    {
     "name": "stderr",
     "output_type": "stream",
     "text": [
      "Clipping input data to the valid range for imshow with RGB data ([0..1] for floats or [0..255] for integers).\n",
      "Clipping input data to the valid range for imshow with RGB data ([0..1] for floats or [0..255] for integers).\n",
      "Clipping input data to the valid range for imshow with RGB data ([0..1] for floats or [0..255] for integers).\n",
      "Clipping input data to the valid range for imshow with RGB data ([0..1] for floats or [0..255] for integers).\n",
      "Clipping input data to the valid range for imshow with RGB data ([0..1] for floats or [0..255] for integers).\n",
      "Clipping input data to the valid range for imshow with RGB data ([0..1] for floats or [0..255] for integers).\n",
      "Clipping input data to the valid range for imshow with RGB data ([0..1] for floats or [0..255] for integers).\n",
      "Clipping input data to the valid range for imshow with RGB data ([0..1] for floats or [0..255] for integers).\n",
      "Clipping input data to the valid range for imshow with RGB data ([0..1] for floats or [0..255] for integers).\n",
      "Clipping input data to the valid range for imshow with RGB data ([0..1] for floats or [0..255] for integers).\n"
     ]
    },
    {
     "name": "stdout",
     "output_type": "stream",
     "text": [
      "Discriminator Loss: 0.5656150288996287\n",
      "Generator Loss: [0.9010113477706909, 0.8996890783309937, 0.0006611270364373922]\n"
     ]
    },
    {
     "name": "stderr",
     "output_type": "stream",
     "text": [
      "Clipping input data to the valid range for imshow with RGB data ([0..1] for floats or [0..255] for integers).\n",
      "Clipping input data to the valid range for imshow with RGB data ([0..1] for floats or [0..255] for integers).\n",
      "Clipping input data to the valid range for imshow with RGB data ([0..1] for floats or [0..255] for integers).\n",
      "Clipping input data to the valid range for imshow with RGB data ([0..1] for floats or [0..255] for integers).\n",
      "Clipping input data to the valid range for imshow with RGB data ([0..1] for floats or [0..255] for integers).\n",
      "Clipping input data to the valid range for imshow with RGB data ([0..1] for floats or [0..255] for integers).\n",
      "Clipping input data to the valid range for imshow with RGB data ([0..1] for floats or [0..255] for integers).\n",
      "Clipping input data to the valid range for imshow with RGB data ([0..1] for floats or [0..255] for integers).\n",
      "Clipping input data to the valid range for imshow with RGB data ([0..1] for floats or [0..255] for integers).\n",
      "Clipping input data to the valid range for imshow with RGB data ([0..1] for floats or [0..255] for integers).\n"
     ]
    },
    {
     "name": "stdout",
     "output_type": "stream",
     "text": [
      "Discriminator Loss: 0.5806520317710238\n",
      "Generator Loss: [0.9216976165771484, 0.9201457500457764, 0.0007759408326819539]\n"
     ]
    },
    {
     "name": "stderr",
     "output_type": "stream",
     "text": [
      "Clipping input data to the valid range for imshow with RGB data ([0..1] for floats or [0..255] for integers).\n",
      "Clipping input data to the valid range for imshow with RGB data ([0..1] for floats or [0..255] for integers).\n",
      "Clipping input data to the valid range for imshow with RGB data ([0..1] for floats or [0..255] for integers).\n",
      "Clipping input data to the valid range for imshow with RGB data ([0..1] for floats or [0..255] for integers).\n",
      "Clipping input data to the valid range for imshow with RGB data ([0..1] for floats or [0..255] for integers).\n",
      "Clipping input data to the valid range for imshow with RGB data ([0..1] for floats or [0..255] for integers).\n",
      "Clipping input data to the valid range for imshow with RGB data ([0..1] for floats or [0..255] for integers).\n",
      "Clipping input data to the valid range for imshow with RGB data ([0..1] for floats or [0..255] for integers).\n",
      "Clipping input data to the valid range for imshow with RGB data ([0..1] for floats or [0..255] for integers).\n",
      "Clipping input data to the valid range for imshow with RGB data ([0..1] for floats or [0..255] for integers).\n"
     ]
    },
    {
     "name": "stdout",
     "output_type": "stream",
     "text": [
      "Discriminator Loss: 0.5784294346140086\n",
      "Generator Loss: [0.7870749831199646, 0.7857567071914673, 0.0006591463461518288]\n"
     ]
    },
    {
     "name": "stderr",
     "output_type": "stream",
     "text": [
      "Clipping input data to the valid range for imshow with RGB data ([0..1] for floats or [0..255] for integers).\n",
      "Clipping input data to the valid range for imshow with RGB data ([0..1] for floats or [0..255] for integers).\n",
      "Clipping input data to the valid range for imshow with RGB data ([0..1] for floats or [0..255] for integers).\n",
      "Clipping input data to the valid range for imshow with RGB data ([0..1] for floats or [0..255] for integers).\n",
      "Clipping input data to the valid range for imshow with RGB data ([0..1] for floats or [0..255] for integers).\n",
      "Clipping input data to the valid range for imshow with RGB data ([0..1] for floats or [0..255] for integers).\n",
      "Clipping input data to the valid range for imshow with RGB data ([0..1] for floats or [0..255] for integers).\n",
      "Clipping input data to the valid range for imshow with RGB data ([0..1] for floats or [0..255] for integers).\n",
      "Clipping input data to the valid range for imshow with RGB data ([0..1] for floats or [0..255] for integers).\n",
      "Clipping input data to the valid range for imshow with RGB data ([0..1] for floats or [0..255] for integers).\n"
     ]
    },
    {
     "name": "stdout",
     "output_type": "stream",
     "text": [
      "Discriminator Loss: 0.5962640376892523\n",
      "Generator Loss: [0.8253907561302185, 0.8239461779594421, 0.0007223017746582627]\n"
     ]
    },
    {
     "name": "stderr",
     "output_type": "stream",
     "text": [
      "Clipping input data to the valid range for imshow with RGB data ([0..1] for floats or [0..255] for integers).\n",
      "Clipping input data to the valid range for imshow with RGB data ([0..1] for floats or [0..255] for integers).\n",
      "Clipping input data to the valid range for imshow with RGB data ([0..1] for floats or [0..255] for integers).\n",
      "Clipping input data to the valid range for imshow with RGB data ([0..1] for floats or [0..255] for integers).\n",
      "Clipping input data to the valid range for imshow with RGB data ([0..1] for floats or [0..255] for integers).\n",
      "Clipping input data to the valid range for imshow with RGB data ([0..1] for floats or [0..255] for integers).\n",
      "Clipping input data to the valid range for imshow with RGB data ([0..1] for floats or [0..255] for integers).\n",
      "Clipping input data to the valid range for imshow with RGB data ([0..1] for floats or [0..255] for integers).\n",
      "Clipping input data to the valid range for imshow with RGB data ([0..1] for floats or [0..255] for integers).\n",
      "Clipping input data to the valid range for imshow with RGB data ([0..1] for floats or [0..255] for integers).\n"
     ]
    },
    {
     "name": "stdout",
     "output_type": "stream",
     "text": [
      "Discriminator Loss: 0.559020747703471\n",
      "Generator Loss: [0.8154628276824951, 0.813572883605957, 0.0009449769859202206]\n"
     ]
    },
    {
     "name": "stderr",
     "output_type": "stream",
     "text": [
      "Clipping input data to the valid range for imshow with RGB data ([0..1] for floats or [0..255] for integers).\n",
      "Clipping input data to the valid range for imshow with RGB data ([0..1] for floats or [0..255] for integers).\n",
      "Clipping input data to the valid range for imshow with RGB data ([0..1] for floats or [0..255] for integers).\n",
      "Clipping input data to the valid range for imshow with RGB data ([0..1] for floats or [0..255] for integers).\n",
      "Clipping input data to the valid range for imshow with RGB data ([0..1] for floats or [0..255] for integers).\n",
      "Clipping input data to the valid range for imshow with RGB data ([0..1] for floats or [0..255] for integers).\n",
      "Clipping input data to the valid range for imshow with RGB data ([0..1] for floats or [0..255] for integers).\n",
      "Clipping input data to the valid range for imshow with RGB data ([0..1] for floats or [0..255] for integers).\n",
      "Clipping input data to the valid range for imshow with RGB data ([0..1] for floats or [0..255] for integers).\n",
      "Clipping input data to the valid range for imshow with RGB data ([0..1] for floats or [0..255] for integers).\n"
     ]
    },
    {
     "name": "stdout",
     "output_type": "stream",
     "text": [
      "Discriminator Loss: 0.6080876045307377\n",
      "Generator Loss: [0.9245583415031433, 0.9226528406143188, 0.0009527552174404263]\n"
     ]
    },
    {
     "name": "stderr",
     "output_type": "stream",
     "text": [
      "Clipping input data to the valid range for imshow with RGB data ([0..1] for floats or [0..255] for integers).\n",
      "Clipping input data to the valid range for imshow with RGB data ([0..1] for floats or [0..255] for integers).\n",
      "Clipping input data to the valid range for imshow with RGB data ([0..1] for floats or [0..255] for integers).\n",
      "Clipping input data to the valid range for imshow with RGB data ([0..1] for floats or [0..255] for integers).\n",
      "Clipping input data to the valid range for imshow with RGB data ([0..1] for floats or [0..255] for integers).\n",
      "Clipping input data to the valid range for imshow with RGB data ([0..1] for floats or [0..255] for integers).\n",
      "Clipping input data to the valid range for imshow with RGB data ([0..1] for floats or [0..255] for integers).\n",
      "Clipping input data to the valid range for imshow with RGB data ([0..1] for floats or [0..255] for integers).\n",
      "Clipping input data to the valid range for imshow with RGB data ([0..1] for floats or [0..255] for integers).\n",
      "Clipping input data to the valid range for imshow with RGB data ([0..1] for floats or [0..255] for integers).\n"
     ]
    },
    {
     "name": "stdout",
     "output_type": "stream",
     "text": [
      "Discriminator Loss: 0.5650018960004672\n",
      "Generator Loss: [0.8528474569320679, 0.8510996699333191, 0.0008738788310438395]\n"
     ]
    },
    {
     "name": "stderr",
     "output_type": "stream",
     "text": [
      "Clipping input data to the valid range for imshow with RGB data ([0..1] for floats or [0..255] for integers).\n",
      "Clipping input data to the valid range for imshow with RGB data ([0..1] for floats or [0..255] for integers).\n",
      "Clipping input data to the valid range for imshow with RGB data ([0..1] for floats or [0..255] for integers).\n",
      "Clipping input data to the valid range for imshow with RGB data ([0..1] for floats or [0..255] for integers).\n",
      "Clipping input data to the valid range for imshow with RGB data ([0..1] for floats or [0..255] for integers).\n",
      "Clipping input data to the valid range for imshow with RGB data ([0..1] for floats or [0..255] for integers).\n",
      "Clipping input data to the valid range for imshow with RGB data ([0..1] for floats or [0..255] for integers).\n",
      "Clipping input data to the valid range for imshow with RGB data ([0..1] for floats or [0..255] for integers).\n",
      "Clipping input data to the valid range for imshow with RGB data ([0..1] for floats or [0..255] for integers).\n",
      "Clipping input data to the valid range for imshow with RGB data ([0..1] for floats or [0..255] for integers).\n"
     ]
    },
    {
     "name": "stdout",
     "output_type": "stream",
     "text": [
      "Discriminator Loss: 0.5809278456436004\n",
      "Generator Loss: [0.8219733834266663, 0.8205092549324036, 0.0007320566801354289]\n"
     ]
    },
    {
     "name": "stderr",
     "output_type": "stream",
     "text": [
      "Clipping input data to the valid range for imshow with RGB data ([0..1] for floats or [0..255] for integers).\n",
      "Clipping input data to the valid range for imshow with RGB data ([0..1] for floats or [0..255] for integers).\n",
      "Clipping input data to the valid range for imshow with RGB data ([0..1] for floats or [0..255] for integers).\n",
      "Clipping input data to the valid range for imshow with RGB data ([0..1] for floats or [0..255] for integers).\n",
      "Clipping input data to the valid range for imshow with RGB data ([0..1] for floats or [0..255] for integers).\n",
      "Clipping input data to the valid range for imshow with RGB data ([0..1] for floats or [0..255] for integers).\n",
      "Clipping input data to the valid range for imshow with RGB data ([0..1] for floats or [0..255] for integers).\n",
      "Clipping input data to the valid range for imshow with RGB data ([0..1] for floats or [0..255] for integers).\n",
      "Clipping input data to the valid range for imshow with RGB data ([0..1] for floats or [0..255] for integers).\n",
      "Clipping input data to the valid range for imshow with RGB data ([0..1] for floats or [0..255] for integers).\n"
     ]
    },
    {
     "name": "stdout",
     "output_type": "stream",
     "text": [
      "Discriminator Loss: 0.5593295857361227\n",
      "Generator Loss: [0.8870476484298706, 0.8845106363296509, 0.001268508262000978]\n"
     ]
    },
    {
     "name": "stderr",
     "output_type": "stream",
     "text": [
      "Clipping input data to the valid range for imshow with RGB data ([0..1] for floats or [0..255] for integers).\n",
      "Clipping input data to the valid range for imshow with RGB data ([0..1] for floats or [0..255] for integers).\n",
      "Clipping input data to the valid range for imshow with RGB data ([0..1] for floats or [0..255] for integers).\n",
      "Clipping input data to the valid range for imshow with RGB data ([0..1] for floats or [0..255] for integers).\n",
      "Clipping input data to the valid range for imshow with RGB data ([0..1] for floats or [0..255] for integers).\n",
      "Clipping input data to the valid range for imshow with RGB data ([0..1] for floats or [0..255] for integers).\n",
      "Clipping input data to the valid range for imshow with RGB data ([0..1] for floats or [0..255] for integers).\n",
      "Clipping input data to the valid range for imshow with RGB data ([0..1] for floats or [0..255] for integers).\n",
      "Clipping input data to the valid range for imshow with RGB data ([0..1] for floats or [0..255] for integers).\n",
      "Clipping input data to the valid range for imshow with RGB data ([0..1] for floats or [0..255] for integers).\n"
     ]
    },
    {
     "name": "stdout",
     "output_type": "stream",
     "text": [
      "Discriminator Loss: 0.5750525478106283\n",
      "Generator Loss: [0.8038306832313538, 0.8018298745155334, 0.001000416581518948]\n"
     ]
    },
    {
     "name": "stderr",
     "output_type": "stream",
     "text": [
      "Clipping input data to the valid range for imshow with RGB data ([0..1] for floats or [0..255] for integers).\n",
      "Clipping input data to the valid range for imshow with RGB data ([0..1] for floats or [0..255] for integers).\n",
      "Clipping input data to the valid range for imshow with RGB data ([0..1] for floats or [0..255] for integers).\n",
      "Clipping input data to the valid range for imshow with RGB data ([0..1] for floats or [0..255] for integers).\n",
      "Clipping input data to the valid range for imshow with RGB data ([0..1] for floats or [0..255] for integers).\n",
      "Clipping input data to the valid range for imshow with RGB data ([0..1] for floats or [0..255] for integers).\n",
      "Clipping input data to the valid range for imshow with RGB data ([0..1] for floats or [0..255] for integers).\n",
      "Clipping input data to the valid range for imshow with RGB data ([0..1] for floats or [0..255] for integers).\n",
      "Clipping input data to the valid range for imshow with RGB data ([0..1] for floats or [0..255] for integers).\n",
      "Clipping input data to the valid range for imshow with RGB data ([0..1] for floats or [0..255] for integers).\n"
     ]
    },
    {
     "name": "stdout",
     "output_type": "stream",
     "text": [
      "Discriminator Loss: 0.5821185103141033\n",
      "Generator Loss: [0.780063271522522, 0.7782799005508423, 0.000891681294888258]\n"
     ]
    },
    {
     "name": "stderr",
     "output_type": "stream",
     "text": [
      "Clipping input data to the valid range for imshow with RGB data ([0..1] for floats or [0..255] for integers).\n",
      "Clipping input data to the valid range for imshow with RGB data ([0..1] for floats or [0..255] for integers).\n",
      "Clipping input data to the valid range for imshow with RGB data ([0..1] for floats or [0..255] for integers).\n",
      "Clipping input data to the valid range for imshow with RGB data ([0..1] for floats or [0..255] for integers).\n",
      "Clipping input data to the valid range for imshow with RGB data ([0..1] for floats or [0..255] for integers).\n",
      "Clipping input data to the valid range for imshow with RGB data ([0..1] for floats or [0..255] for integers).\n",
      "Clipping input data to the valid range for imshow with RGB data ([0..1] for floats or [0..255] for integers).\n",
      "Clipping input data to the valid range for imshow with RGB data ([0..1] for floats or [0..255] for integers).\n",
      "Clipping input data to the valid range for imshow with RGB data ([0..1] for floats or [0..255] for integers).\n",
      "Clipping input data to the valid range for imshow with RGB data ([0..1] for floats or [0..255] for integers).\n"
     ]
    },
    {
     "name": "stdout",
     "output_type": "stream",
     "text": [
      "Discriminator Loss: 0.5670096462217771\n",
      "Generator Loss: [0.8261145949363708, 0.8244043588638306, 0.0008551114588044584]\n"
     ]
    },
    {
     "name": "stderr",
     "output_type": "stream",
     "text": [
      "Clipping input data to the valid range for imshow with RGB data ([0..1] for floats or [0..255] for integers).\n",
      "Clipping input data to the valid range for imshow with RGB data ([0..1] for floats or [0..255] for integers).\n",
      "Clipping input data to the valid range for imshow with RGB data ([0..1] for floats or [0..255] for integers).\n",
      "Clipping input data to the valid range for imshow with RGB data ([0..1] for floats or [0..255] for integers).\n",
      "Clipping input data to the valid range for imshow with RGB data ([0..1] for floats or [0..255] for integers).\n",
      "Clipping input data to the valid range for imshow with RGB data ([0..1] for floats or [0..255] for integers).\n",
      "Clipping input data to the valid range for imshow with RGB data ([0..1] for floats or [0..255] for integers).\n",
      "Clipping input data to the valid range for imshow with RGB data ([0..1] for floats or [0..255] for integers).\n",
      "Clipping input data to the valid range for imshow with RGB data ([0..1] for floats or [0..255] for integers).\n",
      "Clipping input data to the valid range for imshow with RGB data ([0..1] for floats or [0..255] for integers).\n"
     ]
    },
    {
     "name": "stdout",
     "output_type": "stream",
     "text": [
      "Discriminator Loss: 0.5842458177867229\n",
      "Generator Loss: [0.7603476643562317, 0.7577991485595703, 0.0012742581311613321]\n"
     ]
    },
    {
     "name": "stderr",
     "output_type": "stream",
     "text": [
      "Clipping input data to the valid range for imshow with RGB data ([0..1] for floats or [0..255] for integers).\n",
      "Clipping input data to the valid range for imshow with RGB data ([0..1] for floats or [0..255] for integers).\n",
      "Clipping input data to the valid range for imshow with RGB data ([0..1] for floats or [0..255] for integers).\n",
      "Clipping input data to the valid range for imshow with RGB data ([0..1] for floats or [0..255] for integers).\n",
      "Clipping input data to the valid range for imshow with RGB data ([0..1] for floats or [0..255] for integers).\n",
      "Clipping input data to the valid range for imshow with RGB data ([0..1] for floats or [0..255] for integers).\n",
      "Clipping input data to the valid range for imshow with RGB data ([0..1] for floats or [0..255] for integers).\n",
      "Clipping input data to the valid range for imshow with RGB data ([0..1] for floats or [0..255] for integers).\n",
      "Clipping input data to the valid range for imshow with RGB data ([0..1] for floats or [0..255] for integers).\n",
      "Clipping input data to the valid range for imshow with RGB data ([0..1] for floats or [0..255] for integers).\n"
     ]
    },
    {
     "name": "stdout",
     "output_type": "stream",
     "text": [
      "Discriminator Loss: 0.5659042575134663\n",
      "Generator Loss: [0.8431411981582642, 0.8414064049720764, 0.0008674096316099167]\n"
     ]
    },
    {
     "name": "stderr",
     "output_type": "stream",
     "text": [
      "Clipping input data to the valid range for imshow with RGB data ([0..1] for floats or [0..255] for integers).\n",
      "Clipping input data to the valid range for imshow with RGB data ([0..1] for floats or [0..255] for integers).\n",
      "Clipping input data to the valid range for imshow with RGB data ([0..1] for floats or [0..255] for integers).\n",
      "Clipping input data to the valid range for imshow with RGB data ([0..1] for floats or [0..255] for integers).\n",
      "Clipping input data to the valid range for imshow with RGB data ([0..1] for floats or [0..255] for integers).\n",
      "Clipping input data to the valid range for imshow with RGB data ([0..1] for floats or [0..255] for integers).\n",
      "Clipping input data to the valid range for imshow with RGB data ([0..1] for floats or [0..255] for integers).\n",
      "Clipping input data to the valid range for imshow with RGB data ([0..1] for floats or [0..255] for integers).\n",
      "Clipping input data to the valid range for imshow with RGB data ([0..1] for floats or [0..255] for integers).\n",
      "Clipping input data to the valid range for imshow with RGB data ([0..1] for floats or [0..255] for integers).\n"
     ]
    },
    {
     "name": "stdout",
     "output_type": "stream",
     "text": [
      "Discriminator Loss: 0.5665612186130602\n",
      "Generator Loss: [0.8375030159950256, 0.8355326056480408, 0.0009852048242464662]\n"
     ]
    },
    {
     "name": "stderr",
     "output_type": "stream",
     "text": [
      "Clipping input data to the valid range for imshow with RGB data ([0..1] for floats or [0..255] for integers).\n",
      "Clipping input data to the valid range for imshow with RGB data ([0..1] for floats or [0..255] for integers).\n",
      "Clipping input data to the valid range for imshow with RGB data ([0..1] for floats or [0..255] for integers).\n",
      "Clipping input data to the valid range for imshow with RGB data ([0..1] for floats or [0..255] for integers).\n",
      "Clipping input data to the valid range for imshow with RGB data ([0..1] for floats or [0..255] for integers).\n",
      "Clipping input data to the valid range for imshow with RGB data ([0..1] for floats or [0..255] for integers).\n",
      "Clipping input data to the valid range for imshow with RGB data ([0..1] for floats or [0..255] for integers).\n",
      "Clipping input data to the valid range for imshow with RGB data ([0..1] for floats or [0..255] for integers).\n",
      "Clipping input data to the valid range for imshow with RGB data ([0..1] for floats or [0..255] for integers).\n",
      "Clipping input data to the valid range for imshow with RGB data ([0..1] for floats or [0..255] for integers).\n"
     ]
    },
    {
     "name": "stdout",
     "output_type": "stream",
     "text": [
      "Discriminator Loss: 0.5677977304585511\n",
      "Generator Loss: [0.809134840965271, 0.8073838949203491, 0.0008754688897170126]\n"
     ]
    },
    {
     "name": "stderr",
     "output_type": "stream",
     "text": [
      "Clipping input data to the valid range for imshow with RGB data ([0..1] for floats or [0..255] for integers).\n",
      "Clipping input data to the valid range for imshow with RGB data ([0..1] for floats or [0..255] for integers).\n",
      "Clipping input data to the valid range for imshow with RGB data ([0..1] for floats or [0..255] for integers).\n",
      "Clipping input data to the valid range for imshow with RGB data ([0..1] for floats or [0..255] for integers).\n",
      "Clipping input data to the valid range for imshow with RGB data ([0..1] for floats or [0..255] for integers).\n",
      "Clipping input data to the valid range for imshow with RGB data ([0..1] for floats or [0..255] for integers).\n",
      "Clipping input data to the valid range for imshow with RGB data ([0..1] for floats or [0..255] for integers).\n",
      "Clipping input data to the valid range for imshow with RGB data ([0..1] for floats or [0..255] for integers).\n",
      "Clipping input data to the valid range for imshow with RGB data ([0..1] for floats or [0..255] for integers).\n",
      "Clipping input data to the valid range for imshow with RGB data ([0..1] for floats or [0..255] for integers).\n"
     ]
    },
    {
     "name": "stdout",
     "output_type": "stream",
     "text": [
      "Discriminator Loss: 0.5587807882729976\n",
      "Generator Loss: [0.8190086483955383, 0.8169875144958496, 0.0010105669498443604]\n"
     ]
    },
    {
     "name": "stderr",
     "output_type": "stream",
     "text": [
      "Clipping input data to the valid range for imshow with RGB data ([0..1] for floats or [0..255] for integers).\n",
      "Clipping input data to the valid range for imshow with RGB data ([0..1] for floats or [0..255] for integers).\n",
      "Clipping input data to the valid range for imshow with RGB data ([0..1] for floats or [0..255] for integers).\n",
      "Clipping input data to the valid range for imshow with RGB data ([0..1] for floats or [0..255] for integers).\n",
      "Clipping input data to the valid range for imshow with RGB data ([0..1] for floats or [0..255] for integers).\n",
      "Clipping input data to the valid range for imshow with RGB data ([0..1] for floats or [0..255] for integers).\n",
      "Clipping input data to the valid range for imshow with RGB data ([0..1] for floats or [0..255] for integers).\n",
      "Clipping input data to the valid range for imshow with RGB data ([0..1] for floats or [0..255] for integers).\n",
      "Clipping input data to the valid range for imshow with RGB data ([0..1] for floats or [0..255] for integers).\n",
      "Clipping input data to the valid range for imshow with RGB data ([0..1] for floats or [0..255] for integers).\n"
     ]
    },
    {
     "name": "stdout",
     "output_type": "stream",
     "text": [
      "Discriminator Loss: 0.1754958719771821\n",
      "Generator Loss: [0.7550294399261475, 0.7529944777488708, 0.0010174959897994995]\n"
     ]
    },
    {
     "name": "stderr",
     "output_type": "stream",
     "text": [
      "Clipping input data to the valid range for imshow with RGB data ([0..1] for floats or [0..255] for integers).\n",
      "Clipping input data to the valid range for imshow with RGB data ([0..1] for floats or [0..255] for integers).\n",
      "Clipping input data to the valid range for imshow with RGB data ([0..1] for floats or [0..255] for integers).\n",
      "Clipping input data to the valid range for imshow with RGB data ([0..1] for floats or [0..255] for integers).\n",
      "Clipping input data to the valid range for imshow with RGB data ([0..1] for floats or [0..255] for integers).\n",
      "Clipping input data to the valid range for imshow with RGB data ([0..1] for floats or [0..255] for integers).\n",
      "Clipping input data to the valid range for imshow with RGB data ([0..1] for floats or [0..255] for integers).\n",
      "Clipping input data to the valid range for imshow with RGB data ([0..1] for floats or [0..255] for integers).\n",
      "Clipping input data to the valid range for imshow with RGB data ([0..1] for floats or [0..255] for integers).\n",
      "Clipping input data to the valid range for imshow with RGB data ([0..1] for floats or [0..255] for integers).\n"
     ]
    },
    {
     "name": "stdout",
     "output_type": "stream",
     "text": [
      "Discriminator Loss: 0.5628011995395354\n"
     ]
    }
   ],
   "source": [
    "final = DpAE-GanFinal()\n",
    "final.train_final()"
   ]
  },
  {
   "cell_type": "code",
   "execution_count": null,
   "metadata": {},
   "outputs": [],
   "source": []
  }
 ],
 "metadata": {
  "accelerator": "GPU",
  "colab": {
   "collapsed_sections": [],
   "name": "dcvaegan.ipynb",
   "provenance": []
  },
  "kernelspec": {
   "display_name": "Python 3 (ipykernel)",
   "language": "python",
   "name": "python3"
  },
  "language_info": {
   "codemirror_mode": {
    "name": "ipython",
    "version": 3
   },
   "file_extension": ".py",
   "mimetype": "text/x-python",
   "name": "python",
   "nbconvert_exporter": "python",
   "pygments_lexer": "ipython3",
   "version": "3.10.9"
  }
 },
 "nbformat": 4,
 "nbformat_minor": 1
}
